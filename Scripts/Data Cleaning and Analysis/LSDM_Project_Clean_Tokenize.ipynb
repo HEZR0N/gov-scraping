{
  "nbformat": 4,
  "nbformat_minor": 0,
  "metadata": {
    "colab": {
      "provenance": []
    },
    "kernelspec": {
      "name": "python3",
      "display_name": "Python 3"
    },
    "language_info": {
      "name": "python"
    }
  },
  "cells": [
    {
      "cell_type": "markdown",
      "source": [
        "# Initial Cleaning"
      ],
      "metadata": {
        "id": "qbQSANWALJkE"
      }
    },
    {
      "cell_type": "code",
      "source": [
        "#Install required libraries\n",
        "!pip install pymongo\n",
        "!pip install ssh-pymongo"
      ],
      "metadata": {
        "id": "-MCiqMqa-yMm",
        "colab": {
          "base_uri": "https://localhost:8080/"
        },
        "outputId": "07b838c5-c7cd-414e-d696-a21775b83f68"
      },
      "execution_count": 1,
      "outputs": [
        {
          "output_type": "stream",
          "name": "stdout",
          "text": [
            "Looking in indexes: https://pypi.org/simple, https://us-python.pkg.dev/colab-wheels/public/simple/\n",
            "Collecting pymongo\n",
            "  Downloading pymongo-4.3.3-cp310-cp310-manylinux_2_17_x86_64.manylinux2014_x86_64.whl (492 kB)\n",
            "\u001b[2K     \u001b[90m━━━━━━━━━━━━━━━━━━━━━━━━━━━━━━━━━━━━━━━\u001b[0m \u001b[32m492.9/492.9 kB\u001b[0m \u001b[31m7.3 MB/s\u001b[0m eta \u001b[36m0:00:00\u001b[0m\n",
            "\u001b[?25hCollecting dnspython<3.0.0,>=1.16.0\n",
            "  Downloading dnspython-2.3.0-py3-none-any.whl (283 kB)\n",
            "\u001b[2K     \u001b[90m━━━━━━━━━━━━━━━━━━━━━━━━━━━━━━━━━━━━━━\u001b[0m \u001b[32m283.7/283.7 kB\u001b[0m \u001b[31m13.1 MB/s\u001b[0m eta \u001b[36m0:00:00\u001b[0m\n",
            "\u001b[?25hInstalling collected packages: dnspython, pymongo\n",
            "Successfully installed dnspython-2.3.0 pymongo-4.3.3\n",
            "Looking in indexes: https://pypi.org/simple, https://us-python.pkg.dev/colab-wheels/public/simple/\n",
            "Collecting ssh-pymongo\n",
            "  Downloading ssh-pymongo-1.0.4.tar.gz (2.2 kB)\n",
            "  Preparing metadata (setup.py) ... \u001b[?25l\u001b[?25hdone\n",
            "Requirement already satisfied: pymongo in /usr/local/lib/python3.10/dist-packages (from ssh-pymongo) (4.3.3)\n",
            "Collecting sshtunnel\n",
            "  Downloading sshtunnel-0.4.0-py2.py3-none-any.whl (24 kB)\n",
            "Requirement already satisfied: dnspython<3.0.0,>=1.16.0 in /usr/local/lib/python3.10/dist-packages (from pymongo->ssh-pymongo) (2.3.0)\n",
            "Collecting paramiko>=2.7.2\n",
            "  Downloading paramiko-3.1.0-py3-none-any.whl (211 kB)\n",
            "\u001b[2K     \u001b[90m━━━━━━━━━━━━━━━━━━━━━━━━━━━━━━━━━━━━━━━\u001b[0m \u001b[32m211.2/211.2 kB\u001b[0m \u001b[31m5.2 MB/s\u001b[0m eta \u001b[36m0:00:00\u001b[0m\n",
            "\u001b[?25hRequirement already satisfied: cryptography>=3.3 in /usr/local/lib/python3.10/dist-packages (from paramiko>=2.7.2->sshtunnel->ssh-pymongo) (40.0.2)\n",
            "Collecting pynacl>=1.5\n",
            "  Downloading PyNaCl-1.5.0-cp36-abi3-manylinux_2_17_x86_64.manylinux2014_x86_64.manylinux_2_24_x86_64.whl (856 kB)\n",
            "\u001b[2K     \u001b[90m━━━━━━━━━━━━━━━━━━━━━━━━━━━━━━━━━━━━━━\u001b[0m \u001b[32m856.7/856.7 kB\u001b[0m \u001b[31m27.8 MB/s\u001b[0m eta \u001b[36m0:00:00\u001b[0m\n",
            "\u001b[?25hCollecting bcrypt>=3.2\n",
            "  Downloading bcrypt-4.0.1-cp36-abi3-manylinux_2_28_x86_64.whl (593 kB)\n",
            "\u001b[2K     \u001b[90m━━━━━━━━━━━━━━━━━━━━━━━━━━━━━━━━━━━━━━\u001b[0m \u001b[32m593.7/593.7 kB\u001b[0m \u001b[31m21.9 MB/s\u001b[0m eta \u001b[36m0:00:00\u001b[0m\n",
            "\u001b[?25hRequirement already satisfied: cffi>=1.12 in /usr/local/lib/python3.10/dist-packages (from cryptography>=3.3->paramiko>=2.7.2->sshtunnel->ssh-pymongo) (1.15.1)\n",
            "Requirement already satisfied: pycparser in /usr/local/lib/python3.10/dist-packages (from cffi>=1.12->cryptography>=3.3->paramiko>=2.7.2->sshtunnel->ssh-pymongo) (2.21)\n",
            "Building wheels for collected packages: ssh-pymongo\n",
            "  Building wheel for ssh-pymongo (setup.py) ... \u001b[?25l\u001b[?25hdone\n",
            "  Created wheel for ssh-pymongo: filename=ssh_pymongo-1.0.4-py3-none-any.whl size=2566 sha256=718e71520a3e929aae264c3aeaab50a5cd2989ac53af10e0c90370cb98db0172\n",
            "  Stored in directory: /root/.cache/pip/wheels/1d/6a/9d/dee25ecdecdb43b31f2494250adceca24ac30f0f3993113be6\n",
            "Successfully built ssh-pymongo\n",
            "Installing collected packages: bcrypt, pynacl, paramiko, sshtunnel, ssh-pymongo\n",
            "Successfully installed bcrypt-4.0.1 paramiko-3.1.0 pynacl-1.5.0 ssh-pymongo-1.0.4 sshtunnel-0.4.0\n"
          ]
        }
      ]
    },
    {
      "cell_type": "code",
      "execution_count": 2,
      "metadata": {
        "id": "on_6BTcG-gUN"
      },
      "outputs": [],
      "source": [
        "#import pymongo to connect to db\n",
        "from pymongo import UpdateOne\n",
        "from ssh_pymongo import MongoSession\n",
        "import pprint"
      ]
    },
    {
      "cell_type": "code",
      "source": [
        "#Set host and remotely connect to mongodb\n",
        "MONGO_HOST = \"136.51.3.69\"\n",
        "MONGO_DB = \"local\"\n",
        "MONGO_USER = \"jeff\"\n",
        "MONGO_PASS = \"password\"\n",
        "MONGO_PORT = 2222\n",
        "\n",
        "session = MongoSession(MONGO_HOST,\n",
        "    port=MONGO_PORT,\n",
        "    user=MONGO_USER,\n",
        "    password=MONGO_PASS,\n",
        "    uri='mongodb:/136.51.3.69:2222'\n",
        ")"
      ],
      "metadata": {
        "id": "mv2nxrSB-rCC"
      },
      "execution_count": 3,
      "outputs": []
    },
    {
      "cell_type": "markdown",
      "source": [
        "Collections:\n",
        "\n",
        "DIBBSAward2023-04-13\n",
        "\n",
        "DIBBSAward2023-04-15\n",
        "\n",
        "CICIAward2023-04-10\n",
        "\n",
        "CSSIAward2023-04-16\n",
        "\n",
        "MRIAward2023-04-16\n",
        "\n",
        "CCFAward2023-04-11\n",
        "\n",
        "SI2Award2023-04-24"
      ],
      "metadata": {
        "id": "7ycHqC7foJ8b"
      }
    },
    {
      "cell_type": "code",
      "source": [
        "#List of collection names to iterate over as stored in the db\n",
        "\n",
        "#collection_names = ['DIBBSAward2023-04-13', 'DIBBSAward2023-04-15', 'CICIAward2023-04-10', 'CSSIAward2023-04-16']\n",
        "collection_names = ['MRIAward2023-04-16', 'CCFAward2023-04-11', 'SI2Award2023-04-24']"
      ],
      "metadata": {
        "id": "twvhq1xt4fKJ"
      },
      "execution_count": 4,
      "outputs": []
    },
    {
      "cell_type": "code",
      "source": [
        "#Set variables for each respective db\n",
        "local = session.connection['local']\n",
        "clean = session.connection['clean']\n",
        "\n",
        "#Big regex string containing common words\n",
        "nonowords = '(javascript)|(access denied)|(403.*error)|(403.*forbidden)|(can\\'t find the page)|(404 not found)|(site under maintenance)|(down for maintenance)'\n",
        "\n",
        "for curCollection in collection_names:\n",
        "  print('Cleaning for ' + curCollection)\n",
        "  print('-------------------')\n",
        "  #set current collection to clean\n",
        "  db = local[curCollection]\n",
        "  print('Current # of documents: ' + str(db.count_documents({})))\n",
        "\n",
        "  #get all NON empty documents and ones that DON'T match the regex\n",
        "  getAllClean = list(db.find(\n",
        "      {'$nor' : [{'raw html' : ''}, {'raw html' : { '$regex' : nonowords, '$options' : 'i'}}]}\n",
        "  ))\n",
        "\n",
        "  print('Documents after regex clean: ' + str(len(getAllClean)))\n",
        "\n",
        "  #insert all found 'clean' documents into the clean db under the same collection name\n",
        "  db_clean = clean[curCollection] \n",
        "  db_clean.insert_many(getAllClean)\n",
        "\n",
        "  #delete documents that are too short (<400 chars)\n",
        "  db_clean.delete_many({'$expr' : { '$lt': [{ '$strLenCP': '$raw html' }, 400]}})\n",
        "\n",
        "  print('Documents after small truncation: ' + str(db_clean.count_documents({})))\n"
      ],
      "metadata": {
        "colab": {
          "base_uri": "https://localhost:8080/",
          "height": 432
        },
        "id": "02FsAioH4gBy",
        "outputId": "949a0313-9ff7-4343-f5a6-64644ab07026"
      },
      "execution_count": 5,
      "outputs": [
        {
          "output_type": "stream",
          "name": "stdout",
          "text": [
            "Cleaning for MRIAward2023-04-16\n",
            "-------------------\n",
            "Current # of documents: 123115\n"
          ]
        },
        {
          "output_type": "error",
          "ename": "KeyboardInterrupt",
          "evalue": "ignored",
          "traceback": [
            "\u001b[0;31m---------------------------------------------------------------------------\u001b[0m",
            "\u001b[0;31mKeyboardInterrupt\u001b[0m                         Traceback (most recent call last)",
            "\u001b[0;32m<ipython-input-5-9a20352fea09>\u001b[0m in \u001b[0;36m<cell line: 5>\u001b[0;34m()\u001b[0m\n\u001b[1;32m      9\u001b[0m   \u001b[0mprint\u001b[0m\u001b[0;34m(\u001b[0m\u001b[0;34m'Current # of documents: '\u001b[0m \u001b[0;34m+\u001b[0m \u001b[0mstr\u001b[0m\u001b[0;34m(\u001b[0m\u001b[0mdb\u001b[0m\u001b[0;34m.\u001b[0m\u001b[0mcount_documents\u001b[0m\u001b[0;34m(\u001b[0m\u001b[0;34m{\u001b[0m\u001b[0;34m}\u001b[0m\u001b[0;34m)\u001b[0m\u001b[0;34m)\u001b[0m\u001b[0;34m)\u001b[0m\u001b[0;34m\u001b[0m\u001b[0;34m\u001b[0m\u001b[0m\n\u001b[1;32m     10\u001b[0m \u001b[0;34m\u001b[0m\u001b[0m\n\u001b[0;32m---> 11\u001b[0;31m   getAllClean = list(db.find(\n\u001b[0m\u001b[1;32m     12\u001b[0m       \u001b[0;34m{\u001b[0m\u001b[0;34m'$nor'\u001b[0m \u001b[0;34m:\u001b[0m \u001b[0;34m[\u001b[0m\u001b[0;34m{\u001b[0m\u001b[0;34m'raw html'\u001b[0m \u001b[0;34m:\u001b[0m \u001b[0;34m''\u001b[0m\u001b[0;34m}\u001b[0m\u001b[0;34m,\u001b[0m \u001b[0;34m{\u001b[0m\u001b[0;34m'raw html'\u001b[0m \u001b[0;34m:\u001b[0m \u001b[0;34m{\u001b[0m \u001b[0;34m'$regex'\u001b[0m \u001b[0;34m:\u001b[0m \u001b[0mnonowords\u001b[0m\u001b[0;34m,\u001b[0m \u001b[0;34m'$options'\u001b[0m \u001b[0;34m:\u001b[0m \u001b[0;34m'i'\u001b[0m\u001b[0;34m}\u001b[0m\u001b[0;34m}\u001b[0m\u001b[0;34m]\u001b[0m\u001b[0;34m}\u001b[0m\u001b[0;34m\u001b[0m\u001b[0;34m\u001b[0m\u001b[0m\n\u001b[1;32m     13\u001b[0m   ))\n",
            "\u001b[0;32m/usr/local/lib/python3.10/dist-packages/pymongo/cursor.py\u001b[0m in \u001b[0;36mnext\u001b[0;34m(self)\u001b[0m\n\u001b[1;32m   1246\u001b[0m         \u001b[0;32mif\u001b[0m \u001b[0mself\u001b[0m\u001b[0;34m.\u001b[0m\u001b[0m__empty\u001b[0m\u001b[0;34m:\u001b[0m\u001b[0;34m\u001b[0m\u001b[0;34m\u001b[0m\u001b[0m\n\u001b[1;32m   1247\u001b[0m             \u001b[0;32mraise\u001b[0m \u001b[0mStopIteration\u001b[0m\u001b[0;34m\u001b[0m\u001b[0;34m\u001b[0m\u001b[0m\n\u001b[0;32m-> 1248\u001b[0;31m         \u001b[0;32mif\u001b[0m \u001b[0mlen\u001b[0m\u001b[0;34m(\u001b[0m\u001b[0mself\u001b[0m\u001b[0;34m.\u001b[0m\u001b[0m__data\u001b[0m\u001b[0;34m)\u001b[0m \u001b[0;32mor\u001b[0m \u001b[0mself\u001b[0m\u001b[0;34m.\u001b[0m\u001b[0m_refresh\u001b[0m\u001b[0;34m(\u001b[0m\u001b[0;34m)\u001b[0m\u001b[0;34m:\u001b[0m\u001b[0;34m\u001b[0m\u001b[0;34m\u001b[0m\u001b[0m\n\u001b[0m\u001b[1;32m   1249\u001b[0m             \u001b[0;32mreturn\u001b[0m \u001b[0mself\u001b[0m\u001b[0;34m.\u001b[0m\u001b[0m__data\u001b[0m\u001b[0;34m.\u001b[0m\u001b[0mpopleft\u001b[0m\u001b[0;34m(\u001b[0m\u001b[0;34m)\u001b[0m\u001b[0;34m\u001b[0m\u001b[0;34m\u001b[0m\u001b[0m\n\u001b[1;32m   1250\u001b[0m         \u001b[0;32melse\u001b[0m\u001b[0;34m:\u001b[0m\u001b[0;34m\u001b[0m\u001b[0;34m\u001b[0m\u001b[0m\n",
            "\u001b[0;32m/usr/local/lib/python3.10/dist-packages/pymongo/cursor.py\u001b[0m in \u001b[0;36m_refresh\u001b[0;34m(self)\u001b[0m\n\u001b[1;32m   1186\u001b[0m                 \u001b[0mself\u001b[0m\u001b[0;34m.\u001b[0m\u001b[0m__comment\u001b[0m\u001b[0;34m,\u001b[0m\u001b[0;34m\u001b[0m\u001b[0;34m\u001b[0m\u001b[0m\n\u001b[1;32m   1187\u001b[0m             )\n\u001b[0;32m-> 1188\u001b[0;31m             \u001b[0mself\u001b[0m\u001b[0;34m.\u001b[0m\u001b[0m__send_message\u001b[0m\u001b[0;34m(\u001b[0m\u001b[0mg\u001b[0m\u001b[0;34m)\u001b[0m\u001b[0;34m\u001b[0m\u001b[0;34m\u001b[0m\u001b[0m\n\u001b[0m\u001b[1;32m   1189\u001b[0m \u001b[0;34m\u001b[0m\u001b[0m\n\u001b[1;32m   1190\u001b[0m         \u001b[0;32mreturn\u001b[0m \u001b[0mlen\u001b[0m\u001b[0;34m(\u001b[0m\u001b[0mself\u001b[0m\u001b[0;34m.\u001b[0m\u001b[0m__data\u001b[0m\u001b[0;34m)\u001b[0m\u001b[0;34m\u001b[0m\u001b[0;34m\u001b[0m\u001b[0m\n",
            "\u001b[0;32m/usr/local/lib/python3.10/dist-packages/pymongo/cursor.py\u001b[0m in \u001b[0;36m__send_message\u001b[0;34m(self, operation)\u001b[0m\n\u001b[1;32m   1050\u001b[0m \u001b[0;34m\u001b[0m\u001b[0m\n\u001b[1;32m   1051\u001b[0m         \u001b[0;32mtry\u001b[0m\u001b[0;34m:\u001b[0m\u001b[0;34m\u001b[0m\u001b[0;34m\u001b[0m\u001b[0m\n\u001b[0;32m-> 1052\u001b[0;31m             response = client._run_operation(\n\u001b[0m\u001b[1;32m   1053\u001b[0m                 \u001b[0moperation\u001b[0m\u001b[0;34m,\u001b[0m \u001b[0mself\u001b[0m\u001b[0;34m.\u001b[0m\u001b[0m_unpack_response\u001b[0m\u001b[0;34m,\u001b[0m \u001b[0maddress\u001b[0m\u001b[0;34m=\u001b[0m\u001b[0mself\u001b[0m\u001b[0;34m.\u001b[0m\u001b[0m__address\u001b[0m\u001b[0;34m\u001b[0m\u001b[0;34m\u001b[0m\u001b[0m\n\u001b[1;32m   1054\u001b[0m             )\n",
            "\u001b[0;32m/usr/local/lib/python3.10/dist-packages/pymongo/_csot.py\u001b[0m in \u001b[0;36mcsot_wrapper\u001b[0;34m(self, *args, **kwargs)\u001b[0m\n\u001b[1;32m    103\u001b[0m                 \u001b[0;32mwith\u001b[0m \u001b[0m_TimeoutContext\u001b[0m\u001b[0;34m(\u001b[0m\u001b[0mtimeout\u001b[0m\u001b[0;34m)\u001b[0m\u001b[0;34m:\u001b[0m\u001b[0;34m\u001b[0m\u001b[0;34m\u001b[0m\u001b[0m\n\u001b[1;32m    104\u001b[0m                     \u001b[0;32mreturn\u001b[0m \u001b[0mfunc\u001b[0m\u001b[0;34m(\u001b[0m\u001b[0mself\u001b[0m\u001b[0;34m,\u001b[0m \u001b[0;34m*\u001b[0m\u001b[0margs\u001b[0m\u001b[0;34m,\u001b[0m \u001b[0;34m**\u001b[0m\u001b[0mkwargs\u001b[0m\u001b[0;34m)\u001b[0m\u001b[0;34m\u001b[0m\u001b[0;34m\u001b[0m\u001b[0m\n\u001b[0;32m--> 105\u001b[0;31m         \u001b[0;32mreturn\u001b[0m \u001b[0mfunc\u001b[0m\u001b[0;34m(\u001b[0m\u001b[0mself\u001b[0m\u001b[0;34m,\u001b[0m \u001b[0;34m*\u001b[0m\u001b[0margs\u001b[0m\u001b[0;34m,\u001b[0m \u001b[0;34m**\u001b[0m\u001b[0mkwargs\u001b[0m\u001b[0;34m)\u001b[0m\u001b[0;34m\u001b[0m\u001b[0;34m\u001b[0m\u001b[0m\n\u001b[0m\u001b[1;32m    106\u001b[0m \u001b[0;34m\u001b[0m\u001b[0m\n\u001b[1;32m    107\u001b[0m     \u001b[0;32mreturn\u001b[0m \u001b[0mcast\u001b[0m\u001b[0;34m(\u001b[0m\u001b[0mF\u001b[0m\u001b[0;34m,\u001b[0m \u001b[0mcsot_wrapper\u001b[0m\u001b[0;34m)\u001b[0m\u001b[0;34m\u001b[0m\u001b[0;34m\u001b[0m\u001b[0m\n",
            "\u001b[0;32m/usr/local/lib/python3.10/dist-packages/pymongo/mongo_client.py\u001b[0m in \u001b[0;36m_run_operation\u001b[0;34m(self, operation, unpack_res, address)\u001b[0m\n\u001b[1;32m   1328\u001b[0m             )\n\u001b[1;32m   1329\u001b[0m \u001b[0;34m\u001b[0m\u001b[0m\n\u001b[0;32m-> 1330\u001b[0;31m         return self._retryable_read(\n\u001b[0m\u001b[1;32m   1331\u001b[0m             \u001b[0m_cmd\u001b[0m\u001b[0;34m,\u001b[0m\u001b[0;34m\u001b[0m\u001b[0;34m\u001b[0m\u001b[0m\n\u001b[1;32m   1332\u001b[0m             \u001b[0moperation\u001b[0m\u001b[0;34m.\u001b[0m\u001b[0mread_preference\u001b[0m\u001b[0;34m,\u001b[0m\u001b[0;34m\u001b[0m\u001b[0;34m\u001b[0m\u001b[0m\n",
            "\u001b[0;32m/usr/local/lib/python3.10/dist-packages/pymongo/_csot.py\u001b[0m in \u001b[0;36mcsot_wrapper\u001b[0;34m(self, *args, **kwargs)\u001b[0m\n\u001b[1;32m    103\u001b[0m                 \u001b[0;32mwith\u001b[0m \u001b[0m_TimeoutContext\u001b[0m\u001b[0;34m(\u001b[0m\u001b[0mtimeout\u001b[0m\u001b[0;34m)\u001b[0m\u001b[0;34m:\u001b[0m\u001b[0;34m\u001b[0m\u001b[0;34m\u001b[0m\u001b[0m\n\u001b[1;32m    104\u001b[0m                     \u001b[0;32mreturn\u001b[0m \u001b[0mfunc\u001b[0m\u001b[0;34m(\u001b[0m\u001b[0mself\u001b[0m\u001b[0;34m,\u001b[0m \u001b[0;34m*\u001b[0m\u001b[0margs\u001b[0m\u001b[0;34m,\u001b[0m \u001b[0;34m**\u001b[0m\u001b[0mkwargs\u001b[0m\u001b[0;34m)\u001b[0m\u001b[0;34m\u001b[0m\u001b[0;34m\u001b[0m\u001b[0m\n\u001b[0;32m--> 105\u001b[0;31m         \u001b[0;32mreturn\u001b[0m \u001b[0mfunc\u001b[0m\u001b[0;34m(\u001b[0m\u001b[0mself\u001b[0m\u001b[0;34m,\u001b[0m \u001b[0;34m*\u001b[0m\u001b[0margs\u001b[0m\u001b[0;34m,\u001b[0m \u001b[0;34m**\u001b[0m\u001b[0mkwargs\u001b[0m\u001b[0;34m)\u001b[0m\u001b[0;34m\u001b[0m\u001b[0;34m\u001b[0m\u001b[0m\n\u001b[0m\u001b[1;32m    106\u001b[0m \u001b[0;34m\u001b[0m\u001b[0m\n\u001b[1;32m    107\u001b[0m     \u001b[0;32mreturn\u001b[0m \u001b[0mcast\u001b[0m\u001b[0;34m(\u001b[0m\u001b[0mF\u001b[0m\u001b[0;34m,\u001b[0m \u001b[0mcsot_wrapper\u001b[0m\u001b[0;34m)\u001b[0m\u001b[0;34m\u001b[0m\u001b[0;34m\u001b[0m\u001b[0m\n",
            "\u001b[0;32m/usr/local/lib/python3.10/dist-packages/pymongo/mongo_client.py\u001b[0m in \u001b[0;36m_retryable_read\u001b[0;34m(self, func, read_pref, session, address, retryable)\u001b[0m\n\u001b[1;32m   1446\u001b[0m                         \u001b[0;32massert\u001b[0m \u001b[0mlast_error\u001b[0m \u001b[0;32mis\u001b[0m \u001b[0;32mnot\u001b[0m \u001b[0;32mNone\u001b[0m\u001b[0;34m\u001b[0m\u001b[0;34m\u001b[0m\u001b[0m\n\u001b[1;32m   1447\u001b[0m                         \u001b[0;32mraise\u001b[0m \u001b[0mlast_error\u001b[0m\u001b[0;34m\u001b[0m\u001b[0;34m\u001b[0m\u001b[0m\n\u001b[0;32m-> 1448\u001b[0;31m                     \u001b[0;32mreturn\u001b[0m \u001b[0mfunc\u001b[0m\u001b[0;34m(\u001b[0m\u001b[0msession\u001b[0m\u001b[0;34m,\u001b[0m \u001b[0mserver\u001b[0m\u001b[0;34m,\u001b[0m \u001b[0msock_info\u001b[0m\u001b[0;34m,\u001b[0m \u001b[0mread_pref\u001b[0m\u001b[0;34m)\u001b[0m\u001b[0;34m\u001b[0m\u001b[0;34m\u001b[0m\u001b[0m\n\u001b[0m\u001b[1;32m   1449\u001b[0m             \u001b[0;32mexcept\u001b[0m \u001b[0mServerSelectionTimeoutError\u001b[0m\u001b[0;34m:\u001b[0m\u001b[0;34m\u001b[0m\u001b[0;34m\u001b[0m\u001b[0m\n\u001b[1;32m   1450\u001b[0m                 \u001b[0;32mif\u001b[0m \u001b[0mretrying\u001b[0m\u001b[0;34m:\u001b[0m\u001b[0;34m\u001b[0m\u001b[0;34m\u001b[0m\u001b[0m\n",
            "\u001b[0;32m/usr/local/lib/python3.10/dist-packages/pymongo/mongo_client.py\u001b[0m in \u001b[0;36m_cmd\u001b[0;34m(session, server, sock_info, read_preference)\u001b[0m\n\u001b[1;32m   1324\u001b[0m         \u001b[0;32mdef\u001b[0m \u001b[0m_cmd\u001b[0m\u001b[0;34m(\u001b[0m\u001b[0msession\u001b[0m\u001b[0;34m,\u001b[0m \u001b[0mserver\u001b[0m\u001b[0;34m,\u001b[0m \u001b[0msock_info\u001b[0m\u001b[0;34m,\u001b[0m \u001b[0mread_preference\u001b[0m\u001b[0;34m)\u001b[0m\u001b[0;34m:\u001b[0m\u001b[0;34m\u001b[0m\u001b[0;34m\u001b[0m\u001b[0m\n\u001b[1;32m   1325\u001b[0m             \u001b[0moperation\u001b[0m\u001b[0;34m.\u001b[0m\u001b[0mreset\u001b[0m\u001b[0;34m(\u001b[0m\u001b[0;34m)\u001b[0m  \u001b[0;31m# Reset op in case of retry.\u001b[0m\u001b[0;34m\u001b[0m\u001b[0;34m\u001b[0m\u001b[0m\n\u001b[0;32m-> 1326\u001b[0;31m             return server.run_operation(\n\u001b[0m\u001b[1;32m   1327\u001b[0m                 \u001b[0msock_info\u001b[0m\u001b[0;34m,\u001b[0m \u001b[0moperation\u001b[0m\u001b[0;34m,\u001b[0m \u001b[0mread_preference\u001b[0m\u001b[0;34m,\u001b[0m \u001b[0mself\u001b[0m\u001b[0;34m.\u001b[0m\u001b[0m_event_listeners\u001b[0m\u001b[0;34m,\u001b[0m \u001b[0munpack_res\u001b[0m\u001b[0;34m\u001b[0m\u001b[0;34m\u001b[0m\u001b[0m\n\u001b[1;32m   1328\u001b[0m             )\n",
            "\u001b[0;32m/usr/local/lib/python3.10/dist-packages/pymongo/server.py\u001b[0m in \u001b[0;36mrun_operation\u001b[0;34m(self, sock_info, operation, read_preference, listeners, unpack_res)\u001b[0m\n\u001b[1;32m    113\u001b[0m             \u001b[0;32melse\u001b[0m\u001b[0;34m:\u001b[0m\u001b[0;34m\u001b[0m\u001b[0;34m\u001b[0m\u001b[0m\n\u001b[1;32m    114\u001b[0m                 \u001b[0msock_info\u001b[0m\u001b[0;34m.\u001b[0m\u001b[0msend_message\u001b[0m\u001b[0;34m(\u001b[0m\u001b[0mdata\u001b[0m\u001b[0;34m,\u001b[0m \u001b[0mmax_doc_size\u001b[0m\u001b[0;34m)\u001b[0m\u001b[0;34m\u001b[0m\u001b[0;34m\u001b[0m\u001b[0m\n\u001b[0;32m--> 115\u001b[0;31m                 \u001b[0mreply\u001b[0m \u001b[0;34m=\u001b[0m \u001b[0msock_info\u001b[0m\u001b[0;34m.\u001b[0m\u001b[0mreceive_message\u001b[0m\u001b[0;34m(\u001b[0m\u001b[0mrequest_id\u001b[0m\u001b[0;34m)\u001b[0m\u001b[0;34m\u001b[0m\u001b[0;34m\u001b[0m\u001b[0m\n\u001b[0m\u001b[1;32m    116\u001b[0m \u001b[0;34m\u001b[0m\u001b[0m\n\u001b[1;32m    117\u001b[0m             \u001b[0;31m# Unpack and check for command errors.\u001b[0m\u001b[0;34m\u001b[0m\u001b[0;34m\u001b[0m\u001b[0m\n",
            "\u001b[0;32m/usr/local/lib/python3.10/dist-packages/pymongo/pool.py\u001b[0m in \u001b[0;36mreceive_message\u001b[0;34m(self, request_id)\u001b[0m\n\u001b[1;32m    819\u001b[0m             \u001b[0;32mreturn\u001b[0m \u001b[0mreceive_message\u001b[0m\u001b[0;34m(\u001b[0m\u001b[0mself\u001b[0m\u001b[0;34m,\u001b[0m \u001b[0mrequest_id\u001b[0m\u001b[0;34m,\u001b[0m \u001b[0mself\u001b[0m\u001b[0;34m.\u001b[0m\u001b[0mmax_message_size\u001b[0m\u001b[0;34m)\u001b[0m\u001b[0;34m\u001b[0m\u001b[0;34m\u001b[0m\u001b[0m\n\u001b[1;32m    820\u001b[0m         \u001b[0;32mexcept\u001b[0m \u001b[0mBaseException\u001b[0m \u001b[0;32mas\u001b[0m \u001b[0merror\u001b[0m\u001b[0;34m:\u001b[0m\u001b[0;34m\u001b[0m\u001b[0;34m\u001b[0m\u001b[0m\n\u001b[0;32m--> 821\u001b[0;31m             \u001b[0mself\u001b[0m\u001b[0;34m.\u001b[0m\u001b[0m_raise_connection_failure\u001b[0m\u001b[0;34m(\u001b[0m\u001b[0merror\u001b[0m\u001b[0;34m)\u001b[0m\u001b[0;34m\u001b[0m\u001b[0;34m\u001b[0m\u001b[0m\n\u001b[0m\u001b[1;32m    822\u001b[0m \u001b[0;34m\u001b[0m\u001b[0m\n\u001b[1;32m    823\u001b[0m     \u001b[0;32mdef\u001b[0m \u001b[0m_raise_if_not_writable\u001b[0m\u001b[0;34m(\u001b[0m\u001b[0mself\u001b[0m\u001b[0;34m,\u001b[0m \u001b[0munacknowledged\u001b[0m\u001b[0;34m)\u001b[0m\u001b[0;34m:\u001b[0m\u001b[0;34m\u001b[0m\u001b[0;34m\u001b[0m\u001b[0m\n",
            "\u001b[0;32m/usr/local/lib/python3.10/dist-packages/pymongo/pool.py\u001b[0m in \u001b[0;36mreceive_message\u001b[0;34m(self, request_id)\u001b[0m\n\u001b[1;32m    817\u001b[0m         \"\"\"\n\u001b[1;32m    818\u001b[0m         \u001b[0;32mtry\u001b[0m\u001b[0;34m:\u001b[0m\u001b[0;34m\u001b[0m\u001b[0;34m\u001b[0m\u001b[0m\n\u001b[0;32m--> 819\u001b[0;31m             \u001b[0;32mreturn\u001b[0m \u001b[0mreceive_message\u001b[0m\u001b[0;34m(\u001b[0m\u001b[0mself\u001b[0m\u001b[0;34m,\u001b[0m \u001b[0mrequest_id\u001b[0m\u001b[0;34m,\u001b[0m \u001b[0mself\u001b[0m\u001b[0;34m.\u001b[0m\u001b[0mmax_message_size\u001b[0m\u001b[0;34m)\u001b[0m\u001b[0;34m\u001b[0m\u001b[0;34m\u001b[0m\u001b[0m\n\u001b[0m\u001b[1;32m    820\u001b[0m         \u001b[0;32mexcept\u001b[0m \u001b[0mBaseException\u001b[0m \u001b[0;32mas\u001b[0m \u001b[0merror\u001b[0m\u001b[0;34m:\u001b[0m\u001b[0;34m\u001b[0m\u001b[0;34m\u001b[0m\u001b[0m\n\u001b[1;32m    821\u001b[0m             \u001b[0mself\u001b[0m\u001b[0;34m.\u001b[0m\u001b[0m_raise_connection_failure\u001b[0m\u001b[0;34m(\u001b[0m\u001b[0merror\u001b[0m\u001b[0;34m)\u001b[0m\u001b[0;34m\u001b[0m\u001b[0;34m\u001b[0m\u001b[0m\n",
            "\u001b[0;32m/usr/local/lib/python3.10/dist-packages/pymongo/network.py\u001b[0m in \u001b[0;36mreceive_message\u001b[0;34m(sock_info, request_id, max_message_size)\u001b[0m\n\u001b[1;32m    215\u001b[0m     \u001b[0;31m# Ignore the response's request id.\u001b[0m\u001b[0;34m\u001b[0m\u001b[0;34m\u001b[0m\u001b[0m\n\u001b[1;32m    216\u001b[0m     length, _, response_to, op_code = _UNPACK_HEADER(\n\u001b[0;32m--> 217\u001b[0;31m         \u001b[0m_receive_data_on_socket\u001b[0m\u001b[0;34m(\u001b[0m\u001b[0msock_info\u001b[0m\u001b[0;34m,\u001b[0m \u001b[0;36m16\u001b[0m\u001b[0;34m,\u001b[0m \u001b[0mdeadline\u001b[0m\u001b[0;34m)\u001b[0m\u001b[0;34m\u001b[0m\u001b[0;34m\u001b[0m\u001b[0m\n\u001b[0m\u001b[1;32m    218\u001b[0m     )\n\u001b[1;32m    219\u001b[0m     \u001b[0;31m# No request_id for exhaust cursor \"getMore\".\u001b[0m\u001b[0;34m\u001b[0m\u001b[0;34m\u001b[0m\u001b[0m\n",
            "\u001b[0;32m/usr/local/lib/python3.10/dist-packages/pymongo/network.py\u001b[0m in \u001b[0;36m_receive_data_on_socket\u001b[0;34m(sock_info, length, deadline)\u001b[0m\n\u001b[1;32m    297\u001b[0m             \u001b[0;32mif\u001b[0m \u001b[0m_csot\u001b[0m\u001b[0;34m.\u001b[0m\u001b[0mget_timeout\u001b[0m\u001b[0;34m(\u001b[0m\u001b[0;34m)\u001b[0m\u001b[0;34m:\u001b[0m\u001b[0;34m\u001b[0m\u001b[0;34m\u001b[0m\u001b[0m\n\u001b[1;32m    298\u001b[0m                 \u001b[0msock_info\u001b[0m\u001b[0;34m.\u001b[0m\u001b[0mset_socket_timeout\u001b[0m\u001b[0;34m(\u001b[0m\u001b[0mmax\u001b[0m\u001b[0;34m(\u001b[0m\u001b[0mdeadline\u001b[0m \u001b[0;34m-\u001b[0m \u001b[0mtime\u001b[0m\u001b[0;34m.\u001b[0m\u001b[0mmonotonic\u001b[0m\u001b[0;34m(\u001b[0m\u001b[0;34m)\u001b[0m\u001b[0;34m,\u001b[0m \u001b[0;36m0\u001b[0m\u001b[0;34m)\u001b[0m\u001b[0;34m)\u001b[0m\u001b[0;34m\u001b[0m\u001b[0;34m\u001b[0m\u001b[0m\n\u001b[0;32m--> 299\u001b[0;31m             \u001b[0mchunk_length\u001b[0m \u001b[0;34m=\u001b[0m \u001b[0msock_info\u001b[0m\u001b[0;34m.\u001b[0m\u001b[0msock\u001b[0m\u001b[0;34m.\u001b[0m\u001b[0mrecv_into\u001b[0m\u001b[0;34m(\u001b[0m\u001b[0mmv\u001b[0m\u001b[0;34m[\u001b[0m\u001b[0mbytes_read\u001b[0m\u001b[0;34m:\u001b[0m\u001b[0;34m]\u001b[0m\u001b[0;34m)\u001b[0m\u001b[0;34m\u001b[0m\u001b[0;34m\u001b[0m\u001b[0m\n\u001b[0m\u001b[1;32m    300\u001b[0m         \u001b[0;32mexcept\u001b[0m \u001b[0mBLOCKING_IO_ERRORS\u001b[0m\u001b[0;34m:\u001b[0m\u001b[0;34m\u001b[0m\u001b[0;34m\u001b[0m\u001b[0m\n\u001b[1;32m    301\u001b[0m             \u001b[0;32mraise\u001b[0m \u001b[0msocket\u001b[0m\u001b[0;34m.\u001b[0m\u001b[0mtimeout\u001b[0m\u001b[0;34m(\u001b[0m\u001b[0;34m\"timed out\"\u001b[0m\u001b[0;34m)\u001b[0m\u001b[0;34m\u001b[0m\u001b[0;34m\u001b[0m\u001b[0m\n",
            "\u001b[0;31mKeyboardInterrupt\u001b[0m: "
          ]
        }
      ]
    },
    {
      "cell_type": "markdown",
      "source": [
        "# Sentiment Analysis and Tokenization\n"
      ],
      "metadata": {
        "id": "_E3Kkq_Q4OJ7"
      }
    },
    {
      "cell_type": "code",
      "source": [
        "#Installs\n",
        "import sys\n",
        "!{sys.executable} -m pip install pyLDAvis"
      ],
      "metadata": {
        "id": "j16Wmc-2ueSq",
        "colab": {
          "base_uri": "https://localhost:8080/"
        },
        "outputId": "95e74371-49b5-4eb5-9abb-08742d97490c"
      },
      "execution_count": null,
      "outputs": [
        {
          "output_type": "stream",
          "name": "stdout",
          "text": [
            "Looking in indexes: https://pypi.org/simple, https://us-python.pkg.dev/colab-wheels/public/simple/\n",
            "Collecting pyLDAvis\n",
            "  Downloading pyLDAvis-3.4.0-py3-none-any.whl (2.6 MB)\n",
            "\u001b[2K     \u001b[90m━━━━━━━━━━━━━━━━━━━━━━━━━━━━━━━━━━━━━━━━\u001b[0m \u001b[32m2.6/2.6 MB\u001b[0m \u001b[31m27.9 MB/s\u001b[0m eta \u001b[36m0:00:00\u001b[0m\n",
            "\u001b[?25hRequirement already satisfied: joblib>=1.2.0 in /usr/local/lib/python3.9/dist-packages (from pyLDAvis) (1.2.0)\n",
            "Requirement already satisfied: pandas>=1.3.4 in /usr/local/lib/python3.9/dist-packages (from pyLDAvis) (1.5.3)\n",
            "Collecting funcy\n",
            "  Downloading funcy-2.0-py2.py3-none-any.whl (30 kB)\n",
            "Requirement already satisfied: scipy in /usr/local/lib/python3.9/dist-packages (from pyLDAvis) (1.10.1)\n",
            "Requirement already satisfied: numexpr in /usr/local/lib/python3.9/dist-packages (from pyLDAvis) (2.8.4)\n",
            "Requirement already satisfied: gensim in /usr/local/lib/python3.9/dist-packages (from pyLDAvis) (4.3.1)\n",
            "Requirement already satisfied: jinja2 in /usr/local/lib/python3.9/dist-packages (from pyLDAvis) (3.1.2)\n",
            "Requirement already satisfied: setuptools in /usr/local/lib/python3.9/dist-packages (from pyLDAvis) (67.6.1)\n",
            "Requirement already satisfied: scikit-learn>=1.0.0 in /usr/local/lib/python3.9/dist-packages (from pyLDAvis) (1.2.2)\n",
            "Requirement already satisfied: numpy>=1.22.0 in /usr/local/lib/python3.9/dist-packages (from pyLDAvis) (1.22.4)\n",
            "Requirement already satisfied: python-dateutil>=2.8.1 in /usr/local/lib/python3.9/dist-packages (from pandas>=1.3.4->pyLDAvis) (2.8.2)\n",
            "Requirement already satisfied: pytz>=2020.1 in /usr/local/lib/python3.9/dist-packages (from pandas>=1.3.4->pyLDAvis) (2022.7.1)\n",
            "Requirement already satisfied: threadpoolctl>=2.0.0 in /usr/local/lib/python3.9/dist-packages (from scikit-learn>=1.0.0->pyLDAvis) (3.1.0)\n",
            "Requirement already satisfied: smart-open>=1.8.1 in /usr/local/lib/python3.9/dist-packages (from gensim->pyLDAvis) (6.3.0)\n",
            "Requirement already satisfied: MarkupSafe>=2.0 in /usr/local/lib/python3.9/dist-packages (from jinja2->pyLDAvis) (2.1.2)\n",
            "Requirement already satisfied: six>=1.5 in /usr/local/lib/python3.9/dist-packages (from python-dateutil>=2.8.1->pandas>=1.3.4->pyLDAvis) (1.16.0)\n",
            "Installing collected packages: funcy, pyLDAvis\n",
            "Successfully installed funcy-2.0 pyLDAvis-3.4.0\n"
          ]
        }
      ]
    },
    {
      "cell_type": "code",
      "source": [
        "#Importing essential tools\n",
        "import os\n",
        "import re\n",
        "import pandas as pd\n",
        "import gensim\n",
        "import gensim.corpora as corpora\n",
        "import nltk\n",
        "import pickle \n",
        "import pyLDAvis\n",
        "import pyLDAvis.gensim\n",
        "import seaborn as sns;\n",
        "\n",
        "from textblob import TextBlob\n",
        "from bson.objectid import ObjectId\n",
        "\n",
        "from wordcloud import WordCloud\n",
        "from gensim.utils import simple_preprocess\n",
        "from nltk.corpus import stopwords\n",
        "nltk.download('stopwords')\n",
        "\n",
        "stop_words = stopwords.words('english')"
      ],
      "metadata": {
        "id": "rNkeEa6Ouair",
        "colab": {
          "base_uri": "https://localhost:8080/"
        },
        "outputId": "a94aea1f-e7ef-413a-92a0-4194bc4aee69"
      },
      "execution_count": null,
      "outputs": [
        {
          "output_type": "stream",
          "name": "stderr",
          "text": [
            "[nltk_data] Downloading package stopwords to /root/nltk_data...\n",
            "[nltk_data]   Unzipping corpora/stopwords.zip.\n"
          ]
        }
      ]
    },
    {
      "cell_type": "code",
      "source": [
        "import warnings\n",
        "warnings.filterwarnings(\"ignore\", category=DeprecationWarning)"
      ],
      "metadata": {
        "id": "PYZw8v4T0U8o",
        "colab": {
          "base_uri": "https://localhost:8080/"
        },
        "outputId": "f547234b-8496-4f3b-b14e-2e67ebd78f36"
      },
      "execution_count": null,
      "outputs": [
        {
          "output_type": "stream",
          "name": "stderr",
          "text": [
            "WARNING:py.warnings:/usr/local/lib/python3.9/dist-packages/ipykernel/ipkernel.py:283: DeprecationWarning: `should_run_async` will not call `transform_cell` automatically in the future. Please pass the result to `transformed_cell` argument and any exception that happen during thetransform in `preprocessing_exc_tuple` in IPython 7.17 and above.\n",
            "  and should_run_async(code)\n",
            "\n"
          ]
        }
      ]
    },
    {
      "cell_type": "code",
      "source": [
        "stop_words = stopwords.words('english')\n",
        "stop_words.extend(['from', 'subject', 're', 'edu', 'use', 'https'])"
      ],
      "metadata": {
        "id": "V2Kt-OonzGZm"
      },
      "execution_count": null,
      "outputs": []
    },
    {
      "cell_type": "code",
      "source": [
        "def cleanString(text):\n",
        "  text = re.sub('[,/\\.!?\\n|\\-#]', '', text)\n",
        "  text = re.sub(r' +', ' ', text)\n",
        "  return text\n",
        "\n",
        "def findSentiment(text):\n",
        "  return TextBlob(text)\n",
        "  \n",
        "#Function removes punctuations from topics in long_string.\n",
        "def sent_to_words(sentences):\n",
        "    for sentence in sentences:\n",
        "        # deacc=True removes punctuations\n",
        "        yield(gensim.utils.simple_preprocess(str(sentence), deacc=True))\n",
        "\n",
        "#Function removes stop_words from long_string, returns list of strings in long_string.\n",
        "def remove_stopwords(texts):\n",
        "    return [[word for word in simple_preprocess(str(doc)) \n",
        "             if word not in stop_words] for doc in texts]"
      ],
      "metadata": {
        "id": "f413O5yTDE3p"
      },
      "execution_count": null,
      "outputs": []
    },
    {
      "cell_type": "code",
      "source": [
        "clean = session.connection['clean']\n",
        "\n",
        "for curCollection in collection_names:\n",
        "  print('Currently cleaning: ' + curCollection)\n",
        "  print('-------------------')\n",
        "  db_clean = clean[curCollection]\n",
        "\n",
        "  data = db_clean.find({})\n",
        "  df = pd.DataFrame(list(data))\n",
        "\n",
        "  print('Starting clean html...')\n",
        "  df['clean html'] = df['raw html'].apply(cleanString)\n",
        "  print('Done with clean html!\\n')\n",
        "\n",
        "  print('Starting sentiment...')\n",
        "  df['sentiment'] = df['clean html'].apply(lambda x : TextBlob(x).polarity)\n",
        "  print('Done with sentiment!\\n')\n",
        "\n",
        "  print('Starting subjectivity...')\n",
        "  df['subjectivity'] = df['clean html'].apply(lambda x : TextBlob(x).subjectivity)\n",
        "  print('Done with subjectivity!\\n')\n",
        "\n",
        "  print('Starting tokenization...')\n",
        "  html_data = df['clean html'].tolist()\n",
        "  html_words = list(sent_to_words(html_data))\n",
        "  html_words = remove_stopwords(html_words)\n",
        "  df['tokens'] = html_words\n",
        "  print('Done with tokenization!\\n')\n",
        "\n",
        "  print('Writing all changes...\\n')\n",
        "  data_dict = df.to_dict('records')\n",
        "  updates = []\n",
        "  for _, row in df.iterrows():\n",
        "    updates.append( UpdateOne({'_id': row.get('_id')}, {'$set': {'sentiment': row.get('sentiment'), 'subjectivity': row.get('subjectivity'), 'clean html': row.get('clean html'), 'tokens' : row.get('tokens')}}, upsert=False))\n",
        "  db_clean.bulk_write(updates)"
      ],
      "metadata": {
        "colab": {
          "base_uri": "https://localhost:8080/"
        },
        "id": "qIw1-VAOCh5O",
        "outputId": "d7f5b87d-27aa-4a33-a1be-b2daa00d38aa"
      },
      "execution_count": null,
      "outputs": [
        {
          "output_type": "stream",
          "name": "stdout",
          "text": [
            "Currently cleaning: DIBBSAward2023-04-13\n",
            "-------------------\n",
            "Starting clean html...\n",
            "Done with clean html!\n",
            "\n",
            "Starting sentiment...\n",
            "Done with sentiment!\n",
            "\n",
            "Starting subjectivity...\n",
            "Done with subjectivity!\n",
            "\n",
            "Starting tokenization...\n",
            "Done with tokenization!\n",
            "\n",
            "Writing all changes...\n",
            "\n",
            "Currently cleaning: DIBBSAward2023-04-15\n",
            "-------------------\n",
            "Starting clean html...\n",
            "Done with clean html!\n",
            "\n",
            "Starting sentiment...\n",
            "Done with sentiment!\n",
            "\n",
            "Starting subjectivity...\n",
            "Done with subjectivity!\n",
            "\n",
            "Starting tokenization...\n",
            "Done with tokenization!\n",
            "\n",
            "Writing all changes...\n",
            "\n",
            "Currently cleaning: CICIAward2023-04-10\n",
            "-------------------\n",
            "Starting clean html...\n",
            "Done with clean html!\n",
            "\n",
            "Starting sentiment...\n",
            "Done with sentiment!\n",
            "\n",
            "Starting subjectivity...\n",
            "Done with subjectivity!\n",
            "\n",
            "Starting tokenization...\n",
            "Done with tokenization!\n",
            "\n",
            "Writing all changes...\n",
            "\n",
            "Currently cleaning: CSSIAward2023-04-16\n",
            "-------------------\n",
            "Starting clean html...\n",
            "Done with clean html!\n",
            "\n",
            "Starting sentiment...\n",
            "Done with sentiment!\n",
            "\n",
            "Starting subjectivity...\n",
            "Done with subjectivity!\n",
            "\n",
            "Starting tokenization...\n",
            "Done with tokenization!\n",
            "\n",
            "Writing all changes...\n",
            "\n"
          ]
        }
      ]
    },
    {
      "cell_type": "code",
      "source": [
        "for curCollection in collection_names:\n",
        "  db_clean = db_clean = clean[curCollection]\n",
        "  db_clean.delete_many({'$expr' : { '$lt': [{ '$strLenCP': '$clean html' }, 300]}})"
      ],
      "metadata": {
        "id": "DzfKLJ2PKj11"
      },
      "execution_count": null,
      "outputs": []
    },
    {
      "cell_type": "markdown",
      "source": [
        "# Testing on single database"
      ],
      "metadata": {
        "id": "nP5vz1SmLFXe"
      }
    },
    {
      "cell_type": "code",
      "source": [
        "data = db_clean.find({})"
      ],
      "metadata": {
        "id": "-iTZ0Yv36I4p"
      },
      "execution_count": null,
      "outputs": []
    },
    {
      "cell_type": "code",
      "source": [
        "df = pd.DataFrame(list(data))\n",
        "df.info()"
      ],
      "metadata": {
        "colab": {
          "base_uri": "https://localhost:8080/"
        },
        "id": "f-1I7sh_6aHF",
        "outputId": "282533bd-f498-4d44-9a3a-19fbfe998e13"
      },
      "execution_count": null,
      "outputs": [
        {
          "output_type": "stream",
          "name": "stdout",
          "text": [
            "<class 'pandas.core.frame.DataFrame'>\n",
            "RangeIndex: 1621 entries, 0 to 1620\n",
            "Data columns (total 6 columns):\n",
            " #   Column    Non-Null Count  Dtype \n",
            "---  ------    --------------  ----- \n",
            " 0   _id       1621 non-null   object\n",
            " 1   Award     1621 non-null   object\n",
            " 2   keyword   1621 non-null   object\n",
            " 3   title     1621 non-null   object\n",
            " 4   text      1621 non-null   object\n",
            " 5   raw html  1621 non-null   object\n",
            "dtypes: object(6)\n",
            "memory usage: 76.1+ KB\n"
          ]
        }
      ]
    },
    {
      "cell_type": "code",
      "source": [
        "def cleanString(text):\n",
        "  text = re.sub('[,/\\.!?\\n|\\-#]', '', text)\n",
        "  text = re.sub(r' +', ' ', text)\n",
        "  return text"
      ],
      "metadata": {
        "id": "mbzbO6eT63Zu"
      },
      "execution_count": null,
      "outputs": []
    },
    {
      "cell_type": "code",
      "source": [
        "df['clean html'] = df['raw html'].apply(cleanString)"
      ],
      "metadata": {
        "id": "_QiP301l18Ha"
      },
      "execution_count": null,
      "outputs": []
    },
    {
      "cell_type": "code",
      "source": [
        "df.head()"
      ],
      "metadata": {
        "colab": {
          "base_uri": "https://localhost:8080/",
          "height": 337
        },
        "id": "GOcRWGza8ANc",
        "outputId": "69647615-d8fc-4b7b-bcb9-c6b5587f8397"
      },
      "execution_count": null,
      "outputs": [
        {
          "output_type": "execute_result",
          "data": {
            "text/plain": [
              "                        _id       Award      keyword title  text  \\\n",
              "0  6440840da8cdca1ec8c5e6f7  CSSI Award  agriculture  None  None   \n",
              "1  6440840da8cdca1ec8c5e6fa  CSSI Award  agriculture  None  None   \n",
              "2  6440840da8cdca1ec8c5e6fc  CSSI Award  agriculture  None  None   \n",
              "3  6440840da8cdca1ec8c5e6ff  CSSI Award  agriculture  None  None   \n",
              "4  6440840da8cdca1ec8c5e702  CSSI Award  agriculture  None  None   \n",
              "\n",
              "                                            raw html  \\\n",
              "0  \\n\\n\\n\\n        Cyberinfrastructure for Sustai...   \n",
              "1  \\n\\n\\n\\n\\n\\n\\n\\nCSSI\\n\\n\\n\\n\\n\\n\\n\\n\\n\\n\\n\\n\\n...   \n",
              "2  \\n\\n\\n\\n\\nCSSI Inc. Receives Major NextGen Eng...   \n",
              "3  \\n\\nFaculty & staff awards - Gustavson School ...   \n",
              "4  \\n\\n\\n\\n\\n\\n\\n\\n\\n\\n\\n\\nSECAF\\n\\n\\n\\n\\n\\n\\n\\n\\...   \n",
              "\n",
              "                                          clean html  \\\n",
              "0   Cyberinfrastructure for Sustained Scientific ...   \n",
              "1  CSSI0 Skip to Content CSSI News Awards Fellow ...   \n",
              "2  CSSI Inc Receives Major NextGen Engineering Co...   \n",
              "3  Faculty & staff awards Gustavson School of Bus...   \n",
              "4  SECAFJoin NowLoginMy AccountSECAF ChatContact ...   \n",
              "\n",
              "                                              tokens  \n",
              "0  [ , cyberinfrastructure, sustained, scientific...  \n",
              "1  [cssi0, skip, content, cssi, news, awards, fel...  \n",
              "2  [cssi, inc, receives, major, nextgen, engineer...  \n",
              "3  [faculty, &, staff, awards, gustavson, school,...  \n",
              "4  [secafjoin, nowloginmy, accountsecaf, chatcont...  "
            ],
            "text/html": [
              "\n",
              "  <div id=\"df-e048c391-1405-4604-9aef-1df887b091d4\">\n",
              "    <div class=\"colab-df-container\">\n",
              "      <div>\n",
              "<style scoped>\n",
              "    .dataframe tbody tr th:only-of-type {\n",
              "        vertical-align: middle;\n",
              "    }\n",
              "\n",
              "    .dataframe tbody tr th {\n",
              "        vertical-align: top;\n",
              "    }\n",
              "\n",
              "    .dataframe thead th {\n",
              "        text-align: right;\n",
              "    }\n",
              "</style>\n",
              "<table border=\"1\" class=\"dataframe\">\n",
              "  <thead>\n",
              "    <tr style=\"text-align: right;\">\n",
              "      <th></th>\n",
              "      <th>_id</th>\n",
              "      <th>Award</th>\n",
              "      <th>keyword</th>\n",
              "      <th>title</th>\n",
              "      <th>text</th>\n",
              "      <th>raw html</th>\n",
              "      <th>clean html</th>\n",
              "      <th>tokens</th>\n",
              "    </tr>\n",
              "  </thead>\n",
              "  <tbody>\n",
              "    <tr>\n",
              "      <th>0</th>\n",
              "      <td>6440840da8cdca1ec8c5e6f7</td>\n",
              "      <td>CSSI Award</td>\n",
              "      <td>agriculture</td>\n",
              "      <td>None</td>\n",
              "      <td>None</td>\n",
              "      <td>\\n\\n\\n\\n        Cyberinfrastructure for Sustai...</td>\n",
              "      <td>Cyberinfrastructure for Sustained Scientific ...</td>\n",
              "      <td>[ , cyberinfrastructure, sustained, scientific...</td>\n",
              "    </tr>\n",
              "    <tr>\n",
              "      <th>1</th>\n",
              "      <td>6440840da8cdca1ec8c5e6fa</td>\n",
              "      <td>CSSI Award</td>\n",
              "      <td>agriculture</td>\n",
              "      <td>None</td>\n",
              "      <td>None</td>\n",
              "      <td>\\n\\n\\n\\n\\n\\n\\n\\nCSSI\\n\\n\\n\\n\\n\\n\\n\\n\\n\\n\\n\\n\\n...</td>\n",
              "      <td>CSSI0 Skip to Content CSSI News Awards Fellow ...</td>\n",
              "      <td>[cssi0, skip, content, cssi, news, awards, fel...</td>\n",
              "    </tr>\n",
              "    <tr>\n",
              "      <th>2</th>\n",
              "      <td>6440840da8cdca1ec8c5e6fc</td>\n",
              "      <td>CSSI Award</td>\n",
              "      <td>agriculture</td>\n",
              "      <td>None</td>\n",
              "      <td>None</td>\n",
              "      <td>\\n\\n\\n\\n\\nCSSI Inc. Receives Major NextGen Eng...</td>\n",
              "      <td>CSSI Inc Receives Major NextGen Engineering Co...</td>\n",
              "      <td>[cssi, inc, receives, major, nextgen, engineer...</td>\n",
              "    </tr>\n",
              "    <tr>\n",
              "      <th>3</th>\n",
              "      <td>6440840da8cdca1ec8c5e6ff</td>\n",
              "      <td>CSSI Award</td>\n",
              "      <td>agriculture</td>\n",
              "      <td>None</td>\n",
              "      <td>None</td>\n",
              "      <td>\\n\\nFaculty &amp; staff awards - Gustavson School ...</td>\n",
              "      <td>Faculty &amp; staff awards Gustavson School of Bus...</td>\n",
              "      <td>[faculty, &amp;, staff, awards, gustavson, school,...</td>\n",
              "    </tr>\n",
              "    <tr>\n",
              "      <th>4</th>\n",
              "      <td>6440840da8cdca1ec8c5e702</td>\n",
              "      <td>CSSI Award</td>\n",
              "      <td>agriculture</td>\n",
              "      <td>None</td>\n",
              "      <td>None</td>\n",
              "      <td>\\n\\n\\n\\n\\n\\n\\n\\n\\n\\n\\n\\nSECAF\\n\\n\\n\\n\\n\\n\\n\\n\\...</td>\n",
              "      <td>SECAFJoin NowLoginMy AccountSECAF ChatContact ...</td>\n",
              "      <td>[secafjoin, nowloginmy, accountsecaf, chatcont...</td>\n",
              "    </tr>\n",
              "  </tbody>\n",
              "</table>\n",
              "</div>\n",
              "      <button class=\"colab-df-convert\" onclick=\"convertToInteractive('df-e048c391-1405-4604-9aef-1df887b091d4')\"\n",
              "              title=\"Convert this dataframe to an interactive table.\"\n",
              "              style=\"display:none;\">\n",
              "        \n",
              "  <svg xmlns=\"http://www.w3.org/2000/svg\" height=\"24px\"viewBox=\"0 0 24 24\"\n",
              "       width=\"24px\">\n",
              "    <path d=\"M0 0h24v24H0V0z\" fill=\"none\"/>\n",
              "    <path d=\"M18.56 5.44l.94 2.06.94-2.06 2.06-.94-2.06-.94-.94-2.06-.94 2.06-2.06.94zm-11 1L8.5 8.5l.94-2.06 2.06-.94-2.06-.94L8.5 2.5l-.94 2.06-2.06.94zm10 10l.94 2.06.94-2.06 2.06-.94-2.06-.94-.94-2.06-.94 2.06-2.06.94z\"/><path d=\"M17.41 7.96l-1.37-1.37c-.4-.4-.92-.59-1.43-.59-.52 0-1.04.2-1.43.59L10.3 9.45l-7.72 7.72c-.78.78-.78 2.05 0 2.83L4 21.41c.39.39.9.59 1.41.59.51 0 1.02-.2 1.41-.59l7.78-7.78 2.81-2.81c.8-.78.8-2.07 0-2.86zM5.41 20L4 18.59l7.72-7.72 1.47 1.35L5.41 20z\"/>\n",
              "  </svg>\n",
              "      </button>\n",
              "      \n",
              "  <style>\n",
              "    .colab-df-container {\n",
              "      display:flex;\n",
              "      flex-wrap:wrap;\n",
              "      gap: 12px;\n",
              "    }\n",
              "\n",
              "    .colab-df-convert {\n",
              "      background-color: #E8F0FE;\n",
              "      border: none;\n",
              "      border-radius: 50%;\n",
              "      cursor: pointer;\n",
              "      display: none;\n",
              "      fill: #1967D2;\n",
              "      height: 32px;\n",
              "      padding: 0 0 0 0;\n",
              "      width: 32px;\n",
              "    }\n",
              "\n",
              "    .colab-df-convert:hover {\n",
              "      background-color: #E2EBFA;\n",
              "      box-shadow: 0px 1px 2px rgba(60, 64, 67, 0.3), 0px 1px 3px 1px rgba(60, 64, 67, 0.15);\n",
              "      fill: #174EA6;\n",
              "    }\n",
              "\n",
              "    [theme=dark] .colab-df-convert {\n",
              "      background-color: #3B4455;\n",
              "      fill: #D2E3FC;\n",
              "    }\n",
              "\n",
              "    [theme=dark] .colab-df-convert:hover {\n",
              "      background-color: #434B5C;\n",
              "      box-shadow: 0px 1px 3px 1px rgba(0, 0, 0, 0.15);\n",
              "      filter: drop-shadow(0px 1px 2px rgba(0, 0, 0, 0.3));\n",
              "      fill: #FFFFFF;\n",
              "    }\n",
              "  </style>\n",
              "\n",
              "      <script>\n",
              "        const buttonEl =\n",
              "          document.querySelector('#df-e048c391-1405-4604-9aef-1df887b091d4 button.colab-df-convert');\n",
              "        buttonEl.style.display =\n",
              "          google.colab.kernel.accessAllowed ? 'block' : 'none';\n",
              "\n",
              "        async function convertToInteractive(key) {\n",
              "          const element = document.querySelector('#df-e048c391-1405-4604-9aef-1df887b091d4');\n",
              "          const dataTable =\n",
              "            await google.colab.kernel.invokeFunction('convertToInteractive',\n",
              "                                                     [key], {});\n",
              "          if (!dataTable) return;\n",
              "\n",
              "          const docLinkHtml = 'Like what you see? Visit the ' +\n",
              "            '<a target=\"_blank\" href=https://colab.research.google.com/notebooks/data_table.ipynb>data table notebook</a>'\n",
              "            + ' to learn more about interactive tables.';\n",
              "          element.innerHTML = '';\n",
              "          dataTable['output_type'] = 'display_data';\n",
              "          await google.colab.output.renderOutput(dataTable, element);\n",
              "          const docLink = document.createElement('div');\n",
              "          docLink.innerHTML = docLinkHtml;\n",
              "          element.appendChild(docLink);\n",
              "        }\n",
              "      </script>\n",
              "    </div>\n",
              "  </div>\n",
              "  "
            ]
          },
          "metadata": {},
          "execution_count": 56
        }
      ]
    },
    {
      "cell_type": "code",
      "source": [
        "def findSentiment(text):\n",
        "  return TextBlob(text)"
      ],
      "metadata": {
        "id": "Zt869fLy71O5"
      },
      "execution_count": null,
      "outputs": []
    },
    {
      "cell_type": "code",
      "source": [
        "df['sentiment'] = df['clean html'].apply(lambda x : TextBlob(x).polarity)\n",
        "df['subjectivity'] = df['clean html'].apply(lambda x : TextBlob(x).subjectivity)"
      ],
      "metadata": {
        "id": "L5SVc7QH8CJo"
      },
      "execution_count": null,
      "outputs": []
    },
    {
      "cell_type": "code",
      "source": [
        "stop_words = stopwords.words('english')\n",
        "stop_words.extend(['from', 'subject', 're', 'edu', 'use', 'https'])"
      ],
      "metadata": {
        "id": "7mCQQywY8yQc"
      },
      "execution_count": null,
      "outputs": []
    },
    {
      "cell_type": "code",
      "source": [
        "#Function removes punctuations from topics in long_string.\n",
        "def sent_to_words(sentences):\n",
        "    for sentence in sentences:\n",
        "        # deacc=True removes punctuations\n",
        "        yield(gensim.utils.simple_preprocess(str(sentence), deacc=True))\n",
        "\n",
        "#Function removes stop_words from long_string, returns list of strings in long_string.\n",
        "def remove_stopwords(texts):\n",
        "    return [[word for word in simple_preprocess(str(doc)) \n",
        "             if word not in stop_words] for doc in texts]"
      ],
      "metadata": {
        "id": "QH3cdBuwTwbu"
      },
      "execution_count": null,
      "outputs": []
    },
    {
      "cell_type": "code",
      "source": [
        "html_data = df['clean html'].tolist()\n",
        "html_words = list(sent_to_words(html_data))\n",
        "html_words = remove_stopwords(html_words)"
      ],
      "metadata": {
        "id": "EKEmbqRS_-13"
      },
      "execution_count": null,
      "outputs": []
    },
    {
      "cell_type": "code",
      "source": [
        "df['tokens'] = html_words"
      ],
      "metadata": {
        "id": "q82KD89XBTnF"
      },
      "execution_count": null,
      "outputs": []
    },
    {
      "cell_type": "code",
      "source": [
        "df.head()"
      ],
      "metadata": {
        "colab": {
          "base_uri": "https://localhost:8080/",
          "height": 337
        },
        "id": "_8UP2bbtCCZO",
        "outputId": "429c8587-b505-412a-fdd8-9bc6c3ac8110"
      },
      "execution_count": null,
      "outputs": [
        {
          "output_type": "execute_result",
          "data": {
            "text/plain": [
              "                        _id       Award      keyword title  text  \\\n",
              "0  6440840da8cdca1ec8c5e6f7  CSSI Award  agriculture  None  None   \n",
              "1  6440840da8cdca1ec8c5e6fa  CSSI Award  agriculture  None  None   \n",
              "2  6440840da8cdca1ec8c5e6fc  CSSI Award  agriculture  None  None   \n",
              "3  6440840da8cdca1ec8c5e6ff  CSSI Award  agriculture  None  None   \n",
              "4  6440840da8cdca1ec8c5e702  CSSI Award  agriculture  None  None   \n",
              "\n",
              "                                            raw html  \\\n",
              "0  \\n\\n\\n\\n        Cyberinfrastructure for Sustai...   \n",
              "1  \\n\\n\\n\\n\\n\\n\\n\\nCSSI\\n\\n\\n\\n\\n\\n\\n\\n\\n\\n\\n\\n\\n...   \n",
              "2  \\n\\n\\n\\n\\nCSSI Inc. Receives Major NextGen Eng...   \n",
              "3  \\n\\nFaculty & staff awards - Gustavson School ...   \n",
              "4  \\n\\n\\n\\n\\n\\n\\n\\n\\n\\n\\n\\nSECAF\\n\\n\\n\\n\\n\\n\\n\\n\\...   \n",
              "\n",
              "                                          clean html  \\\n",
              "0   Cyberinfrastructure for Sustained Scientific ...   \n",
              "1  CSSI0 Skip to Content CSSI News Awards Fellow ...   \n",
              "2  CSSI Inc Receives Major NextGen Engineering Co...   \n",
              "3  Faculty & staff awards Gustavson School of Bus...   \n",
              "4  SECAFJoin NowLoginMy AccountSECAF ChatContact ...   \n",
              "\n",
              "                                              tokens  \n",
              "0  [sustained, scientific, innovation, cssi, la, ...  \n",
              "1  [cssi, skip, content, cssi, news, awards, fell...  \n",
              "2  [cssi, inc, receives, major, nextgen, engineer...  \n",
              "3  [faculty, staff, awards, gustavson, school, bu...  \n",
              "4  [secafjoin, nowloginmy, accountsecaf, chatcont...  "
            ],
            "text/html": [
              "\n",
              "  <div id=\"df-70c668e5-6b85-4bec-a39a-6025e55b2053\">\n",
              "    <div class=\"colab-df-container\">\n",
              "      <div>\n",
              "<style scoped>\n",
              "    .dataframe tbody tr th:only-of-type {\n",
              "        vertical-align: middle;\n",
              "    }\n",
              "\n",
              "    .dataframe tbody tr th {\n",
              "        vertical-align: top;\n",
              "    }\n",
              "\n",
              "    .dataframe thead th {\n",
              "        text-align: right;\n",
              "    }\n",
              "</style>\n",
              "<table border=\"1\" class=\"dataframe\">\n",
              "  <thead>\n",
              "    <tr style=\"text-align: right;\">\n",
              "      <th></th>\n",
              "      <th>_id</th>\n",
              "      <th>Award</th>\n",
              "      <th>keyword</th>\n",
              "      <th>title</th>\n",
              "      <th>text</th>\n",
              "      <th>raw html</th>\n",
              "      <th>clean html</th>\n",
              "      <th>tokens</th>\n",
              "    </tr>\n",
              "  </thead>\n",
              "  <tbody>\n",
              "    <tr>\n",
              "      <th>0</th>\n",
              "      <td>6440840da8cdca1ec8c5e6f7</td>\n",
              "      <td>CSSI Award</td>\n",
              "      <td>agriculture</td>\n",
              "      <td>None</td>\n",
              "      <td>None</td>\n",
              "      <td>\\n\\n\\n\\n        Cyberinfrastructure for Sustai...</td>\n",
              "      <td>Cyberinfrastructure for Sustained Scientific ...</td>\n",
              "      <td>[sustained, scientific, innovation, cssi, la, ...</td>\n",
              "    </tr>\n",
              "    <tr>\n",
              "      <th>1</th>\n",
              "      <td>6440840da8cdca1ec8c5e6fa</td>\n",
              "      <td>CSSI Award</td>\n",
              "      <td>agriculture</td>\n",
              "      <td>None</td>\n",
              "      <td>None</td>\n",
              "      <td>\\n\\n\\n\\n\\n\\n\\n\\nCSSI\\n\\n\\n\\n\\n\\n\\n\\n\\n\\n\\n\\n\\n...</td>\n",
              "      <td>CSSI0 Skip to Content CSSI News Awards Fellow ...</td>\n",
              "      <td>[cssi, skip, content, cssi, news, awards, fell...</td>\n",
              "    </tr>\n",
              "    <tr>\n",
              "      <th>2</th>\n",
              "      <td>6440840da8cdca1ec8c5e6fc</td>\n",
              "      <td>CSSI Award</td>\n",
              "      <td>agriculture</td>\n",
              "      <td>None</td>\n",
              "      <td>None</td>\n",
              "      <td>\\n\\n\\n\\n\\nCSSI Inc. Receives Major NextGen Eng...</td>\n",
              "      <td>CSSI Inc Receives Major NextGen Engineering Co...</td>\n",
              "      <td>[cssi, inc, receives, major, nextgen, engineer...</td>\n",
              "    </tr>\n",
              "    <tr>\n",
              "      <th>3</th>\n",
              "      <td>6440840da8cdca1ec8c5e6ff</td>\n",
              "      <td>CSSI Award</td>\n",
              "      <td>agriculture</td>\n",
              "      <td>None</td>\n",
              "      <td>None</td>\n",
              "      <td>\\n\\nFaculty &amp; staff awards - Gustavson School ...</td>\n",
              "      <td>Faculty &amp; staff awards Gustavson School of Bus...</td>\n",
              "      <td>[faculty, staff, awards, gustavson, school, bu...</td>\n",
              "    </tr>\n",
              "    <tr>\n",
              "      <th>4</th>\n",
              "      <td>6440840da8cdca1ec8c5e702</td>\n",
              "      <td>CSSI Award</td>\n",
              "      <td>agriculture</td>\n",
              "      <td>None</td>\n",
              "      <td>None</td>\n",
              "      <td>\\n\\n\\n\\n\\n\\n\\n\\n\\n\\n\\n\\nSECAF\\n\\n\\n\\n\\n\\n\\n\\n\\...</td>\n",
              "      <td>SECAFJoin NowLoginMy AccountSECAF ChatContact ...</td>\n",
              "      <td>[secafjoin, nowloginmy, accountsecaf, chatcont...</td>\n",
              "    </tr>\n",
              "  </tbody>\n",
              "</table>\n",
              "</div>\n",
              "      <button class=\"colab-df-convert\" onclick=\"convertToInteractive('df-70c668e5-6b85-4bec-a39a-6025e55b2053')\"\n",
              "              title=\"Convert this dataframe to an interactive table.\"\n",
              "              style=\"display:none;\">\n",
              "        \n",
              "  <svg xmlns=\"http://www.w3.org/2000/svg\" height=\"24px\"viewBox=\"0 0 24 24\"\n",
              "       width=\"24px\">\n",
              "    <path d=\"M0 0h24v24H0V0z\" fill=\"none\"/>\n",
              "    <path d=\"M18.56 5.44l.94 2.06.94-2.06 2.06-.94-2.06-.94-.94-2.06-.94 2.06-2.06.94zm-11 1L8.5 8.5l.94-2.06 2.06-.94-2.06-.94L8.5 2.5l-.94 2.06-2.06.94zm10 10l.94 2.06.94-2.06 2.06-.94-2.06-.94-.94-2.06-.94 2.06-2.06.94z\"/><path d=\"M17.41 7.96l-1.37-1.37c-.4-.4-.92-.59-1.43-.59-.52 0-1.04.2-1.43.59L10.3 9.45l-7.72 7.72c-.78.78-.78 2.05 0 2.83L4 21.41c.39.39.9.59 1.41.59.51 0 1.02-.2 1.41-.59l7.78-7.78 2.81-2.81c.8-.78.8-2.07 0-2.86zM5.41 20L4 18.59l7.72-7.72 1.47 1.35L5.41 20z\"/>\n",
              "  </svg>\n",
              "      </button>\n",
              "      \n",
              "  <style>\n",
              "    .colab-df-container {\n",
              "      display:flex;\n",
              "      flex-wrap:wrap;\n",
              "      gap: 12px;\n",
              "    }\n",
              "\n",
              "    .colab-df-convert {\n",
              "      background-color: #E8F0FE;\n",
              "      border: none;\n",
              "      border-radius: 50%;\n",
              "      cursor: pointer;\n",
              "      display: none;\n",
              "      fill: #1967D2;\n",
              "      height: 32px;\n",
              "      padding: 0 0 0 0;\n",
              "      width: 32px;\n",
              "    }\n",
              "\n",
              "    .colab-df-convert:hover {\n",
              "      background-color: #E2EBFA;\n",
              "      box-shadow: 0px 1px 2px rgba(60, 64, 67, 0.3), 0px 1px 3px 1px rgba(60, 64, 67, 0.15);\n",
              "      fill: #174EA6;\n",
              "    }\n",
              "\n",
              "    [theme=dark] .colab-df-convert {\n",
              "      background-color: #3B4455;\n",
              "      fill: #D2E3FC;\n",
              "    }\n",
              "\n",
              "    [theme=dark] .colab-df-convert:hover {\n",
              "      background-color: #434B5C;\n",
              "      box-shadow: 0px 1px 3px 1px rgba(0, 0, 0, 0.15);\n",
              "      filter: drop-shadow(0px 1px 2px rgba(0, 0, 0, 0.3));\n",
              "      fill: #FFFFFF;\n",
              "    }\n",
              "  </style>\n",
              "\n",
              "      <script>\n",
              "        const buttonEl =\n",
              "          document.querySelector('#df-70c668e5-6b85-4bec-a39a-6025e55b2053 button.colab-df-convert');\n",
              "        buttonEl.style.display =\n",
              "          google.colab.kernel.accessAllowed ? 'block' : 'none';\n",
              "\n",
              "        async function convertToInteractive(key) {\n",
              "          const element = document.querySelector('#df-70c668e5-6b85-4bec-a39a-6025e55b2053');\n",
              "          const dataTable =\n",
              "            await google.colab.kernel.invokeFunction('convertToInteractive',\n",
              "                                                     [key], {});\n",
              "          if (!dataTable) return;\n",
              "\n",
              "          const docLinkHtml = 'Like what you see? Visit the ' +\n",
              "            '<a target=\"_blank\" href=https://colab.research.google.com/notebooks/data_table.ipynb>data table notebook</a>'\n",
              "            + ' to learn more about interactive tables.';\n",
              "          element.innerHTML = '';\n",
              "          dataTable['output_type'] = 'display_data';\n",
              "          await google.colab.output.renderOutput(dataTable, element);\n",
              "          const docLink = document.createElement('div');\n",
              "          docLink.innerHTML = docLinkHtml;\n",
              "          element.appendChild(docLink);\n",
              "        }\n",
              "      </script>\n",
              "    </div>\n",
              "  </div>\n",
              "  "
            ]
          },
          "metadata": {},
          "execution_count": 74
        }
      ]
    },
    {
      "cell_type": "code",
      "source": [
        "data_dict = df.to_dict('records')"
      ],
      "metadata": {
        "id": "ng8Vf3RQ-l0G"
      },
      "execution_count": null,
      "outputs": []
    },
    {
      "cell_type": "code",
      "source": [
        "updates = []\n",
        "for _, row in df.iterrows():\n",
        "    updates.append( UpdateOne({'_id': row.get('_id')}, {'$set': {'sentiment': row.get('sentiment'), 'subjectivity': row.get('subjectivity'), 'clean html': row.get('clean html'), 'tokens' : row.get('tokens')}}, upsert=False))\n",
        "    #updates.append( UpdateOne({'_id': row.get('_id')}, {'$set': {'sentiment': row.get('sentiment'), 'subjectivity': row.get('subjectivity'), 'clean html': row.get('clean html'), 'lemma tokens' : row.get('lemma_tokens')}}, upsert=False))"
      ],
      "metadata": {
        "colab": {
          "base_uri": "https://localhost:8080/"
        },
        "id": "e_Mr9BIBEtIX",
        "outputId": "3716108d-3af6-4786-dc87-7a431a488cc3"
      },
      "execution_count": null,
      "outputs": [
        {
          "output_type": "stream",
          "name": "stderr",
          "text": [
            "2023-04-21 05:35:50,103| ERROR   | Could not establish connection from local ('127.0.0.1', 38673) to remote ('127.0.0.1', 27017) side of the tunnel: open new channel ssh error: SSH session not active\n",
            "ERROR:sshtunnel.SSHTunnelForwarder:Could not establish connection from local ('127.0.0.1', 38673) to remote ('127.0.0.1', 27017) side of the tunnel: open new channel ssh error: SSH session not active\n"
          ]
        }
      ]
    },
    {
      "cell_type": "code",
      "source": [
        "db_clean.bulk_write(updates)"
      ],
      "metadata": {
        "id": "z_2bQaFyGfIW"
      },
      "execution_count": null,
      "outputs": []
    },
    {
      "cell_type": "code",
      "source": [
        "id = \"64407ef1a64b00c43c4e4ba2\"\n",
        "test = db_clean.find({'_id' : ObjectId(id)})\n",
        "\n",
        "test_df = pd.DataFrame(list(test))\n",
        "print(test_df)"
      ],
      "metadata": {
        "colab": {
          "base_uri": "https://localhost:8080/"
        },
        "id": "iPQfhBtB81Xv",
        "outputId": "24e908de-dac6-47af-aed6-0b911e3ad185"
      },
      "execution_count": null,
      "outputs": [
        {
          "output_type": "stream",
          "name": "stderr",
          "text": [
            "2023-04-21 05:54:09,408| ERROR   | Could not establish connection from local ('127.0.0.1', 38673) to remote ('127.0.0.1', 27017) side of the tunnel: open new channel ssh error: SSH session not active\n",
            "ERROR:sshtunnel.SSHTunnelForwarder:Could not establish connection from local ('127.0.0.1', 38673) to remote ('127.0.0.1', 27017) side of the tunnel: open new channel ssh error: SSH session not active\n"
          ]
        },
        {
          "output_type": "stream",
          "name": "stdout",
          "text": [
            "                        _id       Award     keyword title  text  \\\n",
            "0  64407ef1a64b00c43c4e4ba2  CSSI Award  assessment  None  None   \n",
            "\n",
            "                                            raw html  \\\n",
            "0  \\n\\n\\n\\n\\n\\n\\n\\n\\n\\n\\n\\n\\n\\n\\n\\nPre-Award Info...   \n",
            "\n",
            "                                          clean html  sentiment  subjectivity  \\\n",
            "0  Pre-Award Information - Research and Sponsored...   0.033929      0.231199   \n",
            "\n",
            "                                              tokens  \n",
            "0  [pre-award, information, research, sponsored, ...  \n"
          ]
        }
      ]
    },
    {
      "cell_type": "code",
      "source": [
        "id = \"64407ef1a64b00c43c4e4ba1\"\n",
        "test = db_clean.find({'_id' : ObjectId(id)})\n",
        "\n",
        "test_df = pd.DataFrame(list(test))\n",
        "print(test_df)"
      ],
      "metadata": {
        "colab": {
          "base_uri": "https://localhost:8080/"
        },
        "id": "jNFYKXqaDX_z",
        "outputId": "828b5351-a92c-4f55-ae15-8c1b2de8f301"
      },
      "execution_count": null,
      "outputs": [
        {
          "output_type": "stream",
          "name": "stdout",
          "text": [
            "                        _id       Award     keyword title  text  \\\n",
            "0  64407ef1a64b00c43c4e4ba1  CSSI Award  assessment  None  None   \n",
            "\n",
            "                                            raw html  \n",
            "0  \\n\\n\\n\\n\\n\\n\\n\\n\\n\\n\\n\\n\\n\\n\\n\\n\\n\\n\\n\\n\\n\\n\\n...  \n"
          ]
        }
      ]
    },
    {
      "cell_type": "code",
      "source": [
        "session.stop()"
      ],
      "metadata": {
        "id": "5zdp_IAEEpmq"
      },
      "execution_count": null,
      "outputs": []
    },
    {
      "cell_type": "code",
      "source": [],
      "metadata": {
        "id": "Yik2kZVaFKOR"
      },
      "execution_count": null,
      "outputs": []
    }
  ]
}