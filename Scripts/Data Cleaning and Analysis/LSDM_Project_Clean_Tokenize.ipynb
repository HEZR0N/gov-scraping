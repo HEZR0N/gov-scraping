{
  "cells": [
    {
      "cell_type": "markdown",
      "metadata": {
        "id": "qbQSANWALJkE"
      },
      "source": [
        "# Initial Cleaning"
      ]
    },
    {
      "cell_type": "code",
      "execution_count": null,
      "metadata": {
        "id": "-MCiqMqa-yMm"
      },
      "outputs": [],
      "source": [
        "#Install required libraries\n",
        "!pip install pymongo\n",
        "!pip install ssh-pymongo"
      ]
    },
    {
      "cell_type": "code",
      "execution_count": null,
      "metadata": {
        "id": "on_6BTcG-gUN"
      },
      "outputs": [],
      "source": [
        "#import pymongo to connect to db\n",
        "from pymongo import UpdateOne\n",
        "from ssh_pymongo import MongoSession\n",
        "import pprint"
      ]
    },
    {
      "cell_type": "code",
      "execution_count": null,
      "metadata": {
        "id": "mv2nxrSB-rCC"
      },
      "outputs": [],
      "source": [
        "#Set host and remotely connect to mongodb\n",
        "MONGO_HOST = \"ip_address\"\n",
        "MONGO_USER = \"username\"\n",
        "MONGO_PASS = \"password\"\n",
        "MONGO_PORT = 443\n",
        "\n",
        "session = MongoSession(MONGO_HOST,\n",
        "    port=MONGO_PORT,\n",
        "    user=MONGO_USER,\n",
        "    password=MONGO_PASS,\n",
        "    uri='mongodb:/'+MONGO_HOST+':'+str(MONGO_PORT)\n",
        ")"
      ]
    },
    {
      "cell_type": "markdown",
      "metadata": {
        "id": "7ycHqC7foJ8b"
      },
      "source": [
        "Collections:\n",
        "\n",
        "DIBBSAward2023-04-13\n",
        "\n",
        "DIBBSAward2023-04-15\n",
        "\n",
        "CICIAward2023-04-10\n",
        "\n",
        "CSSIAward2023-04-16\n",
        "\n",
        "MRIAward2023-04-16\n",
        "\n",
        "CCFAward2023-04-11\n",
        "\n",
        "SI2Award2023-04-24"
      ]
    },
    {
      "cell_type": "code",
      "execution_count": null,
      "metadata": {
        "id": "twvhq1xt4fKJ"
      },
      "outputs": [],
      "source": [
        "#List of collection names to iterate over as stored in the db\n",
        "\n",
        "collection_names = ['DIBBSAward2023-04-13', 'DIBBSAward2023-04-15', 'CICIAward2023-04-10', 'CSSIAward2023-04-16', 'MRIAward2023-04-16', 'CCFAward2023-04-11', 'SI2Award2023-04-24']"
      ]
    },
    {
      "cell_type": "code",
      "execution_count": null,
      "metadata": {
        "colab": {
          "base_uri": "https://localhost:8080/"
        },
        "id": "02FsAioH4gBy",
        "outputId": "02a5b2c0-c8c3-47b5-9b54-d368f4df5e65"
      },
      "outputs": [
        {
          "name": "stdout",
          "output_type": "stream",
          "text": [
            "Cleaning for DIBBSAward2023-04-13\n",
            "-------------------\n",
            "Current # of documents: 13000\n",
            "Documents after regex clean: 7949\n",
            "Documents after small truncation: 5668\n",
            "\n",
            "Cleaning for DIBBSAward2023-04-15\n",
            "-------------------\n",
            "Current # of documents: 26495\n",
            "Documents after regex clean: 16649\n",
            "Documents after small truncation: 11101\n",
            "\n",
            "Cleaning for CICIAward2023-04-10\n",
            "-------------------\n",
            "Current # of documents: 28944\n",
            "Documents after regex clean: 16486\n",
            "Documents after small truncation: 11996\n",
            "\n",
            "Cleaning for CSSIAward2023-04-16\n",
            "-------------------\n",
            "Current # of documents: 4000\n",
            "Documents after regex clean: 2262\n",
            "Documents after small truncation: 1621\n",
            "\n",
            "Cleaning for MRIAward2023-04-16\n",
            "-------------------\n",
            "Current # of documents: 123115\n",
            "Documents after regex clean: 72283\n",
            "Documents after small truncation: 63542\n",
            "\n",
            "Cleaning for CCFAward2023-04-11\n",
            "-------------------\n",
            "Current # of documents: 88334\n",
            "Documents after regex clean: 52218\n",
            "Documents after small truncation: 43609\n",
            "\n",
            "Cleaning for SI2Award2023-04-24\n",
            "-------------------\n",
            "Current # of documents: 44135\n",
            "Documents after regex clean: 22865\n",
            "Documents after small truncation: 18046\n",
            "\n"
          ]
        }
      ],
      "source": [
        "#Set variables for each respective db\n",
        "local = session.connection['local']\n",
        "clean = session.connection['tidy']\n",
        "\n",
        "#Big regex string containing common words\n",
        "nonowords = '(javascript)|(access denied)|(403.*error)|(403.*forbidden)|(can\\'t find the page)|(404 not found)|(site under maintenance)|(down for maintenance)'\n",
        "\n",
        "for curCollection in collection_names:\n",
        "  print('Cleaning for ' + curCollection)\n",
        "  print('-------------------')\n",
        "  #set current collection to clean\n",
        "  db = local[curCollection]\n",
        "  print('Current # of documents: ' + str(db.count_documents({})))\n",
        "\n",
        "  #get all NON empty documents and ones that DON'T match the regex\n",
        "  getAllClean = list(db.find(\n",
        "      {'$nor' : [{'raw html' : ''}, {'raw html' : { '$regex' : nonowords, '$options' : 'i'}}]}\n",
        "  ))\n",
        "\n",
        "  print('Documents after regex clean: ' + str(len(getAllClean)))\n",
        "\n",
        "  #insert all found 'clean' documents into the clean db under the same collection name\n",
        "  db_clean = clean[curCollection] \n",
        "  db_clean.insert_many(getAllClean)\n",
        "\n",
        "  #delete documents that are too short (<400 chars)\n",
        "  db_clean.delete_many({'$expr' : { '$lt': [{ '$strLenCP': '$raw html' }, 400]}})\n",
        "\n",
        "  print('Documents after small truncation: ' + str(db_clean.count_documents({})) + '\\n')\n"
      ]
    },
    {
      "cell_type": "markdown",
      "metadata": {
        "id": "_E3Kkq_Q4OJ7"
      },
      "source": [
        "# Sentiment Analysis and Tokenization\n"
      ]
    },
    {
      "cell_type": "code",
      "execution_count": null,
      "metadata": {
        "colab": {
          "base_uri": "https://localhost:8080/"
        },
        "id": "rNkeEa6Ouair",
        "outputId": "76b3e44f-929d-4115-990b-a2d517f99ebb"
      },
      "outputs": [
        {
          "name": "stderr",
          "output_type": "stream",
          "text": [
            "[nltk_data] Downloading package stopwords to /root/nltk_data...\n",
            "[nltk_data]   Unzipping corpora/stopwords.zip.\n"
          ]
        }
      ],
      "source": [
        "#Importing essential tools\n",
        "import os\n",
        "import re\n",
        "import pandas as pd\n",
        "import gensim\n",
        "import gensim.corpora as corpora\n",
        "import nltk\n",
        "import pickle \n",
        "import seaborn as sns;\n",
        "\n",
        "from textblob import TextBlob\n",
        "from bson.objectid import ObjectId\n",
        "\n",
        "from wordcloud import WordCloud\n",
        "from gensim.utils import simple_preprocess\n",
        "from nltk.corpus import stopwords\n",
        "nltk.download('stopwords')\n",
        "\n",
        "stop_words = stopwords.words('english')"
      ]
    },
    {
      "cell_type": "code",
      "execution_count": null,
      "metadata": {
        "id": "eipFunRZxM56"
      },
      "outputs": [],
      "source": [
        "#Installs\n",
        "import sys\n",
        "!{sys.executable} -m pip install pyLDAvis\n",
        "import pyLDAvis\n",
        "import pyLDAvis.gensim"
      ]
    },
    {
      "cell_type": "code",
      "execution_count": null,
      "metadata": {
        "id": "PYZw8v4T0U8o"
      },
      "outputs": [],
      "source": [
        "import warnings\n",
        "warnings.filterwarnings(\"ignore\", category=DeprecationWarning)"
      ]
    },
    {
      "cell_type": "code",
      "execution_count": null,
      "metadata": {
        "id": "V2Kt-OonzGZm"
      },
      "outputs": [],
      "source": [
        "stop_words = stopwords.words('english')\n",
        "stop_words.extend(['from', 'subject', 're', 'edu', 'use', 'https'])"
      ]
    },
    {
      "cell_type": "code",
      "execution_count": null,
      "metadata": {
        "id": "f413O5yTDE3p"
      },
      "outputs": [],
      "source": [
        "#Cleans the strings of unwanted characters\n",
        "def cleanString(text):\n",
        "  text = re.sub('[,/\\.!?\\n|\\-#]', ' ', text)\n",
        "  text = re.sub(r' +', ' ', text)\n",
        "  return text\n",
        "\n",
        "#Runs through sentiment analysis\n",
        "def findSentiment(text):\n",
        "  return TextBlob(text)\n",
        "  \n",
        "#Function removes punctuations from topics in long_string.\n",
        "def sent_to_words(sentences):\n",
        "    for sentence in sentences:\n",
        "        # deacc=True removes punctuations\n",
        "        yield(gensim.utils.simple_preprocess(str(sentence), deacc=True))\n",
        "\n",
        "#Function removes stop_words from long_string, returns list of strings in long_string.\n",
        "def remove_stopwords(texts):\n",
        "    return [[word for word in simple_preprocess(str(doc))\n",
        "             if word not in stop_words] for doc in texts]\n",
        "\n",
        "def remove_stop_single(text):\n",
        "    return [word for word in simple_preprocess(str(text)) \n",
        "             if word not in stop_words]"
      ]
    },
    {
      "cell_type": "code",
      "execution_count": null,
      "metadata": {
        "id": "NbZeR4jVCwVu"
      },
      "outputs": [],
      "source": [
        "#List of collection names to iterate over as stored in the db \n",
        "#'DIBBSAward2023-04-13', 'DIBBSAward2023-04-15', 'CICIAward2023-04-10', 'CSSIAward2023-04-16', 'MRIAward2023-04-16', 'CCFAward2023-04-11', 'SI2Award2023-04-24'\n",
        "\n",
        "collection_names = ['CCFAward2023-04-11']"
      ]
    },
    {
      "cell_type": "code",
      "execution_count": null,
      "metadata": {
        "id": "qIw1-VAOCh5O"
      },
      "outputs": [],
      "source": [
        "clean = session.connection['tidy']\n",
        "\n",
        "for curCollection in collection_names:\n",
        "  print('Currently cleaning and tokenizing: ' + curCollection)\n",
        "  print('-------------------')\n",
        "  db_clean = clean[curCollection]\n",
        "\n",
        "  data = db_clean.find({})\n",
        "  df = pd.DataFrame(list(data))\n",
        "\n",
        "  print('Starting clean html...')\n",
        "  df['clean html'] = df['raw html'].apply(cleanString)\n",
        "  print('Done with clean html!\\n')\n",
        "\n",
        "  print('Starting sentiment...')\n",
        "  df['sentiment'] = df['clean html'].apply(lambda x : TextBlob(x).polarity)\n",
        "  print('Done with sentiment!\\n')\n",
        "\n",
        "  print('Starting subjectivity...')\n",
        "  df['subjectivity'] = df['clean html'].apply(lambda x : TextBlob(x).subjectivity)\n",
        "  print('Done with subjectivity!\\n')\n",
        "\n",
        "  print('Writing clean, sentiment, and subjectivity...')\n",
        "  data_dict = df.to_dict('records')\n",
        "  updates = []\n",
        "  for _, row in df.iterrows():\n",
        "    updates.append( UpdateOne({'_id': row.get('_id')}, {'$set': {'sentiment': row.get('sentiment'), 'subjectivity': row.get('subjectivity'), 'clean html': row.get('clean html')}}, upsert=False))\n",
        "  db_clean.bulk_write(updates)\n",
        "  print('Done writing!\\n')\n",
        "  df = df.drop(['sentiment', 'subjectivity', 'raw html'], axis=1)\n",
        "\n",
        "  print('Starting tokenization...')\n",
        "  html_data = df['clean html'].tolist()\n",
        "  html_iterator = sent_to_words(html_data)\n",
        "  html_words = []\n",
        "  for text in html_iterator:\n",
        "    html_word = remove_stop_single(text)\n",
        "    html_words.append(html_word)\n",
        "  df['tokens'] = html_words\n",
        "  print('Done with tokenization!\\n')\n",
        "\n",
        "  print('Writing all tokens...\\n')\n",
        "  data_dict = df.to_dict('records')\n",
        "  updates = []\n",
        "  for _, row in df.iterrows():\n",
        "    updates.append( UpdateOne({'_id': row.get('_id')}, {'$set': {'tokens': row.get('tokens')}}, upsert=False))\n",
        "  db_clean.bulk_write(updates)\n",
        "  print('Done writing!\\n')\n",
        "\n",
        "  \"\"\"\n",
        "  data_dict = df.to_dict('records')\n",
        "  updates = []\n",
        "  for _, row in df.iterrows():\n",
        "    updates.append( UpdateOne({'_id': row.get('_id')}, {'$set': {'sentiment': row.get('sentiment'), 'subjectivity': row.get('subjectivity'), 'clean html': row.get('clean html'), 'tokens' : row.get('tokens')}}, upsert=False))\n",
        "  db_clean.bulk_write(updates)\n",
        "  \"\"\""
      ]
    },
    {
      "cell_type": "code",
      "execution_count": null,
      "metadata": {
        "id": "DzfKLJ2PKj11"
      },
      "outputs": [],
      "source": [
        "for curCollection in collection_names:\n",
        "  db_clean = db_clean = clean[curCollection]\n",
        "  db_clean.delete_many({'$expr' : { '$lt': [{ '$strLenCP': '$clean html' }, 300]}})"
      ]
    },
    {
      "cell_type": "markdown",
      "metadata": {
        "id": "nP5vz1SmLFXe"
      },
      "source": [
        "# Testing on single database"
      ]
    },
    {
      "cell_type": "code",
      "execution_count": null,
      "metadata": {
        "id": "-iTZ0Yv36I4p"
      },
      "outputs": [],
      "source": [
        "clean = session.connection['tidy']\n",
        "db_clean = clean['CSSIAward2023-04-16']\n",
        "data = db_clean.find({})"
      ]
    },
    {
      "cell_type": "code",
      "execution_count": null,
      "metadata": {
        "colab": {
          "base_uri": "https://localhost:8080/"
        },
        "id": "f-1I7sh_6aHF",
        "outputId": "adea0ef8-eef8-4032-b00d-632437d23f3f"
      },
      "outputs": [
        {
          "name": "stdout",
          "output_type": "stream",
          "text": [
            "<class 'pandas.core.frame.DataFrame'>\n",
            "RangeIndex: 1621 entries, 0 to 1620\n",
            "Data columns (total 6 columns):\n",
            " #   Column    Non-Null Count  Dtype \n",
            "---  ------    --------------  ----- \n",
            " 0   _id       1621 non-null   object\n",
            " 1   Award     1621 non-null   object\n",
            " 2   keyword   1621 non-null   object\n",
            " 3   title     1621 non-null   object\n",
            " 4   text      1621 non-null   object\n",
            " 5   raw html  1621 non-null   object\n",
            "dtypes: object(6)\n",
            "memory usage: 76.1+ KB\n"
          ]
        }
      ],
      "source": [
        "df = pd.DataFrame(list(data))\n",
        "df.info()"
      ]
    },
    {
      "cell_type": "code",
      "execution_count": null,
      "metadata": {
        "id": "mbzbO6eT63Zu"
      },
      "outputs": [],
      "source": [
        "def cleanString(text):\n",
        "  text = re.sub('[,/\\.!?\\n|\\-#]', '', text)\n",
        "  text = re.sub(r' +', ' ', text)\n",
        "  return text"
      ]
    },
    {
      "cell_type": "code",
      "execution_count": null,
      "metadata": {
        "id": "_QiP301l18Ha"
      },
      "outputs": [],
      "source": [
        "df['clean html'] = df['raw html'].apply(cleanString)"
      ]
    },
    {
      "cell_type": "code",
      "execution_count": null,
      "metadata": {
        "colab": {
          "base_uri": "https://localhost:8080/",
          "height": 478
        },
        "id": "GOcRWGza8ANc",
        "outputId": "5e0119cd-a79a-46b7-9e17-801ca5d95b2f"
      },
      "outputs": [
        {
          "data": {
            "text/html": [
              "\n",
              "  <div id=\"df-761db4a0-5e6b-4019-8696-d0e13c7b6f58\">\n",
              "    <div class=\"colab-df-container\">\n",
              "      <div>\n",
              "<style scoped>\n",
              "    .dataframe tbody tr th:only-of-type {\n",
              "        vertical-align: middle;\n",
              "    }\n",
              "\n",
              "    .dataframe tbody tr th {\n",
              "        vertical-align: top;\n",
              "    }\n",
              "\n",
              "    .dataframe thead th {\n",
              "        text-align: right;\n",
              "    }\n",
              "</style>\n",
              "<table border=\"1\" class=\"dataframe\">\n",
              "  <thead>\n",
              "    <tr style=\"text-align: right;\">\n",
              "      <th></th>\n",
              "      <th>_id</th>\n",
              "      <th>Award</th>\n",
              "      <th>keyword</th>\n",
              "      <th>title</th>\n",
              "      <th>text</th>\n",
              "      <th>raw html</th>\n",
              "      <th>clean html</th>\n",
              "    </tr>\n",
              "  </thead>\n",
              "  <tbody>\n",
              "    <tr>\n",
              "      <th>0</th>\n",
              "      <td>6440840da8cdca1ec8c5e6f7</td>\n",
              "      <td>CSSI Award</td>\n",
              "      <td>agriculture</td>\n",
              "      <td>None</td>\n",
              "      <td>None</td>\n",
              "      <td>\\n\\n\\n\\n        Cyberinfrastructure for Sustai...</td>\n",
              "      <td>Cyberinfrastructure for Sustained Scientific ...</td>\n",
              "    </tr>\n",
              "    <tr>\n",
              "      <th>1</th>\n",
              "      <td>6440840da8cdca1ec8c5e6fa</td>\n",
              "      <td>CSSI Award</td>\n",
              "      <td>agriculture</td>\n",
              "      <td>None</td>\n",
              "      <td>None</td>\n",
              "      <td>\\n\\n\\n\\n\\n\\n\\n\\nCSSI\\n\\n\\n\\n\\n\\n\\n\\n\\n\\n\\n\\n\\n...</td>\n",
              "      <td>CSSI0 Skip to Content CSSI News Awards Fellow ...</td>\n",
              "    </tr>\n",
              "    <tr>\n",
              "      <th>2</th>\n",
              "      <td>6440840da8cdca1ec8c5e6fc</td>\n",
              "      <td>CSSI Award</td>\n",
              "      <td>agriculture</td>\n",
              "      <td>None</td>\n",
              "      <td>None</td>\n",
              "      <td>\\n\\n\\n\\n\\nCSSI Inc. Receives Major NextGen Eng...</td>\n",
              "      <td>CSSI Inc Receives Major NextGen Engineering Co...</td>\n",
              "    </tr>\n",
              "    <tr>\n",
              "      <th>3</th>\n",
              "      <td>6440840da8cdca1ec8c5e6ff</td>\n",
              "      <td>CSSI Award</td>\n",
              "      <td>agriculture</td>\n",
              "      <td>None</td>\n",
              "      <td>None</td>\n",
              "      <td>\\n\\nFaculty &amp; staff awards - Gustavson School ...</td>\n",
              "      <td>Faculty &amp; staff awards Gustavson School of Bus...</td>\n",
              "    </tr>\n",
              "    <tr>\n",
              "      <th>4</th>\n",
              "      <td>6440840da8cdca1ec8c5e702</td>\n",
              "      <td>CSSI Award</td>\n",
              "      <td>agriculture</td>\n",
              "      <td>None</td>\n",
              "      <td>None</td>\n",
              "      <td>\\n\\n\\n\\n\\n\\n\\n\\n\\n\\n\\n\\nSECAF\\n\\n\\n\\n\\n\\n\\n\\n\\...</td>\n",
              "      <td>SECAFJoin NowLoginMy AccountSECAF ChatContact ...</td>\n",
              "    </tr>\n",
              "  </tbody>\n",
              "</table>\n",
              "</div>\n",
              "      <button class=\"colab-df-convert\" onclick=\"convertToInteractive('df-761db4a0-5e6b-4019-8696-d0e13c7b6f58')\"\n",
              "              title=\"Convert this dataframe to an interactive table.\"\n",
              "              style=\"display:none;\">\n",
              "        \n",
              "  <svg xmlns=\"http://www.w3.org/2000/svg\" height=\"24px\"viewBox=\"0 0 24 24\"\n",
              "       width=\"24px\">\n",
              "    <path d=\"M0 0h24v24H0V0z\" fill=\"none\"/>\n",
              "    <path d=\"M18.56 5.44l.94 2.06.94-2.06 2.06-.94-2.06-.94-.94-2.06-.94 2.06-2.06.94zm-11 1L8.5 8.5l.94-2.06 2.06-.94-2.06-.94L8.5 2.5l-.94 2.06-2.06.94zm10 10l.94 2.06.94-2.06 2.06-.94-2.06-.94-.94-2.06-.94 2.06-2.06.94z\"/><path d=\"M17.41 7.96l-1.37-1.37c-.4-.4-.92-.59-1.43-.59-.52 0-1.04.2-1.43.59L10.3 9.45l-7.72 7.72c-.78.78-.78 2.05 0 2.83L4 21.41c.39.39.9.59 1.41.59.51 0 1.02-.2 1.41-.59l7.78-7.78 2.81-2.81c.8-.78.8-2.07 0-2.86zM5.41 20L4 18.59l7.72-7.72 1.47 1.35L5.41 20z\"/>\n",
              "  </svg>\n",
              "      </button>\n",
              "      \n",
              "  <style>\n",
              "    .colab-df-container {\n",
              "      display:flex;\n",
              "      flex-wrap:wrap;\n",
              "      gap: 12px;\n",
              "    }\n",
              "\n",
              "    .colab-df-convert {\n",
              "      background-color: #E8F0FE;\n",
              "      border: none;\n",
              "      border-radius: 50%;\n",
              "      cursor: pointer;\n",
              "      display: none;\n",
              "      fill: #1967D2;\n",
              "      height: 32px;\n",
              "      padding: 0 0 0 0;\n",
              "      width: 32px;\n",
              "    }\n",
              "\n",
              "    .colab-df-convert:hover {\n",
              "      background-color: #E2EBFA;\n",
              "      box-shadow: 0px 1px 2px rgba(60, 64, 67, 0.3), 0px 1px 3px 1px rgba(60, 64, 67, 0.15);\n",
              "      fill: #174EA6;\n",
              "    }\n",
              "\n",
              "    [theme=dark] .colab-df-convert {\n",
              "      background-color: #3B4455;\n",
              "      fill: #D2E3FC;\n",
              "    }\n",
              "\n",
              "    [theme=dark] .colab-df-convert:hover {\n",
              "      background-color: #434B5C;\n",
              "      box-shadow: 0px 1px 3px 1px rgba(0, 0, 0, 0.15);\n",
              "      filter: drop-shadow(0px 1px 2px rgba(0, 0, 0, 0.3));\n",
              "      fill: #FFFFFF;\n",
              "    }\n",
              "  </style>\n",
              "\n",
              "      <script>\n",
              "        const buttonEl =\n",
              "          document.querySelector('#df-761db4a0-5e6b-4019-8696-d0e13c7b6f58 button.colab-df-convert');\n",
              "        buttonEl.style.display =\n",
              "          google.colab.kernel.accessAllowed ? 'block' : 'none';\n",
              "\n",
              "        async function convertToInteractive(key) {\n",
              "          const element = document.querySelector('#df-761db4a0-5e6b-4019-8696-d0e13c7b6f58');\n",
              "          const dataTable =\n",
              "            await google.colab.kernel.invokeFunction('convertToInteractive',\n",
              "                                                     [key], {});\n",
              "          if (!dataTable) return;\n",
              "\n",
              "          const docLinkHtml = 'Like what you see? Visit the ' +\n",
              "            '<a target=\"_blank\" href=https://colab.research.google.com/notebooks/data_table.ipynb>data table notebook</a>'\n",
              "            + ' to learn more about interactive tables.';\n",
              "          element.innerHTML = '';\n",
              "          dataTable['output_type'] = 'display_data';\n",
              "          await google.colab.output.renderOutput(dataTable, element);\n",
              "          const docLink = document.createElement('div');\n",
              "          docLink.innerHTML = docLinkHtml;\n",
              "          element.appendChild(docLink);\n",
              "        }\n",
              "      </script>\n",
              "    </div>\n",
              "  </div>\n",
              "  "
            ],
            "text/plain": [
              "                        _id       Award      keyword title  text  \\\n",
              "0  6440840da8cdca1ec8c5e6f7  CSSI Award  agriculture  None  None   \n",
              "1  6440840da8cdca1ec8c5e6fa  CSSI Award  agriculture  None  None   \n",
              "2  6440840da8cdca1ec8c5e6fc  CSSI Award  agriculture  None  None   \n",
              "3  6440840da8cdca1ec8c5e6ff  CSSI Award  agriculture  None  None   \n",
              "4  6440840da8cdca1ec8c5e702  CSSI Award  agriculture  None  None   \n",
              "\n",
              "                                            raw html  \\\n",
              "0  \\n\\n\\n\\n        Cyberinfrastructure for Sustai...   \n",
              "1  \\n\\n\\n\\n\\n\\n\\n\\nCSSI\\n\\n\\n\\n\\n\\n\\n\\n\\n\\n\\n\\n\\n...   \n",
              "2  \\n\\n\\n\\n\\nCSSI Inc. Receives Major NextGen Eng...   \n",
              "3  \\n\\nFaculty & staff awards - Gustavson School ...   \n",
              "4  \\n\\n\\n\\n\\n\\n\\n\\n\\n\\n\\n\\nSECAF\\n\\n\\n\\n\\n\\n\\n\\n\\...   \n",
              "\n",
              "                                          clean html  \n",
              "0   Cyberinfrastructure for Sustained Scientific ...  \n",
              "1  CSSI0 Skip to Content CSSI News Awards Fellow ...  \n",
              "2  CSSI Inc Receives Major NextGen Engineering Co...  \n",
              "3  Faculty & staff awards Gustavson School of Bus...  \n",
              "4  SECAFJoin NowLoginMy AccountSECAF ChatContact ...  "
            ]
          },
          "execution_count": 19,
          "metadata": {},
          "output_type": "execute_result"
        }
      ],
      "source": [
        "df.head()"
      ]
    },
    {
      "cell_type": "code",
      "execution_count": null,
      "metadata": {
        "id": "Zt869fLy71O5"
      },
      "outputs": [],
      "source": [
        "def findSentiment(text):\n",
        "  return TextBlob(text)"
      ]
    },
    {
      "cell_type": "code",
      "execution_count": null,
      "metadata": {
        "id": "TChEWkuMx4Fe"
      },
      "outputs": [],
      "source": [
        "df['textblob'] = df['clean html'].apply(lambda x : TextBlob(x))"
      ]
    },
    {
      "cell_type": "code",
      "execution_count": null,
      "metadata": {
        "id": "_RRzt_K7x8ZE"
      },
      "outputs": [],
      "source": [
        "df['sentiment'] = df['textblob'].apply(lambda x : x.polarity)\n",
        "df['subjectivity'] = df['textblob'].apply(lambda x : x.subjectivity)"
      ]
    },
    {
      "cell_type": "code",
      "execution_count": null,
      "metadata": {
        "colab": {
          "base_uri": "https://localhost:8080/",
          "height": 548
        },
        "id": "9iIVilzUyNzV",
        "outputId": "c3f13d58-10e9-4e46-e4a9-98a99aecbda5"
      },
      "outputs": [
        {
          "data": {
            "text/html": [
              "\n",
              "  <div id=\"df-b2bfce5d-42e0-4b40-91cd-a6bb7f3c16cb\">\n",
              "    <div class=\"colab-df-container\">\n",
              "      <div>\n",
              "<style scoped>\n",
              "    .dataframe tbody tr th:only-of-type {\n",
              "        vertical-align: middle;\n",
              "    }\n",
              "\n",
              "    .dataframe tbody tr th {\n",
              "        vertical-align: top;\n",
              "    }\n",
              "\n",
              "    .dataframe thead th {\n",
              "        text-align: right;\n",
              "    }\n",
              "</style>\n",
              "<table border=\"1\" class=\"dataframe\">\n",
              "  <thead>\n",
              "    <tr style=\"text-align: right;\">\n",
              "      <th></th>\n",
              "      <th>_id</th>\n",
              "      <th>Award</th>\n",
              "      <th>keyword</th>\n",
              "      <th>title</th>\n",
              "      <th>text</th>\n",
              "      <th>raw html</th>\n",
              "      <th>clean html</th>\n",
              "      <th>textblob</th>\n",
              "      <th>sentiment</th>\n",
              "      <th>subjectivity</th>\n",
              "    </tr>\n",
              "  </thead>\n",
              "  <tbody>\n",
              "    <tr>\n",
              "      <th>0</th>\n",
              "      <td>6440840da8cdca1ec8c5e6f7</td>\n",
              "      <td>CSSI Award</td>\n",
              "      <td>agriculture</td>\n",
              "      <td>None</td>\n",
              "      <td>None</td>\n",
              "      <td>\\n\\n\\n\\n        Cyberinfrastructure for Sustai...</td>\n",
              "      <td>Cyberinfrastructure for Sustained Scientific ...</td>\n",
              "      <td>( , C, y, b, e, r, i, n, f, r, a, s, t, r, u, ...</td>\n",
              "      <td>0.061404</td>\n",
              "      <td>0.491228</td>\n",
              "    </tr>\n",
              "    <tr>\n",
              "      <th>1</th>\n",
              "      <td>6440840da8cdca1ec8c5e6fa</td>\n",
              "      <td>CSSI Award</td>\n",
              "      <td>agriculture</td>\n",
              "      <td>None</td>\n",
              "      <td>None</td>\n",
              "      <td>\\n\\n\\n\\n\\n\\n\\n\\nCSSI\\n\\n\\n\\n\\n\\n\\n\\n\\n\\n\\n\\n\\n...</td>\n",
              "      <td>CSSI0 Skip to Content CSSI News Awards Fellow ...</td>\n",
              "      <td>(C, S, S, I, 0,  , S, k, i, p,  , t, o,  , C, ...</td>\n",
              "      <td>0.044834</td>\n",
              "      <td>0.330483</td>\n",
              "    </tr>\n",
              "    <tr>\n",
              "      <th>2</th>\n",
              "      <td>6440840da8cdca1ec8c5e6fc</td>\n",
              "      <td>CSSI Award</td>\n",
              "      <td>agriculture</td>\n",
              "      <td>None</td>\n",
              "      <td>None</td>\n",
              "      <td>\\n\\n\\n\\n\\nCSSI Inc. Receives Major NextGen Eng...</td>\n",
              "      <td>CSSI Inc Receives Major NextGen Engineering Co...</td>\n",
              "      <td>(C, S, S, I,  , I, n, c,  , R, e, c, e, i, v, ...</td>\n",
              "      <td>0.225415</td>\n",
              "      <td>0.586469</td>\n",
              "    </tr>\n",
              "    <tr>\n",
              "      <th>3</th>\n",
              "      <td>6440840da8cdca1ec8c5e6ff</td>\n",
              "      <td>CSSI Award</td>\n",
              "      <td>agriculture</td>\n",
              "      <td>None</td>\n",
              "      <td>None</td>\n",
              "      <td>\\n\\nFaculty &amp; staff awards - Gustavson School ...</td>\n",
              "      <td>Faculty &amp; staff awards Gustavson School of Bus...</td>\n",
              "      <td>(F, a, c, u, l, t, y,  , &amp;,  , s, t, a, f, f, ...</td>\n",
              "      <td>0.198893</td>\n",
              "      <td>0.401283</td>\n",
              "    </tr>\n",
              "    <tr>\n",
              "      <th>4</th>\n",
              "      <td>6440840da8cdca1ec8c5e702</td>\n",
              "      <td>CSSI Award</td>\n",
              "      <td>agriculture</td>\n",
              "      <td>None</td>\n",
              "      <td>None</td>\n",
              "      <td>\\n\\n\\n\\n\\n\\n\\n\\n\\n\\n\\n\\nSECAF\\n\\n\\n\\n\\n\\n\\n\\n\\...</td>\n",
              "      <td>SECAFJoin NowLoginMy AccountSECAF ChatContact ...</td>\n",
              "      <td>(S, E, C, A, F, J, o, i, n,  , N, o, w, L, o, ...</td>\n",
              "      <td>0.201229</td>\n",
              "      <td>0.535187</td>\n",
              "    </tr>\n",
              "  </tbody>\n",
              "</table>\n",
              "</div>\n",
              "      <button class=\"colab-df-convert\" onclick=\"convertToInteractive('df-b2bfce5d-42e0-4b40-91cd-a6bb7f3c16cb')\"\n",
              "              title=\"Convert this dataframe to an interactive table.\"\n",
              "              style=\"display:none;\">\n",
              "        \n",
              "  <svg xmlns=\"http://www.w3.org/2000/svg\" height=\"24px\"viewBox=\"0 0 24 24\"\n",
              "       width=\"24px\">\n",
              "    <path d=\"M0 0h24v24H0V0z\" fill=\"none\"/>\n",
              "    <path d=\"M18.56 5.44l.94 2.06.94-2.06 2.06-.94-2.06-.94-.94-2.06-.94 2.06-2.06.94zm-11 1L8.5 8.5l.94-2.06 2.06-.94-2.06-.94L8.5 2.5l-.94 2.06-2.06.94zm10 10l.94 2.06.94-2.06 2.06-.94-2.06-.94-.94-2.06-.94 2.06-2.06.94z\"/><path d=\"M17.41 7.96l-1.37-1.37c-.4-.4-.92-.59-1.43-.59-.52 0-1.04.2-1.43.59L10.3 9.45l-7.72 7.72c-.78.78-.78 2.05 0 2.83L4 21.41c.39.39.9.59 1.41.59.51 0 1.02-.2 1.41-.59l7.78-7.78 2.81-2.81c.8-.78.8-2.07 0-2.86zM5.41 20L4 18.59l7.72-7.72 1.47 1.35L5.41 20z\"/>\n",
              "  </svg>\n",
              "      </button>\n",
              "      \n",
              "  <style>\n",
              "    .colab-df-container {\n",
              "      display:flex;\n",
              "      flex-wrap:wrap;\n",
              "      gap: 12px;\n",
              "    }\n",
              "\n",
              "    .colab-df-convert {\n",
              "      background-color: #E8F0FE;\n",
              "      border: none;\n",
              "      border-radius: 50%;\n",
              "      cursor: pointer;\n",
              "      display: none;\n",
              "      fill: #1967D2;\n",
              "      height: 32px;\n",
              "      padding: 0 0 0 0;\n",
              "      width: 32px;\n",
              "    }\n",
              "\n",
              "    .colab-df-convert:hover {\n",
              "      background-color: #E2EBFA;\n",
              "      box-shadow: 0px 1px 2px rgba(60, 64, 67, 0.3), 0px 1px 3px 1px rgba(60, 64, 67, 0.15);\n",
              "      fill: #174EA6;\n",
              "    }\n",
              "\n",
              "    [theme=dark] .colab-df-convert {\n",
              "      background-color: #3B4455;\n",
              "      fill: #D2E3FC;\n",
              "    }\n",
              "\n",
              "    [theme=dark] .colab-df-convert:hover {\n",
              "      background-color: #434B5C;\n",
              "      box-shadow: 0px 1px 3px 1px rgba(0, 0, 0, 0.15);\n",
              "      filter: drop-shadow(0px 1px 2px rgba(0, 0, 0, 0.3));\n",
              "      fill: #FFFFFF;\n",
              "    }\n",
              "  </style>\n",
              "\n",
              "      <script>\n",
              "        const buttonEl =\n",
              "          document.querySelector('#df-b2bfce5d-42e0-4b40-91cd-a6bb7f3c16cb button.colab-df-convert');\n",
              "        buttonEl.style.display =\n",
              "          google.colab.kernel.accessAllowed ? 'block' : 'none';\n",
              "\n",
              "        async function convertToInteractive(key) {\n",
              "          const element = document.querySelector('#df-b2bfce5d-42e0-4b40-91cd-a6bb7f3c16cb');\n",
              "          const dataTable =\n",
              "            await google.colab.kernel.invokeFunction('convertToInteractive',\n",
              "                                                     [key], {});\n",
              "          if (!dataTable) return;\n",
              "\n",
              "          const docLinkHtml = 'Like what you see? Visit the ' +\n",
              "            '<a target=\"_blank\" href=https://colab.research.google.com/notebooks/data_table.ipynb>data table notebook</a>'\n",
              "            + ' to learn more about interactive tables.';\n",
              "          element.innerHTML = '';\n",
              "          dataTable['output_type'] = 'display_data';\n",
              "          await google.colab.output.renderOutput(dataTable, element);\n",
              "          const docLink = document.createElement('div');\n",
              "          docLink.innerHTML = docLinkHtml;\n",
              "          element.appendChild(docLink);\n",
              "        }\n",
              "      </script>\n",
              "    </div>\n",
              "  </div>\n",
              "  "
            ],
            "text/plain": [
              "                        _id       Award      keyword title  text  \\\n",
              "0  6440840da8cdca1ec8c5e6f7  CSSI Award  agriculture  None  None   \n",
              "1  6440840da8cdca1ec8c5e6fa  CSSI Award  agriculture  None  None   \n",
              "2  6440840da8cdca1ec8c5e6fc  CSSI Award  agriculture  None  None   \n",
              "3  6440840da8cdca1ec8c5e6ff  CSSI Award  agriculture  None  None   \n",
              "4  6440840da8cdca1ec8c5e702  CSSI Award  agriculture  None  None   \n",
              "\n",
              "                                            raw html  \\\n",
              "0  \\n\\n\\n\\n        Cyberinfrastructure for Sustai...   \n",
              "1  \\n\\n\\n\\n\\n\\n\\n\\nCSSI\\n\\n\\n\\n\\n\\n\\n\\n\\n\\n\\n\\n\\n...   \n",
              "2  \\n\\n\\n\\n\\nCSSI Inc. Receives Major NextGen Eng...   \n",
              "3  \\n\\nFaculty & staff awards - Gustavson School ...   \n",
              "4  \\n\\n\\n\\n\\n\\n\\n\\n\\n\\n\\n\\nSECAF\\n\\n\\n\\n\\n\\n\\n\\n\\...   \n",
              "\n",
              "                                          clean html  \\\n",
              "0   Cyberinfrastructure for Sustained Scientific ...   \n",
              "1  CSSI0 Skip to Content CSSI News Awards Fellow ...   \n",
              "2  CSSI Inc Receives Major NextGen Engineering Co...   \n",
              "3  Faculty & staff awards Gustavson School of Bus...   \n",
              "4  SECAFJoin NowLoginMy AccountSECAF ChatContact ...   \n",
              "\n",
              "                                            textblob  sentiment  subjectivity  \n",
              "0  ( , C, y, b, e, r, i, n, f, r, a, s, t, r, u, ...   0.061404      0.491228  \n",
              "1  (C, S, S, I, 0,  , S, k, i, p,  , t, o,  , C, ...   0.044834      0.330483  \n",
              "2  (C, S, S, I,  , I, n, c,  , R, e, c, e, i, v, ...   0.225415      0.586469  \n",
              "3  (F, a, c, u, l, t, y,  , &,  , s, t, a, f, f, ...   0.198893      0.401283  \n",
              "4  (S, E, C, A, F, J, o, i, n,  , N, o, w, L, o, ...   0.201229      0.535187  "
            ]
          },
          "execution_count": 28,
          "metadata": {},
          "output_type": "execute_result"
        }
      ],
      "source": [
        "df.head()"
      ]
    },
    {
      "cell_type": "code",
      "execution_count": null,
      "metadata": {
        "id": "L5SVc7QH8CJo"
      },
      "outputs": [],
      "source": [
        "df['sentiment'] = df['clean html'].apply(lambda x : TextBlob(x).polarity)\n",
        "df['subjectivity'] = df['clean html'].apply(lambda x : TextBlob(x).subjectivity)"
      ]
    },
    {
      "cell_type": "code",
      "execution_count": null,
      "metadata": {
        "id": "7mCQQywY8yQc"
      },
      "outputs": [],
      "source": [
        "stop_words = stopwords.words('english')\n",
        "stop_words.extend(['from', 'subject', 're', 'edu', 'use', 'https'])"
      ]
    },
    {
      "cell_type": "code",
      "execution_count": null,
      "metadata": {
        "id": "QH3cdBuwTwbu"
      },
      "outputs": [],
      "source": [
        "#Function removes punctuations from topics in long_string.\n",
        "def sent_to_words(sentences):\n",
        "    for sentence in sentences:\n",
        "        # deacc=True removes punctuations\n",
        "        yield(gensim.utils.simple_preprocess(str(sentence), deacc=True))\n",
        "\n",
        "#Function removes stop_words from long_string, returns list of strings in long_string.\n",
        "def remove_stopwords(texts):\n",
        "    return [[word for word in simple_preprocess(str(doc)) \n",
        "             if word not in stop_words] for doc in texts]"
      ]
    },
    {
      "cell_type": "code",
      "execution_count": null,
      "metadata": {
        "id": "EKEmbqRS_-13"
      },
      "outputs": [],
      "source": [
        "html_data = df['clean html'].tolist()\n",
        "html_words = list(sent_to_words(html_data))\n",
        "html_words = remove_stopwords(html_words)"
      ]
    },
    {
      "cell_type": "code",
      "execution_count": null,
      "metadata": {
        "id": "q82KD89XBTnF"
      },
      "outputs": [],
      "source": [
        "df['tokens'] = html_words"
      ]
    },
    {
      "cell_type": "code",
      "execution_count": null,
      "metadata": {
        "colab": {
          "base_uri": "https://localhost:8080/",
          "height": 337
        },
        "id": "_8UP2bbtCCZO",
        "outputId": "429c8587-b505-412a-fdd8-9bc6c3ac8110"
      },
      "outputs": [
        {
          "data": {
            "text/html": [
              "\n",
              "  <div id=\"df-70c668e5-6b85-4bec-a39a-6025e55b2053\">\n",
              "    <div class=\"colab-df-container\">\n",
              "      <div>\n",
              "<style scoped>\n",
              "    .dataframe tbody tr th:only-of-type {\n",
              "        vertical-align: middle;\n",
              "    }\n",
              "\n",
              "    .dataframe tbody tr th {\n",
              "        vertical-align: top;\n",
              "    }\n",
              "\n",
              "    .dataframe thead th {\n",
              "        text-align: right;\n",
              "    }\n",
              "</style>\n",
              "<table border=\"1\" class=\"dataframe\">\n",
              "  <thead>\n",
              "    <tr style=\"text-align: right;\">\n",
              "      <th></th>\n",
              "      <th>_id</th>\n",
              "      <th>Award</th>\n",
              "      <th>keyword</th>\n",
              "      <th>title</th>\n",
              "      <th>text</th>\n",
              "      <th>raw html</th>\n",
              "      <th>clean html</th>\n",
              "      <th>tokens</th>\n",
              "    </tr>\n",
              "  </thead>\n",
              "  <tbody>\n",
              "    <tr>\n",
              "      <th>0</th>\n",
              "      <td>6440840da8cdca1ec8c5e6f7</td>\n",
              "      <td>CSSI Award</td>\n",
              "      <td>agriculture</td>\n",
              "      <td>None</td>\n",
              "      <td>None</td>\n",
              "      <td>\\n\\n\\n\\n        Cyberinfrastructure for Sustai...</td>\n",
              "      <td>Cyberinfrastructure for Sustained Scientific ...</td>\n",
              "      <td>[sustained, scientific, innovation, cssi, la, ...</td>\n",
              "    </tr>\n",
              "    <tr>\n",
              "      <th>1</th>\n",
              "      <td>6440840da8cdca1ec8c5e6fa</td>\n",
              "      <td>CSSI Award</td>\n",
              "      <td>agriculture</td>\n",
              "      <td>None</td>\n",
              "      <td>None</td>\n",
              "      <td>\\n\\n\\n\\n\\n\\n\\n\\nCSSI\\n\\n\\n\\n\\n\\n\\n\\n\\n\\n\\n\\n\\n...</td>\n",
              "      <td>CSSI0 Skip to Content CSSI News Awards Fellow ...</td>\n",
              "      <td>[cssi, skip, content, cssi, news, awards, fell...</td>\n",
              "    </tr>\n",
              "    <tr>\n",
              "      <th>2</th>\n",
              "      <td>6440840da8cdca1ec8c5e6fc</td>\n",
              "      <td>CSSI Award</td>\n",
              "      <td>agriculture</td>\n",
              "      <td>None</td>\n",
              "      <td>None</td>\n",
              "      <td>\\n\\n\\n\\n\\nCSSI Inc. Receives Major NextGen Eng...</td>\n",
              "      <td>CSSI Inc Receives Major NextGen Engineering Co...</td>\n",
              "      <td>[cssi, inc, receives, major, nextgen, engineer...</td>\n",
              "    </tr>\n",
              "    <tr>\n",
              "      <th>3</th>\n",
              "      <td>6440840da8cdca1ec8c5e6ff</td>\n",
              "      <td>CSSI Award</td>\n",
              "      <td>agriculture</td>\n",
              "      <td>None</td>\n",
              "      <td>None</td>\n",
              "      <td>\\n\\nFaculty &amp; staff awards - Gustavson School ...</td>\n",
              "      <td>Faculty &amp; staff awards Gustavson School of Bus...</td>\n",
              "      <td>[faculty, staff, awards, gustavson, school, bu...</td>\n",
              "    </tr>\n",
              "    <tr>\n",
              "      <th>4</th>\n",
              "      <td>6440840da8cdca1ec8c5e702</td>\n",
              "      <td>CSSI Award</td>\n",
              "      <td>agriculture</td>\n",
              "      <td>None</td>\n",
              "      <td>None</td>\n",
              "      <td>\\n\\n\\n\\n\\n\\n\\n\\n\\n\\n\\n\\nSECAF\\n\\n\\n\\n\\n\\n\\n\\n\\...</td>\n",
              "      <td>SECAFJoin NowLoginMy AccountSECAF ChatContact ...</td>\n",
              "      <td>[secafjoin, nowloginmy, accountsecaf, chatcont...</td>\n",
              "    </tr>\n",
              "  </tbody>\n",
              "</table>\n",
              "</div>\n",
              "      <button class=\"colab-df-convert\" onclick=\"convertToInteractive('df-70c668e5-6b85-4bec-a39a-6025e55b2053')\"\n",
              "              title=\"Convert this dataframe to an interactive table.\"\n",
              "              style=\"display:none;\">\n",
              "        \n",
              "  <svg xmlns=\"http://www.w3.org/2000/svg\" height=\"24px\"viewBox=\"0 0 24 24\"\n",
              "       width=\"24px\">\n",
              "    <path d=\"M0 0h24v24H0V0z\" fill=\"none\"/>\n",
              "    <path d=\"M18.56 5.44l.94 2.06.94-2.06 2.06-.94-2.06-.94-.94-2.06-.94 2.06-2.06.94zm-11 1L8.5 8.5l.94-2.06 2.06-.94-2.06-.94L8.5 2.5l-.94 2.06-2.06.94zm10 10l.94 2.06.94-2.06 2.06-.94-2.06-.94-.94-2.06-.94 2.06-2.06.94z\"/><path d=\"M17.41 7.96l-1.37-1.37c-.4-.4-.92-.59-1.43-.59-.52 0-1.04.2-1.43.59L10.3 9.45l-7.72 7.72c-.78.78-.78 2.05 0 2.83L4 21.41c.39.39.9.59 1.41.59.51 0 1.02-.2 1.41-.59l7.78-7.78 2.81-2.81c.8-.78.8-2.07 0-2.86zM5.41 20L4 18.59l7.72-7.72 1.47 1.35L5.41 20z\"/>\n",
              "  </svg>\n",
              "      </button>\n",
              "      \n",
              "  <style>\n",
              "    .colab-df-container {\n",
              "      display:flex;\n",
              "      flex-wrap:wrap;\n",
              "      gap: 12px;\n",
              "    }\n",
              "\n",
              "    .colab-df-convert {\n",
              "      background-color: #E8F0FE;\n",
              "      border: none;\n",
              "      border-radius: 50%;\n",
              "      cursor: pointer;\n",
              "      display: none;\n",
              "      fill: #1967D2;\n",
              "      height: 32px;\n",
              "      padding: 0 0 0 0;\n",
              "      width: 32px;\n",
              "    }\n",
              "\n",
              "    .colab-df-convert:hover {\n",
              "      background-color: #E2EBFA;\n",
              "      box-shadow: 0px 1px 2px rgba(60, 64, 67, 0.3), 0px 1px 3px 1px rgba(60, 64, 67, 0.15);\n",
              "      fill: #174EA6;\n",
              "    }\n",
              "\n",
              "    [theme=dark] .colab-df-convert {\n",
              "      background-color: #3B4455;\n",
              "      fill: #D2E3FC;\n",
              "    }\n",
              "\n",
              "    [theme=dark] .colab-df-convert:hover {\n",
              "      background-color: #434B5C;\n",
              "      box-shadow: 0px 1px 3px 1px rgba(0, 0, 0, 0.15);\n",
              "      filter: drop-shadow(0px 1px 2px rgba(0, 0, 0, 0.3));\n",
              "      fill: #FFFFFF;\n",
              "    }\n",
              "  </style>\n",
              "\n",
              "      <script>\n",
              "        const buttonEl =\n",
              "          document.querySelector('#df-70c668e5-6b85-4bec-a39a-6025e55b2053 button.colab-df-convert');\n",
              "        buttonEl.style.display =\n",
              "          google.colab.kernel.accessAllowed ? 'block' : 'none';\n",
              "\n",
              "        async function convertToInteractive(key) {\n",
              "          const element = document.querySelector('#df-70c668e5-6b85-4bec-a39a-6025e55b2053');\n",
              "          const dataTable =\n",
              "            await google.colab.kernel.invokeFunction('convertToInteractive',\n",
              "                                                     [key], {});\n",
              "          if (!dataTable) return;\n",
              "\n",
              "          const docLinkHtml = 'Like what you see? Visit the ' +\n",
              "            '<a target=\"_blank\" href=https://colab.research.google.com/notebooks/data_table.ipynb>data table notebook</a>'\n",
              "            + ' to learn more about interactive tables.';\n",
              "          element.innerHTML = '';\n",
              "          dataTable['output_type'] = 'display_data';\n",
              "          await google.colab.output.renderOutput(dataTable, element);\n",
              "          const docLink = document.createElement('div');\n",
              "          docLink.innerHTML = docLinkHtml;\n",
              "          element.appendChild(docLink);\n",
              "        }\n",
              "      </script>\n",
              "    </div>\n",
              "  </div>\n",
              "  "
            ],
            "text/plain": [
              "                        _id       Award      keyword title  text  \\\n",
              "0  6440840da8cdca1ec8c5e6f7  CSSI Award  agriculture  None  None   \n",
              "1  6440840da8cdca1ec8c5e6fa  CSSI Award  agriculture  None  None   \n",
              "2  6440840da8cdca1ec8c5e6fc  CSSI Award  agriculture  None  None   \n",
              "3  6440840da8cdca1ec8c5e6ff  CSSI Award  agriculture  None  None   \n",
              "4  6440840da8cdca1ec8c5e702  CSSI Award  agriculture  None  None   \n",
              "\n",
              "                                            raw html  \\\n",
              "0  \\n\\n\\n\\n        Cyberinfrastructure for Sustai...   \n",
              "1  \\n\\n\\n\\n\\n\\n\\n\\nCSSI\\n\\n\\n\\n\\n\\n\\n\\n\\n\\n\\n\\n\\n...   \n",
              "2  \\n\\n\\n\\n\\nCSSI Inc. Receives Major NextGen Eng...   \n",
              "3  \\n\\nFaculty & staff awards - Gustavson School ...   \n",
              "4  \\n\\n\\n\\n\\n\\n\\n\\n\\n\\n\\n\\nSECAF\\n\\n\\n\\n\\n\\n\\n\\n\\...   \n",
              "\n",
              "                                          clean html  \\\n",
              "0   Cyberinfrastructure for Sustained Scientific ...   \n",
              "1  CSSI0 Skip to Content CSSI News Awards Fellow ...   \n",
              "2  CSSI Inc Receives Major NextGen Engineering Co...   \n",
              "3  Faculty & staff awards Gustavson School of Bus...   \n",
              "4  SECAFJoin NowLoginMy AccountSECAF ChatContact ...   \n",
              "\n",
              "                                              tokens  \n",
              "0  [sustained, scientific, innovation, cssi, la, ...  \n",
              "1  [cssi, skip, content, cssi, news, awards, fell...  \n",
              "2  [cssi, inc, receives, major, nextgen, engineer...  \n",
              "3  [faculty, staff, awards, gustavson, school, bu...  \n",
              "4  [secafjoin, nowloginmy, accountsecaf, chatcont...  "
            ]
          },
          "execution_count": 74,
          "metadata": {},
          "output_type": "execute_result"
        }
      ],
      "source": [
        "df.head()"
      ]
    },
    {
      "cell_type": "code",
      "execution_count": null,
      "metadata": {
        "id": "ng8Vf3RQ-l0G"
      },
      "outputs": [],
      "source": [
        "data_dict = df.to_dict('records')"
      ]
    },
    {
      "cell_type": "code",
      "execution_count": null,
      "metadata": {
        "colab": {
          "base_uri": "https://localhost:8080/"
        },
        "id": "e_Mr9BIBEtIX",
        "outputId": "3716108d-3af6-4786-dc87-7a431a488cc3"
      },
      "outputs": [
        {
          "name": "stderr",
          "output_type": "stream",
          "text": [
            "2023-04-21 05:35:50,103| ERROR   | Could not establish connection from local ('127.0.0.1', 38673) to remote ('127.0.0.1', 27017) side of the tunnel: open new channel ssh error: SSH session not active\n",
            "ERROR:sshtunnel.SSHTunnelForwarder:Could not establish connection from local ('127.0.0.1', 38673) to remote ('127.0.0.1', 27017) side of the tunnel: open new channel ssh error: SSH session not active\n"
          ]
        }
      ],
      "source": [
        "updates = []\n",
        "for _, row in df.iterrows():\n",
        "    updates.append( UpdateOne({'_id': row.get('_id')}, {'$set': {'sentiment': row.get('sentiment'), 'subjectivity': row.get('subjectivity'), 'clean html': row.get('clean html'), 'tokens' : row.get('tokens')}}, upsert=False))\n",
        "    #updates.append( UpdateOne({'_id': row.get('_id')}, {'$set': {'sentiment': row.get('sentiment'), 'subjectivity': row.get('subjectivity'), 'clean html': row.get('clean html'), 'lemma tokens' : row.get('lemma_tokens')}}, upsert=False))"
      ]
    },
    {
      "cell_type": "code",
      "execution_count": null,
      "metadata": {
        "id": "z_2bQaFyGfIW"
      },
      "outputs": [],
      "source": [
        "db_clean.bulk_write(updates)"
      ]
    },
    {
      "cell_type": "code",
      "execution_count": null,
      "metadata": {
        "colab": {
          "base_uri": "https://localhost:8080/"
        },
        "id": "iPQfhBtB81Xv",
        "outputId": "24e908de-dac6-47af-aed6-0b911e3ad185"
      },
      "outputs": [
        {
          "name": "stderr",
          "output_type": "stream",
          "text": [
            "2023-04-21 05:54:09,408| ERROR   | Could not establish connection from local ('127.0.0.1', 38673) to remote ('127.0.0.1', 27017) side of the tunnel: open new channel ssh error: SSH session not active\n",
            "ERROR:sshtunnel.SSHTunnelForwarder:Could not establish connection from local ('127.0.0.1', 38673) to remote ('127.0.0.1', 27017) side of the tunnel: open new channel ssh error: SSH session not active\n"
          ]
        },
        {
          "name": "stdout",
          "output_type": "stream",
          "text": [
            "                        _id       Award     keyword title  text  \\\n",
            "0  64407ef1a64b00c43c4e4ba2  CSSI Award  assessment  None  None   \n",
            "\n",
            "                                            raw html  \\\n",
            "0  \\n\\n\\n\\n\\n\\n\\n\\n\\n\\n\\n\\n\\n\\n\\n\\nPre-Award Info...   \n",
            "\n",
            "                                          clean html  sentiment  subjectivity  \\\n",
            "0  Pre-Award Information - Research and Sponsored...   0.033929      0.231199   \n",
            "\n",
            "                                              tokens  \n",
            "0  [pre-award, information, research, sponsored, ...  \n"
          ]
        }
      ],
      "source": [
        "id = \"64407ef1a64b00c43c4e4ba2\"\n",
        "test = db_clean.find({'_id' : ObjectId(id)})\n",
        "\n",
        "test_df = pd.DataFrame(list(test))\n",
        "print(test_df)"
      ]
    },
    {
      "cell_type": "code",
      "execution_count": null,
      "metadata": {
        "colab": {
          "base_uri": "https://localhost:8080/"
        },
        "id": "jNFYKXqaDX_z",
        "outputId": "828b5351-a92c-4f55-ae15-8c1b2de8f301"
      },
      "outputs": [
        {
          "name": "stdout",
          "output_type": "stream",
          "text": [
            "                        _id       Award     keyword title  text  \\\n",
            "0  64407ef1a64b00c43c4e4ba1  CSSI Award  assessment  None  None   \n",
            "\n",
            "                                            raw html  \n",
            "0  \\n\\n\\n\\n\\n\\n\\n\\n\\n\\n\\n\\n\\n\\n\\n\\n\\n\\n\\n\\n\\n\\n\\n...  \n"
          ]
        }
      ],
      "source": [
        "id = \"64407ef1a64b00c43c4e4ba1\"\n",
        "test = db_clean.find({'_id' : ObjectId(id)})\n",
        "\n",
        "test_df = pd.DataFrame(list(test))\n",
        "print(test_df)"
      ]
    },
    {
      "cell_type": "code",
      "execution_count": null,
      "metadata": {
        "id": "5zdp_IAEEpmq"
      },
      "outputs": [],
      "source": [
        "session.stop()"
      ]
    },
    {
      "cell_type": "code",
      "execution_count": null,
      "metadata": {
        "id": "Yik2kZVaFKOR"
      },
      "outputs": [],
      "source": []
    }
  ],
  "metadata": {
    "colab": {
      "provenance": []
    },
    "gpuClass": "standard",
    "kernelspec": {
      "display_name": "Python 3",
      "name": "python3"
    },
    "language_info": {
      "name": "python"
    }
  },
  "nbformat": 4,
  "nbformat_minor": 0
}