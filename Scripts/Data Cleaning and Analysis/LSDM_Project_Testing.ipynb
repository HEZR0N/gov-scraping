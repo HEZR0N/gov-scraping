{
  "nbformat": 4,
  "nbformat_minor": 0,
  "metadata": {
    "colab": {
      "provenance": []
    },
    "kernelspec": {
      "name": "python3",
      "display_name": "Python 3"
    },
    "language_info": {
      "name": "python"
    }
  },
  "cells": [
    {
      "cell_type": "code",
      "source": [
        "!pip install pymongo\n",
        "!pip install ssh-pymongo"
      ],
      "metadata": {
        "colab": {
          "base_uri": "https://localhost:8080/"
        },
        "id": "-MCiqMqa-yMm",
        "outputId": "89da766f-4f96-4bef-8116-6f2a91b2a31f"
      },
      "execution_count": null,
      "outputs": [
        {
          "output_type": "stream",
          "name": "stdout",
          "text": [
            "Looking in indexes: https://pypi.org/simple, https://us-python.pkg.dev/colab-wheels/public/simple/\n",
            "Collecting pymongo\n",
            "  Downloading pymongo-4.3.3-cp39-cp39-manylinux_2_17_x86_64.manylinux2014_x86_64.whl (492 kB)\n",
            "\u001b[2K     \u001b[90m━━━━━━━━━━━━━━━━━━━━━━━━━━━━━━━━━━━━━━━\u001b[0m \u001b[32m492.1/492.1 kB\u001b[0m \u001b[31m5.0 MB/s\u001b[0m eta \u001b[36m0:00:00\u001b[0m\n",
            "\u001b[?25hCollecting dnspython<3.0.0,>=1.16.0\n",
            "  Downloading dnspython-2.3.0-py3-none-any.whl (283 kB)\n",
            "\u001b[2K     \u001b[90m━━━━━━━━━━━━━━━━━━━━━━━━━━━━━━━━━━━━━━━\u001b[0m \u001b[32m283.7/283.7 kB\u001b[0m \u001b[31m8.5 MB/s\u001b[0m eta \u001b[36m0:00:00\u001b[0m\n",
            "\u001b[?25hInstalling collected packages: dnspython, pymongo\n",
            "Successfully installed dnspython-2.3.0 pymongo-4.3.3\n",
            "Looking in indexes: https://pypi.org/simple, https://us-python.pkg.dev/colab-wheels/public/simple/\n",
            "Collecting ssh-pymongo\n",
            "  Downloading ssh-pymongo-1.0.4.tar.gz (2.2 kB)\n",
            "  Preparing metadata (setup.py) ... \u001b[?25l\u001b[?25hdone\n",
            "Requirement already satisfied: pymongo in /usr/local/lib/python3.9/dist-packages (from ssh-pymongo) (4.3.3)\n",
            "Collecting sshtunnel\n",
            "  Downloading sshtunnel-0.4.0-py2.py3-none-any.whl (24 kB)\n",
            "Requirement already satisfied: dnspython<3.0.0,>=1.16.0 in /usr/local/lib/python3.9/dist-packages (from pymongo->ssh-pymongo) (2.3.0)\n",
            "Collecting paramiko>=2.7.2\n",
            "  Downloading paramiko-3.1.0-py3-none-any.whl (211 kB)\n",
            "\u001b[2K     \u001b[90m━━━━━━━━━━━━━━━━━━━━━━━━━━━━━━━━━━━━━━\u001b[0m \u001b[32m211.2/211.2 kB\u001b[0m \u001b[31m11.5 MB/s\u001b[0m eta \u001b[36m0:00:00\u001b[0m\n",
            "\u001b[?25hCollecting bcrypt>=3.2\n",
            "  Downloading bcrypt-4.0.1-cp36-abi3-manylinux_2_28_x86_64.whl (593 kB)\n",
            "\u001b[2K     \u001b[90m━━━━━━━━━━━━━━━━━━━━━━━━━━━━━━━━━━━━━━\u001b[0m \u001b[32m593.7/593.7 kB\u001b[0m \u001b[31m13.3 MB/s\u001b[0m eta \u001b[36m0:00:00\u001b[0m\n",
            "\u001b[?25hCollecting pynacl>=1.5\n",
            "  Downloading PyNaCl-1.5.0-cp36-abi3-manylinux_2_17_x86_64.manylinux2014_x86_64.manylinux_2_24_x86_64.whl (856 kB)\n",
            "\u001b[2K     \u001b[90m━━━━━━━━━━━━━━━━━━━━━━━━━━━━━━━━━━━━━━\u001b[0m \u001b[32m856.7/856.7 kB\u001b[0m \u001b[31m29.5 MB/s\u001b[0m eta \u001b[36m0:00:00\u001b[0m\n",
            "\u001b[?25hRequirement already satisfied: cryptography>=3.3 in /usr/local/lib/python3.9/dist-packages (from paramiko>=2.7.2->sshtunnel->ssh-pymongo) (40.0.2)\n",
            "Requirement already satisfied: cffi>=1.12 in /usr/local/lib/python3.9/dist-packages (from cryptography>=3.3->paramiko>=2.7.2->sshtunnel->ssh-pymongo) (1.15.1)\n",
            "Requirement already satisfied: pycparser in /usr/local/lib/python3.9/dist-packages (from cffi>=1.12->cryptography>=3.3->paramiko>=2.7.2->sshtunnel->ssh-pymongo) (2.21)\n",
            "Building wheels for collected packages: ssh-pymongo\n",
            "  Building wheel for ssh-pymongo (setup.py) ... \u001b[?25l\u001b[?25hdone\n",
            "  Created wheel for ssh-pymongo: filename=ssh_pymongo-1.0.4-py3-none-any.whl size=2566 sha256=e87379b453317d08da8f110bb6ed357d925026a46d2267aa1265a25cea0bd3ba\n",
            "  Stored in directory: /root/.cache/pip/wheels/12/99/31/a393587ba555bec615b1e999418b82cf3eec0e5338e66bcdae\n",
            "Successfully built ssh-pymongo\n",
            "Installing collected packages: bcrypt, pynacl, paramiko, sshtunnel, ssh-pymongo\n",
            "Successfully installed bcrypt-4.0.1 paramiko-3.1.0 pynacl-1.5.0 ssh-pymongo-1.0.4 sshtunnel-0.4.0\n"
          ]
        }
      ]
    },
    {
      "cell_type": "code",
      "execution_count": null,
      "metadata": {
        "id": "on_6BTcG-gUN"
      },
      "outputs": [],
      "source": [
        "from pymongo import UpdateOne\n",
        "import pprint\n",
        "from ssh_pymongo import MongoSession"
      ]
    },
    {
      "cell_type": "code",
      "source": [
        "MONGO_HOST = \"136.51.3.69\"\n",
        "MONGO_DB = \"local\"\n",
        "MONGO_USER = \"jeff\"\n",
        "MONGO_PASS = \"swimmer-tassel-everyone\"\n",
        "MONGO_PORT = 2222\n",
        "\n",
        "session = MongoSession(MONGO_HOST,\n",
        "    port=MONGO_PORT,\n",
        "    user=MONGO_USER,\n",
        "    password=MONGO_PASS,\n",
        "    uri='mongodb:/136.51.3.69:2222'\n",
        ")"
      ],
      "metadata": {
        "id": "mv2nxrSB-rCC"
      },
      "execution_count": null,
      "outputs": []
    },
    {
      "cell_type": "code",
      "source": [
        "collection_names = ['DIBBSAward2023-04-13', 'DIBBSAward2023-04-15', 'CICIAward2023-04-10', 'CSSIAward2023-04-16']\n",
        "curCollection = 'CICIAward2023-04-10'\n",
        "\n",
        "local = session.connection['local']\n",
        "db = local[curCollection]"
      ],
      "metadata": {
        "id": "48mwfIPOGymB"
      },
      "execution_count": null,
      "outputs": []
    },
    {
      "cell_type": "code",
      "source": [
        "oneDoc = db.find_one({'raw html': ''})\n",
        "pprint.pprint(oneDoc)\n",
        "#print(client.list_collection_names())"
      ],
      "metadata": {
        "colab": {
          "base_uri": "https://localhost:8080/"
        },
        "id": "KP1VVRnGE2jI",
        "outputId": "3584af1d-faa8-4e55-f193-9231eb589f18"
      },
      "execution_count": null,
      "outputs": [
        {
          "output_type": "stream",
          "name": "stdout",
          "text": [
            "{'Award': 'CSSI Award',\n",
            " '_id': ObjectId('64407ef1a64b00c43c4e4ba4'),\n",
            " 'keyword': 'assessment',\n",
            " 'raw html': '',\n",
            " 'text': 'None',\n",
            " 'title': 'None'}\n"
          ]
        }
      ]
    },
    {
      "cell_type": "markdown",
      "source": [
        "Potential no-no files to clean:\n",
        "\n",
        "\"\\n403 Forbidden\\n\\n403 Forbidden\\nnginx\\n\\n\\n\"\n",
        "\n",
        "\"\" (empty)\n",
        "\n",
        "\"\\n\\n403 Forbidden\\n\\nForbidden\\nYou don't have permission to access this resource.\\n\\n\"\n",
        "\n",
        "\"\\n\\n\\nAccess denied\\n\\n\\n\\n\\n\\n\\n\\n\\n\\n\\n\\n\\nAccess denied\\nError code 1020\\n\\n\\nYou do not have access to www.indeed.com.\n",
        "\n",
        "Sufficiently small files (usually some form of forbidden or permission denied)"
      ],
      "metadata": {
        "id": "2T3xGIBV6c_h"
      }
    },
    {
      "cell_type": "code",
      "source": [
        "findEmpty = list(db.find(\n",
        "    {'raw html' : ''}\n",
        "))\n",
        "\n",
        "print(len(findEmpty))"
      ],
      "metadata": {
        "colab": {
          "base_uri": "https://localhost:8080/"
        },
        "id": "OanvY2Hdj6Wd",
        "outputId": "50b61952-e6b1-4986-e3ff-5b8a5c4c15da"
      },
      "execution_count": null,
      "outputs": [
        {
          "output_type": "stream",
          "name": "stdout",
          "text": [
            "7540\n"
          ]
        }
      ]
    },
    {
      "cell_type": "code",
      "source": [
        "findPageIssue = list(db.find(\n",
        "    {'raw html' : { '$regex' : 'can\\'t find the page', '$options' : 'i'}}   \n",
        "))\n",
        "\n",
        "print(len(findPageIssue))\n",
        "pprint.pprint(findPageIssue[60])"
      ],
      "metadata": {
        "colab": {
          "base_uri": "https://localhost:8080/"
        },
        "id": "iiG6BUfPBhee",
        "outputId": "a0749f04-2424-4dd6-891c-68f71de3c740"
      },
      "execution_count": null,
      "outputs": [
        {
          "output_type": "stream",
          "name": "stdout",
          "text": [
            "104\n",
            "{'Award': 'CSSI Award',\n",
            " '_id': ObjectId('64408557b8b36ef31f9a7b29'),\n",
            " 'keyword': 'digital',\n",
            " 'raw html': '\\n'\n",
            "             '\\n'\n",
            "             '\\n'\n",
            "             '\\n'\n",
            "             '\\n'\n",
            "             '\\n'\n",
            "             'CATÓLICA-LISBON Careers & Talent Office - careerNETwork\\n'\n",
            "             '\\n'\n",
            "             '\\n'\n",
            "             '\\n'\n",
            "             '\\n'\n",
            "             '\\n'\n",
            "             '\\n'\n",
            "             '\\n'\n",
            "             '\\n'\n",
            "             '\\n'\n",
            "             '\\n'\n",
            "             '\\n'\n",
            "             '\\n'\n",
            "             'Skip to content\\n'\n",
            "             'Skip to main menu\\n'\n",
            "             'Skip to secondary menu\\n'\n",
            "             '\\n'\n",
            "             '\\n'\n",
            "             '\\n'\n",
            "             '\\n'\n",
            "             '\\n'\n",
            "             '\\n'\n",
            "             '\\n'\n",
            "             '\\n'\n",
            "             '\\n'\n",
            "             '\\n'\n",
            "             '\\n'\n",
            "             '\\n'\n",
            "             'Accessibility Mode: Off use this link to improve screen reader '\n",
            "             'compatibility. \\n'\n",
            "             '\\n'\n",
            "             '\\n'\n",
            "             '\\n'\n",
            "             '\\n'\n",
            "             '\\n'\n",
            "             '\\n'\n",
            "             '\\n'\n",
            "             '\\n'\n",
            "             '\\n'\n",
            "             '\\n'\n",
            "             '\\n'\n",
            "             \"Sorry! We can't find the page you're looking for.\\n\"\n",
            "             \"No one likes to be lost in space, so let's get you back into \"\n",
            "             'orbit.\\n'\n",
            "             '\\n'\n",
            "             '\\n'\n",
            "             '\\n'\n",
            "             '\\n'\n",
            "             '\\n'\n",
            "             '\\n'\n",
            "             '\\n'\n",
            "             '\\n'\n",
            "             '\\n'\n",
            "             '\\n'\n",
            "             '\\n'\n",
            "             '\\n'\n",
            "             '\\n'\n",
            "             'Privacy Policy | Terms of Use\\n'\n",
            "             '\\n'\n",
            "             '\\n'\n",
            "             '\\n'\n",
            "             '\\n'\n",
            "             '\\n'\n",
            "             '\\n'\n",
            "             '\\n'\n",
            "             '\\n',\n",
            " 'text': 'None',\n",
            " 'title': 'None'}\n"
          ]
        }
      ]
    },
    {
      "cell_type": "code",
      "source": [
        "findForbidden = list(db.find(\n",
        "    {'raw html' : { '$regex' : '(403.*error)|(403.*forbidden)', '$options' : 'i'}}   \n",
        "))\n",
        "\n",
        "print(len(findForbidden))\n",
        "pprint.pprint(findForbidden[60])"
      ],
      "metadata": {
        "colab": {
          "base_uri": "https://localhost:8080/"
        },
        "id": "yw7KXr-Vlkad",
        "outputId": "14a5cfaf-d7d3-4a94-e58f-37854b2d610e"
      },
      "execution_count": null,
      "outputs": [
        {
          "output_type": "stream",
          "name": "stdout",
          "text": [
            "2040\n",
            "{'Award': 'CSSI Award',\n",
            " '_id': ObjectId('64407ef1a64b00c43c4e4f2f'),\n",
            " 'keyword': 'atmospheric',\n",
            " 'raw html': '403 - Forbidden | Access to this page is forbidden.\\n',\n",
            " 'text': 'None',\n",
            " 'title': 'None'}\n"
          ]
        }
      ]
    },
    {
      "cell_type": "code",
      "source": [
        "findAccessDenied = list(db.find(\n",
        "    {'raw html' : { '$regex' : 'access denied', '$options' : 'i' }}   \n",
        "))\n",
        "\n",
        "print(len(findAccessDenied))\n",
        "pprint.pprint(findAccessDenied[300])"
      ],
      "metadata": {
        "colab": {
          "base_uri": "https://localhost:8080/"
        },
        "id": "KBxU9GvSmtWj",
        "outputId": "2c3e7237-c0e8-4fe4-dfa6-38ced62141de"
      },
      "execution_count": null,
      "outputs": [
        {
          "output_type": "stream",
          "name": "stdout",
          "text": [
            "440\n",
            "{'Award': 'CSSI Award',\n",
            " '_id': ObjectId('64408557b8b36ef31f9a869b'),\n",
            " 'keyword': 'ice',\n",
            " 'raw html': '      StackPath      Access Denied  www.militaryaerospace.com is '\n",
            "             'using a security service for protection against online attacks. '\n",
            "             'An action has triggered the service and blocked your request.   '\n",
            "             'Please try again in a few minutes. If the issue persist, please '\n",
            "             'contact the site owner for further assistance.     Reference ID '\n",
            "             'IP Address Date and Time     a91aba0902d1700ae14235cc1614bbdd '\n",
            "             '70.120.4.153 04/16/2023 12:34 AM UTC      Protected by '\n",
            "             'StackPath     ',\n",
            " 'text': 'None',\n",
            " 'title': 'None'}\n"
          ]
        }
      ]
    },
    {
      "cell_type": "code",
      "source": [
        "findJSDisabled= list(db.find(\n",
        "    {'raw html' : { '$regex' : 'Javascript', '$options' : 'i' }}   \n",
        "))\n",
        "\n",
        "print(len(findJSDisabled))\n",
        "pprint.pprint(findJSDisabled[0])"
      ],
      "metadata": {
        "colab": {
          "base_uri": "https://localhost:8080/"
        },
        "id": "O_ocXSsA61u-",
        "outputId": "e58bc279-e808-473a-bab2-7de525bc5c9c"
      },
      "execution_count": null,
      "outputs": [
        {
          "output_type": "stream",
          "name": "stdout",
          "text": [
            "2212\n",
            "{'Award': 'CSSI Award',\n",
            " '_id': ObjectId('64407ef1a64b00c43c4e4bc0'),\n",
            " 'keyword': 'assessment',\n",
            " 'raw html': '\\n'\n",
            "             '\\n'\n",
            "             '\\n'\n",
            "             '\\n'\n",
            "             '\\n'\n",
            "             '\\n'\n",
            "             '\\n'\n",
            "             '\\n'\n",
            "             '\\n'\n",
            "             '\\n'\n",
            "             '\\n'\n",
            "             '\\n'\n",
            "             '\\n'\n",
            "             '\\n'\n",
            "             '\\n'\n",
            "             '\\n'\n",
            "             ' Towards the Future Direction of the NSF Program on the '\n",
            "             'Cyberinfrastructure for Sustained Scientific Innovation (CSSI) - '\n",
            "             'Dimensions \\n'\n",
            "             '\\n'\n",
            "             '\\n'\n",
            "             '\\n'\n",
            "             '\\n'\n",
            "             '\\n'\n",
            "             '\\n'\n",
            "             '\\n'\n",
            "             '\\n'\n",
            "             '\\n'\n",
            "             '\\n'\n",
            "             '\\n'\n",
            "             '\\n'\n",
            "             '\\n'\n",
            "             '\\n'\n",
            "             '\\n'\n",
            "             '\\n'\n",
            "             '\\n'\n",
            "             '\\n'\n",
            "             '\\n'\n",
            "             '\\n'\n",
            "             '\\n'\n",
            "             '\\n'\n",
            "             '\\n'\n",
            "             '\\n'\n",
            "             '\\n'\n",
            "             '\\n'\n",
            "             '\\n'\n",
            "             '\\n'\n",
            "             '\\n'\n",
            "             '\\n'\n",
            "             '\\n'\n",
            "             '\\n'\n",
            "             '\\n'\n",
            "             '\\n'\n",
            "             'JavaScript is not enabled in your browser.\\n'\n",
            "             'To use Dimensions, please enable JavaScript in the options of '\n",
            "             'your browser or talk to your local administrator.\\n'\n",
            "             '\\n'\n",
            "             '\\n'\n",
            "             '\\n'\n",
            "             '\\n'\n",
            "             '\\n'\n",
            "             '\\n',\n",
            " 'text': 'None',\n",
            " 'title': 'None'}\n"
          ]
        }
      ]
    },
    {
      "cell_type": "code",
      "source": [
        "db.count_documents({})"
      ],
      "metadata": {
        "colab": {
          "base_uri": "https://localhost:8080/"
        },
        "id": "-bzkxn4ynY2R",
        "outputId": "a9cb6baf-9003-40b0-8e94-fc79d3e63533"
      },
      "execution_count": null,
      "outputs": [
        {
          "output_type": "execute_result",
          "data": {
            "text/plain": [
              "28944"
            ]
          },
          "metadata": {},
          "execution_count": 5
        }
      ]
    },
    {
      "cell_type": "code",
      "source": [
        "nonowords = '(javascript)|(access denied)|(403.*error)|(403.*forbidden)|(can\\'t find the page)|(404 not found)|(site under maintenance)'\n",
        "getAllClean = list(db.find(\n",
        "    {'$nor' : [{'raw html' : ''}, {'raw html' : { '$regex' : nonowords, '$options' : 'i'}}]}\n",
        "))\n",
        "\n",
        "print(len(getAllClean))"
      ],
      "metadata": {
        "colab": {
          "base_uri": "https://localhost:8080/"
        },
        "id": "ehZEw0FzoFkl",
        "outputId": "ce4666e3-7213-466d-aaf0-475a75c7eae2"
      },
      "execution_count": null,
      "outputs": [
        {
          "output_type": "stream",
          "name": "stdout",
          "text": [
            "16486\n"
          ]
        }
      ]
    },
    {
      "cell_type": "code",
      "source": [
        "clean = session.connection['clean']\n",
        "db_clean = clean[curCollection]"
      ],
      "metadata": {
        "id": "8cI2u5y0rFiC"
      },
      "execution_count": null,
      "outputs": []
    },
    {
      "cell_type": "code",
      "source": [
        "db_clean.insert_many(getAllClean)"
      ],
      "metadata": {
        "colab": {
          "base_uri": "https://localhost:8080/"
        },
        "id": "gL3dJRD4rT6-",
        "outputId": "93d5710d-ff4b-4b05-cabf-2ef6a9ca4321"
      },
      "execution_count": null,
      "outputs": [
        {
          "output_type": "execute_result",
          "data": {
            "text/plain": [
              "<pymongo.results.InsertManyResult at 0x7f1e47c03700>"
            ]
          },
          "metadata": {},
          "execution_count": 179
        }
      ]
    },
    {
      "cell_type": "code",
      "source": [
        "findSmall = list(db_clean.find(\n",
        "    {'$expr' : { '$lt': [{ '$strLenCP': '$raw html' }, 500]}}\n",
        "))\n",
        "\n",
        "print(len(findSmall))\n",
        "#pprint.pprint(findSmall[0])"
      ],
      "metadata": {
        "id": "AwQ27iJN3fWb"
      },
      "execution_count": null,
      "outputs": []
    },
    {
      "cell_type": "code",
      "source": [
        "db_clean.delete_many({'$expr' : { '$lt': [{ '$strLenCP': '$raw html' }, 300]}})"
      ],
      "metadata": {
        "colab": {
          "base_uri": "https://localhost:8080/"
        },
        "id": "6yknmbfF4SVo",
        "outputId": "9de23c46-b2bc-4b99-b801-de91cbe17afe"
      },
      "execution_count": null,
      "outputs": [
        {
          "output_type": "execute_result",
          "data": {
            "text/plain": [
              "<pymongo.results.DeleteResult at 0x7f1dd7fc6580>"
            ]
          },
          "metadata": {},
          "execution_count": 210
        }
      ]
    },
    {
      "cell_type": "code",
      "source": [
        "db_clean.count_documents({})"
      ],
      "metadata": {
        "colab": {
          "base_uri": "https://localhost:8080/"
        },
        "id": "iHAXRlb5sdIn",
        "outputId": "1aa9b663-827d-4081-b26b-e64221556c25"
      },
      "execution_count": null,
      "outputs": [
        {
          "output_type": "execute_result",
          "data": {
            "text/plain": [
              "11996"
            ]
          },
          "metadata": {},
          "execution_count": 211
        }
      ]
    },
    {
      "cell_type": "code",
      "source": [
        "!pip install emoji --upgrade\n",
        "!pip install pandas-profiling==2.*\n",
        "!pip install plotly==4.*\n",
        "!python -m spacy download en_core_web_lg\n",
        "!pip install pyldavis\n",
        "!pip install gensim\n",
        "!pip install chart_studio\n",
        "!pip install --upgrade autopep8\n",
        "!pip install --upgrade ipykernel"
      ],
      "metadata": {
        "id": "j16Wmc-2ueSq"
      },
      "execution_count": null,
      "outputs": []
    },
    {
      "cell_type": "code",
      "source": [
        "#Base and Cleaning \n",
        "import json\n",
        "import requests\n",
        "import pandas as pd\n",
        "import numpy as np\n",
        "import emoji\n",
        "import regex\n",
        "import re\n",
        "import string\n",
        "from collections import Counter\n",
        "\n",
        "#Visualizations\n",
        "import plotly.express as px\n",
        "import seaborn as sns\n",
        "import matplotlib.pyplot as plt \n",
        "import pyLDAvis.gensim\n",
        "import chart_studio\n",
        "import chart_studio.plotly as py \n",
        "import chart_studio.tools as tls\n",
        "from wordcloud import WordCloud\n",
        "\n",
        "#Natural Language Processing (NLP)\n",
        "import spacy\n",
        "import gensim\n",
        "from spacy.tokenizer import Tokenizer\n",
        "from gensim.corpora import Dictionary\n",
        "from gensim.models.ldamulticore import LdaMulticore\n",
        "from gensim.models.coherencemodel import CoherenceModel\n",
        "from gensim.parsing.preprocessing import STOPWORDS as SW\n",
        "from sklearn.decomposition import LatentDirichletAllocation, TruncatedSVD\n",
        "from sklearn.feature_extraction.text import CountVectorizer, TfidfVectorizer\n",
        "from sklearn.model_selection import GridSearchCV\n",
        "from pprint import pprint\n",
        "from wordcloud import STOPWORDS\n",
        "stopwords = set(STOPWORDS)"
      ],
      "metadata": {
        "colab": {
          "base_uri": "https://localhost:8080/"
        },
        "id": "rNkeEa6Ouair",
        "outputId": "ebd6dd97-1935-4d55-e1f5-1f71f2585d58"
      },
      "execution_count": null,
      "outputs": [
        {
          "output_type": "stream",
          "name": "stderr",
          "text": [
            "WARNING:py.warnings:/usr/local/lib/python3.9/dist-packages/ipykernel/ipkernel.py:283: DeprecationWarning: `should_run_async` will not call `transform_cell` automatically in the future. Please pass the result to `transformed_cell` argument and any exception that happen during thetransform in `preprocessing_exc_tuple` in IPython 7.17 and above.\n",
            "  getpass.getpass = self._save_getpass\n",
            "\n"
          ]
        }
      ]
    },
    {
      "cell_type": "code",
      "source": [
        "from textblob import TextBlob\n",
        "from bson.objectid import ObjectId"
      ],
      "metadata": {
        "id": "teImHDuy4xui"
      },
      "execution_count": null,
      "outputs": []
    },
    {
      "cell_type": "code",
      "source": [
        "import warnings\n",
        "warnings.filterwarnings(\"ignore\", category=DeprecationWarning)"
      ],
      "metadata": {
        "id": "PYZw8v4T0U8o"
      },
      "execution_count": null,
      "outputs": []
    },
    {
      "cell_type": "code",
      "source": [
        "nlp = spacy.load('en_core_web_lg')"
      ],
      "metadata": {
        "id": "ZhTKd7tz0Hlp"
      },
      "execution_count": null,
      "outputs": []
    },
    {
      "cell_type": "code",
      "source": [
        "data = db_clean.find({})"
      ],
      "metadata": {
        "id": "-iTZ0Yv36I4p"
      },
      "execution_count": null,
      "outputs": []
    },
    {
      "cell_type": "code",
      "source": [
        "df = pd.DataFrame(list(data))\n",
        "df.info()"
      ],
      "metadata": {
        "colab": {
          "base_uri": "https://localhost:8080/"
        },
        "id": "f-1I7sh_6aHF",
        "outputId": "4bb1f4c6-f7ea-4622-9645-8ad821e2a222"
      },
      "execution_count": null,
      "outputs": [
        {
          "output_type": "stream",
          "name": "stderr",
          "text": [
            "2023-04-21 05:03:50,813| ERROR   | Could not establish connection from local ('127.0.0.1', 38673) to remote ('127.0.0.1', 27017) side of the tunnel: open new channel ssh error: SSH session not active\n",
            "ERROR:sshtunnel.SSHTunnelForwarder:Could not establish connection from local ('127.0.0.1', 38673) to remote ('127.0.0.1', 27017) side of the tunnel: open new channel ssh error: SSH session not active\n"
          ]
        },
        {
          "output_type": "stream",
          "name": "stdout",
          "text": [
            "<class 'pandas.core.frame.DataFrame'>\n",
            "RangeIndex: 11996 entries, 0 to 11995\n",
            "Data columns (total 6 columns):\n",
            " #   Column    Non-Null Count  Dtype \n",
            "---  ------    --------------  ----- \n",
            " 0   _id       11996 non-null  object\n",
            " 1   Award     11996 non-null  object\n",
            " 2   keyword   11996 non-null  object\n",
            " 3   title     11996 non-null  object\n",
            " 4   text      11996 non-null  object\n",
            " 5   raw html  11996 non-null  object\n",
            "dtypes: object(6)\n",
            "memory usage: 562.4+ KB\n"
          ]
        }
      ]
    },
    {
      "cell_type": "code",
      "source": [
        "def cleanString(text):\n",
        "  text = text.replace('\\n', '')\n",
        "  text = re.sub(r' +', ' ', text)\n",
        "  return text"
      ],
      "metadata": {
        "id": "mbzbO6eT63Zu"
      },
      "execution_count": null,
      "outputs": []
    },
    {
      "cell_type": "code",
      "source": [
        "df['clean html'] = df['raw html'].apply(cleanString)"
      ],
      "metadata": {
        "id": "_QiP301l18Ha"
      },
      "execution_count": null,
      "outputs": []
    },
    {
      "cell_type": "code",
      "source": [
        "def findSentiment(text):\n",
        "  return TextBlob(text)"
      ],
      "metadata": {
        "id": "Zt869fLy71O5"
      },
      "execution_count": null,
      "outputs": []
    },
    {
      "cell_type": "code",
      "source": [
        "df['sentiment'] = df['clean html'].apply(lambda x : TextBlob(x).polarity)\n",
        "df['subjectivity'] = df['clean html'].apply(lambda x : TextBlob(x).subjectivity)"
      ],
      "metadata": {
        "id": "L5SVc7QH8CJo"
      },
      "execution_count": null,
      "outputs": []
    },
    {
      "cell_type": "code",
      "source": [
        "# Tokenizer\n",
        "tokenizer = Tokenizer(nlp.vocab)\n",
        "\n",
        "\n",
        "# Custom stopwords\n",
        "custom_stopwords = ['hi','\\n','\\n\\n', '&', ' ', '.', '-', 'got', \"it's\", 'it’s', \"i'm\", 'i’m', 'im', 'want', 'like', '$', '@', '|']\n",
        "\n",
        "# Customize stop words by adding to the default list\n",
        "STOP_WORDS = nlp.Defaults.stop_words.union(custom_stopwords)\n",
        "\n",
        "# ALL_STOP_WORDS = spacy + gensim + wordcloud\n",
        "ALL_STOP_WORDS = STOP_WORDS.union(SW).union(stopwords)\n",
        "\n",
        "\n",
        "tokens = []\n",
        "\n",
        "for doc in tokenizer.pipe(df['clean html'], batch_size=500):\n",
        "    doc_tokens = []    \n",
        "    for token in doc: \n",
        "        if token.text.lower() not in STOP_WORDS:\n",
        "            doc_tokens.append(token.text.lower())   \n",
        "    tokens.append(doc_tokens)\n",
        "\n",
        "# Makes tokens column\n",
        "df['tokens'] = tokens"
      ],
      "metadata": {
        "id": "N3VEuFZ90LnW"
      },
      "execution_count": null,
      "outputs": []
    },
    {
      "cell_type": "code",
      "source": [
        "# Make tokens a string again\n",
        "df['tokens_back_to_text'] = [' '.join(map(str, l)) for l in df['tokens']]\n",
        "\n",
        "def get_lemmas(text):\n",
        "    '''Used to lemmatize the processed tweets'''\n",
        "    lemmas = []\n",
        "    \n",
        "    doc = nlp(text)\n",
        "    \n",
        "    for token in doc: \n",
        "        if ((token.is_stop == False) and (token.is_punct == False)) and (token.pos_ != 'PRON'):\n",
        "            lemmas.append(token.lemma_)\n",
        "    \n",
        "    return lemmas\n",
        "\n",
        "df['lemmas'] = df['tokens_back_to_text'].apply(get_lemmas)"
      ],
      "metadata": {
        "id": "Q8okD8oZAa7d"
      },
      "execution_count": null,
      "outputs": []
    },
    {
      "cell_type": "code",
      "source": [
        "# Make lemmas a string again\n",
        "df['lemmas_back_to_text'] = [' '.join(map(str, l)) for l in df['lemmas']]\n",
        "\n",
        "# Tokenizer function\n",
        "def tokenize(text):\n",
        "    \"\"\"\n",
        "    Parses a string into a list of semantic units (words)\n",
        "    Args:\n",
        "        text (str): The string that the function will tokenize.\n",
        "    Returns:\n",
        "        list: tokens parsed out\n",
        "    \"\"\"\n",
        "    # Removing url's\n",
        "    pattern = r\"http\\S+\"\n",
        "    \n",
        "    tokens = re.sub(pattern, \"\", text) # https://www.youtube.com/watch?v=O2onA4r5UaY\n",
        "    tokens = re.sub('[^a-zA-Z 0-9]', '', text)\n",
        "    tokens = re.sub('[%s]' % re.escape(string.punctuation), '', text) # Remove punctuation\n",
        "    tokens = re.sub(r'\\w*\\d\\w*', '', text) # Remove words containing numbers\n",
        "    tokens = re.sub(r'@!$', '', text) # Remove @ ! $\n",
        "    tokens = tokens.strip(',')\n",
        "    tokens = tokens.strip('?')\n",
        "    tokens = tokens.strip('!')\n",
        "    tokens = tokens.strip(\"'\")\n",
        "    tokens = tokens.strip(\".\")\n",
        "\n",
        "    tokens = tokens.lower().split() # Make text lowercase and split it\n",
        "    \n",
        "    return tokens\n",
        "\n",
        "# Apply tokenizer\n",
        "df['lemma_tokens'] = df['lemmas_back_to_text'].apply(tokenize)"
      ],
      "metadata": {
        "id": "JkZKdkGNAnce"
      },
      "execution_count": null,
      "outputs": []
    },
    {
      "cell_type": "code",
      "source": [
        "df.drop(['tokens', 'tokens_back_to_text', 'lemmas', 'lemmas_back_to_text'], axis=1, inplace=True)"
      ],
      "metadata": {
        "id": "AAy66QSSAwyZ"
      },
      "execution_count": null,
      "outputs": []
    },
    {
      "cell_type": "code",
      "source": [
        "df.head()"
      ],
      "metadata": {
        "colab": {
          "base_uri": "https://localhost:8080/",
          "height": 441
        },
        "id": "oedatZM-M3jm",
        "outputId": "cd1945d7-0606-489d-be31-0742fd0ca378"
      },
      "execution_count": null,
      "outputs": [
        {
          "output_type": "execute_result",
          "data": {
            "text/plain": [
              "                        _id       Award     keyword title  text  \\\n",
              "0  64407ef1a64b00c43c4e4ba1  CSSI Award  assessment  None  None   \n",
              "1  64407ef1a64b00c43c4e4ba2  CSSI Award  assessment  None  None   \n",
              "2  64407ef1a64b00c43c4e4ba3  CSSI Award  assessment  None  None   \n",
              "3  64407ef1a64b00c43c4e4ba9  CSSI Award  assessment  None  None   \n",
              "4  64407ef1a64b00c43c4e4baa  CSSI Award  assessment  None  None   \n",
              "\n",
              "                                            raw html  \\\n",
              "0  \\n\\n\\n\\n\\n\\n\\n\\n\\n\\n\\n\\n\\n\\n\\n\\n\\n\\n\\n\\n\\n\\n\\n...   \n",
              "1  \\n\\n\\n\\n\\n\\n\\n\\n\\n\\n\\n\\n\\n\\n\\n\\nPre-Award Info...   \n",
              "2  \\n\\n\\nNSF CSSI PI Meeting 2022\\n\\n\\n\\n\\n\\n\\n\\n...   \n",
              "3  \\n\\n\\n\\n\\n\\n\\n\\n\\nNew NSF Award in Cyberinfras...   \n",
              "4  \\n\\n\\n\\n\\n\\n\\n\\n\\n\\n\\n\\n\\n\\n\\n\\n\\n\\n\\n\\n\\n\\n N...   \n",
              "\n",
              "                                          clean html  sentiment  subjectivity  \\\n",
              "0  Caribbean Safe School Initiative (CSSI) Themat...   0.196100      0.313749   \n",
              "1  Pre-Award Information - Research and Sponsored...   0.033929      0.231199   \n",
              "2  NSF CSSI PI Meeting 2022 2022 NSF CSSI PI Meet...   0.070972      0.395703   \n",
              "3  New NSF Award in Cyberinfrastructure for Susta...   0.086513      0.395891   \n",
              "4   NSF Award Search: Award # 1930025 - Assessmen...   0.116912      0.437077   \n",
              "\n",
              "                                              tokens  \\\n",
              "0  [caribbean, safe, school, initiative, (cssi), ...   \n",
              "1  [pre-award, information, research, sponsored, ...   \n",
              "2  [nsf, cssi, pi, meeting, 2022, 2022, nsf, cssi...   \n",
              "3  [new, nsf, award, cyberinfrastructure, sustain...   \n",
              "4  [nsf, award, search:, award, #, 1930025, asses...   \n",
              "\n",
              "                                 tokens_back_to_text  \n",
              "0  caribbean safe school initiative (cssi) themat...  \n",
              "1  pre-award information research sponsored progr...  \n",
              "2  nsf cssi pi meeting 2022 2022 nsf cssi pi meet...  \n",
              "3  new nsf award cyberinfrastructure sustained sc...  \n",
              "4  nsf award search: award # 1930025 assessment e...  "
            ],
            "text/html": [
              "\n",
              "  <div id=\"df-7e1b3c7e-12b0-448e-b5fc-d91e2e60e8e2\">\n",
              "    <div class=\"colab-df-container\">\n",
              "      <div>\n",
              "<style scoped>\n",
              "    .dataframe tbody tr th:only-of-type {\n",
              "        vertical-align: middle;\n",
              "    }\n",
              "\n",
              "    .dataframe tbody tr th {\n",
              "        vertical-align: top;\n",
              "    }\n",
              "\n",
              "    .dataframe thead th {\n",
              "        text-align: right;\n",
              "    }\n",
              "</style>\n",
              "<table border=\"1\" class=\"dataframe\">\n",
              "  <thead>\n",
              "    <tr style=\"text-align: right;\">\n",
              "      <th></th>\n",
              "      <th>_id</th>\n",
              "      <th>Award</th>\n",
              "      <th>keyword</th>\n",
              "      <th>title</th>\n",
              "      <th>text</th>\n",
              "      <th>raw html</th>\n",
              "      <th>clean html</th>\n",
              "      <th>sentiment</th>\n",
              "      <th>subjectivity</th>\n",
              "      <th>tokens</th>\n",
              "      <th>tokens_back_to_text</th>\n",
              "    </tr>\n",
              "  </thead>\n",
              "  <tbody>\n",
              "    <tr>\n",
              "      <th>0</th>\n",
              "      <td>64407ef1a64b00c43c4e4ba1</td>\n",
              "      <td>CSSI Award</td>\n",
              "      <td>assessment</td>\n",
              "      <td>None</td>\n",
              "      <td>None</td>\n",
              "      <td>\\n\\n\\n\\n\\n\\n\\n\\n\\n\\n\\n\\n\\n\\n\\n\\n\\n\\n\\n\\n\\n\\n\\n...</td>\n",
              "      <td>Caribbean Safe School Initiative (CSSI) Themat...</td>\n",
              "      <td>0.196100</td>\n",
              "      <td>0.313749</td>\n",
              "      <td>[caribbean, safe, school, initiative, (cssi), ...</td>\n",
              "      <td>caribbean safe school initiative (cssi) themat...</td>\n",
              "    </tr>\n",
              "    <tr>\n",
              "      <th>1</th>\n",
              "      <td>64407ef1a64b00c43c4e4ba2</td>\n",
              "      <td>CSSI Award</td>\n",
              "      <td>assessment</td>\n",
              "      <td>None</td>\n",
              "      <td>None</td>\n",
              "      <td>\\n\\n\\n\\n\\n\\n\\n\\n\\n\\n\\n\\n\\n\\n\\n\\nPre-Award Info...</td>\n",
              "      <td>Pre-Award Information - Research and Sponsored...</td>\n",
              "      <td>0.033929</td>\n",
              "      <td>0.231199</td>\n",
              "      <td>[pre-award, information, research, sponsored, ...</td>\n",
              "      <td>pre-award information research sponsored progr...</td>\n",
              "    </tr>\n",
              "    <tr>\n",
              "      <th>2</th>\n",
              "      <td>64407ef1a64b00c43c4e4ba3</td>\n",
              "      <td>CSSI Award</td>\n",
              "      <td>assessment</td>\n",
              "      <td>None</td>\n",
              "      <td>None</td>\n",
              "      <td>\\n\\n\\nNSF CSSI PI Meeting 2022\\n\\n\\n\\n\\n\\n\\n\\n...</td>\n",
              "      <td>NSF CSSI PI Meeting 2022 2022 NSF CSSI PI Meet...</td>\n",
              "      <td>0.070972</td>\n",
              "      <td>0.395703</td>\n",
              "      <td>[nsf, cssi, pi, meeting, 2022, 2022, nsf, cssi...</td>\n",
              "      <td>nsf cssi pi meeting 2022 2022 nsf cssi pi meet...</td>\n",
              "    </tr>\n",
              "    <tr>\n",
              "      <th>3</th>\n",
              "      <td>64407ef1a64b00c43c4e4ba9</td>\n",
              "      <td>CSSI Award</td>\n",
              "      <td>assessment</td>\n",
              "      <td>None</td>\n",
              "      <td>None</td>\n",
              "      <td>\\n\\n\\n\\n\\n\\n\\n\\n\\nNew NSF Award in Cyberinfras...</td>\n",
              "      <td>New NSF Award in Cyberinfrastructure for Susta...</td>\n",
              "      <td>0.086513</td>\n",
              "      <td>0.395891</td>\n",
              "      <td>[new, nsf, award, cyberinfrastructure, sustain...</td>\n",
              "      <td>new nsf award cyberinfrastructure sustained sc...</td>\n",
              "    </tr>\n",
              "    <tr>\n",
              "      <th>4</th>\n",
              "      <td>64407ef1a64b00c43c4e4baa</td>\n",
              "      <td>CSSI Award</td>\n",
              "      <td>assessment</td>\n",
              "      <td>None</td>\n",
              "      <td>None</td>\n",
              "      <td>\\n\\n\\n\\n\\n\\n\\n\\n\\n\\n\\n\\n\\n\\n\\n\\n\\n\\n\\n\\n\\n\\n N...</td>\n",
              "      <td>NSF Award Search: Award # 1930025 - Assessmen...</td>\n",
              "      <td>0.116912</td>\n",
              "      <td>0.437077</td>\n",
              "      <td>[nsf, award, search:, award, #, 1930025, asses...</td>\n",
              "      <td>nsf award search: award # 1930025 assessment e...</td>\n",
              "    </tr>\n",
              "  </tbody>\n",
              "</table>\n",
              "</div>\n",
              "      <button class=\"colab-df-convert\" onclick=\"convertToInteractive('df-7e1b3c7e-12b0-448e-b5fc-d91e2e60e8e2')\"\n",
              "              title=\"Convert this dataframe to an interactive table.\"\n",
              "              style=\"display:none;\">\n",
              "        \n",
              "  <svg xmlns=\"http://www.w3.org/2000/svg\" height=\"24px\"viewBox=\"0 0 24 24\"\n",
              "       width=\"24px\">\n",
              "    <path d=\"M0 0h24v24H0V0z\" fill=\"none\"/>\n",
              "    <path d=\"M18.56 5.44l.94 2.06.94-2.06 2.06-.94-2.06-.94-.94-2.06-.94 2.06-2.06.94zm-11 1L8.5 8.5l.94-2.06 2.06-.94-2.06-.94L8.5 2.5l-.94 2.06-2.06.94zm10 10l.94 2.06.94-2.06 2.06-.94-2.06-.94-.94-2.06-.94 2.06-2.06.94z\"/><path d=\"M17.41 7.96l-1.37-1.37c-.4-.4-.92-.59-1.43-.59-.52 0-1.04.2-1.43.59L10.3 9.45l-7.72 7.72c-.78.78-.78 2.05 0 2.83L4 21.41c.39.39.9.59 1.41.59.51 0 1.02-.2 1.41-.59l7.78-7.78 2.81-2.81c.8-.78.8-2.07 0-2.86zM5.41 20L4 18.59l7.72-7.72 1.47 1.35L5.41 20z\"/>\n",
              "  </svg>\n",
              "      </button>\n",
              "      \n",
              "  <style>\n",
              "    .colab-df-container {\n",
              "      display:flex;\n",
              "      flex-wrap:wrap;\n",
              "      gap: 12px;\n",
              "    }\n",
              "\n",
              "    .colab-df-convert {\n",
              "      background-color: #E8F0FE;\n",
              "      border: none;\n",
              "      border-radius: 50%;\n",
              "      cursor: pointer;\n",
              "      display: none;\n",
              "      fill: #1967D2;\n",
              "      height: 32px;\n",
              "      padding: 0 0 0 0;\n",
              "      width: 32px;\n",
              "    }\n",
              "\n",
              "    .colab-df-convert:hover {\n",
              "      background-color: #E2EBFA;\n",
              "      box-shadow: 0px 1px 2px rgba(60, 64, 67, 0.3), 0px 1px 3px 1px rgba(60, 64, 67, 0.15);\n",
              "      fill: #174EA6;\n",
              "    }\n",
              "\n",
              "    [theme=dark] .colab-df-convert {\n",
              "      background-color: #3B4455;\n",
              "      fill: #D2E3FC;\n",
              "    }\n",
              "\n",
              "    [theme=dark] .colab-df-convert:hover {\n",
              "      background-color: #434B5C;\n",
              "      box-shadow: 0px 1px 3px 1px rgba(0, 0, 0, 0.15);\n",
              "      filter: drop-shadow(0px 1px 2px rgba(0, 0, 0, 0.3));\n",
              "      fill: #FFFFFF;\n",
              "    }\n",
              "  </style>\n",
              "\n",
              "      <script>\n",
              "        const buttonEl =\n",
              "          document.querySelector('#df-7e1b3c7e-12b0-448e-b5fc-d91e2e60e8e2 button.colab-df-convert');\n",
              "        buttonEl.style.display =\n",
              "          google.colab.kernel.accessAllowed ? 'block' : 'none';\n",
              "\n",
              "        async function convertToInteractive(key) {\n",
              "          const element = document.querySelector('#df-7e1b3c7e-12b0-448e-b5fc-d91e2e60e8e2');\n",
              "          const dataTable =\n",
              "            await google.colab.kernel.invokeFunction('convertToInteractive',\n",
              "                                                     [key], {});\n",
              "          if (!dataTable) return;\n",
              "\n",
              "          const docLinkHtml = 'Like what you see? Visit the ' +\n",
              "            '<a target=\"_blank\" href=https://colab.research.google.com/notebooks/data_table.ipynb>data table notebook</a>'\n",
              "            + ' to learn more about interactive tables.';\n",
              "          element.innerHTML = '';\n",
              "          dataTable['output_type'] = 'display_data';\n",
              "          await google.colab.output.renderOutput(dataTable, element);\n",
              "          const docLink = document.createElement('div');\n",
              "          docLink.innerHTML = docLinkHtml;\n",
              "          element.appendChild(docLink);\n",
              "        }\n",
              "      </script>\n",
              "    </div>\n",
              "  </div>\n",
              "  "
            ]
          },
          "metadata": {},
          "execution_count": 226
        }
      ]
    },
    {
      "cell_type": "code",
      "source": [
        "df.info()"
      ],
      "metadata": {
        "colab": {
          "base_uri": "https://localhost:8080/"
        },
        "id": "QH3cdBuwTwbu",
        "outputId": "36b842b2-8f64-459a-a280-21c636f21832"
      },
      "execution_count": null,
      "outputs": [
        {
          "output_type": "stream",
          "name": "stdout",
          "text": [
            "<class 'pandas.core.frame.DataFrame'>\n",
            "RangeIndex: 11996 entries, 0 to 11995\n",
            "Data columns (total 11 columns):\n",
            " #   Column               Non-Null Count  Dtype  \n",
            "---  ------               --------------  -----  \n",
            " 0   _id                  11996 non-null  object \n",
            " 1   Award                11996 non-null  object \n",
            " 2   keyword              11996 non-null  object \n",
            " 3   title                11996 non-null  object \n",
            " 4   text                 11996 non-null  object \n",
            " 5   raw html             11996 non-null  object \n",
            " 6   clean html           11996 non-null  object \n",
            " 7   sentiment            11996 non-null  float64\n",
            " 8   subjectivity         11996 non-null  float64\n",
            " 9   tokens               11996 non-null  object \n",
            " 10  tokens_back_to_text  11996 non-null  object \n",
            "dtypes: float64(2), object(9)\n",
            "memory usage: 1.0+ MB\n"
          ]
        }
      ]
    },
    {
      "cell_type": "code",
      "source": [
        "data_dict = df.to_dict('records')"
      ],
      "metadata": {
        "id": "ng8Vf3RQ-l0G"
      },
      "execution_count": null,
      "outputs": []
    },
    {
      "cell_type": "code",
      "source": [
        "updates = []\n",
        "for _, row in df.iterrows():\n",
        "    updates.append( UpdateOne({'_id': row.get('_id')}, {'$set': {'sentiment': row.get('sentiment'), 'subjectivity': row.get('subjectivity'), 'clean html': row.get('clean html'), 'tokens' : row.get('tokens')}}, upsert=False))\n",
        "    #updates.append( UpdateOne({'_id': row.get('_id')}, {'$set': {'sentiment': row.get('sentiment'), 'subjectivity': row.get('subjectivity'), 'clean html': row.get('clean html'), 'lemma tokens' : row.get('lemma_tokens')}}, upsert=False))"
      ],
      "metadata": {
        "colab": {
          "base_uri": "https://localhost:8080/"
        },
        "id": "e_Mr9BIBEtIX",
        "outputId": "3716108d-3af6-4786-dc87-7a431a488cc3"
      },
      "execution_count": null,
      "outputs": [
        {
          "output_type": "stream",
          "name": "stderr",
          "text": [
            "2023-04-21 05:35:50,103| ERROR   | Could not establish connection from local ('127.0.0.1', 38673) to remote ('127.0.0.1', 27017) side of the tunnel: open new channel ssh error: SSH session not active\n",
            "ERROR:sshtunnel.SSHTunnelForwarder:Could not establish connection from local ('127.0.0.1', 38673) to remote ('127.0.0.1', 27017) side of the tunnel: open new channel ssh error: SSH session not active\n"
          ]
        }
      ]
    },
    {
      "cell_type": "code",
      "source": [
        "db_clean.bulk_write(updates)"
      ],
      "metadata": {
        "id": "z_2bQaFyGfIW"
      },
      "execution_count": null,
      "outputs": []
    },
    {
      "cell_type": "code",
      "source": [
        "id = \"64407ef1a64b00c43c4e4ba2\"\n",
        "test = db_clean.find({'_id' : ObjectId(id)})\n",
        "\n",
        "test_df = pd.DataFrame(list(test))\n",
        "print(test_df)"
      ],
      "metadata": {
        "colab": {
          "base_uri": "https://localhost:8080/"
        },
        "id": "iPQfhBtB81Xv",
        "outputId": "24e908de-dac6-47af-aed6-0b911e3ad185"
      },
      "execution_count": null,
      "outputs": [
        {
          "output_type": "stream",
          "name": "stderr",
          "text": [
            "2023-04-21 05:54:09,408| ERROR   | Could not establish connection from local ('127.0.0.1', 38673) to remote ('127.0.0.1', 27017) side of the tunnel: open new channel ssh error: SSH session not active\n",
            "ERROR:sshtunnel.SSHTunnelForwarder:Could not establish connection from local ('127.0.0.1', 38673) to remote ('127.0.0.1', 27017) side of the tunnel: open new channel ssh error: SSH session not active\n"
          ]
        },
        {
          "output_type": "stream",
          "name": "stdout",
          "text": [
            "                        _id       Award     keyword title  text  \\\n",
            "0  64407ef1a64b00c43c4e4ba2  CSSI Award  assessment  None  None   \n",
            "\n",
            "                                            raw html  \\\n",
            "0  \\n\\n\\n\\n\\n\\n\\n\\n\\n\\n\\n\\n\\n\\n\\n\\nPre-Award Info...   \n",
            "\n",
            "                                          clean html  sentiment  subjectivity  \\\n",
            "0  Pre-Award Information - Research and Sponsored...   0.033929      0.231199   \n",
            "\n",
            "                                              tokens  \n",
            "0  [pre-award, information, research, sponsored, ...  \n"
          ]
        }
      ]
    },
    {
      "cell_type": "code",
      "source": [
        "id = \"64407ef1a64b00c43c4e4ba1\"\n",
        "test = db_clean.find({'_id' : ObjectId(id)})\n",
        "\n",
        "test_df = pd.DataFrame(list(test))\n",
        "print(test_df)"
      ],
      "metadata": {
        "colab": {
          "base_uri": "https://localhost:8080/"
        },
        "id": "jNFYKXqaDX_z",
        "outputId": "828b5351-a92c-4f55-ae15-8c1b2de8f301"
      },
      "execution_count": null,
      "outputs": [
        {
          "output_type": "stream",
          "name": "stdout",
          "text": [
            "                        _id       Award     keyword title  text  \\\n",
            "0  64407ef1a64b00c43c4e4ba1  CSSI Award  assessment  None  None   \n",
            "\n",
            "                                            raw html  \n",
            "0  \\n\\n\\n\\n\\n\\n\\n\\n\\n\\n\\n\\n\\n\\n\\n\\n\\n\\n\\n\\n\\n\\n\\n...  \n"
          ]
        }
      ]
    },
    {
      "cell_type": "code",
      "source": [
        "session.stop()"
      ],
      "metadata": {
        "id": "5zdp_IAEEpmq"
      },
      "execution_count": null,
      "outputs": []
    },
    {
      "cell_type": "code",
      "source": [],
      "metadata": {
        "id": "Yik2kZVaFKOR"
      },
      "execution_count": null,
      "outputs": []
    }
  ]
}