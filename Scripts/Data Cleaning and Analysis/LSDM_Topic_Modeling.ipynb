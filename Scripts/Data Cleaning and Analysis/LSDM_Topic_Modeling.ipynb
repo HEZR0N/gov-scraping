{
  "nbformat": 4,
  "nbformat_minor": 0,
  "metadata": {
    "colab": {
      "provenance": []
    },
    "kernelspec": {
      "name": "python3",
      "display_name": "Python 3"
    },
    "language_info": {
      "name": "python"
    }
  },
  "cells": [
    {
      "cell_type": "code",
      "execution_count": 1,
      "metadata": {
        "id": "NPR1E3qNPD8S",
        "colab": {
          "base_uri": "https://localhost:8080/"
        },
        "outputId": "505bcf3a-da3e-4f74-f073-726130c3d350"
      },
      "outputs": [
        {
          "output_type": "stream",
          "name": "stdout",
          "text": [
            "Looking in indexes: https://pypi.org/simple, https://us-python.pkg.dev/colab-wheels/public/simple/\n",
            "Collecting ssh-pymongo\n",
            "  Downloading ssh-pymongo-1.0.4.tar.gz (2.2 kB)\n",
            "  Preparing metadata (setup.py) ... \u001b[?25l\u001b[?25hdone\n",
            "Collecting pymongo\n",
            "  Downloading pymongo-4.3.3-cp310-cp310-manylinux_2_17_x86_64.manylinux2014_x86_64.whl (492 kB)\n",
            "\u001b[2K     \u001b[90m━━━━━━━━━━━━━━━━━━━━━━━━━━━━━━━━━━━━━━━\u001b[0m \u001b[32m492.9/492.9 kB\u001b[0m \u001b[31m4.5 MB/s\u001b[0m eta \u001b[36m0:00:00\u001b[0m\n",
            "\u001b[?25hCollecting sshtunnel\n",
            "  Downloading sshtunnel-0.4.0-py2.py3-none-any.whl (24 kB)\n",
            "Collecting dnspython<3.0.0,>=1.16.0\n",
            "  Downloading dnspython-2.3.0-py3-none-any.whl (283 kB)\n",
            "\u001b[2K     \u001b[90m━━━━━━━━━━━━━━━━━━━━━━━━━━━━━━━━━━━━━━\u001b[0m \u001b[32m283.7/283.7 kB\u001b[0m \u001b[31m11.7 MB/s\u001b[0m eta \u001b[36m0:00:00\u001b[0m\n",
            "\u001b[?25hCollecting paramiko>=2.7.2\n",
            "  Downloading paramiko-3.1.0-py3-none-any.whl (211 kB)\n",
            "\u001b[2K     \u001b[90m━━━━━━━━━━━━━━━━━━━━━━━━━━━━━━━━━━━━━━━\u001b[0m \u001b[32m211.2/211.2 kB\u001b[0m \u001b[31m6.0 MB/s\u001b[0m eta \u001b[36m0:00:00\u001b[0m\n",
            "\u001b[?25hCollecting pynacl>=1.5\n",
            "  Downloading PyNaCl-1.5.0-cp36-abi3-manylinux_2_17_x86_64.manylinux2014_x86_64.manylinux_2_24_x86_64.whl (856 kB)\n",
            "\u001b[2K     \u001b[90m━━━━━━━━━━━━━━━━━━━━━━━━━━━━━━━━━━━━━━\u001b[0m \u001b[32m856.7/856.7 kB\u001b[0m \u001b[31m19.2 MB/s\u001b[0m eta \u001b[36m0:00:00\u001b[0m\n",
            "\u001b[?25hRequirement already satisfied: cryptography>=3.3 in /usr/local/lib/python3.10/dist-packages (from paramiko>=2.7.2->sshtunnel->ssh-pymongo) (40.0.2)\n",
            "Collecting bcrypt>=3.2\n",
            "  Downloading bcrypt-4.0.1-cp36-abi3-manylinux_2_28_x86_64.whl (593 kB)\n",
            "\u001b[2K     \u001b[90m━━━━━━━━━━━━━━━━━━━━━━━━━━━━━━━━━━━━━━\u001b[0m \u001b[32m593.7/593.7 kB\u001b[0m \u001b[31m24.2 MB/s\u001b[0m eta \u001b[36m0:00:00\u001b[0m\n",
            "\u001b[?25hRequirement already satisfied: cffi>=1.12 in /usr/local/lib/python3.10/dist-packages (from cryptography>=3.3->paramiko>=2.7.2->sshtunnel->ssh-pymongo) (1.15.1)\n",
            "Requirement already satisfied: pycparser in /usr/local/lib/python3.10/dist-packages (from cffi>=1.12->cryptography>=3.3->paramiko>=2.7.2->sshtunnel->ssh-pymongo) (2.21)\n",
            "Building wheels for collected packages: ssh-pymongo\n",
            "  Building wheel for ssh-pymongo (setup.py) ... \u001b[?25l\u001b[?25hdone\n",
            "  Created wheel for ssh-pymongo: filename=ssh_pymongo-1.0.4-py3-none-any.whl size=2566 sha256=f6438be71f5bf38f48f2df2697780f23bbff2910683a08fdfd922b6edafa2351\n",
            "  Stored in directory: /root/.cache/pip/wheels/1d/6a/9d/dee25ecdecdb43b31f2494250adceca24ac30f0f3993113be6\n",
            "Successfully built ssh-pymongo\n",
            "Installing collected packages: dnspython, bcrypt, pynacl, pymongo, paramiko, sshtunnel, ssh-pymongo\n",
            "Successfully installed bcrypt-4.0.1 dnspython-2.3.0 paramiko-3.1.0 pymongo-4.3.3 pynacl-1.5.0 ssh-pymongo-1.0.4 sshtunnel-0.4.0\n",
            "Looking in indexes: https://pypi.org/simple, https://us-python.pkg.dev/colab-wheels/public/simple/\n",
            "Requirement already satisfied: pymongo in /usr/local/lib/python3.10/dist-packages (4.3.3)\n",
            "Requirement already satisfied: dnspython<3.0.0,>=1.16.0 in /usr/local/lib/python3.10/dist-packages (from pymongo) (2.3.0)\n"
          ]
        }
      ],
      "source": [
        "#Installs\n",
        "import sys\n",
        "\n",
        "!pip install ssh-pymongo\n",
        "!pip install pymongo"
      ]
    },
    {
      "cell_type": "code",
      "source": [
        "from pymongo import UpdateOne\n",
        "from ssh_pymongo import MongoSession\n",
        "import pprint"
      ],
      "metadata": {
        "id": "hw_bZz3kPwAH"
      },
      "execution_count": 2,
      "outputs": []
    },
    {
      "cell_type": "code",
      "source": [
        "#Importing essential tools\n",
        "import os\n",
        "import re\n",
        "import pandas as pd\n",
        "import numpy as np\n",
        "import gensim\n",
        "import gensim.corpora as corpora\n",
        "import nltk\n",
        "import pickle \n",
        "\n",
        "import seaborn as sns;\n",
        "\n",
        "from wordcloud import WordCloud\n",
        "from gensim.utils import simple_preprocess\n",
        "from gensim.models.coherencemodel import CoherenceModel\n",
        "from nltk.corpus import stopwords\n",
        "nltk.download('stopwords')\n",
        "\n",
        "stop_words = stopwords.words('english')"
      ],
      "metadata": {
        "colab": {
          "base_uri": "https://localhost:8080/"
        },
        "id": "2U_ZdJ7rPeVo",
        "outputId": "45f11134-b96f-498b-ec08-4a3cac7ed6c7"
      },
      "execution_count": 3,
      "outputs": [
        {
          "output_type": "stream",
          "name": "stderr",
          "text": [
            "[nltk_data] Downloading package stopwords to /root/nltk_data...\n",
            "[nltk_data]   Unzipping corpora/stopwords.zip.\n"
          ]
        }
      ]
    },
    {
      "cell_type": "code",
      "source": [
        "!pip install pyLDAvis\n",
        "import pyLDAvis\n",
        "import pyLDAvis.gensim"
      ],
      "metadata": {
        "colab": {
          "base_uri": "https://localhost:8080/"
        },
        "id": "7isGkhuG3_Y4",
        "outputId": "f51e9210-3a40-41bc-fb2d-8a07cc4e13b1"
      },
      "execution_count": 4,
      "outputs": [
        {
          "output_type": "stream",
          "name": "stdout",
          "text": [
            "Looking in indexes: https://pypi.org/simple, https://us-python.pkg.dev/colab-wheels/public/simple/\n",
            "Collecting pyLDAvis\n",
            "  Downloading pyLDAvis-3.4.1-py3-none-any.whl (2.6 MB)\n",
            "\u001b[2K     \u001b[90m━━━━━━━━━━━━━━━━━━━━━━━━━━━━━━━━━━━━━━━━\u001b[0m \u001b[32m2.6/2.6 MB\u001b[0m \u001b[31m27.1 MB/s\u001b[0m eta \u001b[36m0:00:00\u001b[0m\n",
            "\u001b[?25hCollecting numpy>=1.24.2\n",
            "  Downloading numpy-1.24.3-cp310-cp310-manylinux_2_17_x86_64.manylinux2014_x86_64.whl (17.3 MB)\n",
            "\u001b[2K     \u001b[90m━━━━━━━━━━━━━━━━━━━━━━━━━━━━━━━━━━━━━━━━\u001b[0m \u001b[32m17.3/17.3 MB\u001b[0m \u001b[31m79.3 MB/s\u001b[0m eta \u001b[36m0:00:00\u001b[0m\n",
            "\u001b[?25hRequirement already satisfied: gensim in /usr/local/lib/python3.10/dist-packages (from pyLDAvis) (4.3.1)\n",
            "Requirement already satisfied: numexpr in /usr/local/lib/python3.10/dist-packages (from pyLDAvis) (2.8.4)\n",
            "Requirement already satisfied: scikit-learn>=1.0.0 in /usr/local/lib/python3.10/dist-packages (from pyLDAvis) (1.2.2)\n",
            "Collecting funcy\n",
            "  Downloading funcy-2.0-py2.py3-none-any.whl (30 kB)\n",
            "Collecting pandas>=2.0.0\n",
            "  Downloading pandas-2.0.1-cp310-cp310-manylinux_2_17_x86_64.manylinux2014_x86_64.whl (12.3 MB)\n",
            "\u001b[2K     \u001b[90m━━━━━━━━━━━━━━━━━━━━━━━━━━━━━━━━━━━━━━━━\u001b[0m \u001b[32m12.3/12.3 MB\u001b[0m \u001b[31m62.1 MB/s\u001b[0m eta \u001b[36m0:00:00\u001b[0m\n",
            "\u001b[?25hRequirement already satisfied: joblib>=1.2.0 in /usr/local/lib/python3.10/dist-packages (from pyLDAvis) (1.2.0)\n",
            "Requirement already satisfied: scipy in /usr/local/lib/python3.10/dist-packages (from pyLDAvis) (1.10.1)\n",
            "Requirement already satisfied: jinja2 in /usr/local/lib/python3.10/dist-packages (from pyLDAvis) (3.1.2)\n",
            "Requirement already satisfied: setuptools in /usr/local/lib/python3.10/dist-packages (from pyLDAvis) (67.7.2)\n",
            "Requirement already satisfied: python-dateutil>=2.8.2 in /usr/local/lib/python3.10/dist-packages (from pandas>=2.0.0->pyLDAvis) (2.8.2)\n",
            "Requirement already satisfied: tzdata>=2022.1 in /usr/local/lib/python3.10/dist-packages (from pandas>=2.0.0->pyLDAvis) (2023.3)\n",
            "Requirement already satisfied: pytz>=2020.1 in /usr/local/lib/python3.10/dist-packages (from pandas>=2.0.0->pyLDAvis) (2022.7.1)\n",
            "Requirement already satisfied: threadpoolctl>=2.0.0 in /usr/local/lib/python3.10/dist-packages (from scikit-learn>=1.0.0->pyLDAvis) (3.1.0)\n",
            "Requirement already satisfied: smart-open>=1.8.1 in /usr/local/lib/python3.10/dist-packages (from gensim->pyLDAvis) (6.3.0)\n",
            "Requirement already satisfied: MarkupSafe>=2.0 in /usr/local/lib/python3.10/dist-packages (from jinja2->pyLDAvis) (2.1.2)\n",
            "Requirement already satisfied: six>=1.5 in /usr/local/lib/python3.10/dist-packages (from python-dateutil>=2.8.2->pandas>=2.0.0->pyLDAvis) (1.16.0)\n",
            "Installing collected packages: funcy, numpy, pandas, pyLDAvis\n",
            "  Attempting uninstall: numpy\n",
            "    Found existing installation: numpy 1.22.4\n",
            "    Uninstalling numpy-1.22.4:\n",
            "      Successfully uninstalled numpy-1.22.4\n",
            "  Attempting uninstall: pandas\n",
            "    Found existing installation: pandas 1.5.3\n",
            "    Uninstalling pandas-1.5.3:\n",
            "      Successfully uninstalled pandas-1.5.3\n",
            "\u001b[31mERROR: pip's dependency resolver does not currently take into account all the packages that are installed. This behaviour is the source of the following dependency conflicts.\n",
            "tensorflow 2.12.0 requires numpy<1.24,>=1.22, but you have numpy 1.24.3 which is incompatible.\n",
            "numba 0.56.4 requires numpy<1.24,>=1.18, but you have numpy 1.24.3 which is incompatible.\n",
            "google-colab 1.0.0 requires pandas~=1.5.3, but you have pandas 2.0.1 which is incompatible.\u001b[0m\u001b[31m\n",
            "\u001b[0mSuccessfully installed funcy-2.0 numpy-1.24.3 pandas-2.0.1 pyLDAvis-3.4.1\n"
          ]
        }
      ]
    },
    {
      "cell_type": "code",
      "source": [
        "import warnings\n",
        "#warnings.filterwarnings(\"ignore\", category=DeprecationWarning)\n",
        "warnings.filterwarnings(\"ignore\")"
      ],
      "metadata": {
        "id": "4AwrkzxQeE44"
      },
      "execution_count": 6,
      "outputs": []
    },
    {
      "cell_type": "code",
      "source": [
        "#Set host and remotely connect to mongodb\n",
        "MONGO_HOST = \"ip_address\"\n",
        "MONGO_USER = \"username\"\n",
        "MONGO_PASS = \"password\"\n",
        "MONGO_PORT = 443\n",
        "\n",
        "session = MongoSession(MONGO_HOST,\n",
        "    port=MONGO_PORT,\n",
        "    user=MONGO_USER,\n",
        "    password=MONGO_PASS,\n",
        "    uri='mongodb:/'+MONGO_HOST+':'+str(MONGO_PORT)\n",
        ")"
      ],
      "metadata": {
        "id": "mntb6qAePhf0"
      },
      "execution_count": 7,
      "outputs": []
    },
    {
      "cell_type": "code",
      "source": [
        "clean = session.connection['tidy']"
      ],
      "metadata": {
        "id": "cM5sc8HgP9lL"
      },
      "execution_count": 8,
      "outputs": []
    },
    {
      "cell_type": "code",
      "source": [
        "def find_best_num_topics(num_topics, html_corpus, html_dict, df):\n",
        "  coherence = np.zeros_like(num_topics, dtype=float)\n",
        "  for num_topic in num_topics:\n",
        "    print('Checking coherence for ' + str(num_topic) + ' topics...')\n",
        "    lda = gensim.models.LdaMulticore(corpus=html_corpus, id2word=html_dict, num_topics=num_topic, random_state=1)\n",
        "\n",
        "    coherence_model = CoherenceModel(model=lda, texts=df['tokens'], \n",
        "                                    dictionary=html_dict, coherence='c_v')\n",
        "    coherence_lda_model_base = coherence_model.get_coherence()\n",
        "    coherence[num_topic - num_topics[0]] = coherence_lda_model_base\n",
        "\n",
        "  return (np.argmax(coherence)+num_topics[0], np.max(coherence))"
      ],
      "metadata": {
        "id": "k8kEOkK8kIDx"
      },
      "execution_count": 9,
      "outputs": []
    },
    {
      "cell_type": "code",
      "source": [
        "def get_topics(lda, best_topic_num):\n",
        "  keywords_set = set()\n",
        "\n",
        "  topn_title_words = {'Topic_' + str(i): [word for word, prob in lda.show_topic(i, topn=best_topic_num)] for i in range(0, lda.num_topics)}\n",
        "\n",
        "  for x, y in topn_title_words.items():\n",
        "    for i in y:\n",
        "      keywords_set.add(i)\n",
        "\n",
        "  return list(keywords_set)"
      ],
      "metadata": {
        "id": "PqDQdkednX1F"
      },
      "execution_count": 10,
      "outputs": []
    },
    {
      "cell_type": "code",
      "source": [
        "def get_to_insert_list(keywords):\n",
        "  to_insert = []\n",
        "  curWord = 1\n",
        "  totWord = len(keywords)\n",
        "  for keyword in keywords:\n",
        "    print('----------')\n",
        "    print('Currently modeling for keyword: ' + keyword + ' (' + str(curWord) + ' of ' + str(totWord) + ')')\n",
        "    print('----------')\n",
        "    curWord += 1\n",
        "    docs_to_model = db_clean.find({'keyword' : keyword}, {'Award' : 1, 'tokens' : 1})\n",
        "    df = pd.DataFrame(list(docs_to_model))\n",
        "    html_text = df['tokens'].to_list()\n",
        "\n",
        "    #Prepare data for LDA input\n",
        "\n",
        "    # Create Dictionary\n",
        "    html_dict = corpora.Dictionary(html_text)\n",
        "\n",
        "    # Term Document Frequency\n",
        "    html_corpus = [html_dict.doc2bow(text) for text in html_text]\n",
        "\n",
        "    num_topics = np.arange(3,11, dtype=int)\n",
        "    best_topic_num, coherence = find_best_num_topics(num_topics, html_corpus, html_dict, df)\n",
        "    lda = gensim.models.LdaMulticore(corpus=html_corpus, id2word=html_dict, num_topics=best_topic_num)\n",
        "\n",
        "    perplexity = lda.log_perplexity(html_corpus)\n",
        "\n",
        "    topics = get_topics(lda, best_topic_num)\n",
        "\n",
        "    to_insert.append({'keyword' : keyword, 'Award' : df['Award'][0], 'topics' : topics, 'coherence' : coherence, 'perplexity' : perplexity})\n",
        "\n",
        "  return to_insert"
      ],
      "metadata": {
        "id": "su3H1rAd1aBA"
      },
      "execution_count": 11,
      "outputs": []
    },
    {
      "cell_type": "code",
      "source": [
        "#'DIBBSAward2023-04-13', 'DIBBSAward2023-04-15', 'CICIAward2023-04-10', 'CSSIAward2023-04-16', 'MRIAward2023-04-16', 'CCFAward2023-04-11', 'SI2Award2023-04-24'\n",
        "#still need 'CCFAward2023-04-11', \n",
        "\n",
        "collection_names = ['CCFAward2023-04-11']"
      ],
      "metadata": {
        "id": "o6GQlCx6IWPS"
      },
      "execution_count": 14,
      "outputs": []
    },
    {
      "cell_type": "code",
      "source": [
        "topic_collection = session.connection['keywords']\n",
        "\n",
        "for cur_collection in collection_names:\n",
        "  db_clean = clean[cur_collection]\n",
        "  keywords = db_clean.distinct('keyword')\n",
        "  print('Currently modeling: ' + cur_collection + ' ('+str(len(keywords))+' keywords)')\n",
        "  print(keywords)\n",
        "  print('-------------------')\n",
        "\n",
        "  to_insert = get_to_insert_list(keywords)\n",
        "\n",
        "  db_topics = topic_collection[cur_collection]\n",
        "\n",
        "  print('Inserting into db...\\n')\n",
        "  db_topics.insert_many(to_insert)"
      ],
      "metadata": {
        "colab": {
          "base_uri": "https://localhost:8080/"
        },
        "id": "EdAv6B8x1B2S",
        "outputId": "b9172361-9b64-4e12-eab5-a2b6c4e960c5"
      },
      "execution_count": 15,
      "outputs": [
        {
          "output_type": "stream",
          "name": "stdout",
          "text": [
            "Currently modeling: CCFAward2023-04-11 (59 keywords)\n",
            "['af', 'algorithms', 'analysis', 'applications', 'based', 'br', 'career', 'cif', 'circuits', 'collaborative', 'communication', 'computational', 'computer', 'computing', 'conference', 'data', 'design', 'develop', 'dna', 'efficient', 'energy', 'grant', 'high', 'information', 'international', 'language', 'learning', 'medium', 'methods', 'modeling', 'networks', 'new', 'nsf', 'parallel', 'performance', 'problems', 'processing', 'program', 'programming', 'project', 'quantum', 'research', 'scale', 'science', 'shf', 'signal', 'small', 'software', 'student', 'students', 'support', 'system', 'systems', 'techniques', 'testing', 'theory', 'tools', 'travel', 'using']\n",
            "-------------------\n",
            "----------\n",
            "Currently modeling for keyword: af (1 of 59)\n",
            "----------\n"
          ]
        },
        {
          "output_type": "stream",
          "name": "stderr",
          "text": [
            "WARNING:gensim.models.ldamulticore:too few updates, training might not converge; consider increasing the number of passes or iterations to improve accuracy\n"
          ]
        },
        {
          "output_type": "stream",
          "name": "stdout",
          "text": [
            "Checking coherence for 3 topics...\n"
          ]
        },
        {
          "output_type": "stream",
          "name": "stderr",
          "text": [
            "WARNING:gensim.models.ldamulticore:too few updates, training might not converge; consider increasing the number of passes or iterations to improve accuracy\n"
          ]
        },
        {
          "output_type": "stream",
          "name": "stdout",
          "text": [
            "Checking coherence for 4 topics...\n"
          ]
        },
        {
          "output_type": "stream",
          "name": "stderr",
          "text": [
            "WARNING:gensim.models.ldamulticore:too few updates, training might not converge; consider increasing the number of passes or iterations to improve accuracy\n"
          ]
        },
        {
          "output_type": "stream",
          "name": "stdout",
          "text": [
            "Checking coherence for 5 topics...\n"
          ]
        },
        {
          "output_type": "stream",
          "name": "stderr",
          "text": [
            "WARNING:gensim.models.ldamulticore:too few updates, training might not converge; consider increasing the number of passes or iterations to improve accuracy\n"
          ]
        },
        {
          "output_type": "stream",
          "name": "stdout",
          "text": [
            "Checking coherence for 6 topics...\n"
          ]
        },
        {
          "output_type": "stream",
          "name": "stderr",
          "text": [
            "WARNING:gensim.models.ldamulticore:too few updates, training might not converge; consider increasing the number of passes or iterations to improve accuracy\n"
          ]
        },
        {
          "output_type": "stream",
          "name": "stdout",
          "text": [
            "Checking coherence for 7 topics...\n"
          ]
        },
        {
          "output_type": "stream",
          "name": "stderr",
          "text": [
            "WARNING:gensim.models.ldamulticore:too few updates, training might not converge; consider increasing the number of passes or iterations to improve accuracy\n"
          ]
        },
        {
          "output_type": "stream",
          "name": "stdout",
          "text": [
            "Checking coherence for 8 topics...\n"
          ]
        },
        {
          "output_type": "stream",
          "name": "stderr",
          "text": [
            "WARNING:gensim.models.ldamulticore:too few updates, training might not converge; consider increasing the number of passes or iterations to improve accuracy\n"
          ]
        },
        {
          "output_type": "stream",
          "name": "stdout",
          "text": [
            "Checking coherence for 9 topics...\n"
          ]
        },
        {
          "output_type": "stream",
          "name": "stderr",
          "text": [
            "WARNING:gensim.models.ldamulticore:too few updates, training might not converge; consider increasing the number of passes or iterations to improve accuracy\n"
          ]
        },
        {
          "output_type": "stream",
          "name": "stdout",
          "text": [
            "Checking coherence for 10 topics...\n"
          ]
        },
        {
          "output_type": "stream",
          "name": "stderr",
          "text": [
            "WARNING:gensim.models.ldamulticore:too few updates, training might not converge; consider increasing the number of passes or iterations to improve accuracy\n"
          ]
        },
        {
          "output_type": "stream",
          "name": "stdout",
          "text": [
            "----------\n",
            "Currently modeling for keyword: algorithms (2 of 59)\n",
            "----------\n"
          ]
        },
        {
          "output_type": "stream",
          "name": "stderr",
          "text": [
            "WARNING:gensim.models.ldamulticore:too few updates, training might not converge; consider increasing the number of passes or iterations to improve accuracy\n"
          ]
        },
        {
          "output_type": "stream",
          "name": "stdout",
          "text": [
            "Checking coherence for 3 topics...\n"
          ]
        },
        {
          "output_type": "stream",
          "name": "stderr",
          "text": [
            "WARNING:gensim.models.ldamulticore:too few updates, training might not converge; consider increasing the number of passes or iterations to improve accuracy\n"
          ]
        },
        {
          "output_type": "stream",
          "name": "stdout",
          "text": [
            "Checking coherence for 4 topics...\n"
          ]
        },
        {
          "output_type": "stream",
          "name": "stderr",
          "text": [
            "WARNING:gensim.models.ldamulticore:too few updates, training might not converge; consider increasing the number of passes or iterations to improve accuracy\n"
          ]
        },
        {
          "output_type": "stream",
          "name": "stdout",
          "text": [
            "Checking coherence for 5 topics...\n"
          ]
        },
        {
          "output_type": "stream",
          "name": "stderr",
          "text": [
            "WARNING:gensim.models.ldamulticore:too few updates, training might not converge; consider increasing the number of passes or iterations to improve accuracy\n"
          ]
        },
        {
          "output_type": "stream",
          "name": "stdout",
          "text": [
            "Checking coherence for 6 topics...\n"
          ]
        },
        {
          "output_type": "stream",
          "name": "stderr",
          "text": [
            "WARNING:gensim.models.ldamulticore:too few updates, training might not converge; consider increasing the number of passes or iterations to improve accuracy\n"
          ]
        },
        {
          "output_type": "stream",
          "name": "stdout",
          "text": [
            "Checking coherence for 7 topics...\n"
          ]
        },
        {
          "output_type": "stream",
          "name": "stderr",
          "text": [
            "WARNING:gensim.models.ldamulticore:too few updates, training might not converge; consider increasing the number of passes or iterations to improve accuracy\n"
          ]
        },
        {
          "output_type": "stream",
          "name": "stdout",
          "text": [
            "Checking coherence for 8 topics...\n"
          ]
        },
        {
          "output_type": "stream",
          "name": "stderr",
          "text": [
            "WARNING:gensim.models.ldamulticore:too few updates, training might not converge; consider increasing the number of passes or iterations to improve accuracy\n"
          ]
        },
        {
          "output_type": "stream",
          "name": "stdout",
          "text": [
            "Checking coherence for 9 topics...\n"
          ]
        },
        {
          "output_type": "stream",
          "name": "stderr",
          "text": [
            "WARNING:gensim.models.ldamulticore:too few updates, training might not converge; consider increasing the number of passes or iterations to improve accuracy\n"
          ]
        },
        {
          "output_type": "stream",
          "name": "stdout",
          "text": [
            "Checking coherence for 10 topics...\n"
          ]
        },
        {
          "output_type": "stream",
          "name": "stderr",
          "text": [
            "WARNING:gensim.models.ldamulticore:too few updates, training might not converge; consider increasing the number of passes or iterations to improve accuracy\n"
          ]
        },
        {
          "output_type": "stream",
          "name": "stdout",
          "text": [
            "----------\n",
            "Currently modeling for keyword: analysis (3 of 59)\n",
            "----------\n"
          ]
        },
        {
          "output_type": "stream",
          "name": "stderr",
          "text": [
            "WARNING:gensim.models.ldamulticore:too few updates, training might not converge; consider increasing the number of passes or iterations to improve accuracy\n"
          ]
        },
        {
          "output_type": "stream",
          "name": "stdout",
          "text": [
            "Checking coherence for 3 topics...\n"
          ]
        },
        {
          "output_type": "stream",
          "name": "stderr",
          "text": [
            "WARNING:gensim.models.ldamulticore:too few updates, training might not converge; consider increasing the number of passes or iterations to improve accuracy\n"
          ]
        },
        {
          "output_type": "stream",
          "name": "stdout",
          "text": [
            "Checking coherence for 4 topics...\n"
          ]
        },
        {
          "output_type": "stream",
          "name": "stderr",
          "text": [
            "WARNING:gensim.models.ldamulticore:too few updates, training might not converge; consider increasing the number of passes or iterations to improve accuracy\n"
          ]
        },
        {
          "output_type": "stream",
          "name": "stdout",
          "text": [
            "Checking coherence for 5 topics...\n"
          ]
        },
        {
          "output_type": "stream",
          "name": "stderr",
          "text": [
            "WARNING:gensim.models.ldamulticore:too few updates, training might not converge; consider increasing the number of passes or iterations to improve accuracy\n"
          ]
        },
        {
          "output_type": "stream",
          "name": "stdout",
          "text": [
            "Checking coherence for 6 topics...\n"
          ]
        },
        {
          "output_type": "stream",
          "name": "stderr",
          "text": [
            "WARNING:gensim.models.ldamulticore:too few updates, training might not converge; consider increasing the number of passes or iterations to improve accuracy\n"
          ]
        },
        {
          "output_type": "stream",
          "name": "stdout",
          "text": [
            "Checking coherence for 7 topics...\n"
          ]
        },
        {
          "output_type": "stream",
          "name": "stderr",
          "text": [
            "WARNING:gensim.models.ldamulticore:too few updates, training might not converge; consider increasing the number of passes or iterations to improve accuracy\n"
          ]
        },
        {
          "output_type": "stream",
          "name": "stdout",
          "text": [
            "Checking coherence for 8 topics...\n"
          ]
        },
        {
          "output_type": "stream",
          "name": "stderr",
          "text": [
            "WARNING:gensim.models.ldamulticore:too few updates, training might not converge; consider increasing the number of passes or iterations to improve accuracy\n"
          ]
        },
        {
          "output_type": "stream",
          "name": "stdout",
          "text": [
            "Checking coherence for 9 topics...\n"
          ]
        },
        {
          "output_type": "stream",
          "name": "stderr",
          "text": [
            "WARNING:gensim.models.ldamulticore:too few updates, training might not converge; consider increasing the number of passes or iterations to improve accuracy\n"
          ]
        },
        {
          "output_type": "stream",
          "name": "stdout",
          "text": [
            "Checking coherence for 10 topics...\n"
          ]
        },
        {
          "output_type": "stream",
          "name": "stderr",
          "text": [
            "WARNING:gensim.models.ldamulticore:too few updates, training might not converge; consider increasing the number of passes or iterations to improve accuracy\n"
          ]
        },
        {
          "output_type": "stream",
          "name": "stdout",
          "text": [
            "----------\n",
            "Currently modeling for keyword: applications (4 of 59)\n",
            "----------\n"
          ]
        },
        {
          "output_type": "stream",
          "name": "stderr",
          "text": [
            "WARNING:gensim.models.ldamulticore:too few updates, training might not converge; consider increasing the number of passes or iterations to improve accuracy\n"
          ]
        },
        {
          "output_type": "stream",
          "name": "stdout",
          "text": [
            "Checking coherence for 3 topics...\n"
          ]
        },
        {
          "output_type": "stream",
          "name": "stderr",
          "text": [
            "WARNING:gensim.models.ldamulticore:too few updates, training might not converge; consider increasing the number of passes or iterations to improve accuracy\n"
          ]
        },
        {
          "output_type": "stream",
          "name": "stdout",
          "text": [
            "Checking coherence for 4 topics...\n"
          ]
        },
        {
          "output_type": "stream",
          "name": "stderr",
          "text": [
            "WARNING:gensim.models.ldamulticore:too few updates, training might not converge; consider increasing the number of passes or iterations to improve accuracy\n"
          ]
        },
        {
          "output_type": "stream",
          "name": "stdout",
          "text": [
            "Checking coherence for 5 topics...\n"
          ]
        },
        {
          "output_type": "stream",
          "name": "stderr",
          "text": [
            "WARNING:gensim.models.ldamulticore:too few updates, training might not converge; consider increasing the number of passes or iterations to improve accuracy\n"
          ]
        },
        {
          "output_type": "stream",
          "name": "stdout",
          "text": [
            "Checking coherence for 6 topics...\n"
          ]
        },
        {
          "output_type": "stream",
          "name": "stderr",
          "text": [
            "WARNING:gensim.models.ldamulticore:too few updates, training might not converge; consider increasing the number of passes or iterations to improve accuracy\n"
          ]
        },
        {
          "output_type": "stream",
          "name": "stdout",
          "text": [
            "Checking coherence for 7 topics...\n"
          ]
        },
        {
          "output_type": "stream",
          "name": "stderr",
          "text": [
            "WARNING:gensim.models.ldamulticore:too few updates, training might not converge; consider increasing the number of passes or iterations to improve accuracy\n"
          ]
        },
        {
          "output_type": "stream",
          "name": "stdout",
          "text": [
            "Checking coherence for 8 topics...\n"
          ]
        },
        {
          "output_type": "stream",
          "name": "stderr",
          "text": [
            "WARNING:gensim.models.ldamulticore:too few updates, training might not converge; consider increasing the number of passes or iterations to improve accuracy\n"
          ]
        },
        {
          "output_type": "stream",
          "name": "stdout",
          "text": [
            "Checking coherence for 9 topics...\n"
          ]
        },
        {
          "output_type": "stream",
          "name": "stderr",
          "text": [
            "WARNING:gensim.models.ldamulticore:too few updates, training might not converge; consider increasing the number of passes or iterations to improve accuracy\n"
          ]
        },
        {
          "output_type": "stream",
          "name": "stdout",
          "text": [
            "Checking coherence for 10 topics...\n"
          ]
        },
        {
          "output_type": "stream",
          "name": "stderr",
          "text": [
            "WARNING:gensim.models.ldamulticore:too few updates, training might not converge; consider increasing the number of passes or iterations to improve accuracy\n"
          ]
        },
        {
          "output_type": "stream",
          "name": "stdout",
          "text": [
            "----------\n",
            "Currently modeling for keyword: based (5 of 59)\n",
            "----------\n"
          ]
        },
        {
          "output_type": "stream",
          "name": "stderr",
          "text": [
            "WARNING:gensim.models.ldamulticore:too few updates, training might not converge; consider increasing the number of passes or iterations to improve accuracy\n"
          ]
        },
        {
          "output_type": "stream",
          "name": "stdout",
          "text": [
            "Checking coherence for 3 topics...\n"
          ]
        },
        {
          "output_type": "stream",
          "name": "stderr",
          "text": [
            "WARNING:gensim.models.ldamulticore:too few updates, training might not converge; consider increasing the number of passes or iterations to improve accuracy\n"
          ]
        },
        {
          "output_type": "stream",
          "name": "stdout",
          "text": [
            "Checking coherence for 4 topics...\n"
          ]
        },
        {
          "output_type": "stream",
          "name": "stderr",
          "text": [
            "WARNING:gensim.models.ldamulticore:too few updates, training might not converge; consider increasing the number of passes or iterations to improve accuracy\n"
          ]
        },
        {
          "output_type": "stream",
          "name": "stdout",
          "text": [
            "Checking coherence for 5 topics...\n"
          ]
        },
        {
          "output_type": "stream",
          "name": "stderr",
          "text": [
            "WARNING:gensim.models.ldamulticore:too few updates, training might not converge; consider increasing the number of passes or iterations to improve accuracy\n"
          ]
        },
        {
          "output_type": "stream",
          "name": "stdout",
          "text": [
            "Checking coherence for 6 topics...\n"
          ]
        },
        {
          "output_type": "stream",
          "name": "stderr",
          "text": [
            "WARNING:gensim.models.ldamulticore:too few updates, training might not converge; consider increasing the number of passes or iterations to improve accuracy\n"
          ]
        },
        {
          "output_type": "stream",
          "name": "stdout",
          "text": [
            "Checking coherence for 7 topics...\n"
          ]
        },
        {
          "output_type": "stream",
          "name": "stderr",
          "text": [
            "WARNING:gensim.models.ldamulticore:too few updates, training might not converge; consider increasing the number of passes or iterations to improve accuracy\n"
          ]
        },
        {
          "output_type": "stream",
          "name": "stdout",
          "text": [
            "Checking coherence for 8 topics...\n"
          ]
        },
        {
          "output_type": "stream",
          "name": "stderr",
          "text": [
            "WARNING:gensim.models.ldamulticore:too few updates, training might not converge; consider increasing the number of passes or iterations to improve accuracy\n"
          ]
        },
        {
          "output_type": "stream",
          "name": "stdout",
          "text": [
            "Checking coherence for 9 topics...\n"
          ]
        },
        {
          "output_type": "stream",
          "name": "stderr",
          "text": [
            "WARNING:gensim.models.ldamulticore:too few updates, training might not converge; consider increasing the number of passes or iterations to improve accuracy\n"
          ]
        },
        {
          "output_type": "stream",
          "name": "stdout",
          "text": [
            "Checking coherence for 10 topics...\n"
          ]
        },
        {
          "output_type": "stream",
          "name": "stderr",
          "text": [
            "WARNING:gensim.models.ldamulticore:too few updates, training might not converge; consider increasing the number of passes or iterations to improve accuracy\n"
          ]
        },
        {
          "output_type": "stream",
          "name": "stdout",
          "text": [
            "----------\n",
            "Currently modeling for keyword: br (6 of 59)\n",
            "----------\n"
          ]
        },
        {
          "output_type": "stream",
          "name": "stderr",
          "text": [
            "WARNING:gensim.models.ldamulticore:too few updates, training might not converge; consider increasing the number of passes or iterations to improve accuracy\n"
          ]
        },
        {
          "output_type": "stream",
          "name": "stdout",
          "text": [
            "Checking coherence for 3 topics...\n"
          ]
        },
        {
          "output_type": "stream",
          "name": "stderr",
          "text": [
            "WARNING:gensim.models.ldamulticore:too few updates, training might not converge; consider increasing the number of passes or iterations to improve accuracy\n"
          ]
        },
        {
          "output_type": "stream",
          "name": "stdout",
          "text": [
            "Checking coherence for 4 topics...\n"
          ]
        },
        {
          "output_type": "stream",
          "name": "stderr",
          "text": [
            "WARNING:gensim.models.ldamulticore:too few updates, training might not converge; consider increasing the number of passes or iterations to improve accuracy\n"
          ]
        },
        {
          "output_type": "stream",
          "name": "stdout",
          "text": [
            "Checking coherence for 5 topics...\n"
          ]
        },
        {
          "output_type": "stream",
          "name": "stderr",
          "text": [
            "WARNING:gensim.models.ldamulticore:too few updates, training might not converge; consider increasing the number of passes or iterations to improve accuracy\n"
          ]
        },
        {
          "output_type": "stream",
          "name": "stdout",
          "text": [
            "Checking coherence for 6 topics...\n"
          ]
        },
        {
          "output_type": "stream",
          "name": "stderr",
          "text": [
            "WARNING:gensim.models.ldamulticore:too few updates, training might not converge; consider increasing the number of passes or iterations to improve accuracy\n"
          ]
        },
        {
          "output_type": "stream",
          "name": "stdout",
          "text": [
            "Checking coherence for 7 topics...\n"
          ]
        },
        {
          "output_type": "stream",
          "name": "stderr",
          "text": [
            "WARNING:gensim.models.ldamulticore:too few updates, training might not converge; consider increasing the number of passes or iterations to improve accuracy\n"
          ]
        },
        {
          "output_type": "stream",
          "name": "stdout",
          "text": [
            "Checking coherence for 8 topics...\n"
          ]
        },
        {
          "output_type": "stream",
          "name": "stderr",
          "text": [
            "WARNING:gensim.models.ldamulticore:too few updates, training might not converge; consider increasing the number of passes or iterations to improve accuracy\n"
          ]
        },
        {
          "output_type": "stream",
          "name": "stdout",
          "text": [
            "Checking coherence for 9 topics...\n"
          ]
        },
        {
          "output_type": "stream",
          "name": "stderr",
          "text": [
            "WARNING:gensim.models.ldamulticore:too few updates, training might not converge; consider increasing the number of passes or iterations to improve accuracy\n"
          ]
        },
        {
          "output_type": "stream",
          "name": "stdout",
          "text": [
            "Checking coherence for 10 topics...\n"
          ]
        },
        {
          "output_type": "stream",
          "name": "stderr",
          "text": [
            "WARNING:gensim.models.ldamulticore:too few updates, training might not converge; consider increasing the number of passes or iterations to improve accuracy\n"
          ]
        },
        {
          "output_type": "stream",
          "name": "stdout",
          "text": [
            "----------\n",
            "Currently modeling for keyword: career (7 of 59)\n",
            "----------\n"
          ]
        },
        {
          "output_type": "stream",
          "name": "stderr",
          "text": [
            "WARNING:gensim.models.ldamulticore:too few updates, training might not converge; consider increasing the number of passes or iterations to improve accuracy\n"
          ]
        },
        {
          "output_type": "stream",
          "name": "stdout",
          "text": [
            "Checking coherence for 3 topics...\n"
          ]
        },
        {
          "output_type": "stream",
          "name": "stderr",
          "text": [
            "WARNING:gensim.models.ldamulticore:too few updates, training might not converge; consider increasing the number of passes or iterations to improve accuracy\n"
          ]
        },
        {
          "output_type": "stream",
          "name": "stdout",
          "text": [
            "Checking coherence for 4 topics...\n"
          ]
        },
        {
          "output_type": "stream",
          "name": "stderr",
          "text": [
            "WARNING:gensim.models.ldamulticore:too few updates, training might not converge; consider increasing the number of passes or iterations to improve accuracy\n"
          ]
        },
        {
          "output_type": "stream",
          "name": "stdout",
          "text": [
            "Checking coherence for 5 topics...\n"
          ]
        },
        {
          "output_type": "stream",
          "name": "stderr",
          "text": [
            "WARNING:gensim.models.ldamulticore:too few updates, training might not converge; consider increasing the number of passes or iterations to improve accuracy\n"
          ]
        },
        {
          "output_type": "stream",
          "name": "stdout",
          "text": [
            "Checking coherence for 6 topics...\n"
          ]
        },
        {
          "output_type": "stream",
          "name": "stderr",
          "text": [
            "WARNING:gensim.models.ldamulticore:too few updates, training might not converge; consider increasing the number of passes or iterations to improve accuracy\n"
          ]
        },
        {
          "output_type": "stream",
          "name": "stdout",
          "text": [
            "Checking coherence for 7 topics...\n"
          ]
        },
        {
          "output_type": "stream",
          "name": "stderr",
          "text": [
            "WARNING:gensim.models.ldamulticore:too few updates, training might not converge; consider increasing the number of passes or iterations to improve accuracy\n"
          ]
        },
        {
          "output_type": "stream",
          "name": "stdout",
          "text": [
            "Checking coherence for 8 topics...\n"
          ]
        },
        {
          "output_type": "stream",
          "name": "stderr",
          "text": [
            "WARNING:gensim.models.ldamulticore:too few updates, training might not converge; consider increasing the number of passes or iterations to improve accuracy\n"
          ]
        },
        {
          "output_type": "stream",
          "name": "stdout",
          "text": [
            "Checking coherence for 9 topics...\n"
          ]
        },
        {
          "output_type": "stream",
          "name": "stderr",
          "text": [
            "WARNING:gensim.models.ldamulticore:too few updates, training might not converge; consider increasing the number of passes or iterations to improve accuracy\n"
          ]
        },
        {
          "output_type": "stream",
          "name": "stdout",
          "text": [
            "Checking coherence for 10 topics...\n"
          ]
        },
        {
          "output_type": "stream",
          "name": "stderr",
          "text": [
            "WARNING:gensim.models.ldamulticore:too few updates, training might not converge; consider increasing the number of passes or iterations to improve accuracy\n"
          ]
        },
        {
          "output_type": "stream",
          "name": "stdout",
          "text": [
            "----------\n",
            "Currently modeling for keyword: cif (8 of 59)\n",
            "----------\n"
          ]
        },
        {
          "output_type": "stream",
          "name": "stderr",
          "text": [
            "WARNING:gensim.models.ldamulticore:too few updates, training might not converge; consider increasing the number of passes or iterations to improve accuracy\n"
          ]
        },
        {
          "output_type": "stream",
          "name": "stdout",
          "text": [
            "Checking coherence for 3 topics...\n"
          ]
        },
        {
          "output_type": "stream",
          "name": "stderr",
          "text": [
            "WARNING:gensim.models.ldamulticore:too few updates, training might not converge; consider increasing the number of passes or iterations to improve accuracy\n"
          ]
        },
        {
          "output_type": "stream",
          "name": "stdout",
          "text": [
            "Checking coherence for 4 topics...\n"
          ]
        },
        {
          "output_type": "stream",
          "name": "stderr",
          "text": [
            "WARNING:gensim.models.ldamulticore:too few updates, training might not converge; consider increasing the number of passes or iterations to improve accuracy\n"
          ]
        },
        {
          "output_type": "stream",
          "name": "stdout",
          "text": [
            "Checking coherence for 5 topics...\n"
          ]
        },
        {
          "output_type": "stream",
          "name": "stderr",
          "text": [
            "WARNING:gensim.models.ldamulticore:too few updates, training might not converge; consider increasing the number of passes or iterations to improve accuracy\n"
          ]
        },
        {
          "output_type": "stream",
          "name": "stdout",
          "text": [
            "Checking coherence for 6 topics...\n"
          ]
        },
        {
          "output_type": "stream",
          "name": "stderr",
          "text": [
            "WARNING:gensim.models.ldamulticore:too few updates, training might not converge; consider increasing the number of passes or iterations to improve accuracy\n"
          ]
        },
        {
          "output_type": "stream",
          "name": "stdout",
          "text": [
            "Checking coherence for 7 topics...\n"
          ]
        },
        {
          "output_type": "stream",
          "name": "stderr",
          "text": [
            "WARNING:gensim.models.ldamulticore:too few updates, training might not converge; consider increasing the number of passes or iterations to improve accuracy\n"
          ]
        },
        {
          "output_type": "stream",
          "name": "stdout",
          "text": [
            "Checking coherence for 8 topics...\n"
          ]
        },
        {
          "output_type": "stream",
          "name": "stderr",
          "text": [
            "WARNING:gensim.models.ldamulticore:too few updates, training might not converge; consider increasing the number of passes or iterations to improve accuracy\n"
          ]
        },
        {
          "output_type": "stream",
          "name": "stdout",
          "text": [
            "Checking coherence for 9 topics...\n"
          ]
        },
        {
          "output_type": "stream",
          "name": "stderr",
          "text": [
            "WARNING:gensim.models.ldamulticore:too few updates, training might not converge; consider increasing the number of passes or iterations to improve accuracy\n"
          ]
        },
        {
          "output_type": "stream",
          "name": "stdout",
          "text": [
            "Checking coherence for 10 topics...\n"
          ]
        },
        {
          "output_type": "stream",
          "name": "stderr",
          "text": [
            "WARNING:gensim.models.ldamulticore:too few updates, training might not converge; consider increasing the number of passes or iterations to improve accuracy\n"
          ]
        },
        {
          "output_type": "stream",
          "name": "stdout",
          "text": [
            "----------\n",
            "Currently modeling for keyword: circuits (9 of 59)\n",
            "----------\n"
          ]
        },
        {
          "output_type": "stream",
          "name": "stderr",
          "text": [
            "WARNING:gensim.models.ldamulticore:too few updates, training might not converge; consider increasing the number of passes or iterations to improve accuracy\n"
          ]
        },
        {
          "output_type": "stream",
          "name": "stdout",
          "text": [
            "Checking coherence for 3 topics...\n"
          ]
        },
        {
          "output_type": "stream",
          "name": "stderr",
          "text": [
            "WARNING:gensim.models.ldamulticore:too few updates, training might not converge; consider increasing the number of passes or iterations to improve accuracy\n"
          ]
        },
        {
          "output_type": "stream",
          "name": "stdout",
          "text": [
            "Checking coherence for 4 topics...\n"
          ]
        },
        {
          "output_type": "stream",
          "name": "stderr",
          "text": [
            "WARNING:gensim.models.ldamulticore:too few updates, training might not converge; consider increasing the number of passes or iterations to improve accuracy\n"
          ]
        },
        {
          "output_type": "stream",
          "name": "stdout",
          "text": [
            "Checking coherence for 5 topics...\n"
          ]
        },
        {
          "output_type": "stream",
          "name": "stderr",
          "text": [
            "WARNING:gensim.models.ldamulticore:too few updates, training might not converge; consider increasing the number of passes or iterations to improve accuracy\n"
          ]
        },
        {
          "output_type": "stream",
          "name": "stdout",
          "text": [
            "Checking coherence for 6 topics...\n"
          ]
        },
        {
          "output_type": "stream",
          "name": "stderr",
          "text": [
            "WARNING:gensim.models.ldamulticore:too few updates, training might not converge; consider increasing the number of passes or iterations to improve accuracy\n"
          ]
        },
        {
          "output_type": "stream",
          "name": "stdout",
          "text": [
            "Checking coherence for 7 topics...\n"
          ]
        },
        {
          "output_type": "stream",
          "name": "stderr",
          "text": [
            "WARNING:gensim.models.ldamulticore:too few updates, training might not converge; consider increasing the number of passes or iterations to improve accuracy\n"
          ]
        },
        {
          "output_type": "stream",
          "name": "stdout",
          "text": [
            "Checking coherence for 8 topics...\n"
          ]
        },
        {
          "output_type": "stream",
          "name": "stderr",
          "text": [
            "WARNING:gensim.models.ldamulticore:too few updates, training might not converge; consider increasing the number of passes or iterations to improve accuracy\n"
          ]
        },
        {
          "output_type": "stream",
          "name": "stdout",
          "text": [
            "Checking coherence for 9 topics...\n"
          ]
        },
        {
          "output_type": "stream",
          "name": "stderr",
          "text": [
            "WARNING:gensim.models.ldamulticore:too few updates, training might not converge; consider increasing the number of passes or iterations to improve accuracy\n"
          ]
        },
        {
          "output_type": "stream",
          "name": "stdout",
          "text": [
            "Checking coherence for 10 topics...\n"
          ]
        },
        {
          "output_type": "stream",
          "name": "stderr",
          "text": [
            "WARNING:gensim.models.ldamulticore:too few updates, training might not converge; consider increasing the number of passes or iterations to improve accuracy\n"
          ]
        },
        {
          "output_type": "stream",
          "name": "stdout",
          "text": [
            "----------\n",
            "Currently modeling for keyword: collaborative (10 of 59)\n",
            "----------\n"
          ]
        },
        {
          "output_type": "stream",
          "name": "stderr",
          "text": [
            "WARNING:gensim.models.ldamulticore:too few updates, training might not converge; consider increasing the number of passes or iterations to improve accuracy\n"
          ]
        },
        {
          "output_type": "stream",
          "name": "stdout",
          "text": [
            "Checking coherence for 3 topics...\n"
          ]
        },
        {
          "output_type": "stream",
          "name": "stderr",
          "text": [
            "WARNING:gensim.models.ldamulticore:too few updates, training might not converge; consider increasing the number of passes or iterations to improve accuracy\n"
          ]
        },
        {
          "output_type": "stream",
          "name": "stdout",
          "text": [
            "Checking coherence for 4 topics...\n"
          ]
        },
        {
          "output_type": "stream",
          "name": "stderr",
          "text": [
            "WARNING:gensim.models.ldamulticore:too few updates, training might not converge; consider increasing the number of passes or iterations to improve accuracy\n"
          ]
        },
        {
          "output_type": "stream",
          "name": "stdout",
          "text": [
            "Checking coherence for 5 topics...\n"
          ]
        },
        {
          "output_type": "stream",
          "name": "stderr",
          "text": [
            "WARNING:gensim.models.ldamulticore:too few updates, training might not converge; consider increasing the number of passes or iterations to improve accuracy\n"
          ]
        },
        {
          "output_type": "stream",
          "name": "stdout",
          "text": [
            "Checking coherence for 6 topics...\n"
          ]
        },
        {
          "output_type": "stream",
          "name": "stderr",
          "text": [
            "WARNING:gensim.models.ldamulticore:too few updates, training might not converge; consider increasing the number of passes or iterations to improve accuracy\n"
          ]
        },
        {
          "output_type": "stream",
          "name": "stdout",
          "text": [
            "Checking coherence for 7 topics...\n"
          ]
        },
        {
          "output_type": "stream",
          "name": "stderr",
          "text": [
            "WARNING:gensim.models.ldamulticore:too few updates, training might not converge; consider increasing the number of passes or iterations to improve accuracy\n"
          ]
        },
        {
          "output_type": "stream",
          "name": "stdout",
          "text": [
            "Checking coherence for 8 topics...\n"
          ]
        },
        {
          "output_type": "stream",
          "name": "stderr",
          "text": [
            "WARNING:gensim.models.ldamulticore:too few updates, training might not converge; consider increasing the number of passes or iterations to improve accuracy\n"
          ]
        },
        {
          "output_type": "stream",
          "name": "stdout",
          "text": [
            "Checking coherence for 9 topics...\n"
          ]
        },
        {
          "output_type": "stream",
          "name": "stderr",
          "text": [
            "WARNING:gensim.models.ldamulticore:too few updates, training might not converge; consider increasing the number of passes or iterations to improve accuracy\n"
          ]
        },
        {
          "output_type": "stream",
          "name": "stdout",
          "text": [
            "Checking coherence for 10 topics...\n"
          ]
        },
        {
          "output_type": "stream",
          "name": "stderr",
          "text": [
            "WARNING:gensim.models.ldamulticore:too few updates, training might not converge; consider increasing the number of passes or iterations to improve accuracy\n"
          ]
        },
        {
          "output_type": "stream",
          "name": "stdout",
          "text": [
            "----------\n",
            "Currently modeling for keyword: communication (11 of 59)\n",
            "----------\n"
          ]
        },
        {
          "output_type": "stream",
          "name": "stderr",
          "text": [
            "WARNING:gensim.models.ldamulticore:too few updates, training might not converge; consider increasing the number of passes or iterations to improve accuracy\n"
          ]
        },
        {
          "output_type": "stream",
          "name": "stdout",
          "text": [
            "Checking coherence for 3 topics...\n"
          ]
        },
        {
          "output_type": "stream",
          "name": "stderr",
          "text": [
            "WARNING:gensim.models.ldamulticore:too few updates, training might not converge; consider increasing the number of passes or iterations to improve accuracy\n"
          ]
        },
        {
          "output_type": "stream",
          "name": "stdout",
          "text": [
            "Checking coherence for 4 topics...\n"
          ]
        },
        {
          "output_type": "stream",
          "name": "stderr",
          "text": [
            "WARNING:gensim.models.ldamulticore:too few updates, training might not converge; consider increasing the number of passes or iterations to improve accuracy\n"
          ]
        },
        {
          "output_type": "stream",
          "name": "stdout",
          "text": [
            "Checking coherence for 5 topics...\n"
          ]
        },
        {
          "output_type": "stream",
          "name": "stderr",
          "text": [
            "WARNING:gensim.models.ldamulticore:too few updates, training might not converge; consider increasing the number of passes or iterations to improve accuracy\n"
          ]
        },
        {
          "output_type": "stream",
          "name": "stdout",
          "text": [
            "Checking coherence for 6 topics...\n"
          ]
        },
        {
          "output_type": "stream",
          "name": "stderr",
          "text": [
            "WARNING:gensim.models.ldamulticore:too few updates, training might not converge; consider increasing the number of passes or iterations to improve accuracy\n"
          ]
        },
        {
          "output_type": "stream",
          "name": "stdout",
          "text": [
            "Checking coherence for 7 topics...\n"
          ]
        },
        {
          "output_type": "stream",
          "name": "stderr",
          "text": [
            "WARNING:gensim.models.ldamulticore:too few updates, training might not converge; consider increasing the number of passes or iterations to improve accuracy\n"
          ]
        },
        {
          "output_type": "stream",
          "name": "stdout",
          "text": [
            "Checking coherence for 8 topics...\n"
          ]
        },
        {
          "output_type": "stream",
          "name": "stderr",
          "text": [
            "WARNING:gensim.models.ldamulticore:too few updates, training might not converge; consider increasing the number of passes or iterations to improve accuracy\n"
          ]
        },
        {
          "output_type": "stream",
          "name": "stdout",
          "text": [
            "Checking coherence for 9 topics...\n"
          ]
        },
        {
          "output_type": "stream",
          "name": "stderr",
          "text": [
            "WARNING:gensim.models.ldamulticore:too few updates, training might not converge; consider increasing the number of passes or iterations to improve accuracy\n"
          ]
        },
        {
          "output_type": "stream",
          "name": "stdout",
          "text": [
            "Checking coherence for 10 topics...\n"
          ]
        },
        {
          "output_type": "stream",
          "name": "stderr",
          "text": [
            "WARNING:gensim.models.ldamulticore:too few updates, training might not converge; consider increasing the number of passes or iterations to improve accuracy\n"
          ]
        },
        {
          "output_type": "stream",
          "name": "stdout",
          "text": [
            "----------\n",
            "Currently modeling for keyword: computational (12 of 59)\n",
            "----------\n"
          ]
        },
        {
          "output_type": "stream",
          "name": "stderr",
          "text": [
            "WARNING:gensim.models.ldamulticore:too few updates, training might not converge; consider increasing the number of passes or iterations to improve accuracy\n"
          ]
        },
        {
          "output_type": "stream",
          "name": "stdout",
          "text": [
            "Checking coherence for 3 topics...\n"
          ]
        },
        {
          "output_type": "stream",
          "name": "stderr",
          "text": [
            "WARNING:gensim.models.ldamulticore:too few updates, training might not converge; consider increasing the number of passes or iterations to improve accuracy\n"
          ]
        },
        {
          "output_type": "stream",
          "name": "stdout",
          "text": [
            "Checking coherence for 4 topics...\n"
          ]
        },
        {
          "output_type": "stream",
          "name": "stderr",
          "text": [
            "WARNING:gensim.models.ldamulticore:too few updates, training might not converge; consider increasing the number of passes or iterations to improve accuracy\n"
          ]
        },
        {
          "output_type": "stream",
          "name": "stdout",
          "text": [
            "Checking coherence for 5 topics...\n"
          ]
        },
        {
          "output_type": "stream",
          "name": "stderr",
          "text": [
            "WARNING:gensim.models.ldamulticore:too few updates, training might not converge; consider increasing the number of passes or iterations to improve accuracy\n"
          ]
        },
        {
          "output_type": "stream",
          "name": "stdout",
          "text": [
            "Checking coherence for 6 topics...\n"
          ]
        },
        {
          "output_type": "stream",
          "name": "stderr",
          "text": [
            "WARNING:gensim.models.ldamulticore:too few updates, training might not converge; consider increasing the number of passes or iterations to improve accuracy\n"
          ]
        },
        {
          "output_type": "stream",
          "name": "stdout",
          "text": [
            "Checking coherence for 7 topics...\n"
          ]
        },
        {
          "output_type": "stream",
          "name": "stderr",
          "text": [
            "WARNING:gensim.models.ldamulticore:too few updates, training might not converge; consider increasing the number of passes or iterations to improve accuracy\n"
          ]
        },
        {
          "output_type": "stream",
          "name": "stdout",
          "text": [
            "Checking coherence for 8 topics...\n"
          ]
        },
        {
          "output_type": "stream",
          "name": "stderr",
          "text": [
            "WARNING:gensim.models.ldamulticore:too few updates, training might not converge; consider increasing the number of passes or iterations to improve accuracy\n"
          ]
        },
        {
          "output_type": "stream",
          "name": "stdout",
          "text": [
            "Checking coherence for 9 topics...\n"
          ]
        },
        {
          "output_type": "stream",
          "name": "stderr",
          "text": [
            "WARNING:gensim.models.ldamulticore:too few updates, training might not converge; consider increasing the number of passes or iterations to improve accuracy\n"
          ]
        },
        {
          "output_type": "stream",
          "name": "stdout",
          "text": [
            "Checking coherence for 10 topics...\n"
          ]
        },
        {
          "output_type": "stream",
          "name": "stderr",
          "text": [
            "WARNING:gensim.models.ldamulticore:too few updates, training might not converge; consider increasing the number of passes or iterations to improve accuracy\n"
          ]
        },
        {
          "output_type": "stream",
          "name": "stdout",
          "text": [
            "----------\n",
            "Currently modeling for keyword: computer (13 of 59)\n",
            "----------\n"
          ]
        },
        {
          "output_type": "stream",
          "name": "stderr",
          "text": [
            "WARNING:gensim.models.ldamulticore:too few updates, training might not converge; consider increasing the number of passes or iterations to improve accuracy\n"
          ]
        },
        {
          "output_type": "stream",
          "name": "stdout",
          "text": [
            "Checking coherence for 3 topics...\n"
          ]
        },
        {
          "output_type": "stream",
          "name": "stderr",
          "text": [
            "WARNING:gensim.models.ldamulticore:too few updates, training might not converge; consider increasing the number of passes or iterations to improve accuracy\n"
          ]
        },
        {
          "output_type": "stream",
          "name": "stdout",
          "text": [
            "Checking coherence for 4 topics...\n"
          ]
        },
        {
          "output_type": "stream",
          "name": "stderr",
          "text": [
            "WARNING:gensim.models.ldamulticore:too few updates, training might not converge; consider increasing the number of passes or iterations to improve accuracy\n"
          ]
        },
        {
          "output_type": "stream",
          "name": "stdout",
          "text": [
            "Checking coherence for 5 topics...\n"
          ]
        },
        {
          "output_type": "stream",
          "name": "stderr",
          "text": [
            "WARNING:gensim.models.ldamulticore:too few updates, training might not converge; consider increasing the number of passes or iterations to improve accuracy\n"
          ]
        },
        {
          "output_type": "stream",
          "name": "stdout",
          "text": [
            "Checking coherence for 6 topics...\n"
          ]
        },
        {
          "output_type": "stream",
          "name": "stderr",
          "text": [
            "WARNING:gensim.models.ldamulticore:too few updates, training might not converge; consider increasing the number of passes or iterations to improve accuracy\n"
          ]
        },
        {
          "output_type": "stream",
          "name": "stdout",
          "text": [
            "Checking coherence for 7 topics...\n"
          ]
        },
        {
          "output_type": "stream",
          "name": "stderr",
          "text": [
            "WARNING:gensim.models.ldamulticore:too few updates, training might not converge; consider increasing the number of passes or iterations to improve accuracy\n"
          ]
        },
        {
          "output_type": "stream",
          "name": "stdout",
          "text": [
            "Checking coherence for 8 topics...\n"
          ]
        },
        {
          "output_type": "stream",
          "name": "stderr",
          "text": [
            "WARNING:gensim.models.ldamulticore:too few updates, training might not converge; consider increasing the number of passes or iterations to improve accuracy\n"
          ]
        },
        {
          "output_type": "stream",
          "name": "stdout",
          "text": [
            "Checking coherence for 9 topics...\n"
          ]
        },
        {
          "output_type": "stream",
          "name": "stderr",
          "text": [
            "WARNING:gensim.models.ldamulticore:too few updates, training might not converge; consider increasing the number of passes or iterations to improve accuracy\n"
          ]
        },
        {
          "output_type": "stream",
          "name": "stdout",
          "text": [
            "Checking coherence for 10 topics...\n"
          ]
        },
        {
          "output_type": "stream",
          "name": "stderr",
          "text": [
            "WARNING:gensim.models.ldamulticore:too few updates, training might not converge; consider increasing the number of passes or iterations to improve accuracy\n"
          ]
        },
        {
          "output_type": "stream",
          "name": "stdout",
          "text": [
            "----------\n",
            "Currently modeling for keyword: computing (14 of 59)\n",
            "----------\n"
          ]
        },
        {
          "output_type": "stream",
          "name": "stderr",
          "text": [
            "WARNING:gensim.models.ldamulticore:too few updates, training might not converge; consider increasing the number of passes or iterations to improve accuracy\n"
          ]
        },
        {
          "output_type": "stream",
          "name": "stdout",
          "text": [
            "Checking coherence for 3 topics...\n"
          ]
        },
        {
          "output_type": "stream",
          "name": "stderr",
          "text": [
            "WARNING:gensim.models.ldamulticore:too few updates, training might not converge; consider increasing the number of passes or iterations to improve accuracy\n"
          ]
        },
        {
          "output_type": "stream",
          "name": "stdout",
          "text": [
            "Checking coherence for 4 topics...\n"
          ]
        },
        {
          "output_type": "stream",
          "name": "stderr",
          "text": [
            "WARNING:gensim.models.ldamulticore:too few updates, training might not converge; consider increasing the number of passes or iterations to improve accuracy\n"
          ]
        },
        {
          "output_type": "stream",
          "name": "stdout",
          "text": [
            "Checking coherence for 5 topics...\n"
          ]
        },
        {
          "output_type": "stream",
          "name": "stderr",
          "text": [
            "WARNING:gensim.models.ldamulticore:too few updates, training might not converge; consider increasing the number of passes or iterations to improve accuracy\n"
          ]
        },
        {
          "output_type": "stream",
          "name": "stdout",
          "text": [
            "Checking coherence for 6 topics...\n"
          ]
        },
        {
          "output_type": "stream",
          "name": "stderr",
          "text": [
            "WARNING:gensim.models.ldamulticore:too few updates, training might not converge; consider increasing the number of passes or iterations to improve accuracy\n"
          ]
        },
        {
          "output_type": "stream",
          "name": "stdout",
          "text": [
            "Checking coherence for 7 topics...\n"
          ]
        },
        {
          "output_type": "stream",
          "name": "stderr",
          "text": [
            "WARNING:gensim.models.ldamulticore:too few updates, training might not converge; consider increasing the number of passes or iterations to improve accuracy\n"
          ]
        },
        {
          "output_type": "stream",
          "name": "stdout",
          "text": [
            "Checking coherence for 8 topics...\n"
          ]
        },
        {
          "output_type": "stream",
          "name": "stderr",
          "text": [
            "WARNING:gensim.models.ldamulticore:too few updates, training might not converge; consider increasing the number of passes or iterations to improve accuracy\n"
          ]
        },
        {
          "output_type": "stream",
          "name": "stdout",
          "text": [
            "Checking coherence for 9 topics...\n"
          ]
        },
        {
          "output_type": "stream",
          "name": "stderr",
          "text": [
            "WARNING:gensim.models.ldamulticore:too few updates, training might not converge; consider increasing the number of passes or iterations to improve accuracy\n"
          ]
        },
        {
          "output_type": "stream",
          "name": "stdout",
          "text": [
            "Checking coherence for 10 topics...\n"
          ]
        },
        {
          "output_type": "stream",
          "name": "stderr",
          "text": [
            "WARNING:gensim.models.ldamulticore:too few updates, training might not converge; consider increasing the number of passes or iterations to improve accuracy\n"
          ]
        },
        {
          "output_type": "stream",
          "name": "stdout",
          "text": [
            "----------\n",
            "Currently modeling for keyword: conference (15 of 59)\n",
            "----------\n"
          ]
        },
        {
          "output_type": "stream",
          "name": "stderr",
          "text": [
            "WARNING:gensim.models.ldamulticore:too few updates, training might not converge; consider increasing the number of passes or iterations to improve accuracy\n"
          ]
        },
        {
          "output_type": "stream",
          "name": "stdout",
          "text": [
            "Checking coherence for 3 topics...\n"
          ]
        },
        {
          "output_type": "stream",
          "name": "stderr",
          "text": [
            "WARNING:gensim.models.ldamulticore:too few updates, training might not converge; consider increasing the number of passes or iterations to improve accuracy\n"
          ]
        },
        {
          "output_type": "stream",
          "name": "stdout",
          "text": [
            "Checking coherence for 4 topics...\n"
          ]
        },
        {
          "output_type": "stream",
          "name": "stderr",
          "text": [
            "WARNING:gensim.models.ldamulticore:too few updates, training might not converge; consider increasing the number of passes or iterations to improve accuracy\n"
          ]
        },
        {
          "output_type": "stream",
          "name": "stdout",
          "text": [
            "Checking coherence for 5 topics...\n"
          ]
        },
        {
          "output_type": "stream",
          "name": "stderr",
          "text": [
            "WARNING:gensim.models.ldamulticore:too few updates, training might not converge; consider increasing the number of passes or iterations to improve accuracy\n"
          ]
        },
        {
          "output_type": "stream",
          "name": "stdout",
          "text": [
            "Checking coherence for 6 topics...\n"
          ]
        },
        {
          "output_type": "stream",
          "name": "stderr",
          "text": [
            "WARNING:gensim.models.ldamulticore:too few updates, training might not converge; consider increasing the number of passes or iterations to improve accuracy\n"
          ]
        },
        {
          "output_type": "stream",
          "name": "stdout",
          "text": [
            "Checking coherence for 7 topics...\n"
          ]
        },
        {
          "output_type": "stream",
          "name": "stderr",
          "text": [
            "WARNING:gensim.models.ldamulticore:too few updates, training might not converge; consider increasing the number of passes or iterations to improve accuracy\n"
          ]
        },
        {
          "output_type": "stream",
          "name": "stdout",
          "text": [
            "Checking coherence for 8 topics...\n"
          ]
        },
        {
          "output_type": "stream",
          "name": "stderr",
          "text": [
            "WARNING:gensim.models.ldamulticore:too few updates, training might not converge; consider increasing the number of passes or iterations to improve accuracy\n"
          ]
        },
        {
          "output_type": "stream",
          "name": "stdout",
          "text": [
            "Checking coherence for 9 topics...\n"
          ]
        },
        {
          "output_type": "stream",
          "name": "stderr",
          "text": [
            "WARNING:gensim.models.ldamulticore:too few updates, training might not converge; consider increasing the number of passes or iterations to improve accuracy\n"
          ]
        },
        {
          "output_type": "stream",
          "name": "stdout",
          "text": [
            "Checking coherence for 10 topics...\n"
          ]
        },
        {
          "output_type": "stream",
          "name": "stderr",
          "text": [
            "WARNING:gensim.models.ldamulticore:too few updates, training might not converge; consider increasing the number of passes or iterations to improve accuracy\n"
          ]
        },
        {
          "output_type": "stream",
          "name": "stdout",
          "text": [
            "----------\n",
            "Currently modeling for keyword: data (16 of 59)\n",
            "----------\n"
          ]
        },
        {
          "output_type": "stream",
          "name": "stderr",
          "text": [
            "WARNING:gensim.models.ldamulticore:too few updates, training might not converge; consider increasing the number of passes or iterations to improve accuracy\n"
          ]
        },
        {
          "output_type": "stream",
          "name": "stdout",
          "text": [
            "Checking coherence for 3 topics...\n"
          ]
        },
        {
          "output_type": "stream",
          "name": "stderr",
          "text": [
            "WARNING:gensim.models.ldamulticore:too few updates, training might not converge; consider increasing the number of passes or iterations to improve accuracy\n"
          ]
        },
        {
          "output_type": "stream",
          "name": "stdout",
          "text": [
            "Checking coherence for 4 topics...\n"
          ]
        },
        {
          "output_type": "stream",
          "name": "stderr",
          "text": [
            "WARNING:gensim.models.ldamulticore:too few updates, training might not converge; consider increasing the number of passes or iterations to improve accuracy\n"
          ]
        },
        {
          "output_type": "stream",
          "name": "stdout",
          "text": [
            "Checking coherence for 5 topics...\n"
          ]
        },
        {
          "output_type": "stream",
          "name": "stderr",
          "text": [
            "WARNING:gensim.models.ldamulticore:too few updates, training might not converge; consider increasing the number of passes or iterations to improve accuracy\n"
          ]
        },
        {
          "output_type": "stream",
          "name": "stdout",
          "text": [
            "Checking coherence for 6 topics...\n"
          ]
        },
        {
          "output_type": "stream",
          "name": "stderr",
          "text": [
            "WARNING:gensim.models.ldamulticore:too few updates, training might not converge; consider increasing the number of passes or iterations to improve accuracy\n"
          ]
        },
        {
          "output_type": "stream",
          "name": "stdout",
          "text": [
            "Checking coherence for 7 topics...\n"
          ]
        },
        {
          "output_type": "stream",
          "name": "stderr",
          "text": [
            "WARNING:gensim.models.ldamulticore:too few updates, training might not converge; consider increasing the number of passes or iterations to improve accuracy\n"
          ]
        },
        {
          "output_type": "stream",
          "name": "stdout",
          "text": [
            "Checking coherence for 8 topics...\n"
          ]
        },
        {
          "output_type": "stream",
          "name": "stderr",
          "text": [
            "WARNING:gensim.models.ldamulticore:too few updates, training might not converge; consider increasing the number of passes or iterations to improve accuracy\n"
          ]
        },
        {
          "output_type": "stream",
          "name": "stdout",
          "text": [
            "Checking coherence for 9 topics...\n"
          ]
        },
        {
          "output_type": "stream",
          "name": "stderr",
          "text": [
            "WARNING:gensim.models.ldamulticore:too few updates, training might not converge; consider increasing the number of passes or iterations to improve accuracy\n"
          ]
        },
        {
          "output_type": "stream",
          "name": "stdout",
          "text": [
            "Checking coherence for 10 topics...\n"
          ]
        },
        {
          "output_type": "stream",
          "name": "stderr",
          "text": [
            "WARNING:gensim.models.ldamulticore:too few updates, training might not converge; consider increasing the number of passes or iterations to improve accuracy\n"
          ]
        },
        {
          "output_type": "stream",
          "name": "stdout",
          "text": [
            "----------\n",
            "Currently modeling for keyword: design (17 of 59)\n",
            "----------\n"
          ]
        },
        {
          "output_type": "stream",
          "name": "stderr",
          "text": [
            "WARNING:gensim.models.ldamulticore:too few updates, training might not converge; consider increasing the number of passes or iterations to improve accuracy\n"
          ]
        },
        {
          "output_type": "stream",
          "name": "stdout",
          "text": [
            "Checking coherence for 3 topics...\n"
          ]
        },
        {
          "output_type": "stream",
          "name": "stderr",
          "text": [
            "WARNING:gensim.models.ldamulticore:too few updates, training might not converge; consider increasing the number of passes or iterations to improve accuracy\n"
          ]
        },
        {
          "output_type": "stream",
          "name": "stdout",
          "text": [
            "Checking coherence for 4 topics...\n"
          ]
        },
        {
          "output_type": "stream",
          "name": "stderr",
          "text": [
            "WARNING:gensim.models.ldamulticore:too few updates, training might not converge; consider increasing the number of passes or iterations to improve accuracy\n"
          ]
        },
        {
          "output_type": "stream",
          "name": "stdout",
          "text": [
            "Checking coherence for 5 topics...\n"
          ]
        },
        {
          "output_type": "stream",
          "name": "stderr",
          "text": [
            "WARNING:gensim.models.ldamulticore:too few updates, training might not converge; consider increasing the number of passes or iterations to improve accuracy\n"
          ]
        },
        {
          "output_type": "stream",
          "name": "stdout",
          "text": [
            "Checking coherence for 6 topics...\n"
          ]
        },
        {
          "output_type": "stream",
          "name": "stderr",
          "text": [
            "WARNING:gensim.models.ldamulticore:too few updates, training might not converge; consider increasing the number of passes or iterations to improve accuracy\n"
          ]
        },
        {
          "output_type": "stream",
          "name": "stdout",
          "text": [
            "Checking coherence for 7 topics...\n"
          ]
        },
        {
          "output_type": "stream",
          "name": "stderr",
          "text": [
            "WARNING:gensim.models.ldamulticore:too few updates, training might not converge; consider increasing the number of passes or iterations to improve accuracy\n"
          ]
        },
        {
          "output_type": "stream",
          "name": "stdout",
          "text": [
            "Checking coherence for 8 topics...\n"
          ]
        },
        {
          "output_type": "stream",
          "name": "stderr",
          "text": [
            "WARNING:gensim.models.ldamulticore:too few updates, training might not converge; consider increasing the number of passes or iterations to improve accuracy\n"
          ]
        },
        {
          "output_type": "stream",
          "name": "stdout",
          "text": [
            "Checking coherence for 9 topics...\n"
          ]
        },
        {
          "output_type": "stream",
          "name": "stderr",
          "text": [
            "WARNING:gensim.models.ldamulticore:too few updates, training might not converge; consider increasing the number of passes or iterations to improve accuracy\n"
          ]
        },
        {
          "output_type": "stream",
          "name": "stdout",
          "text": [
            "Checking coherence for 10 topics...\n"
          ]
        },
        {
          "output_type": "stream",
          "name": "stderr",
          "text": [
            "WARNING:gensim.models.ldamulticore:too few updates, training might not converge; consider increasing the number of passes or iterations to improve accuracy\n"
          ]
        },
        {
          "output_type": "stream",
          "name": "stdout",
          "text": [
            "----------\n",
            "Currently modeling for keyword: develop (18 of 59)\n",
            "----------\n"
          ]
        },
        {
          "output_type": "stream",
          "name": "stderr",
          "text": [
            "WARNING:gensim.models.ldamulticore:too few updates, training might not converge; consider increasing the number of passes or iterations to improve accuracy\n"
          ]
        },
        {
          "output_type": "stream",
          "name": "stdout",
          "text": [
            "Checking coherence for 3 topics...\n"
          ]
        },
        {
          "output_type": "stream",
          "name": "stderr",
          "text": [
            "WARNING:gensim.models.ldamulticore:too few updates, training might not converge; consider increasing the number of passes or iterations to improve accuracy\n"
          ]
        },
        {
          "output_type": "stream",
          "name": "stdout",
          "text": [
            "Checking coherence for 4 topics...\n"
          ]
        },
        {
          "output_type": "stream",
          "name": "stderr",
          "text": [
            "WARNING:gensim.models.ldamulticore:too few updates, training might not converge; consider increasing the number of passes or iterations to improve accuracy\n"
          ]
        },
        {
          "output_type": "stream",
          "name": "stdout",
          "text": [
            "Checking coherence for 5 topics...\n"
          ]
        },
        {
          "output_type": "stream",
          "name": "stderr",
          "text": [
            "WARNING:gensim.models.ldamulticore:too few updates, training might not converge; consider increasing the number of passes or iterations to improve accuracy\n"
          ]
        },
        {
          "output_type": "stream",
          "name": "stdout",
          "text": [
            "Checking coherence for 6 topics...\n"
          ]
        },
        {
          "output_type": "stream",
          "name": "stderr",
          "text": [
            "WARNING:gensim.models.ldamulticore:too few updates, training might not converge; consider increasing the number of passes or iterations to improve accuracy\n"
          ]
        },
        {
          "output_type": "stream",
          "name": "stdout",
          "text": [
            "Checking coherence for 7 topics...\n"
          ]
        },
        {
          "output_type": "stream",
          "name": "stderr",
          "text": [
            "WARNING:gensim.models.ldamulticore:too few updates, training might not converge; consider increasing the number of passes or iterations to improve accuracy\n"
          ]
        },
        {
          "output_type": "stream",
          "name": "stdout",
          "text": [
            "Checking coherence for 8 topics...\n"
          ]
        },
        {
          "output_type": "stream",
          "name": "stderr",
          "text": [
            "WARNING:gensim.models.ldamulticore:too few updates, training might not converge; consider increasing the number of passes or iterations to improve accuracy\n"
          ]
        },
        {
          "output_type": "stream",
          "name": "stdout",
          "text": [
            "Checking coherence for 9 topics...\n"
          ]
        },
        {
          "output_type": "stream",
          "name": "stderr",
          "text": [
            "WARNING:gensim.models.ldamulticore:too few updates, training might not converge; consider increasing the number of passes or iterations to improve accuracy\n"
          ]
        },
        {
          "output_type": "stream",
          "name": "stdout",
          "text": [
            "Checking coherence for 10 topics...\n"
          ]
        },
        {
          "output_type": "stream",
          "name": "stderr",
          "text": [
            "WARNING:gensim.models.ldamulticore:too few updates, training might not converge; consider increasing the number of passes or iterations to improve accuracy\n"
          ]
        },
        {
          "output_type": "stream",
          "name": "stdout",
          "text": [
            "----------\n",
            "Currently modeling for keyword: dna (19 of 59)\n",
            "----------\n"
          ]
        },
        {
          "output_type": "stream",
          "name": "stderr",
          "text": [
            "WARNING:gensim.models.ldamulticore:too few updates, training might not converge; consider increasing the number of passes or iterations to improve accuracy\n"
          ]
        },
        {
          "output_type": "stream",
          "name": "stdout",
          "text": [
            "Checking coherence for 3 topics...\n"
          ]
        },
        {
          "output_type": "stream",
          "name": "stderr",
          "text": [
            "WARNING:gensim.models.ldamulticore:too few updates, training might not converge; consider increasing the number of passes or iterations to improve accuracy\n"
          ]
        },
        {
          "output_type": "stream",
          "name": "stdout",
          "text": [
            "Checking coherence for 4 topics...\n"
          ]
        },
        {
          "output_type": "stream",
          "name": "stderr",
          "text": [
            "WARNING:gensim.models.ldamulticore:too few updates, training might not converge; consider increasing the number of passes or iterations to improve accuracy\n"
          ]
        },
        {
          "output_type": "stream",
          "name": "stdout",
          "text": [
            "Checking coherence for 5 topics...\n"
          ]
        },
        {
          "output_type": "stream",
          "name": "stderr",
          "text": [
            "WARNING:gensim.models.ldamulticore:too few updates, training might not converge; consider increasing the number of passes or iterations to improve accuracy\n"
          ]
        },
        {
          "output_type": "stream",
          "name": "stdout",
          "text": [
            "Checking coherence for 6 topics...\n"
          ]
        },
        {
          "output_type": "stream",
          "name": "stderr",
          "text": [
            "WARNING:gensim.models.ldamulticore:too few updates, training might not converge; consider increasing the number of passes or iterations to improve accuracy\n"
          ]
        },
        {
          "output_type": "stream",
          "name": "stdout",
          "text": [
            "Checking coherence for 7 topics...\n"
          ]
        },
        {
          "output_type": "stream",
          "name": "stderr",
          "text": [
            "WARNING:gensim.models.ldamulticore:too few updates, training might not converge; consider increasing the number of passes or iterations to improve accuracy\n"
          ]
        },
        {
          "output_type": "stream",
          "name": "stdout",
          "text": [
            "Checking coherence for 8 topics...\n"
          ]
        },
        {
          "output_type": "stream",
          "name": "stderr",
          "text": [
            "WARNING:gensim.models.ldamulticore:too few updates, training might not converge; consider increasing the number of passes or iterations to improve accuracy\n"
          ]
        },
        {
          "output_type": "stream",
          "name": "stdout",
          "text": [
            "Checking coherence for 9 topics...\n"
          ]
        },
        {
          "output_type": "stream",
          "name": "stderr",
          "text": [
            "WARNING:gensim.models.ldamulticore:too few updates, training might not converge; consider increasing the number of passes or iterations to improve accuracy\n"
          ]
        },
        {
          "output_type": "stream",
          "name": "stdout",
          "text": [
            "Checking coherence for 10 topics...\n"
          ]
        },
        {
          "output_type": "stream",
          "name": "stderr",
          "text": [
            "WARNING:gensim.models.ldamulticore:too few updates, training might not converge; consider increasing the number of passes or iterations to improve accuracy\n"
          ]
        },
        {
          "output_type": "stream",
          "name": "stdout",
          "text": [
            "----------\n",
            "Currently modeling for keyword: efficient (20 of 59)\n",
            "----------\n"
          ]
        },
        {
          "output_type": "stream",
          "name": "stderr",
          "text": [
            "WARNING:gensim.models.ldamulticore:too few updates, training might not converge; consider increasing the number of passes or iterations to improve accuracy\n"
          ]
        },
        {
          "output_type": "stream",
          "name": "stdout",
          "text": [
            "Checking coherence for 3 topics...\n"
          ]
        },
        {
          "output_type": "stream",
          "name": "stderr",
          "text": [
            "WARNING:gensim.models.ldamulticore:too few updates, training might not converge; consider increasing the number of passes or iterations to improve accuracy\n"
          ]
        },
        {
          "output_type": "stream",
          "name": "stdout",
          "text": [
            "Checking coherence for 4 topics...\n"
          ]
        },
        {
          "output_type": "stream",
          "name": "stderr",
          "text": [
            "WARNING:gensim.models.ldamulticore:too few updates, training might not converge; consider increasing the number of passes or iterations to improve accuracy\n"
          ]
        },
        {
          "output_type": "stream",
          "name": "stdout",
          "text": [
            "Checking coherence for 5 topics...\n"
          ]
        },
        {
          "output_type": "stream",
          "name": "stderr",
          "text": [
            "WARNING:gensim.models.ldamulticore:too few updates, training might not converge; consider increasing the number of passes or iterations to improve accuracy\n"
          ]
        },
        {
          "output_type": "stream",
          "name": "stdout",
          "text": [
            "Checking coherence for 6 topics...\n"
          ]
        },
        {
          "output_type": "stream",
          "name": "stderr",
          "text": [
            "WARNING:gensim.models.ldamulticore:too few updates, training might not converge; consider increasing the number of passes or iterations to improve accuracy\n"
          ]
        },
        {
          "output_type": "stream",
          "name": "stdout",
          "text": [
            "Checking coherence for 7 topics...\n"
          ]
        },
        {
          "output_type": "stream",
          "name": "stderr",
          "text": [
            "WARNING:gensim.models.ldamulticore:too few updates, training might not converge; consider increasing the number of passes or iterations to improve accuracy\n"
          ]
        },
        {
          "output_type": "stream",
          "name": "stdout",
          "text": [
            "Checking coherence for 8 topics...\n"
          ]
        },
        {
          "output_type": "stream",
          "name": "stderr",
          "text": [
            "WARNING:gensim.models.ldamulticore:too few updates, training might not converge; consider increasing the number of passes or iterations to improve accuracy\n"
          ]
        },
        {
          "output_type": "stream",
          "name": "stdout",
          "text": [
            "Checking coherence for 9 topics...\n"
          ]
        },
        {
          "output_type": "stream",
          "name": "stderr",
          "text": [
            "WARNING:gensim.models.ldamulticore:too few updates, training might not converge; consider increasing the number of passes or iterations to improve accuracy\n"
          ]
        },
        {
          "output_type": "stream",
          "name": "stdout",
          "text": [
            "Checking coherence for 10 topics...\n"
          ]
        },
        {
          "output_type": "stream",
          "name": "stderr",
          "text": [
            "WARNING:gensim.models.ldamulticore:too few updates, training might not converge; consider increasing the number of passes or iterations to improve accuracy\n"
          ]
        },
        {
          "output_type": "stream",
          "name": "stdout",
          "text": [
            "----------\n",
            "Currently modeling for keyword: energy (21 of 59)\n",
            "----------\n"
          ]
        },
        {
          "output_type": "stream",
          "name": "stderr",
          "text": [
            "WARNING:gensim.models.ldamulticore:too few updates, training might not converge; consider increasing the number of passes or iterations to improve accuracy\n"
          ]
        },
        {
          "output_type": "stream",
          "name": "stdout",
          "text": [
            "Checking coherence for 3 topics...\n"
          ]
        },
        {
          "output_type": "stream",
          "name": "stderr",
          "text": [
            "WARNING:gensim.models.ldamulticore:too few updates, training might not converge; consider increasing the number of passes or iterations to improve accuracy\n"
          ]
        },
        {
          "output_type": "stream",
          "name": "stdout",
          "text": [
            "Checking coherence for 4 topics...\n"
          ]
        },
        {
          "output_type": "stream",
          "name": "stderr",
          "text": [
            "WARNING:gensim.models.ldamulticore:too few updates, training might not converge; consider increasing the number of passes or iterations to improve accuracy\n"
          ]
        },
        {
          "output_type": "stream",
          "name": "stdout",
          "text": [
            "Checking coherence for 5 topics...\n"
          ]
        },
        {
          "output_type": "stream",
          "name": "stderr",
          "text": [
            "WARNING:gensim.models.ldamulticore:too few updates, training might not converge; consider increasing the number of passes or iterations to improve accuracy\n"
          ]
        },
        {
          "output_type": "stream",
          "name": "stdout",
          "text": [
            "Checking coherence for 6 topics...\n"
          ]
        },
        {
          "output_type": "stream",
          "name": "stderr",
          "text": [
            "WARNING:gensim.models.ldamulticore:too few updates, training might not converge; consider increasing the number of passes or iterations to improve accuracy\n"
          ]
        },
        {
          "output_type": "stream",
          "name": "stdout",
          "text": [
            "Checking coherence for 7 topics...\n"
          ]
        },
        {
          "output_type": "stream",
          "name": "stderr",
          "text": [
            "WARNING:gensim.models.ldamulticore:too few updates, training might not converge; consider increasing the number of passes or iterations to improve accuracy\n"
          ]
        },
        {
          "output_type": "stream",
          "name": "stdout",
          "text": [
            "Checking coherence for 8 topics...\n"
          ]
        },
        {
          "output_type": "stream",
          "name": "stderr",
          "text": [
            "WARNING:gensim.models.ldamulticore:too few updates, training might not converge; consider increasing the number of passes or iterations to improve accuracy\n"
          ]
        },
        {
          "output_type": "stream",
          "name": "stdout",
          "text": [
            "Checking coherence for 9 topics...\n"
          ]
        },
        {
          "output_type": "stream",
          "name": "stderr",
          "text": [
            "WARNING:gensim.models.ldamulticore:too few updates, training might not converge; consider increasing the number of passes or iterations to improve accuracy\n"
          ]
        },
        {
          "output_type": "stream",
          "name": "stdout",
          "text": [
            "Checking coherence for 10 topics...\n"
          ]
        },
        {
          "output_type": "stream",
          "name": "stderr",
          "text": [
            "WARNING:gensim.models.ldamulticore:too few updates, training might not converge; consider increasing the number of passes or iterations to improve accuracy\n"
          ]
        },
        {
          "output_type": "stream",
          "name": "stdout",
          "text": [
            "----------\n",
            "Currently modeling for keyword: grant (22 of 59)\n",
            "----------\n"
          ]
        },
        {
          "output_type": "stream",
          "name": "stderr",
          "text": [
            "WARNING:gensim.models.ldamulticore:too few updates, training might not converge; consider increasing the number of passes or iterations to improve accuracy\n"
          ]
        },
        {
          "output_type": "stream",
          "name": "stdout",
          "text": [
            "Checking coherence for 3 topics...\n"
          ]
        },
        {
          "output_type": "stream",
          "name": "stderr",
          "text": [
            "WARNING:gensim.models.ldamulticore:too few updates, training might not converge; consider increasing the number of passes or iterations to improve accuracy\n"
          ]
        },
        {
          "output_type": "stream",
          "name": "stdout",
          "text": [
            "Checking coherence for 4 topics...\n"
          ]
        },
        {
          "output_type": "stream",
          "name": "stderr",
          "text": [
            "WARNING:gensim.models.ldamulticore:too few updates, training might not converge; consider increasing the number of passes or iterations to improve accuracy\n"
          ]
        },
        {
          "output_type": "stream",
          "name": "stdout",
          "text": [
            "Checking coherence for 5 topics...\n"
          ]
        },
        {
          "output_type": "stream",
          "name": "stderr",
          "text": [
            "WARNING:gensim.models.ldamulticore:too few updates, training might not converge; consider increasing the number of passes or iterations to improve accuracy\n"
          ]
        },
        {
          "output_type": "stream",
          "name": "stdout",
          "text": [
            "Checking coherence for 6 topics...\n"
          ]
        },
        {
          "output_type": "stream",
          "name": "stderr",
          "text": [
            "WARNING:gensim.models.ldamulticore:too few updates, training might not converge; consider increasing the number of passes or iterations to improve accuracy\n"
          ]
        },
        {
          "output_type": "stream",
          "name": "stdout",
          "text": [
            "Checking coherence for 7 topics...\n"
          ]
        },
        {
          "output_type": "stream",
          "name": "stderr",
          "text": [
            "WARNING:gensim.models.ldamulticore:too few updates, training might not converge; consider increasing the number of passes or iterations to improve accuracy\n"
          ]
        },
        {
          "output_type": "stream",
          "name": "stdout",
          "text": [
            "Checking coherence for 8 topics...\n"
          ]
        },
        {
          "output_type": "stream",
          "name": "stderr",
          "text": [
            "WARNING:gensim.models.ldamulticore:too few updates, training might not converge; consider increasing the number of passes or iterations to improve accuracy\n"
          ]
        },
        {
          "output_type": "stream",
          "name": "stdout",
          "text": [
            "Checking coherence for 9 topics...\n"
          ]
        },
        {
          "output_type": "stream",
          "name": "stderr",
          "text": [
            "WARNING:gensim.models.ldamulticore:too few updates, training might not converge; consider increasing the number of passes or iterations to improve accuracy\n"
          ]
        },
        {
          "output_type": "stream",
          "name": "stdout",
          "text": [
            "Checking coherence for 10 topics...\n"
          ]
        },
        {
          "output_type": "stream",
          "name": "stderr",
          "text": [
            "WARNING:gensim.models.ldamulticore:too few updates, training might not converge; consider increasing the number of passes or iterations to improve accuracy\n"
          ]
        },
        {
          "output_type": "stream",
          "name": "stdout",
          "text": [
            "----------\n",
            "Currently modeling for keyword: high (23 of 59)\n",
            "----------\n"
          ]
        },
        {
          "output_type": "stream",
          "name": "stderr",
          "text": [
            "WARNING:gensim.models.ldamulticore:too few updates, training might not converge; consider increasing the number of passes or iterations to improve accuracy\n"
          ]
        },
        {
          "output_type": "stream",
          "name": "stdout",
          "text": [
            "Checking coherence for 3 topics...\n"
          ]
        },
        {
          "output_type": "stream",
          "name": "stderr",
          "text": [
            "WARNING:gensim.models.ldamulticore:too few updates, training might not converge; consider increasing the number of passes or iterations to improve accuracy\n"
          ]
        },
        {
          "output_type": "stream",
          "name": "stdout",
          "text": [
            "Checking coherence for 4 topics...\n"
          ]
        },
        {
          "output_type": "stream",
          "name": "stderr",
          "text": [
            "WARNING:gensim.models.ldamulticore:too few updates, training might not converge; consider increasing the number of passes or iterations to improve accuracy\n"
          ]
        },
        {
          "output_type": "stream",
          "name": "stdout",
          "text": [
            "Checking coherence for 5 topics...\n"
          ]
        },
        {
          "output_type": "stream",
          "name": "stderr",
          "text": [
            "WARNING:gensim.models.ldamulticore:too few updates, training might not converge; consider increasing the number of passes or iterations to improve accuracy\n"
          ]
        },
        {
          "output_type": "stream",
          "name": "stdout",
          "text": [
            "Checking coherence for 6 topics...\n"
          ]
        },
        {
          "output_type": "stream",
          "name": "stderr",
          "text": [
            "WARNING:gensim.models.ldamulticore:too few updates, training might not converge; consider increasing the number of passes or iterations to improve accuracy\n"
          ]
        },
        {
          "output_type": "stream",
          "name": "stdout",
          "text": [
            "Checking coherence for 7 topics...\n"
          ]
        },
        {
          "output_type": "stream",
          "name": "stderr",
          "text": [
            "WARNING:gensim.models.ldamulticore:too few updates, training might not converge; consider increasing the number of passes or iterations to improve accuracy\n"
          ]
        },
        {
          "output_type": "stream",
          "name": "stdout",
          "text": [
            "Checking coherence for 8 topics...\n"
          ]
        },
        {
          "output_type": "stream",
          "name": "stderr",
          "text": [
            "WARNING:gensim.models.ldamulticore:too few updates, training might not converge; consider increasing the number of passes or iterations to improve accuracy\n"
          ]
        },
        {
          "output_type": "stream",
          "name": "stdout",
          "text": [
            "Checking coherence for 9 topics...\n"
          ]
        },
        {
          "output_type": "stream",
          "name": "stderr",
          "text": [
            "WARNING:gensim.models.ldamulticore:too few updates, training might not converge; consider increasing the number of passes or iterations to improve accuracy\n"
          ]
        },
        {
          "output_type": "stream",
          "name": "stdout",
          "text": [
            "Checking coherence for 10 topics...\n"
          ]
        },
        {
          "output_type": "stream",
          "name": "stderr",
          "text": [
            "WARNING:gensim.models.ldamulticore:too few updates, training might not converge; consider increasing the number of passes or iterations to improve accuracy\n"
          ]
        },
        {
          "output_type": "stream",
          "name": "stdout",
          "text": [
            "----------\n",
            "Currently modeling for keyword: information (24 of 59)\n",
            "----------\n"
          ]
        },
        {
          "output_type": "stream",
          "name": "stderr",
          "text": [
            "WARNING:gensim.models.ldamulticore:too few updates, training might not converge; consider increasing the number of passes or iterations to improve accuracy\n"
          ]
        },
        {
          "output_type": "stream",
          "name": "stdout",
          "text": [
            "Checking coherence for 3 topics...\n"
          ]
        },
        {
          "output_type": "stream",
          "name": "stderr",
          "text": [
            "WARNING:gensim.models.ldamulticore:too few updates, training might not converge; consider increasing the number of passes or iterations to improve accuracy\n"
          ]
        },
        {
          "output_type": "stream",
          "name": "stdout",
          "text": [
            "Checking coherence for 4 topics...\n"
          ]
        },
        {
          "output_type": "stream",
          "name": "stderr",
          "text": [
            "WARNING:gensim.models.ldamulticore:too few updates, training might not converge; consider increasing the number of passes or iterations to improve accuracy\n"
          ]
        },
        {
          "output_type": "stream",
          "name": "stdout",
          "text": [
            "Checking coherence for 5 topics...\n"
          ]
        },
        {
          "output_type": "stream",
          "name": "stderr",
          "text": [
            "WARNING:gensim.models.ldamulticore:too few updates, training might not converge; consider increasing the number of passes or iterations to improve accuracy\n"
          ]
        },
        {
          "output_type": "stream",
          "name": "stdout",
          "text": [
            "Checking coherence for 6 topics...\n"
          ]
        },
        {
          "output_type": "stream",
          "name": "stderr",
          "text": [
            "WARNING:gensim.models.ldamulticore:too few updates, training might not converge; consider increasing the number of passes or iterations to improve accuracy\n"
          ]
        },
        {
          "output_type": "stream",
          "name": "stdout",
          "text": [
            "Checking coherence for 7 topics...\n"
          ]
        },
        {
          "output_type": "stream",
          "name": "stderr",
          "text": [
            "WARNING:gensim.models.ldamulticore:too few updates, training might not converge; consider increasing the number of passes or iterations to improve accuracy\n"
          ]
        },
        {
          "output_type": "stream",
          "name": "stdout",
          "text": [
            "Checking coherence for 8 topics...\n"
          ]
        },
        {
          "output_type": "stream",
          "name": "stderr",
          "text": [
            "WARNING:gensim.models.ldamulticore:too few updates, training might not converge; consider increasing the number of passes or iterations to improve accuracy\n"
          ]
        },
        {
          "output_type": "stream",
          "name": "stdout",
          "text": [
            "Checking coherence for 9 topics...\n"
          ]
        },
        {
          "output_type": "stream",
          "name": "stderr",
          "text": [
            "WARNING:gensim.models.ldamulticore:too few updates, training might not converge; consider increasing the number of passes or iterations to improve accuracy\n"
          ]
        },
        {
          "output_type": "stream",
          "name": "stdout",
          "text": [
            "Checking coherence for 10 topics...\n"
          ]
        },
        {
          "output_type": "stream",
          "name": "stderr",
          "text": [
            "WARNING:gensim.models.ldamulticore:too few updates, training might not converge; consider increasing the number of passes or iterations to improve accuracy\n"
          ]
        },
        {
          "output_type": "stream",
          "name": "stdout",
          "text": [
            "----------\n",
            "Currently modeling for keyword: international (25 of 59)\n",
            "----------\n"
          ]
        },
        {
          "output_type": "stream",
          "name": "stderr",
          "text": [
            "WARNING:gensim.models.ldamulticore:too few updates, training might not converge; consider increasing the number of passes or iterations to improve accuracy\n"
          ]
        },
        {
          "output_type": "stream",
          "name": "stdout",
          "text": [
            "Checking coherence for 3 topics...\n"
          ]
        },
        {
          "output_type": "stream",
          "name": "stderr",
          "text": [
            "WARNING:gensim.models.ldamulticore:too few updates, training might not converge; consider increasing the number of passes or iterations to improve accuracy\n"
          ]
        },
        {
          "output_type": "stream",
          "name": "stdout",
          "text": [
            "Checking coherence for 4 topics...\n"
          ]
        },
        {
          "output_type": "stream",
          "name": "stderr",
          "text": [
            "WARNING:gensim.models.ldamulticore:too few updates, training might not converge; consider increasing the number of passes or iterations to improve accuracy\n"
          ]
        },
        {
          "output_type": "stream",
          "name": "stdout",
          "text": [
            "Checking coherence for 5 topics...\n"
          ]
        },
        {
          "output_type": "stream",
          "name": "stderr",
          "text": [
            "WARNING:gensim.models.ldamulticore:too few updates, training might not converge; consider increasing the number of passes or iterations to improve accuracy\n"
          ]
        },
        {
          "output_type": "stream",
          "name": "stdout",
          "text": [
            "Checking coherence for 6 topics...\n"
          ]
        },
        {
          "output_type": "stream",
          "name": "stderr",
          "text": [
            "WARNING:gensim.models.ldamulticore:too few updates, training might not converge; consider increasing the number of passes or iterations to improve accuracy\n"
          ]
        },
        {
          "output_type": "stream",
          "name": "stdout",
          "text": [
            "Checking coherence for 7 topics...\n"
          ]
        },
        {
          "output_type": "stream",
          "name": "stderr",
          "text": [
            "WARNING:gensim.models.ldamulticore:too few updates, training might not converge; consider increasing the number of passes or iterations to improve accuracy\n"
          ]
        },
        {
          "output_type": "stream",
          "name": "stdout",
          "text": [
            "Checking coherence for 8 topics...\n"
          ]
        },
        {
          "output_type": "stream",
          "name": "stderr",
          "text": [
            "WARNING:gensim.models.ldamulticore:too few updates, training might not converge; consider increasing the number of passes or iterations to improve accuracy\n"
          ]
        },
        {
          "output_type": "stream",
          "name": "stdout",
          "text": [
            "Checking coherence for 9 topics...\n"
          ]
        },
        {
          "output_type": "stream",
          "name": "stderr",
          "text": [
            "WARNING:gensim.models.ldamulticore:too few updates, training might not converge; consider increasing the number of passes or iterations to improve accuracy\n"
          ]
        },
        {
          "output_type": "stream",
          "name": "stdout",
          "text": [
            "Checking coherence for 10 topics...\n"
          ]
        },
        {
          "output_type": "stream",
          "name": "stderr",
          "text": [
            "WARNING:gensim.models.ldamulticore:too few updates, training might not converge; consider increasing the number of passes or iterations to improve accuracy\n"
          ]
        },
        {
          "output_type": "stream",
          "name": "stdout",
          "text": [
            "----------\n",
            "Currently modeling for keyword: language (26 of 59)\n",
            "----------\n"
          ]
        },
        {
          "output_type": "stream",
          "name": "stderr",
          "text": [
            "WARNING:gensim.models.ldamulticore:too few updates, training might not converge; consider increasing the number of passes or iterations to improve accuracy\n"
          ]
        },
        {
          "output_type": "stream",
          "name": "stdout",
          "text": [
            "Checking coherence for 3 topics...\n"
          ]
        },
        {
          "output_type": "stream",
          "name": "stderr",
          "text": [
            "WARNING:gensim.models.ldamulticore:too few updates, training might not converge; consider increasing the number of passes or iterations to improve accuracy\n"
          ]
        },
        {
          "output_type": "stream",
          "name": "stdout",
          "text": [
            "Checking coherence for 4 topics...\n"
          ]
        },
        {
          "output_type": "stream",
          "name": "stderr",
          "text": [
            "WARNING:gensim.models.ldamulticore:too few updates, training might not converge; consider increasing the number of passes or iterations to improve accuracy\n"
          ]
        },
        {
          "output_type": "stream",
          "name": "stdout",
          "text": [
            "Checking coherence for 5 topics...\n"
          ]
        },
        {
          "output_type": "stream",
          "name": "stderr",
          "text": [
            "WARNING:gensim.models.ldamulticore:too few updates, training might not converge; consider increasing the number of passes or iterations to improve accuracy\n"
          ]
        },
        {
          "output_type": "stream",
          "name": "stdout",
          "text": [
            "Checking coherence for 6 topics...\n"
          ]
        },
        {
          "output_type": "stream",
          "name": "stderr",
          "text": [
            "WARNING:gensim.models.ldamulticore:too few updates, training might not converge; consider increasing the number of passes or iterations to improve accuracy\n"
          ]
        },
        {
          "output_type": "stream",
          "name": "stdout",
          "text": [
            "Checking coherence for 7 topics...\n"
          ]
        },
        {
          "output_type": "stream",
          "name": "stderr",
          "text": [
            "WARNING:gensim.models.ldamulticore:too few updates, training might not converge; consider increasing the number of passes or iterations to improve accuracy\n"
          ]
        },
        {
          "output_type": "stream",
          "name": "stdout",
          "text": [
            "Checking coherence for 8 topics...\n"
          ]
        },
        {
          "output_type": "stream",
          "name": "stderr",
          "text": [
            "WARNING:gensim.models.ldamulticore:too few updates, training might not converge; consider increasing the number of passes or iterations to improve accuracy\n"
          ]
        },
        {
          "output_type": "stream",
          "name": "stdout",
          "text": [
            "Checking coherence for 9 topics...\n"
          ]
        },
        {
          "output_type": "stream",
          "name": "stderr",
          "text": [
            "WARNING:gensim.models.ldamulticore:too few updates, training might not converge; consider increasing the number of passes or iterations to improve accuracy\n"
          ]
        },
        {
          "output_type": "stream",
          "name": "stdout",
          "text": [
            "Checking coherence for 10 topics...\n"
          ]
        },
        {
          "output_type": "stream",
          "name": "stderr",
          "text": [
            "WARNING:gensim.models.ldamulticore:too few updates, training might not converge; consider increasing the number of passes or iterations to improve accuracy\n"
          ]
        },
        {
          "output_type": "stream",
          "name": "stdout",
          "text": [
            "----------\n",
            "Currently modeling for keyword: learning (27 of 59)\n",
            "----------\n"
          ]
        },
        {
          "output_type": "stream",
          "name": "stderr",
          "text": [
            "WARNING:gensim.models.ldamulticore:too few updates, training might not converge; consider increasing the number of passes or iterations to improve accuracy\n"
          ]
        },
        {
          "output_type": "stream",
          "name": "stdout",
          "text": [
            "Checking coherence for 3 topics...\n"
          ]
        },
        {
          "output_type": "stream",
          "name": "stderr",
          "text": [
            "WARNING:gensim.models.ldamulticore:too few updates, training might not converge; consider increasing the number of passes or iterations to improve accuracy\n"
          ]
        },
        {
          "output_type": "stream",
          "name": "stdout",
          "text": [
            "Checking coherence for 4 topics...\n"
          ]
        },
        {
          "output_type": "stream",
          "name": "stderr",
          "text": [
            "WARNING:gensim.models.ldamulticore:too few updates, training might not converge; consider increasing the number of passes or iterations to improve accuracy\n"
          ]
        },
        {
          "output_type": "stream",
          "name": "stdout",
          "text": [
            "Checking coherence for 5 topics...\n"
          ]
        },
        {
          "output_type": "stream",
          "name": "stderr",
          "text": [
            "WARNING:gensim.models.ldamulticore:too few updates, training might not converge; consider increasing the number of passes or iterations to improve accuracy\n"
          ]
        },
        {
          "output_type": "stream",
          "name": "stdout",
          "text": [
            "Checking coherence for 6 topics...\n"
          ]
        },
        {
          "output_type": "stream",
          "name": "stderr",
          "text": [
            "WARNING:gensim.models.ldamulticore:too few updates, training might not converge; consider increasing the number of passes or iterations to improve accuracy\n"
          ]
        },
        {
          "output_type": "stream",
          "name": "stdout",
          "text": [
            "Checking coherence for 7 topics...\n"
          ]
        },
        {
          "output_type": "stream",
          "name": "stderr",
          "text": [
            "WARNING:gensim.models.ldamulticore:too few updates, training might not converge; consider increasing the number of passes or iterations to improve accuracy\n"
          ]
        },
        {
          "output_type": "stream",
          "name": "stdout",
          "text": [
            "Checking coherence for 8 topics...\n"
          ]
        },
        {
          "output_type": "stream",
          "name": "stderr",
          "text": [
            "WARNING:gensim.models.ldamulticore:too few updates, training might not converge; consider increasing the number of passes or iterations to improve accuracy\n"
          ]
        },
        {
          "output_type": "stream",
          "name": "stdout",
          "text": [
            "Checking coherence for 9 topics...\n"
          ]
        },
        {
          "output_type": "stream",
          "name": "stderr",
          "text": [
            "WARNING:gensim.models.ldamulticore:too few updates, training might not converge; consider increasing the number of passes or iterations to improve accuracy\n"
          ]
        },
        {
          "output_type": "stream",
          "name": "stdout",
          "text": [
            "Checking coherence for 10 topics...\n"
          ]
        },
        {
          "output_type": "stream",
          "name": "stderr",
          "text": [
            "WARNING:gensim.models.ldamulticore:too few updates, training might not converge; consider increasing the number of passes or iterations to improve accuracy\n"
          ]
        },
        {
          "output_type": "stream",
          "name": "stdout",
          "text": [
            "----------\n",
            "Currently modeling for keyword: medium (28 of 59)\n",
            "----------\n"
          ]
        },
        {
          "output_type": "stream",
          "name": "stderr",
          "text": [
            "WARNING:gensim.models.ldamulticore:too few updates, training might not converge; consider increasing the number of passes or iterations to improve accuracy\n"
          ]
        },
        {
          "output_type": "stream",
          "name": "stdout",
          "text": [
            "Checking coherence for 3 topics...\n"
          ]
        },
        {
          "output_type": "stream",
          "name": "stderr",
          "text": [
            "WARNING:gensim.models.ldamulticore:too few updates, training might not converge; consider increasing the number of passes or iterations to improve accuracy\n"
          ]
        },
        {
          "output_type": "stream",
          "name": "stdout",
          "text": [
            "Checking coherence for 4 topics...\n"
          ]
        },
        {
          "output_type": "stream",
          "name": "stderr",
          "text": [
            "WARNING:gensim.models.ldamulticore:too few updates, training might not converge; consider increasing the number of passes or iterations to improve accuracy\n"
          ]
        },
        {
          "output_type": "stream",
          "name": "stdout",
          "text": [
            "Checking coherence for 5 topics...\n"
          ]
        },
        {
          "output_type": "stream",
          "name": "stderr",
          "text": [
            "WARNING:gensim.models.ldamulticore:too few updates, training might not converge; consider increasing the number of passes or iterations to improve accuracy\n"
          ]
        },
        {
          "output_type": "stream",
          "name": "stdout",
          "text": [
            "Checking coherence for 6 topics...\n"
          ]
        },
        {
          "output_type": "stream",
          "name": "stderr",
          "text": [
            "WARNING:gensim.models.ldamulticore:too few updates, training might not converge; consider increasing the number of passes or iterations to improve accuracy\n"
          ]
        },
        {
          "output_type": "stream",
          "name": "stdout",
          "text": [
            "Checking coherence for 7 topics...\n"
          ]
        },
        {
          "output_type": "stream",
          "name": "stderr",
          "text": [
            "WARNING:gensim.models.ldamulticore:too few updates, training might not converge; consider increasing the number of passes or iterations to improve accuracy\n"
          ]
        },
        {
          "output_type": "stream",
          "name": "stdout",
          "text": [
            "Checking coherence for 8 topics...\n"
          ]
        },
        {
          "output_type": "stream",
          "name": "stderr",
          "text": [
            "WARNING:gensim.models.ldamulticore:too few updates, training might not converge; consider increasing the number of passes or iterations to improve accuracy\n"
          ]
        },
        {
          "output_type": "stream",
          "name": "stdout",
          "text": [
            "Checking coherence for 9 topics...\n"
          ]
        },
        {
          "output_type": "stream",
          "name": "stderr",
          "text": [
            "WARNING:gensim.models.ldamulticore:too few updates, training might not converge; consider increasing the number of passes or iterations to improve accuracy\n"
          ]
        },
        {
          "output_type": "stream",
          "name": "stdout",
          "text": [
            "Checking coherence for 10 topics...\n"
          ]
        },
        {
          "output_type": "stream",
          "name": "stderr",
          "text": [
            "WARNING:gensim.models.ldamulticore:too few updates, training might not converge; consider increasing the number of passes or iterations to improve accuracy\n"
          ]
        },
        {
          "output_type": "stream",
          "name": "stdout",
          "text": [
            "----------\n",
            "Currently modeling for keyword: methods (29 of 59)\n",
            "----------\n"
          ]
        },
        {
          "output_type": "stream",
          "name": "stderr",
          "text": [
            "WARNING:gensim.models.ldamulticore:too few updates, training might not converge; consider increasing the number of passes or iterations to improve accuracy\n"
          ]
        },
        {
          "output_type": "stream",
          "name": "stdout",
          "text": [
            "Checking coherence for 3 topics...\n"
          ]
        },
        {
          "output_type": "stream",
          "name": "stderr",
          "text": [
            "WARNING:gensim.models.ldamulticore:too few updates, training might not converge; consider increasing the number of passes or iterations to improve accuracy\n"
          ]
        },
        {
          "output_type": "stream",
          "name": "stdout",
          "text": [
            "Checking coherence for 4 topics...\n"
          ]
        },
        {
          "output_type": "stream",
          "name": "stderr",
          "text": [
            "WARNING:gensim.models.ldamulticore:too few updates, training might not converge; consider increasing the number of passes or iterations to improve accuracy\n"
          ]
        },
        {
          "output_type": "stream",
          "name": "stdout",
          "text": [
            "Checking coherence for 5 topics...\n"
          ]
        },
        {
          "output_type": "stream",
          "name": "stderr",
          "text": [
            "WARNING:gensim.models.ldamulticore:too few updates, training might not converge; consider increasing the number of passes or iterations to improve accuracy\n"
          ]
        },
        {
          "output_type": "stream",
          "name": "stdout",
          "text": [
            "Checking coherence for 6 topics...\n"
          ]
        },
        {
          "output_type": "stream",
          "name": "stderr",
          "text": [
            "WARNING:gensim.models.ldamulticore:too few updates, training might not converge; consider increasing the number of passes or iterations to improve accuracy\n"
          ]
        },
        {
          "output_type": "stream",
          "name": "stdout",
          "text": [
            "Checking coherence for 7 topics...\n"
          ]
        },
        {
          "output_type": "stream",
          "name": "stderr",
          "text": [
            "WARNING:gensim.models.ldamulticore:too few updates, training might not converge; consider increasing the number of passes or iterations to improve accuracy\n"
          ]
        },
        {
          "output_type": "stream",
          "name": "stdout",
          "text": [
            "Checking coherence for 8 topics...\n"
          ]
        },
        {
          "output_type": "stream",
          "name": "stderr",
          "text": [
            "WARNING:gensim.models.ldamulticore:too few updates, training might not converge; consider increasing the number of passes or iterations to improve accuracy\n"
          ]
        },
        {
          "output_type": "stream",
          "name": "stdout",
          "text": [
            "Checking coherence for 9 topics...\n"
          ]
        },
        {
          "output_type": "stream",
          "name": "stderr",
          "text": [
            "WARNING:gensim.models.ldamulticore:too few updates, training might not converge; consider increasing the number of passes or iterations to improve accuracy\n"
          ]
        },
        {
          "output_type": "stream",
          "name": "stdout",
          "text": [
            "Checking coherence for 10 topics...\n"
          ]
        },
        {
          "output_type": "stream",
          "name": "stderr",
          "text": [
            "WARNING:gensim.models.ldamulticore:too few updates, training might not converge; consider increasing the number of passes or iterations to improve accuracy\n"
          ]
        },
        {
          "output_type": "stream",
          "name": "stdout",
          "text": [
            "----------\n",
            "Currently modeling for keyword: modeling (30 of 59)\n",
            "----------\n"
          ]
        },
        {
          "output_type": "stream",
          "name": "stderr",
          "text": [
            "WARNING:gensim.models.ldamulticore:too few updates, training might not converge; consider increasing the number of passes or iterations to improve accuracy\n"
          ]
        },
        {
          "output_type": "stream",
          "name": "stdout",
          "text": [
            "Checking coherence for 3 topics...\n"
          ]
        },
        {
          "output_type": "stream",
          "name": "stderr",
          "text": [
            "WARNING:gensim.models.ldamulticore:too few updates, training might not converge; consider increasing the number of passes or iterations to improve accuracy\n"
          ]
        },
        {
          "output_type": "stream",
          "name": "stdout",
          "text": [
            "Checking coherence for 4 topics...\n"
          ]
        },
        {
          "output_type": "stream",
          "name": "stderr",
          "text": [
            "WARNING:gensim.models.ldamulticore:too few updates, training might not converge; consider increasing the number of passes or iterations to improve accuracy\n"
          ]
        },
        {
          "output_type": "stream",
          "name": "stdout",
          "text": [
            "Checking coherence for 5 topics...\n"
          ]
        },
        {
          "output_type": "stream",
          "name": "stderr",
          "text": [
            "WARNING:gensim.models.ldamulticore:too few updates, training might not converge; consider increasing the number of passes or iterations to improve accuracy\n"
          ]
        },
        {
          "output_type": "stream",
          "name": "stdout",
          "text": [
            "Checking coherence for 6 topics...\n"
          ]
        },
        {
          "output_type": "stream",
          "name": "stderr",
          "text": [
            "WARNING:gensim.models.ldamulticore:too few updates, training might not converge; consider increasing the number of passes or iterations to improve accuracy\n"
          ]
        },
        {
          "output_type": "stream",
          "name": "stdout",
          "text": [
            "Checking coherence for 7 topics...\n"
          ]
        },
        {
          "output_type": "stream",
          "name": "stderr",
          "text": [
            "WARNING:gensim.models.ldamulticore:too few updates, training might not converge; consider increasing the number of passes or iterations to improve accuracy\n"
          ]
        },
        {
          "output_type": "stream",
          "name": "stdout",
          "text": [
            "Checking coherence for 8 topics...\n"
          ]
        },
        {
          "output_type": "stream",
          "name": "stderr",
          "text": [
            "WARNING:gensim.models.ldamulticore:too few updates, training might not converge; consider increasing the number of passes or iterations to improve accuracy\n"
          ]
        },
        {
          "output_type": "stream",
          "name": "stdout",
          "text": [
            "Checking coherence for 9 topics...\n"
          ]
        },
        {
          "output_type": "stream",
          "name": "stderr",
          "text": [
            "WARNING:gensim.models.ldamulticore:too few updates, training might not converge; consider increasing the number of passes or iterations to improve accuracy\n"
          ]
        },
        {
          "output_type": "stream",
          "name": "stdout",
          "text": [
            "Checking coherence for 10 topics...\n"
          ]
        },
        {
          "output_type": "stream",
          "name": "stderr",
          "text": [
            "WARNING:gensim.models.ldamulticore:too few updates, training might not converge; consider increasing the number of passes or iterations to improve accuracy\n"
          ]
        },
        {
          "output_type": "stream",
          "name": "stdout",
          "text": [
            "----------\n",
            "Currently modeling for keyword: networks (31 of 59)\n",
            "----------\n"
          ]
        },
        {
          "output_type": "stream",
          "name": "stderr",
          "text": [
            "WARNING:gensim.models.ldamulticore:too few updates, training might not converge; consider increasing the number of passes or iterations to improve accuracy\n"
          ]
        },
        {
          "output_type": "stream",
          "name": "stdout",
          "text": [
            "Checking coherence for 3 topics...\n"
          ]
        },
        {
          "output_type": "stream",
          "name": "stderr",
          "text": [
            "WARNING:gensim.models.ldamulticore:too few updates, training might not converge; consider increasing the number of passes or iterations to improve accuracy\n"
          ]
        },
        {
          "output_type": "stream",
          "name": "stdout",
          "text": [
            "Checking coherence for 4 topics...\n"
          ]
        },
        {
          "output_type": "stream",
          "name": "stderr",
          "text": [
            "WARNING:gensim.models.ldamulticore:too few updates, training might not converge; consider increasing the number of passes or iterations to improve accuracy\n"
          ]
        },
        {
          "output_type": "stream",
          "name": "stdout",
          "text": [
            "Checking coherence for 5 topics...\n"
          ]
        },
        {
          "output_type": "stream",
          "name": "stderr",
          "text": [
            "WARNING:gensim.models.ldamulticore:too few updates, training might not converge; consider increasing the number of passes or iterations to improve accuracy\n"
          ]
        },
        {
          "output_type": "stream",
          "name": "stdout",
          "text": [
            "Checking coherence for 6 topics...\n"
          ]
        },
        {
          "output_type": "stream",
          "name": "stderr",
          "text": [
            "WARNING:gensim.models.ldamulticore:too few updates, training might not converge; consider increasing the number of passes or iterations to improve accuracy\n"
          ]
        },
        {
          "output_type": "stream",
          "name": "stdout",
          "text": [
            "Checking coherence for 7 topics...\n"
          ]
        },
        {
          "output_type": "stream",
          "name": "stderr",
          "text": [
            "WARNING:gensim.models.ldamulticore:too few updates, training might not converge; consider increasing the number of passes or iterations to improve accuracy\n"
          ]
        },
        {
          "output_type": "stream",
          "name": "stdout",
          "text": [
            "Checking coherence for 8 topics...\n"
          ]
        },
        {
          "output_type": "stream",
          "name": "stderr",
          "text": [
            "WARNING:gensim.models.ldamulticore:too few updates, training might not converge; consider increasing the number of passes or iterations to improve accuracy\n"
          ]
        },
        {
          "output_type": "stream",
          "name": "stdout",
          "text": [
            "Checking coherence for 9 topics...\n"
          ]
        },
        {
          "output_type": "stream",
          "name": "stderr",
          "text": [
            "WARNING:gensim.models.ldamulticore:too few updates, training might not converge; consider increasing the number of passes or iterations to improve accuracy\n"
          ]
        },
        {
          "output_type": "stream",
          "name": "stdout",
          "text": [
            "Checking coherence for 10 topics...\n"
          ]
        },
        {
          "output_type": "stream",
          "name": "stderr",
          "text": [
            "WARNING:gensim.models.ldamulticore:too few updates, training might not converge; consider increasing the number of passes or iterations to improve accuracy\n"
          ]
        },
        {
          "output_type": "stream",
          "name": "stdout",
          "text": [
            "----------\n",
            "Currently modeling for keyword: new (32 of 59)\n",
            "----------\n"
          ]
        },
        {
          "output_type": "stream",
          "name": "stderr",
          "text": [
            "WARNING:gensim.models.ldamulticore:too few updates, training might not converge; consider increasing the number of passes or iterations to improve accuracy\n"
          ]
        },
        {
          "output_type": "stream",
          "name": "stdout",
          "text": [
            "Checking coherence for 3 topics...\n"
          ]
        },
        {
          "output_type": "stream",
          "name": "stderr",
          "text": [
            "WARNING:gensim.models.ldamulticore:too few updates, training might not converge; consider increasing the number of passes or iterations to improve accuracy\n"
          ]
        },
        {
          "output_type": "stream",
          "name": "stdout",
          "text": [
            "Checking coherence for 4 topics...\n"
          ]
        },
        {
          "output_type": "stream",
          "name": "stderr",
          "text": [
            "WARNING:gensim.models.ldamulticore:too few updates, training might not converge; consider increasing the number of passes or iterations to improve accuracy\n"
          ]
        },
        {
          "output_type": "stream",
          "name": "stdout",
          "text": [
            "Checking coherence for 5 topics...\n"
          ]
        },
        {
          "output_type": "stream",
          "name": "stderr",
          "text": [
            "WARNING:gensim.models.ldamulticore:too few updates, training might not converge; consider increasing the number of passes or iterations to improve accuracy\n"
          ]
        },
        {
          "output_type": "stream",
          "name": "stdout",
          "text": [
            "Checking coherence for 6 topics...\n"
          ]
        },
        {
          "output_type": "stream",
          "name": "stderr",
          "text": [
            "WARNING:gensim.models.ldamulticore:too few updates, training might not converge; consider increasing the number of passes or iterations to improve accuracy\n"
          ]
        },
        {
          "output_type": "stream",
          "name": "stdout",
          "text": [
            "Checking coherence for 7 topics...\n"
          ]
        },
        {
          "output_type": "stream",
          "name": "stderr",
          "text": [
            "WARNING:gensim.models.ldamulticore:too few updates, training might not converge; consider increasing the number of passes or iterations to improve accuracy\n"
          ]
        },
        {
          "output_type": "stream",
          "name": "stdout",
          "text": [
            "Checking coherence for 8 topics...\n"
          ]
        },
        {
          "output_type": "stream",
          "name": "stderr",
          "text": [
            "WARNING:gensim.models.ldamulticore:too few updates, training might not converge; consider increasing the number of passes or iterations to improve accuracy\n"
          ]
        },
        {
          "output_type": "stream",
          "name": "stdout",
          "text": [
            "Checking coherence for 9 topics...\n"
          ]
        },
        {
          "output_type": "stream",
          "name": "stderr",
          "text": [
            "WARNING:gensim.models.ldamulticore:too few updates, training might not converge; consider increasing the number of passes or iterations to improve accuracy\n"
          ]
        },
        {
          "output_type": "stream",
          "name": "stdout",
          "text": [
            "Checking coherence for 10 topics...\n"
          ]
        },
        {
          "output_type": "stream",
          "name": "stderr",
          "text": [
            "WARNING:gensim.models.ldamulticore:too few updates, training might not converge; consider increasing the number of passes or iterations to improve accuracy\n"
          ]
        },
        {
          "output_type": "stream",
          "name": "stdout",
          "text": [
            "----------\n",
            "Currently modeling for keyword: nsf (33 of 59)\n",
            "----------\n"
          ]
        },
        {
          "output_type": "stream",
          "name": "stderr",
          "text": [
            "WARNING:gensim.models.ldamulticore:too few updates, training might not converge; consider increasing the number of passes or iterations to improve accuracy\n"
          ]
        },
        {
          "output_type": "stream",
          "name": "stdout",
          "text": [
            "Checking coherence for 3 topics...\n"
          ]
        },
        {
          "output_type": "stream",
          "name": "stderr",
          "text": [
            "WARNING:gensim.models.ldamulticore:too few updates, training might not converge; consider increasing the number of passes or iterations to improve accuracy\n"
          ]
        },
        {
          "output_type": "stream",
          "name": "stdout",
          "text": [
            "Checking coherence for 4 topics...\n"
          ]
        },
        {
          "output_type": "stream",
          "name": "stderr",
          "text": [
            "WARNING:gensim.models.ldamulticore:too few updates, training might not converge; consider increasing the number of passes or iterations to improve accuracy\n"
          ]
        },
        {
          "output_type": "stream",
          "name": "stdout",
          "text": [
            "Checking coherence for 5 topics...\n"
          ]
        },
        {
          "output_type": "stream",
          "name": "stderr",
          "text": [
            "WARNING:gensim.models.ldamulticore:too few updates, training might not converge; consider increasing the number of passes or iterations to improve accuracy\n"
          ]
        },
        {
          "output_type": "stream",
          "name": "stdout",
          "text": [
            "Checking coherence for 6 topics...\n"
          ]
        },
        {
          "output_type": "stream",
          "name": "stderr",
          "text": [
            "WARNING:gensim.models.ldamulticore:too few updates, training might not converge; consider increasing the number of passes or iterations to improve accuracy\n"
          ]
        },
        {
          "output_type": "stream",
          "name": "stdout",
          "text": [
            "Checking coherence for 7 topics...\n"
          ]
        },
        {
          "output_type": "stream",
          "name": "stderr",
          "text": [
            "WARNING:gensim.models.ldamulticore:too few updates, training might not converge; consider increasing the number of passes or iterations to improve accuracy\n"
          ]
        },
        {
          "output_type": "stream",
          "name": "stdout",
          "text": [
            "Checking coherence for 8 topics...\n"
          ]
        },
        {
          "output_type": "stream",
          "name": "stderr",
          "text": [
            "WARNING:gensim.models.ldamulticore:too few updates, training might not converge; consider increasing the number of passes or iterations to improve accuracy\n"
          ]
        },
        {
          "output_type": "stream",
          "name": "stdout",
          "text": [
            "Checking coherence for 9 topics...\n"
          ]
        },
        {
          "output_type": "stream",
          "name": "stderr",
          "text": [
            "WARNING:gensim.models.ldamulticore:too few updates, training might not converge; consider increasing the number of passes or iterations to improve accuracy\n"
          ]
        },
        {
          "output_type": "stream",
          "name": "stdout",
          "text": [
            "Checking coherence for 10 topics...\n"
          ]
        },
        {
          "output_type": "stream",
          "name": "stderr",
          "text": [
            "WARNING:gensim.models.ldamulticore:too few updates, training might not converge; consider increasing the number of passes or iterations to improve accuracy\n"
          ]
        },
        {
          "output_type": "stream",
          "name": "stdout",
          "text": [
            "----------\n",
            "Currently modeling for keyword: parallel (34 of 59)\n",
            "----------\n"
          ]
        },
        {
          "output_type": "stream",
          "name": "stderr",
          "text": [
            "WARNING:gensim.models.ldamulticore:too few updates, training might not converge; consider increasing the number of passes or iterations to improve accuracy\n"
          ]
        },
        {
          "output_type": "stream",
          "name": "stdout",
          "text": [
            "Checking coherence for 3 topics...\n"
          ]
        },
        {
          "output_type": "stream",
          "name": "stderr",
          "text": [
            "WARNING:gensim.models.ldamulticore:too few updates, training might not converge; consider increasing the number of passes or iterations to improve accuracy\n"
          ]
        },
        {
          "output_type": "stream",
          "name": "stdout",
          "text": [
            "Checking coherence for 4 topics...\n"
          ]
        },
        {
          "output_type": "stream",
          "name": "stderr",
          "text": [
            "WARNING:gensim.models.ldamulticore:too few updates, training might not converge; consider increasing the number of passes or iterations to improve accuracy\n"
          ]
        },
        {
          "output_type": "stream",
          "name": "stdout",
          "text": [
            "Checking coherence for 5 topics...\n"
          ]
        },
        {
          "output_type": "stream",
          "name": "stderr",
          "text": [
            "WARNING:gensim.models.ldamulticore:too few updates, training might not converge; consider increasing the number of passes or iterations to improve accuracy\n"
          ]
        },
        {
          "output_type": "stream",
          "name": "stdout",
          "text": [
            "Checking coherence for 6 topics...\n"
          ]
        },
        {
          "output_type": "stream",
          "name": "stderr",
          "text": [
            "WARNING:gensim.models.ldamulticore:too few updates, training might not converge; consider increasing the number of passes or iterations to improve accuracy\n"
          ]
        },
        {
          "output_type": "stream",
          "name": "stdout",
          "text": [
            "Checking coherence for 7 topics...\n"
          ]
        },
        {
          "output_type": "stream",
          "name": "stderr",
          "text": [
            "WARNING:gensim.models.ldamulticore:too few updates, training might not converge; consider increasing the number of passes or iterations to improve accuracy\n"
          ]
        },
        {
          "output_type": "stream",
          "name": "stdout",
          "text": [
            "Checking coherence for 8 topics...\n"
          ]
        },
        {
          "output_type": "stream",
          "name": "stderr",
          "text": [
            "WARNING:gensim.models.ldamulticore:too few updates, training might not converge; consider increasing the number of passes or iterations to improve accuracy\n"
          ]
        },
        {
          "output_type": "stream",
          "name": "stdout",
          "text": [
            "Checking coherence for 9 topics...\n"
          ]
        },
        {
          "output_type": "stream",
          "name": "stderr",
          "text": [
            "WARNING:gensim.models.ldamulticore:too few updates, training might not converge; consider increasing the number of passes or iterations to improve accuracy\n"
          ]
        },
        {
          "output_type": "stream",
          "name": "stdout",
          "text": [
            "Checking coherence for 10 topics...\n"
          ]
        },
        {
          "output_type": "stream",
          "name": "stderr",
          "text": [
            "WARNING:gensim.models.ldamulticore:too few updates, training might not converge; consider increasing the number of passes or iterations to improve accuracy\n"
          ]
        },
        {
          "output_type": "stream",
          "name": "stdout",
          "text": [
            "----------\n",
            "Currently modeling for keyword: performance (35 of 59)\n",
            "----------\n"
          ]
        },
        {
          "output_type": "stream",
          "name": "stderr",
          "text": [
            "WARNING:gensim.models.ldamulticore:too few updates, training might not converge; consider increasing the number of passes or iterations to improve accuracy\n"
          ]
        },
        {
          "output_type": "stream",
          "name": "stdout",
          "text": [
            "Checking coherence for 3 topics...\n"
          ]
        },
        {
          "output_type": "stream",
          "name": "stderr",
          "text": [
            "WARNING:gensim.models.ldamulticore:too few updates, training might not converge; consider increasing the number of passes or iterations to improve accuracy\n"
          ]
        },
        {
          "output_type": "stream",
          "name": "stdout",
          "text": [
            "Checking coherence for 4 topics...\n"
          ]
        },
        {
          "output_type": "stream",
          "name": "stderr",
          "text": [
            "WARNING:gensim.models.ldamulticore:too few updates, training might not converge; consider increasing the number of passes or iterations to improve accuracy\n"
          ]
        },
        {
          "output_type": "stream",
          "name": "stdout",
          "text": [
            "Checking coherence for 5 topics...\n"
          ]
        },
        {
          "output_type": "stream",
          "name": "stderr",
          "text": [
            "WARNING:gensim.models.ldamulticore:too few updates, training might not converge; consider increasing the number of passes or iterations to improve accuracy\n"
          ]
        },
        {
          "output_type": "stream",
          "name": "stdout",
          "text": [
            "Checking coherence for 6 topics...\n"
          ]
        },
        {
          "output_type": "stream",
          "name": "stderr",
          "text": [
            "WARNING:gensim.models.ldamulticore:too few updates, training might not converge; consider increasing the number of passes or iterations to improve accuracy\n"
          ]
        },
        {
          "output_type": "stream",
          "name": "stdout",
          "text": [
            "Checking coherence for 7 topics...\n"
          ]
        },
        {
          "output_type": "stream",
          "name": "stderr",
          "text": [
            "WARNING:gensim.models.ldamulticore:too few updates, training might not converge; consider increasing the number of passes or iterations to improve accuracy\n"
          ]
        },
        {
          "output_type": "stream",
          "name": "stdout",
          "text": [
            "Checking coherence for 8 topics...\n"
          ]
        },
        {
          "output_type": "stream",
          "name": "stderr",
          "text": [
            "WARNING:gensim.models.ldamulticore:too few updates, training might not converge; consider increasing the number of passes or iterations to improve accuracy\n"
          ]
        },
        {
          "output_type": "stream",
          "name": "stdout",
          "text": [
            "Checking coherence for 9 topics...\n"
          ]
        },
        {
          "output_type": "stream",
          "name": "stderr",
          "text": [
            "WARNING:gensim.models.ldamulticore:too few updates, training might not converge; consider increasing the number of passes or iterations to improve accuracy\n"
          ]
        },
        {
          "output_type": "stream",
          "name": "stdout",
          "text": [
            "Checking coherence for 10 topics...\n"
          ]
        },
        {
          "output_type": "stream",
          "name": "stderr",
          "text": [
            "WARNING:gensim.models.ldamulticore:too few updates, training might not converge; consider increasing the number of passes or iterations to improve accuracy\n"
          ]
        },
        {
          "output_type": "stream",
          "name": "stdout",
          "text": [
            "----------\n",
            "Currently modeling for keyword: problems (36 of 59)\n",
            "----------\n"
          ]
        },
        {
          "output_type": "stream",
          "name": "stderr",
          "text": [
            "WARNING:gensim.models.ldamulticore:too few updates, training might not converge; consider increasing the number of passes or iterations to improve accuracy\n"
          ]
        },
        {
          "output_type": "stream",
          "name": "stdout",
          "text": [
            "Checking coherence for 3 topics...\n"
          ]
        },
        {
          "output_type": "stream",
          "name": "stderr",
          "text": [
            "WARNING:gensim.models.ldamulticore:too few updates, training might not converge; consider increasing the number of passes or iterations to improve accuracy\n"
          ]
        },
        {
          "output_type": "stream",
          "name": "stdout",
          "text": [
            "Checking coherence for 4 topics...\n"
          ]
        },
        {
          "output_type": "stream",
          "name": "stderr",
          "text": [
            "WARNING:gensim.models.ldamulticore:too few updates, training might not converge; consider increasing the number of passes or iterations to improve accuracy\n"
          ]
        },
        {
          "output_type": "stream",
          "name": "stdout",
          "text": [
            "Checking coherence for 5 topics...\n"
          ]
        },
        {
          "output_type": "stream",
          "name": "stderr",
          "text": [
            "WARNING:gensim.models.ldamulticore:too few updates, training might not converge; consider increasing the number of passes or iterations to improve accuracy\n"
          ]
        },
        {
          "output_type": "stream",
          "name": "stdout",
          "text": [
            "Checking coherence for 6 topics...\n"
          ]
        },
        {
          "output_type": "stream",
          "name": "stderr",
          "text": [
            "WARNING:gensim.models.ldamulticore:too few updates, training might not converge; consider increasing the number of passes or iterations to improve accuracy\n"
          ]
        },
        {
          "output_type": "stream",
          "name": "stdout",
          "text": [
            "Checking coherence for 7 topics...\n"
          ]
        },
        {
          "output_type": "stream",
          "name": "stderr",
          "text": [
            "WARNING:gensim.models.ldamulticore:too few updates, training might not converge; consider increasing the number of passes or iterations to improve accuracy\n"
          ]
        },
        {
          "output_type": "stream",
          "name": "stdout",
          "text": [
            "Checking coherence for 8 topics...\n"
          ]
        },
        {
          "output_type": "stream",
          "name": "stderr",
          "text": [
            "WARNING:gensim.models.ldamulticore:too few updates, training might not converge; consider increasing the number of passes or iterations to improve accuracy\n"
          ]
        },
        {
          "output_type": "stream",
          "name": "stdout",
          "text": [
            "Checking coherence for 9 topics...\n"
          ]
        },
        {
          "output_type": "stream",
          "name": "stderr",
          "text": [
            "WARNING:gensim.models.ldamulticore:too few updates, training might not converge; consider increasing the number of passes or iterations to improve accuracy\n"
          ]
        },
        {
          "output_type": "stream",
          "name": "stdout",
          "text": [
            "Checking coherence for 10 topics...\n"
          ]
        },
        {
          "output_type": "stream",
          "name": "stderr",
          "text": [
            "WARNING:gensim.models.ldamulticore:too few updates, training might not converge; consider increasing the number of passes or iterations to improve accuracy\n"
          ]
        },
        {
          "output_type": "stream",
          "name": "stdout",
          "text": [
            "----------\n",
            "Currently modeling for keyword: processing (37 of 59)\n",
            "----------\n"
          ]
        },
        {
          "output_type": "stream",
          "name": "stderr",
          "text": [
            "WARNING:gensim.models.ldamulticore:too few updates, training might not converge; consider increasing the number of passes or iterations to improve accuracy\n"
          ]
        },
        {
          "output_type": "stream",
          "name": "stdout",
          "text": [
            "Checking coherence for 3 topics...\n"
          ]
        },
        {
          "output_type": "stream",
          "name": "stderr",
          "text": [
            "WARNING:gensim.models.ldamulticore:too few updates, training might not converge; consider increasing the number of passes or iterations to improve accuracy\n"
          ]
        },
        {
          "output_type": "stream",
          "name": "stdout",
          "text": [
            "Checking coherence for 4 topics...\n"
          ]
        },
        {
          "output_type": "stream",
          "name": "stderr",
          "text": [
            "WARNING:gensim.models.ldamulticore:too few updates, training might not converge; consider increasing the number of passes or iterations to improve accuracy\n"
          ]
        },
        {
          "output_type": "stream",
          "name": "stdout",
          "text": [
            "Checking coherence for 5 topics...\n"
          ]
        },
        {
          "output_type": "stream",
          "name": "stderr",
          "text": [
            "WARNING:gensim.models.ldamulticore:too few updates, training might not converge; consider increasing the number of passes or iterations to improve accuracy\n"
          ]
        },
        {
          "output_type": "stream",
          "name": "stdout",
          "text": [
            "Checking coherence for 6 topics...\n"
          ]
        },
        {
          "output_type": "stream",
          "name": "stderr",
          "text": [
            "WARNING:gensim.models.ldamulticore:too few updates, training might not converge; consider increasing the number of passes or iterations to improve accuracy\n"
          ]
        },
        {
          "output_type": "stream",
          "name": "stdout",
          "text": [
            "Checking coherence for 7 topics...\n"
          ]
        },
        {
          "output_type": "stream",
          "name": "stderr",
          "text": [
            "WARNING:gensim.models.ldamulticore:too few updates, training might not converge; consider increasing the number of passes or iterations to improve accuracy\n"
          ]
        },
        {
          "output_type": "stream",
          "name": "stdout",
          "text": [
            "Checking coherence for 8 topics...\n"
          ]
        },
        {
          "output_type": "stream",
          "name": "stderr",
          "text": [
            "WARNING:gensim.models.ldamulticore:too few updates, training might not converge; consider increasing the number of passes or iterations to improve accuracy\n"
          ]
        },
        {
          "output_type": "stream",
          "name": "stdout",
          "text": [
            "Checking coherence for 9 topics...\n"
          ]
        },
        {
          "output_type": "stream",
          "name": "stderr",
          "text": [
            "WARNING:gensim.models.ldamulticore:too few updates, training might not converge; consider increasing the number of passes or iterations to improve accuracy\n"
          ]
        },
        {
          "output_type": "stream",
          "name": "stdout",
          "text": [
            "Checking coherence for 10 topics...\n"
          ]
        },
        {
          "output_type": "stream",
          "name": "stderr",
          "text": [
            "WARNING:gensim.models.ldamulticore:too few updates, training might not converge; consider increasing the number of passes or iterations to improve accuracy\n"
          ]
        },
        {
          "output_type": "stream",
          "name": "stdout",
          "text": [
            "----------\n",
            "Currently modeling for keyword: program (38 of 59)\n",
            "----------\n"
          ]
        },
        {
          "output_type": "stream",
          "name": "stderr",
          "text": [
            "WARNING:gensim.models.ldamulticore:too few updates, training might not converge; consider increasing the number of passes or iterations to improve accuracy\n"
          ]
        },
        {
          "output_type": "stream",
          "name": "stdout",
          "text": [
            "Checking coherence for 3 topics...\n"
          ]
        },
        {
          "output_type": "stream",
          "name": "stderr",
          "text": [
            "WARNING:gensim.models.ldamulticore:too few updates, training might not converge; consider increasing the number of passes or iterations to improve accuracy\n"
          ]
        },
        {
          "output_type": "stream",
          "name": "stdout",
          "text": [
            "Checking coherence for 4 topics...\n"
          ]
        },
        {
          "output_type": "stream",
          "name": "stderr",
          "text": [
            "WARNING:gensim.models.ldamulticore:too few updates, training might not converge; consider increasing the number of passes or iterations to improve accuracy\n"
          ]
        },
        {
          "output_type": "stream",
          "name": "stdout",
          "text": [
            "Checking coherence for 5 topics...\n"
          ]
        },
        {
          "output_type": "stream",
          "name": "stderr",
          "text": [
            "WARNING:gensim.models.ldamulticore:too few updates, training might not converge; consider increasing the number of passes or iterations to improve accuracy\n"
          ]
        },
        {
          "output_type": "stream",
          "name": "stdout",
          "text": [
            "Checking coherence for 6 topics...\n"
          ]
        },
        {
          "output_type": "stream",
          "name": "stderr",
          "text": [
            "WARNING:gensim.models.ldamulticore:too few updates, training might not converge; consider increasing the number of passes or iterations to improve accuracy\n"
          ]
        },
        {
          "output_type": "stream",
          "name": "stdout",
          "text": [
            "Checking coherence for 7 topics...\n"
          ]
        },
        {
          "output_type": "stream",
          "name": "stderr",
          "text": [
            "WARNING:gensim.models.ldamulticore:too few updates, training might not converge; consider increasing the number of passes or iterations to improve accuracy\n"
          ]
        },
        {
          "output_type": "stream",
          "name": "stdout",
          "text": [
            "Checking coherence for 8 topics...\n"
          ]
        },
        {
          "output_type": "stream",
          "name": "stderr",
          "text": [
            "WARNING:gensim.models.ldamulticore:too few updates, training might not converge; consider increasing the number of passes or iterations to improve accuracy\n"
          ]
        },
        {
          "output_type": "stream",
          "name": "stdout",
          "text": [
            "Checking coherence for 9 topics...\n"
          ]
        },
        {
          "output_type": "stream",
          "name": "stderr",
          "text": [
            "WARNING:gensim.models.ldamulticore:too few updates, training might not converge; consider increasing the number of passes or iterations to improve accuracy\n"
          ]
        },
        {
          "output_type": "stream",
          "name": "stdout",
          "text": [
            "Checking coherence for 10 topics...\n"
          ]
        },
        {
          "output_type": "stream",
          "name": "stderr",
          "text": [
            "WARNING:gensim.models.ldamulticore:too few updates, training might not converge; consider increasing the number of passes or iterations to improve accuracy\n"
          ]
        },
        {
          "output_type": "stream",
          "name": "stdout",
          "text": [
            "----------\n",
            "Currently modeling for keyword: programming (39 of 59)\n",
            "----------\n"
          ]
        },
        {
          "output_type": "stream",
          "name": "stderr",
          "text": [
            "WARNING:gensim.models.ldamulticore:too few updates, training might not converge; consider increasing the number of passes or iterations to improve accuracy\n"
          ]
        },
        {
          "output_type": "stream",
          "name": "stdout",
          "text": [
            "Checking coherence for 3 topics...\n"
          ]
        },
        {
          "output_type": "stream",
          "name": "stderr",
          "text": [
            "WARNING:gensim.models.ldamulticore:too few updates, training might not converge; consider increasing the number of passes or iterations to improve accuracy\n"
          ]
        },
        {
          "output_type": "stream",
          "name": "stdout",
          "text": [
            "Checking coherence for 4 topics...\n"
          ]
        },
        {
          "output_type": "stream",
          "name": "stderr",
          "text": [
            "WARNING:gensim.models.ldamulticore:too few updates, training might not converge; consider increasing the number of passes or iterations to improve accuracy\n"
          ]
        },
        {
          "output_type": "stream",
          "name": "stdout",
          "text": [
            "Checking coherence for 5 topics...\n"
          ]
        },
        {
          "output_type": "stream",
          "name": "stderr",
          "text": [
            "WARNING:gensim.models.ldamulticore:too few updates, training might not converge; consider increasing the number of passes or iterations to improve accuracy\n"
          ]
        },
        {
          "output_type": "stream",
          "name": "stdout",
          "text": [
            "Checking coherence for 6 topics...\n"
          ]
        },
        {
          "output_type": "stream",
          "name": "stderr",
          "text": [
            "WARNING:gensim.models.ldamulticore:too few updates, training might not converge; consider increasing the number of passes or iterations to improve accuracy\n"
          ]
        },
        {
          "output_type": "stream",
          "name": "stdout",
          "text": [
            "Checking coherence for 7 topics...\n"
          ]
        },
        {
          "output_type": "stream",
          "name": "stderr",
          "text": [
            "WARNING:gensim.models.ldamulticore:too few updates, training might not converge; consider increasing the number of passes or iterations to improve accuracy\n"
          ]
        },
        {
          "output_type": "stream",
          "name": "stdout",
          "text": [
            "Checking coherence for 8 topics...\n"
          ]
        },
        {
          "output_type": "stream",
          "name": "stderr",
          "text": [
            "WARNING:gensim.models.ldamulticore:too few updates, training might not converge; consider increasing the number of passes or iterations to improve accuracy\n"
          ]
        },
        {
          "output_type": "stream",
          "name": "stdout",
          "text": [
            "Checking coherence for 9 topics...\n"
          ]
        },
        {
          "output_type": "stream",
          "name": "stderr",
          "text": [
            "WARNING:gensim.models.ldamulticore:too few updates, training might not converge; consider increasing the number of passes or iterations to improve accuracy\n"
          ]
        },
        {
          "output_type": "stream",
          "name": "stdout",
          "text": [
            "Checking coherence for 10 topics...\n"
          ]
        },
        {
          "output_type": "stream",
          "name": "stderr",
          "text": [
            "WARNING:gensim.models.ldamulticore:too few updates, training might not converge; consider increasing the number of passes or iterations to improve accuracy\n"
          ]
        },
        {
          "output_type": "stream",
          "name": "stdout",
          "text": [
            "----------\n",
            "Currently modeling for keyword: project (40 of 59)\n",
            "----------\n"
          ]
        },
        {
          "output_type": "stream",
          "name": "stderr",
          "text": [
            "WARNING:gensim.models.ldamulticore:too few updates, training might not converge; consider increasing the number of passes or iterations to improve accuracy\n"
          ]
        },
        {
          "output_type": "stream",
          "name": "stdout",
          "text": [
            "Checking coherence for 3 topics...\n"
          ]
        },
        {
          "output_type": "stream",
          "name": "stderr",
          "text": [
            "WARNING:gensim.models.ldamulticore:too few updates, training might not converge; consider increasing the number of passes or iterations to improve accuracy\n"
          ]
        },
        {
          "output_type": "stream",
          "name": "stdout",
          "text": [
            "Checking coherence for 4 topics...\n"
          ]
        },
        {
          "output_type": "stream",
          "name": "stderr",
          "text": [
            "WARNING:gensim.models.ldamulticore:too few updates, training might not converge; consider increasing the number of passes or iterations to improve accuracy\n"
          ]
        },
        {
          "output_type": "stream",
          "name": "stdout",
          "text": [
            "Checking coherence for 5 topics...\n"
          ]
        },
        {
          "output_type": "stream",
          "name": "stderr",
          "text": [
            "WARNING:gensim.models.ldamulticore:too few updates, training might not converge; consider increasing the number of passes or iterations to improve accuracy\n"
          ]
        },
        {
          "output_type": "stream",
          "name": "stdout",
          "text": [
            "Checking coherence for 6 topics...\n"
          ]
        },
        {
          "output_type": "stream",
          "name": "stderr",
          "text": [
            "WARNING:gensim.models.ldamulticore:too few updates, training might not converge; consider increasing the number of passes or iterations to improve accuracy\n"
          ]
        },
        {
          "output_type": "stream",
          "name": "stdout",
          "text": [
            "Checking coherence for 7 topics...\n"
          ]
        },
        {
          "output_type": "stream",
          "name": "stderr",
          "text": [
            "WARNING:gensim.models.ldamulticore:too few updates, training might not converge; consider increasing the number of passes or iterations to improve accuracy\n"
          ]
        },
        {
          "output_type": "stream",
          "name": "stdout",
          "text": [
            "Checking coherence for 8 topics...\n"
          ]
        },
        {
          "output_type": "stream",
          "name": "stderr",
          "text": [
            "WARNING:gensim.models.ldamulticore:too few updates, training might not converge; consider increasing the number of passes or iterations to improve accuracy\n"
          ]
        },
        {
          "output_type": "stream",
          "name": "stdout",
          "text": [
            "Checking coherence for 9 topics...\n"
          ]
        },
        {
          "output_type": "stream",
          "name": "stderr",
          "text": [
            "WARNING:gensim.models.ldamulticore:too few updates, training might not converge; consider increasing the number of passes or iterations to improve accuracy\n"
          ]
        },
        {
          "output_type": "stream",
          "name": "stdout",
          "text": [
            "Checking coherence for 10 topics...\n"
          ]
        },
        {
          "output_type": "stream",
          "name": "stderr",
          "text": [
            "WARNING:gensim.models.ldamulticore:too few updates, training might not converge; consider increasing the number of passes or iterations to improve accuracy\n"
          ]
        },
        {
          "output_type": "stream",
          "name": "stdout",
          "text": [
            "----------\n",
            "Currently modeling for keyword: quantum (41 of 59)\n",
            "----------\n"
          ]
        },
        {
          "output_type": "stream",
          "name": "stderr",
          "text": [
            "WARNING:gensim.models.ldamulticore:too few updates, training might not converge; consider increasing the number of passes or iterations to improve accuracy\n"
          ]
        },
        {
          "output_type": "stream",
          "name": "stdout",
          "text": [
            "Checking coherence for 3 topics...\n"
          ]
        },
        {
          "output_type": "stream",
          "name": "stderr",
          "text": [
            "WARNING:gensim.models.ldamulticore:too few updates, training might not converge; consider increasing the number of passes or iterations to improve accuracy\n"
          ]
        },
        {
          "output_type": "stream",
          "name": "stdout",
          "text": [
            "Checking coherence for 4 topics...\n"
          ]
        },
        {
          "output_type": "stream",
          "name": "stderr",
          "text": [
            "WARNING:gensim.models.ldamulticore:too few updates, training might not converge; consider increasing the number of passes or iterations to improve accuracy\n"
          ]
        },
        {
          "output_type": "stream",
          "name": "stdout",
          "text": [
            "Checking coherence for 5 topics...\n"
          ]
        },
        {
          "output_type": "stream",
          "name": "stderr",
          "text": [
            "WARNING:gensim.models.ldamulticore:too few updates, training might not converge; consider increasing the number of passes or iterations to improve accuracy\n"
          ]
        },
        {
          "output_type": "stream",
          "name": "stdout",
          "text": [
            "Checking coherence for 6 topics...\n"
          ]
        },
        {
          "output_type": "stream",
          "name": "stderr",
          "text": [
            "WARNING:gensim.models.ldamulticore:too few updates, training might not converge; consider increasing the number of passes or iterations to improve accuracy\n"
          ]
        },
        {
          "output_type": "stream",
          "name": "stdout",
          "text": [
            "Checking coherence for 7 topics...\n"
          ]
        },
        {
          "output_type": "stream",
          "name": "stderr",
          "text": [
            "WARNING:gensim.models.ldamulticore:too few updates, training might not converge; consider increasing the number of passes or iterations to improve accuracy\n"
          ]
        },
        {
          "output_type": "stream",
          "name": "stdout",
          "text": [
            "Checking coherence for 8 topics...\n"
          ]
        },
        {
          "output_type": "stream",
          "name": "stderr",
          "text": [
            "WARNING:gensim.models.ldamulticore:too few updates, training might not converge; consider increasing the number of passes or iterations to improve accuracy\n"
          ]
        },
        {
          "output_type": "stream",
          "name": "stdout",
          "text": [
            "Checking coherence for 9 topics...\n"
          ]
        },
        {
          "output_type": "stream",
          "name": "stderr",
          "text": [
            "WARNING:gensim.models.ldamulticore:too few updates, training might not converge; consider increasing the number of passes or iterations to improve accuracy\n"
          ]
        },
        {
          "output_type": "stream",
          "name": "stdout",
          "text": [
            "Checking coherence for 10 topics...\n"
          ]
        },
        {
          "output_type": "stream",
          "name": "stderr",
          "text": [
            "WARNING:gensim.models.ldamulticore:too few updates, training might not converge; consider increasing the number of passes or iterations to improve accuracy\n"
          ]
        },
        {
          "output_type": "stream",
          "name": "stdout",
          "text": [
            "----------\n",
            "Currently modeling for keyword: research (42 of 59)\n",
            "----------\n"
          ]
        },
        {
          "output_type": "stream",
          "name": "stderr",
          "text": [
            "WARNING:gensim.models.ldamulticore:too few updates, training might not converge; consider increasing the number of passes or iterations to improve accuracy\n"
          ]
        },
        {
          "output_type": "stream",
          "name": "stdout",
          "text": [
            "Checking coherence for 3 topics...\n"
          ]
        },
        {
          "output_type": "stream",
          "name": "stderr",
          "text": [
            "WARNING:gensim.models.ldamulticore:too few updates, training might not converge; consider increasing the number of passes or iterations to improve accuracy\n"
          ]
        },
        {
          "output_type": "stream",
          "name": "stdout",
          "text": [
            "Checking coherence for 4 topics...\n"
          ]
        },
        {
          "output_type": "stream",
          "name": "stderr",
          "text": [
            "WARNING:gensim.models.ldamulticore:too few updates, training might not converge; consider increasing the number of passes or iterations to improve accuracy\n"
          ]
        },
        {
          "output_type": "stream",
          "name": "stdout",
          "text": [
            "Checking coherence for 5 topics...\n"
          ]
        },
        {
          "output_type": "stream",
          "name": "stderr",
          "text": [
            "WARNING:gensim.models.ldamulticore:too few updates, training might not converge; consider increasing the number of passes or iterations to improve accuracy\n"
          ]
        },
        {
          "output_type": "stream",
          "name": "stdout",
          "text": [
            "Checking coherence for 6 topics...\n"
          ]
        },
        {
          "output_type": "stream",
          "name": "stderr",
          "text": [
            "WARNING:gensim.models.ldamulticore:too few updates, training might not converge; consider increasing the number of passes or iterations to improve accuracy\n"
          ]
        },
        {
          "output_type": "stream",
          "name": "stdout",
          "text": [
            "Checking coherence for 7 topics...\n"
          ]
        },
        {
          "output_type": "stream",
          "name": "stderr",
          "text": [
            "WARNING:gensim.models.ldamulticore:too few updates, training might not converge; consider increasing the number of passes or iterations to improve accuracy\n"
          ]
        },
        {
          "output_type": "stream",
          "name": "stdout",
          "text": [
            "Checking coherence for 8 topics...\n"
          ]
        },
        {
          "output_type": "stream",
          "name": "stderr",
          "text": [
            "WARNING:gensim.models.ldamulticore:too few updates, training might not converge; consider increasing the number of passes or iterations to improve accuracy\n"
          ]
        },
        {
          "output_type": "stream",
          "name": "stdout",
          "text": [
            "Checking coherence for 9 topics...\n"
          ]
        },
        {
          "output_type": "stream",
          "name": "stderr",
          "text": [
            "WARNING:gensim.models.ldamulticore:too few updates, training might not converge; consider increasing the number of passes or iterations to improve accuracy\n"
          ]
        },
        {
          "output_type": "stream",
          "name": "stdout",
          "text": [
            "Checking coherence for 10 topics...\n"
          ]
        },
        {
          "output_type": "stream",
          "name": "stderr",
          "text": [
            "WARNING:gensim.models.ldamulticore:too few updates, training might not converge; consider increasing the number of passes or iterations to improve accuracy\n"
          ]
        },
        {
          "output_type": "stream",
          "name": "stdout",
          "text": [
            "----------\n",
            "Currently modeling for keyword: scale (43 of 59)\n",
            "----------\n"
          ]
        },
        {
          "output_type": "stream",
          "name": "stderr",
          "text": [
            "WARNING:gensim.models.ldamulticore:too few updates, training might not converge; consider increasing the number of passes or iterations to improve accuracy\n"
          ]
        },
        {
          "output_type": "stream",
          "name": "stdout",
          "text": [
            "Checking coherence for 3 topics...\n"
          ]
        },
        {
          "output_type": "stream",
          "name": "stderr",
          "text": [
            "WARNING:gensim.models.ldamulticore:too few updates, training might not converge; consider increasing the number of passes or iterations to improve accuracy\n"
          ]
        },
        {
          "output_type": "stream",
          "name": "stdout",
          "text": [
            "Checking coherence for 4 topics...\n"
          ]
        },
        {
          "output_type": "stream",
          "name": "stderr",
          "text": [
            "WARNING:gensim.models.ldamulticore:too few updates, training might not converge; consider increasing the number of passes or iterations to improve accuracy\n"
          ]
        },
        {
          "output_type": "stream",
          "name": "stdout",
          "text": [
            "Checking coherence for 5 topics...\n"
          ]
        },
        {
          "output_type": "stream",
          "name": "stderr",
          "text": [
            "WARNING:gensim.models.ldamulticore:too few updates, training might not converge; consider increasing the number of passes or iterations to improve accuracy\n"
          ]
        },
        {
          "output_type": "stream",
          "name": "stdout",
          "text": [
            "Checking coherence for 6 topics...\n"
          ]
        },
        {
          "output_type": "stream",
          "name": "stderr",
          "text": [
            "WARNING:gensim.models.ldamulticore:too few updates, training might not converge; consider increasing the number of passes or iterations to improve accuracy\n"
          ]
        },
        {
          "output_type": "stream",
          "name": "stdout",
          "text": [
            "Checking coherence for 7 topics...\n"
          ]
        },
        {
          "output_type": "stream",
          "name": "stderr",
          "text": [
            "WARNING:gensim.models.ldamulticore:too few updates, training might not converge; consider increasing the number of passes or iterations to improve accuracy\n"
          ]
        },
        {
          "output_type": "stream",
          "name": "stdout",
          "text": [
            "Checking coherence for 8 topics...\n"
          ]
        },
        {
          "output_type": "stream",
          "name": "stderr",
          "text": [
            "WARNING:gensim.models.ldamulticore:too few updates, training might not converge; consider increasing the number of passes or iterations to improve accuracy\n"
          ]
        },
        {
          "output_type": "stream",
          "name": "stdout",
          "text": [
            "Checking coherence for 9 topics...\n"
          ]
        },
        {
          "output_type": "stream",
          "name": "stderr",
          "text": [
            "WARNING:gensim.models.ldamulticore:too few updates, training might not converge; consider increasing the number of passes or iterations to improve accuracy\n"
          ]
        },
        {
          "output_type": "stream",
          "name": "stdout",
          "text": [
            "Checking coherence for 10 topics...\n"
          ]
        },
        {
          "output_type": "stream",
          "name": "stderr",
          "text": [
            "WARNING:gensim.models.ldamulticore:too few updates, training might not converge; consider increasing the number of passes or iterations to improve accuracy\n"
          ]
        },
        {
          "output_type": "stream",
          "name": "stdout",
          "text": [
            "----------\n",
            "Currently modeling for keyword: science (44 of 59)\n",
            "----------\n"
          ]
        },
        {
          "output_type": "stream",
          "name": "stderr",
          "text": [
            "WARNING:gensim.models.ldamulticore:too few updates, training might not converge; consider increasing the number of passes or iterations to improve accuracy\n"
          ]
        },
        {
          "output_type": "stream",
          "name": "stdout",
          "text": [
            "Checking coherence for 3 topics...\n"
          ]
        },
        {
          "output_type": "stream",
          "name": "stderr",
          "text": [
            "WARNING:gensim.models.ldamulticore:too few updates, training might not converge; consider increasing the number of passes or iterations to improve accuracy\n"
          ]
        },
        {
          "output_type": "stream",
          "name": "stdout",
          "text": [
            "Checking coherence for 4 topics...\n"
          ]
        },
        {
          "output_type": "stream",
          "name": "stderr",
          "text": [
            "WARNING:gensim.models.ldamulticore:too few updates, training might not converge; consider increasing the number of passes or iterations to improve accuracy\n"
          ]
        },
        {
          "output_type": "stream",
          "name": "stdout",
          "text": [
            "Checking coherence for 5 topics...\n"
          ]
        },
        {
          "output_type": "stream",
          "name": "stderr",
          "text": [
            "WARNING:gensim.models.ldamulticore:too few updates, training might not converge; consider increasing the number of passes or iterations to improve accuracy\n"
          ]
        },
        {
          "output_type": "stream",
          "name": "stdout",
          "text": [
            "Checking coherence for 6 topics...\n"
          ]
        },
        {
          "output_type": "stream",
          "name": "stderr",
          "text": [
            "WARNING:gensim.models.ldamulticore:too few updates, training might not converge; consider increasing the number of passes or iterations to improve accuracy\n"
          ]
        },
        {
          "output_type": "stream",
          "name": "stdout",
          "text": [
            "Checking coherence for 7 topics...\n"
          ]
        },
        {
          "output_type": "stream",
          "name": "stderr",
          "text": [
            "WARNING:gensim.models.ldamulticore:too few updates, training might not converge; consider increasing the number of passes or iterations to improve accuracy\n"
          ]
        },
        {
          "output_type": "stream",
          "name": "stdout",
          "text": [
            "Checking coherence for 8 topics...\n"
          ]
        },
        {
          "output_type": "stream",
          "name": "stderr",
          "text": [
            "WARNING:gensim.models.ldamulticore:too few updates, training might not converge; consider increasing the number of passes or iterations to improve accuracy\n"
          ]
        },
        {
          "output_type": "stream",
          "name": "stdout",
          "text": [
            "Checking coherence for 9 topics...\n"
          ]
        },
        {
          "output_type": "stream",
          "name": "stderr",
          "text": [
            "WARNING:gensim.models.ldamulticore:too few updates, training might not converge; consider increasing the number of passes or iterations to improve accuracy\n"
          ]
        },
        {
          "output_type": "stream",
          "name": "stdout",
          "text": [
            "Checking coherence for 10 topics...\n"
          ]
        },
        {
          "output_type": "stream",
          "name": "stderr",
          "text": [
            "WARNING:gensim.models.ldamulticore:too few updates, training might not converge; consider increasing the number of passes or iterations to improve accuracy\n"
          ]
        },
        {
          "output_type": "stream",
          "name": "stdout",
          "text": [
            "----------\n",
            "Currently modeling for keyword: shf (45 of 59)\n",
            "----------\n"
          ]
        },
        {
          "output_type": "stream",
          "name": "stderr",
          "text": [
            "WARNING:gensim.models.ldamulticore:too few updates, training might not converge; consider increasing the number of passes or iterations to improve accuracy\n"
          ]
        },
        {
          "output_type": "stream",
          "name": "stdout",
          "text": [
            "Checking coherence for 3 topics...\n"
          ]
        },
        {
          "output_type": "stream",
          "name": "stderr",
          "text": [
            "WARNING:gensim.models.ldamulticore:too few updates, training might not converge; consider increasing the number of passes or iterations to improve accuracy\n"
          ]
        },
        {
          "output_type": "stream",
          "name": "stdout",
          "text": [
            "Checking coherence for 4 topics...\n"
          ]
        },
        {
          "output_type": "stream",
          "name": "stderr",
          "text": [
            "WARNING:gensim.models.ldamulticore:too few updates, training might not converge; consider increasing the number of passes or iterations to improve accuracy\n"
          ]
        },
        {
          "output_type": "stream",
          "name": "stdout",
          "text": [
            "Checking coherence for 5 topics...\n"
          ]
        },
        {
          "output_type": "stream",
          "name": "stderr",
          "text": [
            "WARNING:gensim.models.ldamulticore:too few updates, training might not converge; consider increasing the number of passes or iterations to improve accuracy\n"
          ]
        },
        {
          "output_type": "stream",
          "name": "stdout",
          "text": [
            "Checking coherence for 6 topics...\n"
          ]
        },
        {
          "output_type": "stream",
          "name": "stderr",
          "text": [
            "WARNING:gensim.models.ldamulticore:too few updates, training might not converge; consider increasing the number of passes or iterations to improve accuracy\n"
          ]
        },
        {
          "output_type": "stream",
          "name": "stdout",
          "text": [
            "Checking coherence for 7 topics...\n"
          ]
        },
        {
          "output_type": "stream",
          "name": "stderr",
          "text": [
            "WARNING:gensim.models.ldamulticore:too few updates, training might not converge; consider increasing the number of passes or iterations to improve accuracy\n"
          ]
        },
        {
          "output_type": "stream",
          "name": "stdout",
          "text": [
            "Checking coherence for 8 topics...\n"
          ]
        },
        {
          "output_type": "stream",
          "name": "stderr",
          "text": [
            "WARNING:gensim.models.ldamulticore:too few updates, training might not converge; consider increasing the number of passes or iterations to improve accuracy\n"
          ]
        },
        {
          "output_type": "stream",
          "name": "stdout",
          "text": [
            "Checking coherence for 9 topics...\n"
          ]
        },
        {
          "output_type": "stream",
          "name": "stderr",
          "text": [
            "WARNING:gensim.models.ldamulticore:too few updates, training might not converge; consider increasing the number of passes or iterations to improve accuracy\n"
          ]
        },
        {
          "output_type": "stream",
          "name": "stdout",
          "text": [
            "Checking coherence for 10 topics...\n"
          ]
        },
        {
          "output_type": "stream",
          "name": "stderr",
          "text": [
            "WARNING:gensim.models.ldamulticore:too few updates, training might not converge; consider increasing the number of passes or iterations to improve accuracy\n"
          ]
        },
        {
          "output_type": "stream",
          "name": "stdout",
          "text": [
            "----------\n",
            "Currently modeling for keyword: signal (46 of 59)\n",
            "----------\n"
          ]
        },
        {
          "output_type": "stream",
          "name": "stderr",
          "text": [
            "WARNING:gensim.models.ldamulticore:too few updates, training might not converge; consider increasing the number of passes or iterations to improve accuracy\n"
          ]
        },
        {
          "output_type": "stream",
          "name": "stdout",
          "text": [
            "Checking coherence for 3 topics...\n"
          ]
        },
        {
          "output_type": "stream",
          "name": "stderr",
          "text": [
            "WARNING:gensim.models.ldamulticore:too few updates, training might not converge; consider increasing the number of passes or iterations to improve accuracy\n"
          ]
        },
        {
          "output_type": "stream",
          "name": "stdout",
          "text": [
            "Checking coherence for 4 topics...\n"
          ]
        },
        {
          "output_type": "stream",
          "name": "stderr",
          "text": [
            "WARNING:gensim.models.ldamulticore:too few updates, training might not converge; consider increasing the number of passes or iterations to improve accuracy\n"
          ]
        },
        {
          "output_type": "stream",
          "name": "stdout",
          "text": [
            "Checking coherence for 5 topics...\n"
          ]
        },
        {
          "output_type": "stream",
          "name": "stderr",
          "text": [
            "WARNING:gensim.models.ldamulticore:too few updates, training might not converge; consider increasing the number of passes or iterations to improve accuracy\n"
          ]
        },
        {
          "output_type": "stream",
          "name": "stdout",
          "text": [
            "Checking coherence for 6 topics...\n"
          ]
        },
        {
          "output_type": "stream",
          "name": "stderr",
          "text": [
            "WARNING:gensim.models.ldamulticore:too few updates, training might not converge; consider increasing the number of passes or iterations to improve accuracy\n"
          ]
        },
        {
          "output_type": "stream",
          "name": "stdout",
          "text": [
            "Checking coherence for 7 topics...\n"
          ]
        },
        {
          "output_type": "stream",
          "name": "stderr",
          "text": [
            "WARNING:gensim.models.ldamulticore:too few updates, training might not converge; consider increasing the number of passes or iterations to improve accuracy\n"
          ]
        },
        {
          "output_type": "stream",
          "name": "stdout",
          "text": [
            "Checking coherence for 8 topics...\n"
          ]
        },
        {
          "output_type": "stream",
          "name": "stderr",
          "text": [
            "WARNING:gensim.models.ldamulticore:too few updates, training might not converge; consider increasing the number of passes or iterations to improve accuracy\n"
          ]
        },
        {
          "output_type": "stream",
          "name": "stdout",
          "text": [
            "Checking coherence for 9 topics...\n"
          ]
        },
        {
          "output_type": "stream",
          "name": "stderr",
          "text": [
            "WARNING:gensim.models.ldamulticore:too few updates, training might not converge; consider increasing the number of passes or iterations to improve accuracy\n"
          ]
        },
        {
          "output_type": "stream",
          "name": "stdout",
          "text": [
            "Checking coherence for 10 topics...\n"
          ]
        },
        {
          "output_type": "stream",
          "name": "stderr",
          "text": [
            "WARNING:gensim.models.ldamulticore:too few updates, training might not converge; consider increasing the number of passes or iterations to improve accuracy\n"
          ]
        },
        {
          "output_type": "stream",
          "name": "stdout",
          "text": [
            "----------\n",
            "Currently modeling for keyword: small (47 of 59)\n",
            "----------\n"
          ]
        },
        {
          "output_type": "stream",
          "name": "stderr",
          "text": [
            "WARNING:gensim.models.ldamulticore:too few updates, training might not converge; consider increasing the number of passes or iterations to improve accuracy\n"
          ]
        },
        {
          "output_type": "stream",
          "name": "stdout",
          "text": [
            "Checking coherence for 3 topics...\n"
          ]
        },
        {
          "output_type": "stream",
          "name": "stderr",
          "text": [
            "WARNING:gensim.models.ldamulticore:too few updates, training might not converge; consider increasing the number of passes or iterations to improve accuracy\n"
          ]
        },
        {
          "output_type": "stream",
          "name": "stdout",
          "text": [
            "Checking coherence for 4 topics...\n"
          ]
        },
        {
          "output_type": "stream",
          "name": "stderr",
          "text": [
            "WARNING:gensim.models.ldamulticore:too few updates, training might not converge; consider increasing the number of passes or iterations to improve accuracy\n"
          ]
        },
        {
          "output_type": "stream",
          "name": "stdout",
          "text": [
            "Checking coherence for 5 topics...\n"
          ]
        },
        {
          "output_type": "stream",
          "name": "stderr",
          "text": [
            "WARNING:gensim.models.ldamulticore:too few updates, training might not converge; consider increasing the number of passes or iterations to improve accuracy\n"
          ]
        },
        {
          "output_type": "stream",
          "name": "stdout",
          "text": [
            "Checking coherence for 6 topics...\n"
          ]
        },
        {
          "output_type": "stream",
          "name": "stderr",
          "text": [
            "WARNING:gensim.models.ldamulticore:too few updates, training might not converge; consider increasing the number of passes or iterations to improve accuracy\n"
          ]
        },
        {
          "output_type": "stream",
          "name": "stdout",
          "text": [
            "Checking coherence for 7 topics...\n"
          ]
        },
        {
          "output_type": "stream",
          "name": "stderr",
          "text": [
            "WARNING:gensim.models.ldamulticore:too few updates, training might not converge; consider increasing the number of passes or iterations to improve accuracy\n"
          ]
        },
        {
          "output_type": "stream",
          "name": "stdout",
          "text": [
            "Checking coherence for 8 topics...\n"
          ]
        },
        {
          "output_type": "stream",
          "name": "stderr",
          "text": [
            "WARNING:gensim.models.ldamulticore:too few updates, training might not converge; consider increasing the number of passes or iterations to improve accuracy\n"
          ]
        },
        {
          "output_type": "stream",
          "name": "stdout",
          "text": [
            "Checking coherence for 9 topics...\n"
          ]
        },
        {
          "output_type": "stream",
          "name": "stderr",
          "text": [
            "WARNING:gensim.models.ldamulticore:too few updates, training might not converge; consider increasing the number of passes or iterations to improve accuracy\n"
          ]
        },
        {
          "output_type": "stream",
          "name": "stdout",
          "text": [
            "Checking coherence for 10 topics...\n"
          ]
        },
        {
          "output_type": "stream",
          "name": "stderr",
          "text": [
            "WARNING:gensim.models.ldamulticore:too few updates, training might not converge; consider increasing the number of passes or iterations to improve accuracy\n"
          ]
        },
        {
          "output_type": "stream",
          "name": "stdout",
          "text": [
            "----------\n",
            "Currently modeling for keyword: software (48 of 59)\n",
            "----------\n"
          ]
        },
        {
          "output_type": "stream",
          "name": "stderr",
          "text": [
            "WARNING:gensim.models.ldamulticore:too few updates, training might not converge; consider increasing the number of passes or iterations to improve accuracy\n"
          ]
        },
        {
          "output_type": "stream",
          "name": "stdout",
          "text": [
            "Checking coherence for 3 topics...\n"
          ]
        },
        {
          "output_type": "stream",
          "name": "stderr",
          "text": [
            "WARNING:gensim.models.ldamulticore:too few updates, training might not converge; consider increasing the number of passes or iterations to improve accuracy\n"
          ]
        },
        {
          "output_type": "stream",
          "name": "stdout",
          "text": [
            "Checking coherence for 4 topics...\n"
          ]
        },
        {
          "output_type": "stream",
          "name": "stderr",
          "text": [
            "WARNING:gensim.models.ldamulticore:too few updates, training might not converge; consider increasing the number of passes or iterations to improve accuracy\n"
          ]
        },
        {
          "output_type": "stream",
          "name": "stdout",
          "text": [
            "Checking coherence for 5 topics...\n"
          ]
        },
        {
          "output_type": "stream",
          "name": "stderr",
          "text": [
            "WARNING:gensim.models.ldamulticore:too few updates, training might not converge; consider increasing the number of passes or iterations to improve accuracy\n"
          ]
        },
        {
          "output_type": "stream",
          "name": "stdout",
          "text": [
            "Checking coherence for 6 topics...\n"
          ]
        },
        {
          "output_type": "stream",
          "name": "stderr",
          "text": [
            "WARNING:gensim.models.ldamulticore:too few updates, training might not converge; consider increasing the number of passes or iterations to improve accuracy\n"
          ]
        },
        {
          "output_type": "stream",
          "name": "stdout",
          "text": [
            "Checking coherence for 7 topics...\n"
          ]
        },
        {
          "output_type": "stream",
          "name": "stderr",
          "text": [
            "WARNING:gensim.models.ldamulticore:too few updates, training might not converge; consider increasing the number of passes or iterations to improve accuracy\n"
          ]
        },
        {
          "output_type": "stream",
          "name": "stdout",
          "text": [
            "Checking coherence for 8 topics...\n"
          ]
        },
        {
          "output_type": "stream",
          "name": "stderr",
          "text": [
            "WARNING:gensim.models.ldamulticore:too few updates, training might not converge; consider increasing the number of passes or iterations to improve accuracy\n"
          ]
        },
        {
          "output_type": "stream",
          "name": "stdout",
          "text": [
            "Checking coherence for 9 topics...\n"
          ]
        },
        {
          "output_type": "stream",
          "name": "stderr",
          "text": [
            "WARNING:gensim.models.ldamulticore:too few updates, training might not converge; consider increasing the number of passes or iterations to improve accuracy\n"
          ]
        },
        {
          "output_type": "stream",
          "name": "stdout",
          "text": [
            "Checking coherence for 10 topics...\n"
          ]
        },
        {
          "output_type": "stream",
          "name": "stderr",
          "text": [
            "WARNING:gensim.models.ldamulticore:too few updates, training might not converge; consider increasing the number of passes or iterations to improve accuracy\n"
          ]
        },
        {
          "output_type": "stream",
          "name": "stdout",
          "text": [
            "----------\n",
            "Currently modeling for keyword: student (49 of 59)\n",
            "----------\n"
          ]
        },
        {
          "output_type": "stream",
          "name": "stderr",
          "text": [
            "WARNING:gensim.models.ldamulticore:too few updates, training might not converge; consider increasing the number of passes or iterations to improve accuracy\n"
          ]
        },
        {
          "output_type": "stream",
          "name": "stdout",
          "text": [
            "Checking coherence for 3 topics...\n"
          ]
        },
        {
          "output_type": "stream",
          "name": "stderr",
          "text": [
            "WARNING:gensim.models.ldamulticore:too few updates, training might not converge; consider increasing the number of passes or iterations to improve accuracy\n"
          ]
        },
        {
          "output_type": "stream",
          "name": "stdout",
          "text": [
            "Checking coherence for 4 topics...\n"
          ]
        },
        {
          "output_type": "stream",
          "name": "stderr",
          "text": [
            "WARNING:gensim.models.ldamulticore:too few updates, training might not converge; consider increasing the number of passes or iterations to improve accuracy\n"
          ]
        },
        {
          "output_type": "stream",
          "name": "stdout",
          "text": [
            "Checking coherence for 5 topics...\n"
          ]
        },
        {
          "output_type": "stream",
          "name": "stderr",
          "text": [
            "WARNING:gensim.models.ldamulticore:too few updates, training might not converge; consider increasing the number of passes or iterations to improve accuracy\n"
          ]
        },
        {
          "output_type": "stream",
          "name": "stdout",
          "text": [
            "Checking coherence for 6 topics...\n"
          ]
        },
        {
          "output_type": "stream",
          "name": "stderr",
          "text": [
            "WARNING:gensim.models.ldamulticore:too few updates, training might not converge; consider increasing the number of passes or iterations to improve accuracy\n"
          ]
        },
        {
          "output_type": "stream",
          "name": "stdout",
          "text": [
            "Checking coherence for 7 topics...\n"
          ]
        },
        {
          "output_type": "stream",
          "name": "stderr",
          "text": [
            "WARNING:gensim.models.ldamulticore:too few updates, training might not converge; consider increasing the number of passes or iterations to improve accuracy\n"
          ]
        },
        {
          "output_type": "stream",
          "name": "stdout",
          "text": [
            "Checking coherence for 8 topics...\n"
          ]
        },
        {
          "output_type": "stream",
          "name": "stderr",
          "text": [
            "WARNING:gensim.models.ldamulticore:too few updates, training might not converge; consider increasing the number of passes or iterations to improve accuracy\n"
          ]
        },
        {
          "output_type": "stream",
          "name": "stdout",
          "text": [
            "Checking coherence for 9 topics...\n"
          ]
        },
        {
          "output_type": "stream",
          "name": "stderr",
          "text": [
            "WARNING:gensim.models.ldamulticore:too few updates, training might not converge; consider increasing the number of passes or iterations to improve accuracy\n"
          ]
        },
        {
          "output_type": "stream",
          "name": "stdout",
          "text": [
            "Checking coherence for 10 topics...\n"
          ]
        },
        {
          "output_type": "stream",
          "name": "stderr",
          "text": [
            "WARNING:gensim.models.ldamulticore:too few updates, training might not converge; consider increasing the number of passes or iterations to improve accuracy\n"
          ]
        },
        {
          "output_type": "stream",
          "name": "stdout",
          "text": [
            "----------\n",
            "Currently modeling for keyword: students (50 of 59)\n",
            "----------\n"
          ]
        },
        {
          "output_type": "stream",
          "name": "stderr",
          "text": [
            "WARNING:gensim.models.ldamulticore:too few updates, training might not converge; consider increasing the number of passes or iterations to improve accuracy\n"
          ]
        },
        {
          "output_type": "stream",
          "name": "stdout",
          "text": [
            "Checking coherence for 3 topics...\n"
          ]
        },
        {
          "output_type": "stream",
          "name": "stderr",
          "text": [
            "WARNING:gensim.models.ldamulticore:too few updates, training might not converge; consider increasing the number of passes or iterations to improve accuracy\n"
          ]
        },
        {
          "output_type": "stream",
          "name": "stdout",
          "text": [
            "Checking coherence for 4 topics...\n"
          ]
        },
        {
          "output_type": "stream",
          "name": "stderr",
          "text": [
            "WARNING:gensim.models.ldamulticore:too few updates, training might not converge; consider increasing the number of passes or iterations to improve accuracy\n"
          ]
        },
        {
          "output_type": "stream",
          "name": "stdout",
          "text": [
            "Checking coherence for 5 topics...\n"
          ]
        },
        {
          "output_type": "stream",
          "name": "stderr",
          "text": [
            "WARNING:gensim.models.ldamulticore:too few updates, training might not converge; consider increasing the number of passes or iterations to improve accuracy\n"
          ]
        },
        {
          "output_type": "stream",
          "name": "stdout",
          "text": [
            "Checking coherence for 6 topics...\n"
          ]
        },
        {
          "output_type": "stream",
          "name": "stderr",
          "text": [
            "WARNING:gensim.models.ldamulticore:too few updates, training might not converge; consider increasing the number of passes or iterations to improve accuracy\n"
          ]
        },
        {
          "output_type": "stream",
          "name": "stdout",
          "text": [
            "Checking coherence for 7 topics...\n"
          ]
        },
        {
          "output_type": "stream",
          "name": "stderr",
          "text": [
            "WARNING:gensim.models.ldamulticore:too few updates, training might not converge; consider increasing the number of passes or iterations to improve accuracy\n"
          ]
        },
        {
          "output_type": "stream",
          "name": "stdout",
          "text": [
            "Checking coherence for 8 topics...\n"
          ]
        },
        {
          "output_type": "stream",
          "name": "stderr",
          "text": [
            "WARNING:gensim.models.ldamulticore:too few updates, training might not converge; consider increasing the number of passes or iterations to improve accuracy\n"
          ]
        },
        {
          "output_type": "stream",
          "name": "stdout",
          "text": [
            "Checking coherence for 9 topics...\n"
          ]
        },
        {
          "output_type": "stream",
          "name": "stderr",
          "text": [
            "WARNING:gensim.models.ldamulticore:too few updates, training might not converge; consider increasing the number of passes or iterations to improve accuracy\n"
          ]
        },
        {
          "output_type": "stream",
          "name": "stdout",
          "text": [
            "Checking coherence for 10 topics...\n"
          ]
        },
        {
          "output_type": "stream",
          "name": "stderr",
          "text": [
            "WARNING:gensim.models.ldamulticore:too few updates, training might not converge; consider increasing the number of passes or iterations to improve accuracy\n"
          ]
        },
        {
          "output_type": "stream",
          "name": "stdout",
          "text": [
            "----------\n",
            "Currently modeling for keyword: support (51 of 59)\n",
            "----------\n"
          ]
        },
        {
          "output_type": "stream",
          "name": "stderr",
          "text": [
            "WARNING:gensim.models.ldamulticore:too few updates, training might not converge; consider increasing the number of passes or iterations to improve accuracy\n"
          ]
        },
        {
          "output_type": "stream",
          "name": "stdout",
          "text": [
            "Checking coherence for 3 topics...\n"
          ]
        },
        {
          "output_type": "stream",
          "name": "stderr",
          "text": [
            "WARNING:gensim.models.ldamulticore:too few updates, training might not converge; consider increasing the number of passes or iterations to improve accuracy\n"
          ]
        },
        {
          "output_type": "stream",
          "name": "stdout",
          "text": [
            "Checking coherence for 4 topics...\n"
          ]
        },
        {
          "output_type": "stream",
          "name": "stderr",
          "text": [
            "WARNING:gensim.models.ldamulticore:too few updates, training might not converge; consider increasing the number of passes or iterations to improve accuracy\n"
          ]
        },
        {
          "output_type": "stream",
          "name": "stdout",
          "text": [
            "Checking coherence for 5 topics...\n"
          ]
        },
        {
          "output_type": "stream",
          "name": "stderr",
          "text": [
            "WARNING:gensim.models.ldamulticore:too few updates, training might not converge; consider increasing the number of passes or iterations to improve accuracy\n"
          ]
        },
        {
          "output_type": "stream",
          "name": "stdout",
          "text": [
            "Checking coherence for 6 topics...\n"
          ]
        },
        {
          "output_type": "stream",
          "name": "stderr",
          "text": [
            "WARNING:gensim.models.ldamulticore:too few updates, training might not converge; consider increasing the number of passes or iterations to improve accuracy\n"
          ]
        },
        {
          "output_type": "stream",
          "name": "stdout",
          "text": [
            "Checking coherence for 7 topics...\n"
          ]
        },
        {
          "output_type": "stream",
          "name": "stderr",
          "text": [
            "WARNING:gensim.models.ldamulticore:too few updates, training might not converge; consider increasing the number of passes or iterations to improve accuracy\n"
          ]
        },
        {
          "output_type": "stream",
          "name": "stdout",
          "text": [
            "Checking coherence for 8 topics...\n"
          ]
        },
        {
          "output_type": "stream",
          "name": "stderr",
          "text": [
            "WARNING:gensim.models.ldamulticore:too few updates, training might not converge; consider increasing the number of passes or iterations to improve accuracy\n"
          ]
        },
        {
          "output_type": "stream",
          "name": "stdout",
          "text": [
            "Checking coherence for 9 topics...\n"
          ]
        },
        {
          "output_type": "stream",
          "name": "stderr",
          "text": [
            "WARNING:gensim.models.ldamulticore:too few updates, training might not converge; consider increasing the number of passes or iterations to improve accuracy\n"
          ]
        },
        {
          "output_type": "stream",
          "name": "stdout",
          "text": [
            "Checking coherence for 10 topics...\n"
          ]
        },
        {
          "output_type": "stream",
          "name": "stderr",
          "text": [
            "WARNING:gensim.models.ldamulticore:too few updates, training might not converge; consider increasing the number of passes or iterations to improve accuracy\n"
          ]
        },
        {
          "output_type": "stream",
          "name": "stdout",
          "text": [
            "----------\n",
            "Currently modeling for keyword: system (52 of 59)\n",
            "----------\n"
          ]
        },
        {
          "output_type": "stream",
          "name": "stderr",
          "text": [
            "WARNING:gensim.models.ldamulticore:too few updates, training might not converge; consider increasing the number of passes or iterations to improve accuracy\n"
          ]
        },
        {
          "output_type": "stream",
          "name": "stdout",
          "text": [
            "Checking coherence for 3 topics...\n"
          ]
        },
        {
          "output_type": "stream",
          "name": "stderr",
          "text": [
            "WARNING:gensim.models.ldamulticore:too few updates, training might not converge; consider increasing the number of passes or iterations to improve accuracy\n"
          ]
        },
        {
          "output_type": "stream",
          "name": "stdout",
          "text": [
            "Checking coherence for 4 topics...\n"
          ]
        },
        {
          "output_type": "stream",
          "name": "stderr",
          "text": [
            "WARNING:gensim.models.ldamulticore:too few updates, training might not converge; consider increasing the number of passes or iterations to improve accuracy\n"
          ]
        },
        {
          "output_type": "stream",
          "name": "stdout",
          "text": [
            "Checking coherence for 5 topics...\n"
          ]
        },
        {
          "output_type": "stream",
          "name": "stderr",
          "text": [
            "WARNING:gensim.models.ldamulticore:too few updates, training might not converge; consider increasing the number of passes or iterations to improve accuracy\n"
          ]
        },
        {
          "output_type": "stream",
          "name": "stdout",
          "text": [
            "Checking coherence for 6 topics...\n"
          ]
        },
        {
          "output_type": "stream",
          "name": "stderr",
          "text": [
            "WARNING:gensim.models.ldamulticore:too few updates, training might not converge; consider increasing the number of passes or iterations to improve accuracy\n"
          ]
        },
        {
          "output_type": "stream",
          "name": "stdout",
          "text": [
            "Checking coherence for 7 topics...\n"
          ]
        },
        {
          "output_type": "stream",
          "name": "stderr",
          "text": [
            "WARNING:gensim.models.ldamulticore:too few updates, training might not converge; consider increasing the number of passes or iterations to improve accuracy\n"
          ]
        },
        {
          "output_type": "stream",
          "name": "stdout",
          "text": [
            "Checking coherence for 8 topics...\n"
          ]
        },
        {
          "output_type": "stream",
          "name": "stderr",
          "text": [
            "WARNING:gensim.models.ldamulticore:too few updates, training might not converge; consider increasing the number of passes or iterations to improve accuracy\n"
          ]
        },
        {
          "output_type": "stream",
          "name": "stdout",
          "text": [
            "Checking coherence for 9 topics...\n"
          ]
        },
        {
          "output_type": "stream",
          "name": "stderr",
          "text": [
            "WARNING:gensim.models.ldamulticore:too few updates, training might not converge; consider increasing the number of passes or iterations to improve accuracy\n"
          ]
        },
        {
          "output_type": "stream",
          "name": "stdout",
          "text": [
            "Checking coherence for 10 topics...\n"
          ]
        },
        {
          "output_type": "stream",
          "name": "stderr",
          "text": [
            "WARNING:gensim.models.ldamulticore:too few updates, training might not converge; consider increasing the number of passes or iterations to improve accuracy\n"
          ]
        },
        {
          "output_type": "stream",
          "name": "stdout",
          "text": [
            "----------\n",
            "Currently modeling for keyword: systems (53 of 59)\n",
            "----------\n"
          ]
        },
        {
          "output_type": "stream",
          "name": "stderr",
          "text": [
            "WARNING:gensim.models.ldamulticore:too few updates, training might not converge; consider increasing the number of passes or iterations to improve accuracy\n"
          ]
        },
        {
          "output_type": "stream",
          "name": "stdout",
          "text": [
            "Checking coherence for 3 topics...\n"
          ]
        },
        {
          "output_type": "stream",
          "name": "stderr",
          "text": [
            "WARNING:gensim.models.ldamulticore:too few updates, training might not converge; consider increasing the number of passes or iterations to improve accuracy\n"
          ]
        },
        {
          "output_type": "stream",
          "name": "stdout",
          "text": [
            "Checking coherence for 4 topics...\n"
          ]
        },
        {
          "output_type": "stream",
          "name": "stderr",
          "text": [
            "WARNING:gensim.models.ldamulticore:too few updates, training might not converge; consider increasing the number of passes or iterations to improve accuracy\n"
          ]
        },
        {
          "output_type": "stream",
          "name": "stdout",
          "text": [
            "Checking coherence for 5 topics...\n"
          ]
        },
        {
          "output_type": "stream",
          "name": "stderr",
          "text": [
            "WARNING:gensim.models.ldamulticore:too few updates, training might not converge; consider increasing the number of passes or iterations to improve accuracy\n"
          ]
        },
        {
          "output_type": "stream",
          "name": "stdout",
          "text": [
            "Checking coherence for 6 topics...\n"
          ]
        },
        {
          "output_type": "stream",
          "name": "stderr",
          "text": [
            "WARNING:gensim.models.ldamulticore:too few updates, training might not converge; consider increasing the number of passes or iterations to improve accuracy\n"
          ]
        },
        {
          "output_type": "stream",
          "name": "stdout",
          "text": [
            "Checking coherence for 7 topics...\n"
          ]
        },
        {
          "output_type": "stream",
          "name": "stderr",
          "text": [
            "WARNING:gensim.models.ldamulticore:too few updates, training might not converge; consider increasing the number of passes or iterations to improve accuracy\n"
          ]
        },
        {
          "output_type": "stream",
          "name": "stdout",
          "text": [
            "Checking coherence for 8 topics...\n"
          ]
        },
        {
          "output_type": "stream",
          "name": "stderr",
          "text": [
            "WARNING:gensim.models.ldamulticore:too few updates, training might not converge; consider increasing the number of passes or iterations to improve accuracy\n"
          ]
        },
        {
          "output_type": "stream",
          "name": "stdout",
          "text": [
            "Checking coherence for 9 topics...\n"
          ]
        },
        {
          "output_type": "stream",
          "name": "stderr",
          "text": [
            "WARNING:gensim.models.ldamulticore:too few updates, training might not converge; consider increasing the number of passes or iterations to improve accuracy\n"
          ]
        },
        {
          "output_type": "stream",
          "name": "stdout",
          "text": [
            "Checking coherence for 10 topics...\n"
          ]
        },
        {
          "output_type": "stream",
          "name": "stderr",
          "text": [
            "WARNING:gensim.models.ldamulticore:too few updates, training might not converge; consider increasing the number of passes or iterations to improve accuracy\n"
          ]
        },
        {
          "output_type": "stream",
          "name": "stdout",
          "text": [
            "----------\n",
            "Currently modeling for keyword: techniques (54 of 59)\n",
            "----------\n"
          ]
        },
        {
          "output_type": "stream",
          "name": "stderr",
          "text": [
            "WARNING:gensim.models.ldamulticore:too few updates, training might not converge; consider increasing the number of passes or iterations to improve accuracy\n"
          ]
        },
        {
          "output_type": "stream",
          "name": "stdout",
          "text": [
            "Checking coherence for 3 topics...\n"
          ]
        },
        {
          "output_type": "stream",
          "name": "stderr",
          "text": [
            "WARNING:gensim.models.ldamulticore:too few updates, training might not converge; consider increasing the number of passes or iterations to improve accuracy\n"
          ]
        },
        {
          "output_type": "stream",
          "name": "stdout",
          "text": [
            "Checking coherence for 4 topics...\n"
          ]
        },
        {
          "output_type": "stream",
          "name": "stderr",
          "text": [
            "WARNING:gensim.models.ldamulticore:too few updates, training might not converge; consider increasing the number of passes or iterations to improve accuracy\n"
          ]
        },
        {
          "output_type": "stream",
          "name": "stdout",
          "text": [
            "Checking coherence for 5 topics...\n"
          ]
        },
        {
          "output_type": "stream",
          "name": "stderr",
          "text": [
            "WARNING:gensim.models.ldamulticore:too few updates, training might not converge; consider increasing the number of passes or iterations to improve accuracy\n"
          ]
        },
        {
          "output_type": "stream",
          "name": "stdout",
          "text": [
            "Checking coherence for 6 topics...\n"
          ]
        },
        {
          "output_type": "stream",
          "name": "stderr",
          "text": [
            "WARNING:gensim.models.ldamulticore:too few updates, training might not converge; consider increasing the number of passes or iterations to improve accuracy\n"
          ]
        },
        {
          "output_type": "stream",
          "name": "stdout",
          "text": [
            "Checking coherence for 7 topics...\n"
          ]
        },
        {
          "output_type": "stream",
          "name": "stderr",
          "text": [
            "WARNING:gensim.models.ldamulticore:too few updates, training might not converge; consider increasing the number of passes or iterations to improve accuracy\n"
          ]
        },
        {
          "output_type": "stream",
          "name": "stdout",
          "text": [
            "Checking coherence for 8 topics...\n"
          ]
        },
        {
          "output_type": "stream",
          "name": "stderr",
          "text": [
            "WARNING:gensim.models.ldamulticore:too few updates, training might not converge; consider increasing the number of passes or iterations to improve accuracy\n"
          ]
        },
        {
          "output_type": "stream",
          "name": "stdout",
          "text": [
            "Checking coherence for 9 topics...\n"
          ]
        },
        {
          "output_type": "stream",
          "name": "stderr",
          "text": [
            "WARNING:gensim.models.ldamulticore:too few updates, training might not converge; consider increasing the number of passes or iterations to improve accuracy\n"
          ]
        },
        {
          "output_type": "stream",
          "name": "stdout",
          "text": [
            "Checking coherence for 10 topics...\n"
          ]
        },
        {
          "output_type": "stream",
          "name": "stderr",
          "text": [
            "WARNING:gensim.models.ldamulticore:too few updates, training might not converge; consider increasing the number of passes or iterations to improve accuracy\n"
          ]
        },
        {
          "output_type": "stream",
          "name": "stdout",
          "text": [
            "----------\n",
            "Currently modeling for keyword: testing (55 of 59)\n",
            "----------\n"
          ]
        },
        {
          "output_type": "stream",
          "name": "stderr",
          "text": [
            "WARNING:gensim.models.ldamulticore:too few updates, training might not converge; consider increasing the number of passes or iterations to improve accuracy\n"
          ]
        },
        {
          "output_type": "stream",
          "name": "stdout",
          "text": [
            "Checking coherence for 3 topics...\n"
          ]
        },
        {
          "output_type": "stream",
          "name": "stderr",
          "text": [
            "WARNING:gensim.models.ldamulticore:too few updates, training might not converge; consider increasing the number of passes or iterations to improve accuracy\n"
          ]
        },
        {
          "output_type": "stream",
          "name": "stdout",
          "text": [
            "Checking coherence for 4 topics...\n"
          ]
        },
        {
          "output_type": "stream",
          "name": "stderr",
          "text": [
            "WARNING:gensim.models.ldamulticore:too few updates, training might not converge; consider increasing the number of passes or iterations to improve accuracy\n"
          ]
        },
        {
          "output_type": "stream",
          "name": "stdout",
          "text": [
            "Checking coherence for 5 topics...\n"
          ]
        },
        {
          "output_type": "stream",
          "name": "stderr",
          "text": [
            "WARNING:gensim.models.ldamulticore:too few updates, training might not converge; consider increasing the number of passes or iterations to improve accuracy\n"
          ]
        },
        {
          "output_type": "stream",
          "name": "stdout",
          "text": [
            "Checking coherence for 6 topics...\n"
          ]
        },
        {
          "output_type": "stream",
          "name": "stderr",
          "text": [
            "WARNING:gensim.models.ldamulticore:too few updates, training might not converge; consider increasing the number of passes or iterations to improve accuracy\n"
          ]
        },
        {
          "output_type": "stream",
          "name": "stdout",
          "text": [
            "Checking coherence for 7 topics...\n"
          ]
        },
        {
          "output_type": "stream",
          "name": "stderr",
          "text": [
            "WARNING:gensim.models.ldamulticore:too few updates, training might not converge; consider increasing the number of passes or iterations to improve accuracy\n"
          ]
        },
        {
          "output_type": "stream",
          "name": "stdout",
          "text": [
            "Checking coherence for 8 topics...\n"
          ]
        },
        {
          "output_type": "stream",
          "name": "stderr",
          "text": [
            "WARNING:gensim.models.ldamulticore:too few updates, training might not converge; consider increasing the number of passes or iterations to improve accuracy\n"
          ]
        },
        {
          "output_type": "stream",
          "name": "stdout",
          "text": [
            "Checking coherence for 9 topics...\n"
          ]
        },
        {
          "output_type": "stream",
          "name": "stderr",
          "text": [
            "WARNING:gensim.models.ldamulticore:too few updates, training might not converge; consider increasing the number of passes or iterations to improve accuracy\n"
          ]
        },
        {
          "output_type": "stream",
          "name": "stdout",
          "text": [
            "Checking coherence for 10 topics...\n"
          ]
        },
        {
          "output_type": "stream",
          "name": "stderr",
          "text": [
            "WARNING:gensim.models.ldamulticore:too few updates, training might not converge; consider increasing the number of passes or iterations to improve accuracy\n"
          ]
        },
        {
          "output_type": "stream",
          "name": "stdout",
          "text": [
            "----------\n",
            "Currently modeling for keyword: theory (56 of 59)\n",
            "----------\n"
          ]
        },
        {
          "output_type": "stream",
          "name": "stderr",
          "text": [
            "WARNING:gensim.models.ldamulticore:too few updates, training might not converge; consider increasing the number of passes or iterations to improve accuracy\n"
          ]
        },
        {
          "output_type": "stream",
          "name": "stdout",
          "text": [
            "Checking coherence for 3 topics...\n"
          ]
        },
        {
          "output_type": "stream",
          "name": "stderr",
          "text": [
            "WARNING:gensim.models.ldamulticore:too few updates, training might not converge; consider increasing the number of passes or iterations to improve accuracy\n"
          ]
        },
        {
          "output_type": "stream",
          "name": "stdout",
          "text": [
            "Checking coherence for 4 topics...\n"
          ]
        },
        {
          "output_type": "stream",
          "name": "stderr",
          "text": [
            "WARNING:gensim.models.ldamulticore:too few updates, training might not converge; consider increasing the number of passes or iterations to improve accuracy\n"
          ]
        },
        {
          "output_type": "stream",
          "name": "stdout",
          "text": [
            "Checking coherence for 5 topics...\n"
          ]
        },
        {
          "output_type": "stream",
          "name": "stderr",
          "text": [
            "WARNING:gensim.models.ldamulticore:too few updates, training might not converge; consider increasing the number of passes or iterations to improve accuracy\n"
          ]
        },
        {
          "output_type": "stream",
          "name": "stdout",
          "text": [
            "Checking coherence for 6 topics...\n"
          ]
        },
        {
          "output_type": "stream",
          "name": "stderr",
          "text": [
            "WARNING:gensim.models.ldamulticore:too few updates, training might not converge; consider increasing the number of passes or iterations to improve accuracy\n"
          ]
        },
        {
          "output_type": "stream",
          "name": "stdout",
          "text": [
            "Checking coherence for 7 topics...\n"
          ]
        },
        {
          "output_type": "stream",
          "name": "stderr",
          "text": [
            "WARNING:gensim.models.ldamulticore:too few updates, training might not converge; consider increasing the number of passes or iterations to improve accuracy\n"
          ]
        },
        {
          "output_type": "stream",
          "name": "stdout",
          "text": [
            "Checking coherence for 8 topics...\n"
          ]
        },
        {
          "output_type": "stream",
          "name": "stderr",
          "text": [
            "WARNING:gensim.models.ldamulticore:too few updates, training might not converge; consider increasing the number of passes or iterations to improve accuracy\n"
          ]
        },
        {
          "output_type": "stream",
          "name": "stdout",
          "text": [
            "Checking coherence for 9 topics...\n"
          ]
        },
        {
          "output_type": "stream",
          "name": "stderr",
          "text": [
            "WARNING:gensim.models.ldamulticore:too few updates, training might not converge; consider increasing the number of passes or iterations to improve accuracy\n"
          ]
        },
        {
          "output_type": "stream",
          "name": "stdout",
          "text": [
            "Checking coherence for 10 topics...\n"
          ]
        },
        {
          "output_type": "stream",
          "name": "stderr",
          "text": [
            "WARNING:gensim.models.ldamulticore:too few updates, training might not converge; consider increasing the number of passes or iterations to improve accuracy\n"
          ]
        },
        {
          "output_type": "stream",
          "name": "stdout",
          "text": [
            "----------\n",
            "Currently modeling for keyword: tools (57 of 59)\n",
            "----------\n"
          ]
        },
        {
          "output_type": "stream",
          "name": "stderr",
          "text": [
            "WARNING:gensim.models.ldamulticore:too few updates, training might not converge; consider increasing the number of passes or iterations to improve accuracy\n"
          ]
        },
        {
          "output_type": "stream",
          "name": "stdout",
          "text": [
            "Checking coherence for 3 topics...\n"
          ]
        },
        {
          "output_type": "stream",
          "name": "stderr",
          "text": [
            "WARNING:gensim.models.ldamulticore:too few updates, training might not converge; consider increasing the number of passes or iterations to improve accuracy\n"
          ]
        },
        {
          "output_type": "stream",
          "name": "stdout",
          "text": [
            "Checking coherence for 4 topics...\n"
          ]
        },
        {
          "output_type": "stream",
          "name": "stderr",
          "text": [
            "WARNING:gensim.models.ldamulticore:too few updates, training might not converge; consider increasing the number of passes or iterations to improve accuracy\n"
          ]
        },
        {
          "output_type": "stream",
          "name": "stdout",
          "text": [
            "Checking coherence for 5 topics...\n"
          ]
        },
        {
          "output_type": "stream",
          "name": "stderr",
          "text": [
            "WARNING:gensim.models.ldamulticore:too few updates, training might not converge; consider increasing the number of passes or iterations to improve accuracy\n"
          ]
        },
        {
          "output_type": "stream",
          "name": "stdout",
          "text": [
            "Checking coherence for 6 topics...\n"
          ]
        },
        {
          "output_type": "stream",
          "name": "stderr",
          "text": [
            "WARNING:gensim.models.ldamulticore:too few updates, training might not converge; consider increasing the number of passes or iterations to improve accuracy\n"
          ]
        },
        {
          "output_type": "stream",
          "name": "stdout",
          "text": [
            "Checking coherence for 7 topics...\n"
          ]
        },
        {
          "output_type": "stream",
          "name": "stderr",
          "text": [
            "WARNING:gensim.models.ldamulticore:too few updates, training might not converge; consider increasing the number of passes or iterations to improve accuracy\n"
          ]
        },
        {
          "output_type": "stream",
          "name": "stdout",
          "text": [
            "Checking coherence for 8 topics...\n"
          ]
        },
        {
          "output_type": "stream",
          "name": "stderr",
          "text": [
            "WARNING:gensim.models.ldamulticore:too few updates, training might not converge; consider increasing the number of passes or iterations to improve accuracy\n"
          ]
        },
        {
          "output_type": "stream",
          "name": "stdout",
          "text": [
            "Checking coherence for 9 topics...\n"
          ]
        },
        {
          "output_type": "stream",
          "name": "stderr",
          "text": [
            "WARNING:gensim.models.ldamulticore:too few updates, training might not converge; consider increasing the number of passes or iterations to improve accuracy\n"
          ]
        },
        {
          "output_type": "stream",
          "name": "stdout",
          "text": [
            "Checking coherence for 10 topics...\n"
          ]
        },
        {
          "output_type": "stream",
          "name": "stderr",
          "text": [
            "WARNING:gensim.models.ldamulticore:too few updates, training might not converge; consider increasing the number of passes or iterations to improve accuracy\n"
          ]
        },
        {
          "output_type": "stream",
          "name": "stdout",
          "text": [
            "----------\n",
            "Currently modeling for keyword: travel (58 of 59)\n",
            "----------\n"
          ]
        },
        {
          "output_type": "stream",
          "name": "stderr",
          "text": [
            "WARNING:gensim.models.ldamulticore:too few updates, training might not converge; consider increasing the number of passes or iterations to improve accuracy\n"
          ]
        },
        {
          "output_type": "stream",
          "name": "stdout",
          "text": [
            "Checking coherence for 3 topics...\n"
          ]
        },
        {
          "output_type": "stream",
          "name": "stderr",
          "text": [
            "WARNING:gensim.models.ldamulticore:too few updates, training might not converge; consider increasing the number of passes or iterations to improve accuracy\n"
          ]
        },
        {
          "output_type": "stream",
          "name": "stdout",
          "text": [
            "Checking coherence for 4 topics...\n"
          ]
        },
        {
          "output_type": "stream",
          "name": "stderr",
          "text": [
            "WARNING:gensim.models.ldamulticore:too few updates, training might not converge; consider increasing the number of passes or iterations to improve accuracy\n"
          ]
        },
        {
          "output_type": "stream",
          "name": "stdout",
          "text": [
            "Checking coherence for 5 topics...\n"
          ]
        },
        {
          "output_type": "stream",
          "name": "stderr",
          "text": [
            "WARNING:gensim.models.ldamulticore:too few updates, training might not converge; consider increasing the number of passes or iterations to improve accuracy\n"
          ]
        },
        {
          "output_type": "stream",
          "name": "stdout",
          "text": [
            "Checking coherence for 6 topics...\n"
          ]
        },
        {
          "output_type": "stream",
          "name": "stderr",
          "text": [
            "WARNING:gensim.models.ldamulticore:too few updates, training might not converge; consider increasing the number of passes or iterations to improve accuracy\n"
          ]
        },
        {
          "output_type": "stream",
          "name": "stdout",
          "text": [
            "Checking coherence for 7 topics...\n"
          ]
        },
        {
          "output_type": "stream",
          "name": "stderr",
          "text": [
            "WARNING:gensim.models.ldamulticore:too few updates, training might not converge; consider increasing the number of passes or iterations to improve accuracy\n"
          ]
        },
        {
          "output_type": "stream",
          "name": "stdout",
          "text": [
            "Checking coherence for 8 topics...\n"
          ]
        },
        {
          "output_type": "stream",
          "name": "stderr",
          "text": [
            "WARNING:gensim.models.ldamulticore:too few updates, training might not converge; consider increasing the number of passes or iterations to improve accuracy\n"
          ]
        },
        {
          "output_type": "stream",
          "name": "stdout",
          "text": [
            "Checking coherence for 9 topics...\n"
          ]
        },
        {
          "output_type": "stream",
          "name": "stderr",
          "text": [
            "WARNING:gensim.models.ldamulticore:too few updates, training might not converge; consider increasing the number of passes or iterations to improve accuracy\n"
          ]
        },
        {
          "output_type": "stream",
          "name": "stdout",
          "text": [
            "Checking coherence for 10 topics...\n"
          ]
        },
        {
          "output_type": "stream",
          "name": "stderr",
          "text": [
            "WARNING:gensim.models.ldamulticore:too few updates, training might not converge; consider increasing the number of passes or iterations to improve accuracy\n"
          ]
        },
        {
          "output_type": "stream",
          "name": "stdout",
          "text": [
            "----------\n",
            "Currently modeling for keyword: using (59 of 59)\n",
            "----------\n"
          ]
        },
        {
          "output_type": "stream",
          "name": "stderr",
          "text": [
            "WARNING:gensim.models.ldamulticore:too few updates, training might not converge; consider increasing the number of passes or iterations to improve accuracy\n"
          ]
        },
        {
          "output_type": "stream",
          "name": "stdout",
          "text": [
            "Checking coherence for 3 topics...\n"
          ]
        },
        {
          "output_type": "stream",
          "name": "stderr",
          "text": [
            "WARNING:gensim.models.ldamulticore:too few updates, training might not converge; consider increasing the number of passes or iterations to improve accuracy\n"
          ]
        },
        {
          "output_type": "stream",
          "name": "stdout",
          "text": [
            "Checking coherence for 4 topics...\n"
          ]
        },
        {
          "output_type": "stream",
          "name": "stderr",
          "text": [
            "WARNING:gensim.models.ldamulticore:too few updates, training might not converge; consider increasing the number of passes or iterations to improve accuracy\n"
          ]
        },
        {
          "output_type": "stream",
          "name": "stdout",
          "text": [
            "Checking coherence for 5 topics...\n"
          ]
        },
        {
          "output_type": "stream",
          "name": "stderr",
          "text": [
            "WARNING:gensim.models.ldamulticore:too few updates, training might not converge; consider increasing the number of passes or iterations to improve accuracy\n"
          ]
        },
        {
          "output_type": "stream",
          "name": "stdout",
          "text": [
            "Checking coherence for 6 topics...\n"
          ]
        },
        {
          "output_type": "stream",
          "name": "stderr",
          "text": [
            "WARNING:gensim.models.ldamulticore:too few updates, training might not converge; consider increasing the number of passes or iterations to improve accuracy\n"
          ]
        },
        {
          "output_type": "stream",
          "name": "stdout",
          "text": [
            "Checking coherence for 7 topics...\n"
          ]
        },
        {
          "output_type": "stream",
          "name": "stderr",
          "text": [
            "WARNING:gensim.models.ldamulticore:too few updates, training might not converge; consider increasing the number of passes or iterations to improve accuracy\n"
          ]
        },
        {
          "output_type": "stream",
          "name": "stdout",
          "text": [
            "Checking coherence for 8 topics...\n"
          ]
        },
        {
          "output_type": "stream",
          "name": "stderr",
          "text": [
            "WARNING:gensim.models.ldamulticore:too few updates, training might not converge; consider increasing the number of passes or iterations to improve accuracy\n"
          ]
        },
        {
          "output_type": "stream",
          "name": "stdout",
          "text": [
            "Checking coherence for 9 topics...\n"
          ]
        },
        {
          "output_type": "stream",
          "name": "stderr",
          "text": [
            "WARNING:gensim.models.ldamulticore:too few updates, training might not converge; consider increasing the number of passes or iterations to improve accuracy\n"
          ]
        },
        {
          "output_type": "stream",
          "name": "stdout",
          "text": [
            "Checking coherence for 10 topics...\n"
          ]
        },
        {
          "output_type": "stream",
          "name": "stderr",
          "text": [
            "WARNING:gensim.models.ldamulticore:too few updates, training might not converge; consider increasing the number of passes or iterations to improve accuracy\n"
          ]
        },
        {
          "output_type": "stream",
          "name": "stdout",
          "text": [
            "Inserting into db...\n",
            "\n"
          ]
        }
      ]
    },
    {
      "cell_type": "markdown",
      "source": [
        "# Individual Testing\n"
      ],
      "metadata": {
        "id": "Rvv74qDZzx-M"
      }
    },
    {
      "cell_type": "code",
      "source": [
        "clean = session.connection['tidy']"
      ],
      "metadata": {
        "id": "fvGzRqAh1MxP"
      },
      "execution_count": null,
      "outputs": []
    },
    {
      "cell_type": "code",
      "source": [
        "db_clean = clean['CSSIAward2023-04-16']"
      ],
      "metadata": {
        "id": "pUWf3viDQG6J"
      },
      "execution_count": null,
      "outputs": []
    },
    {
      "cell_type": "code",
      "source": [
        "keywords = db_clean.distinct('keyword')"
      ],
      "metadata": {
        "id": "Z7apNU-kQUaX"
      },
      "execution_count": null,
      "outputs": []
    },
    {
      "cell_type": "code",
      "source": [
        "keywords"
      ],
      "metadata": {
        "colab": {
          "base_uri": "https://localhost:8080/"
        },
        "id": "cigCmV2-Qu8R",
        "outputId": "000e5435-d7b2-45f7-c966-ac72aa24a2d6"
      },
      "execution_count": null,
      "outputs": [
        {
          "output_type": "execute_result",
          "data": {
            "text/plain": [
              "['agriculture', 'communication', 'develop', 'dibbs', 'photochemical']"
            ]
          },
          "metadata": {},
          "execution_count": 160
        }
      ]
    },
    {
      "cell_type": "code",
      "source": [
        "docs_to_model = db_clean.find({'keyword' : keywords[0]}, {'Award' : 1, 'tokens' : 1})"
      ],
      "metadata": {
        "id": "0dbZHJOKQwIM"
      },
      "execution_count": null,
      "outputs": []
    },
    {
      "cell_type": "code",
      "source": [
        "df = pd.DataFrame(list(docs_to_model))\n",
        "df.head()"
      ],
      "metadata": {
        "colab": {
          "base_uri": "https://localhost:8080/",
          "height": 206
        },
        "id": "9ZVNnH2jRIQu",
        "outputId": "55991f47-d16b-42e3-9053-eb93dfde3d2d"
      },
      "execution_count": null,
      "outputs": [
        {
          "output_type": "execute_result",
          "data": {
            "text/plain": [
              "                        _id       Award  \\\n",
              "0  6440840da8cdca1ec8c5e6f7  CSSI Award   \n",
              "1  6440840da8cdca1ec8c5e6fa  CSSI Award   \n",
              "2  6440840da8cdca1ec8c5e6fc  CSSI Award   \n",
              "3  6440840da8cdca1ec8c5e6ff  CSSI Award   \n",
              "4  6440840da8cdca1ec8c5e702  CSSI Award   \n",
              "\n",
              "                                              tokens  \n",
              "0  [sustained, scientific, innovation, cssi, la, ...  \n",
              "1  [cssi, skip, content, cssi, news, awards, fell...  \n",
              "2  [cssi, inc, receives, major, nextgen, engineer...  \n",
              "3  [faculty, staff, awards, gustavson, school, bu...  \n",
              "4  [secafjoin, nowloginmy, accountsecaf, chatcont...  "
            ],
            "text/html": [
              "\n",
              "  <div id=\"df-c8d49b9e-4579-4ab0-81c3-9a5014d098b5\">\n",
              "    <div class=\"colab-df-container\">\n",
              "      <div>\n",
              "<style scoped>\n",
              "    .dataframe tbody tr th:only-of-type {\n",
              "        vertical-align: middle;\n",
              "    }\n",
              "\n",
              "    .dataframe tbody tr th {\n",
              "        vertical-align: top;\n",
              "    }\n",
              "\n",
              "    .dataframe thead th {\n",
              "        text-align: right;\n",
              "    }\n",
              "</style>\n",
              "<table border=\"1\" class=\"dataframe\">\n",
              "  <thead>\n",
              "    <tr style=\"text-align: right;\">\n",
              "      <th></th>\n",
              "      <th>_id</th>\n",
              "      <th>Award</th>\n",
              "      <th>tokens</th>\n",
              "    </tr>\n",
              "  </thead>\n",
              "  <tbody>\n",
              "    <tr>\n",
              "      <th>0</th>\n",
              "      <td>6440840da8cdca1ec8c5e6f7</td>\n",
              "      <td>CSSI Award</td>\n",
              "      <td>[sustained, scientific, innovation, cssi, la, ...</td>\n",
              "    </tr>\n",
              "    <tr>\n",
              "      <th>1</th>\n",
              "      <td>6440840da8cdca1ec8c5e6fa</td>\n",
              "      <td>CSSI Award</td>\n",
              "      <td>[cssi, skip, content, cssi, news, awards, fell...</td>\n",
              "    </tr>\n",
              "    <tr>\n",
              "      <th>2</th>\n",
              "      <td>6440840da8cdca1ec8c5e6fc</td>\n",
              "      <td>CSSI Award</td>\n",
              "      <td>[cssi, inc, receives, major, nextgen, engineer...</td>\n",
              "    </tr>\n",
              "    <tr>\n",
              "      <th>3</th>\n",
              "      <td>6440840da8cdca1ec8c5e6ff</td>\n",
              "      <td>CSSI Award</td>\n",
              "      <td>[faculty, staff, awards, gustavson, school, bu...</td>\n",
              "    </tr>\n",
              "    <tr>\n",
              "      <th>4</th>\n",
              "      <td>6440840da8cdca1ec8c5e702</td>\n",
              "      <td>CSSI Award</td>\n",
              "      <td>[secafjoin, nowloginmy, accountsecaf, chatcont...</td>\n",
              "    </tr>\n",
              "  </tbody>\n",
              "</table>\n",
              "</div>\n",
              "      <button class=\"colab-df-convert\" onclick=\"convertToInteractive('df-c8d49b9e-4579-4ab0-81c3-9a5014d098b5')\"\n",
              "              title=\"Convert this dataframe to an interactive table.\"\n",
              "              style=\"display:none;\">\n",
              "        \n",
              "  <svg xmlns=\"http://www.w3.org/2000/svg\" height=\"24px\"viewBox=\"0 0 24 24\"\n",
              "       width=\"24px\">\n",
              "    <path d=\"M0 0h24v24H0V0z\" fill=\"none\"/>\n",
              "    <path d=\"M18.56 5.44l.94 2.06.94-2.06 2.06-.94-2.06-.94-.94-2.06-.94 2.06-2.06.94zm-11 1L8.5 8.5l.94-2.06 2.06-.94-2.06-.94L8.5 2.5l-.94 2.06-2.06.94zm10 10l.94 2.06.94-2.06 2.06-.94-2.06-.94-.94-2.06-.94 2.06-2.06.94z\"/><path d=\"M17.41 7.96l-1.37-1.37c-.4-.4-.92-.59-1.43-.59-.52 0-1.04.2-1.43.59L10.3 9.45l-7.72 7.72c-.78.78-.78 2.05 0 2.83L4 21.41c.39.39.9.59 1.41.59.51 0 1.02-.2 1.41-.59l7.78-7.78 2.81-2.81c.8-.78.8-2.07 0-2.86zM5.41 20L4 18.59l7.72-7.72 1.47 1.35L5.41 20z\"/>\n",
              "  </svg>\n",
              "      </button>\n",
              "      \n",
              "  <style>\n",
              "    .colab-df-container {\n",
              "      display:flex;\n",
              "      flex-wrap:wrap;\n",
              "      gap: 12px;\n",
              "    }\n",
              "\n",
              "    .colab-df-convert {\n",
              "      background-color: #E8F0FE;\n",
              "      border: none;\n",
              "      border-radius: 50%;\n",
              "      cursor: pointer;\n",
              "      display: none;\n",
              "      fill: #1967D2;\n",
              "      height: 32px;\n",
              "      padding: 0 0 0 0;\n",
              "      width: 32px;\n",
              "    }\n",
              "\n",
              "    .colab-df-convert:hover {\n",
              "      background-color: #E2EBFA;\n",
              "      box-shadow: 0px 1px 2px rgba(60, 64, 67, 0.3), 0px 1px 3px 1px rgba(60, 64, 67, 0.15);\n",
              "      fill: #174EA6;\n",
              "    }\n",
              "\n",
              "    [theme=dark] .colab-df-convert {\n",
              "      background-color: #3B4455;\n",
              "      fill: #D2E3FC;\n",
              "    }\n",
              "\n",
              "    [theme=dark] .colab-df-convert:hover {\n",
              "      background-color: #434B5C;\n",
              "      box-shadow: 0px 1px 3px 1px rgba(0, 0, 0, 0.15);\n",
              "      filter: drop-shadow(0px 1px 2px rgba(0, 0, 0, 0.3));\n",
              "      fill: #FFFFFF;\n",
              "    }\n",
              "  </style>\n",
              "\n",
              "      <script>\n",
              "        const buttonEl =\n",
              "          document.querySelector('#df-c8d49b9e-4579-4ab0-81c3-9a5014d098b5 button.colab-df-convert');\n",
              "        buttonEl.style.display =\n",
              "          google.colab.kernel.accessAllowed ? 'block' : 'none';\n",
              "\n",
              "        async function convertToInteractive(key) {\n",
              "          const element = document.querySelector('#df-c8d49b9e-4579-4ab0-81c3-9a5014d098b5');\n",
              "          const dataTable =\n",
              "            await google.colab.kernel.invokeFunction('convertToInteractive',\n",
              "                                                     [key], {});\n",
              "          if (!dataTable) return;\n",
              "\n",
              "          const docLinkHtml = 'Like what you see? Visit the ' +\n",
              "            '<a target=\"_blank\" href=https://colab.research.google.com/notebooks/data_table.ipynb>data table notebook</a>'\n",
              "            + ' to learn more about interactive tables.';\n",
              "          element.innerHTML = '';\n",
              "          dataTable['output_type'] = 'display_data';\n",
              "          await google.colab.output.renderOutput(dataTable, element);\n",
              "          const docLink = document.createElement('div');\n",
              "          docLink.innerHTML = docLinkHtml;\n",
              "          element.appendChild(docLink);\n",
              "        }\n",
              "      </script>\n",
              "    </div>\n",
              "  </div>\n",
              "  "
            ]
          },
          "metadata": {},
          "execution_count": 162
        }
      ]
    },
    {
      "cell_type": "code",
      "source": [
        "html_text = df['tokens'].to_list()"
      ],
      "metadata": {
        "id": "yXdztVb4Who4"
      },
      "execution_count": null,
      "outputs": []
    },
    {
      "cell_type": "code",
      "source": [
        "#Prepare data for LDA input\n",
        "\n",
        "# Create Dictionary\n",
        "html_dict = corpora.Dictionary(html_text)\n",
        "\n",
        "# Term Document Frequency\n",
        "html_corpus = [html_dict.doc2bow(text) for text in html_text]\n",
        "\n",
        "# View\n",
        "print(html_corpus[:1][0][:30])"
      ],
      "metadata": {
        "colab": {
          "base_uri": "https://localhost:8080/"
        },
        "id": "89jEpYPgWvaD",
        "outputId": "a65e3fdf-b6a7-4768-f618-a95d00566f45"
      },
      "execution_count": null,
      "outputs": [
        {
          "output_type": "stream",
          "name": "stdout",
          "text": [
            "[(0, 1), (1, 1), (2, 1), (3, 1), (4, 1), (5, 1), (6, 1), (7, 1), (8, 1), (9, 1), (10, 2), (11, 1), (12, 1), (13, 2), (14, 4), (15, 1), (16, 1), (17, 5), (18, 1), (19, 1), (20, 1), (21, 1), (22, 1), (23, 2), (24, 7), (25, 1), (26, 1), (27, 1), (28, 1), (29, 1)]\n"
          ]
        }
      ]
    },
    {
      "cell_type": "code",
      "source": [
        "num_topics = np.arange(1,11, dtype=int)\n",
        "num_topics"
      ],
      "metadata": {
        "colab": {
          "base_uri": "https://localhost:8080/"
        },
        "id": "y-vdLS_cfPnz",
        "outputId": "d7a61c28-14a8-4ed4-b59c-09573587e524"
      },
      "execution_count": null,
      "outputs": [
        {
          "output_type": "execute_result",
          "data": {
            "text/plain": [
              "array([ 1,  2,  3,  4,  5,  6,  7,  8,  9, 10])"
            ]
          },
          "metadata": {},
          "execution_count": 108
        }
      ]
    },
    {
      "cell_type": "code",
      "source": [
        "# number of topics\n",
        "num_topics = 10\n",
        "\n",
        "# Build LDA model\n",
        "lda = gensim.models.LdaMulticore(corpus=html_corpus, id2word=html_dict, num_topics=num_topics)"
      ],
      "metadata": {
        "colab": {
          "base_uri": "https://localhost:8080/"
        },
        "id": "_hZjEw6yXr0F",
        "outputId": "7ddf0e0a-9542-4a44-cd52-9da753c62a33"
      },
      "execution_count": null,
      "outputs": [
        {
          "output_type": "stream",
          "name": "stderr",
          "text": [
            "WARNING:gensim.models.ldamulticore:too few updates, training might not converge; consider increasing the number of passes or iterations to improve accuracy\n"
          ]
        }
      ]
    },
    {
      "cell_type": "code",
      "source": [
        "coherence = np.zeros_like(num_topics, dtype=float)\n",
        "for num_topic in num_topics:\n",
        "  lda = gensim.models.LdaMulticore(corpus=html_corpus, id2word=html_dict, num_topics=num_topic)\n",
        "\n",
        "  coherence_model = CoherenceModel(model=lda, texts=df['tokens'], \n",
        "                                   dictionary=html_dict, coherence='c_v')\n",
        "  coherence_lda_model_base = coherence_model.get_coherence()\n",
        "  coherence[num_topic-1] = coherence_lda_model_base"
      ],
      "metadata": {
        "id": "NG81PLOOfbU3"
      },
      "execution_count": null,
      "outputs": []
    },
    {
      "cell_type": "code",
      "source": [
        "coherence"
      ],
      "metadata": {
        "colab": {
          "base_uri": "https://localhost:8080/"
        },
        "id": "e89u73gwf8Hu",
        "outputId": "6c03b295-c9d0-4343-c0ab-e00c4eb7cb91"
      },
      "execution_count": null,
      "outputs": [
        {
          "output_type": "execute_result",
          "data": {
            "text/plain": [
              "array([0.29752546, 0.29673519, 0.31893501, 0.33195138, 0.29111795,\n",
              "       0.278633  , 0.30832297, 0.2958319 , 0.29526621, 0.35159779])"
            ]
          },
          "metadata": {},
          "execution_count": 48
        }
      ]
    },
    {
      "cell_type": "code",
      "source": [
        "best_topic_num = np.argmax(coherence)+1"
      ],
      "metadata": {
        "id": "zxBg9kqxiBiW"
      },
      "execution_count": null,
      "outputs": []
    },
    {
      "cell_type": "code",
      "source": [
        "get_topics(lda, best_topic_num)"
      ],
      "metadata": {
        "colab": {
          "base_uri": "https://localhost:8080/"
        },
        "id": "NFKKcZAepfz6",
        "outputId": "9c4a4228-c884-4be8-b5a2-e2f9b376828c"
      },
      "execution_count": null,
      "outputs": [
        {
          "output_type": "execute_result",
          "data": {
            "text/plain": [
              "['award',\n",
              " 'research',\n",
              " 'logistics',\n",
              " 'credit',\n",
              " 'information',\n",
              " 'transport',\n",
              " 'engineering',\n",
              " 'science',\n",
              " 'proposal',\n",
              " 'cssi',\n",
              " 'international',\n",
              " 'transportation',\n",
              " 'trucking',\n",
              " 'nsf',\n",
              " 'apply',\n",
              " 'services',\n",
              " 'https',\n",
              " 'university',\n",
              " 'hours',\n",
              " 'national',\n",
              " 'de',\n",
              " 'express',\n",
              " 'foundation',\n",
              " 'data',\n",
              " 'program']"
            ]
          },
          "metadata": {},
          "execution_count": 81
        }
      ]
    },
    {
      "cell_type": "code",
      "source": [
        "# Visualize the title topics\n",
        "titles_prepared = pyLDAvis.gensim.prepare(lda, html_corpus, html_dict)\n",
        "\n",
        "pyLDAvis.display(titles_prepared)"
      ],
      "metadata": {
        "colab": {
          "base_uri": "https://localhost:8080/",
          "height": 934
        },
        "id": "lj5DO_42YX4E",
        "outputId": "14148ad2-b068-4644-98dc-f8efb1a057d7"
      },
      "execution_count": null,
      "outputs": [
        {
          "output_type": "stream",
          "name": "stderr",
          "text": [
            "WARNING:py.warnings:/usr/local/lib/python3.9/dist-packages/pyLDAvis/_prepare.py:243: FutureWarning: In a future version of pandas all arguments of DataFrame.drop except for the argument 'labels' will be keyword-only.\n",
            "  default_term_info = default_term_info.sort_values(\n",
            "\n"
          ]
        },
        {
          "output_type": "execute_result",
          "data": {
            "text/plain": [
              "<IPython.core.display.HTML object>"
            ],
            "text/html": [
              "\n",
              "<link rel=\"stylesheet\" type=\"text/css\" href=\"https://cdn.jsdelivr.net/gh/bmabey/pyLDAvis@3.4.0/pyLDAvis/js/ldavis.v1.0.0.css\">\n",
              "\n",
              "\n",
              "<div id=\"ldavis_el4171402710926026883445719136\" style=\"background-color:white;\"></div>\n",
              "<script type=\"text/javascript\">\n",
              "\n",
              "var ldavis_el4171402710926026883445719136_data = {\"mdsDat\": {\"x\": [0.01916100273266422, -0.005042139116593024, -0.009872974367526998, -0.0050149186790720505, 0.0029574542466222716, -0.005832795247348317, -0.03195738590925826, 0.004038716843337897, 0.009989190546924522, 0.021573848950249764], \"y\": [0.0019570004863976097, -0.015420148985264153, -0.0023009875558720216, -0.0036047040163451403, -0.004754858077949592, -0.016889085856083685, 0.018541733653999012, -0.00011500929981689577, 0.011631783001904173, 0.010954276649030672], \"topics\": [1, 2, 3, 4, 5, 6, 7, 8, 9, 10], \"cluster\": [1, 1, 1, 1, 1, 1, 1, 1, 1, 1], \"Freq\": [22.655261394281233, 22.515981997173242, 13.573249059994726, 10.47094881605055, 8.455678229166121, 5.948324577864537, 5.673038986264164, 5.163978045590591, 4.414705067781706, 1.1288338258331447]}, \"tinfo\": {\"Term\": [\"https\", \"research\", \"trucking\", \"transport\", \"science\", \"transportation\", \"services\", \"logistics\", \"nsf\", \"program\", \"express\", \"data\", \"national\", \"de\", \"credit\", \"congressional\", \"award\", \"co\", \"freight\", \"university\", \"hours\", \"oil\", \"information\", \"foundation\", \"engineering\", \"international\", \"inc\", \"cssi\", \"apply\", \"systems\", \"illini\", \"clipstop\", \"inregisterlog\", \"paneprevious\", \"veridianalert\", \"paneshow\", \"pagestart\", \"trusteespowered\", \"publicationnext\", \"widthfit\", \"collectionsskip\", \"heightrotate\", \"contentsselect\", \"inzoom\", \"outfit\", \"issuebrowse\", \"clipzoom\", \"atsec\", \"bradford\", \"middleware\", \"piv\", \"charismathics\", \"nhga\", \"docketoriginal\", \"grantsearch\", \"docketmotion\", \"incet\", \"refund\", \"sally\", \"grc\", \"tax\", \"transportation\", \"express\", \"trucking\", \"transport\", \"logistics\", \"sa\", \"services\", \"shipping\", \"truck\", \"company\", \"freight\", \"co\", \"supply\", \"farms\", \"service\", \"transfer\", \"lines\", \"morgan\", \"oil\", \"enterprises\", \"inc\", \"railway\", \"line\", \"cargo\", \"container\", \"puerto\", \"storage\", \"de\", \"support\", \"moving\", \"data\", \"school\", \"international\", \"american\", \"research\", \"cssi\", \"systems\", \"global\", \"program\", \"nsf\", \"us\", \"science\", \"project\", \"development\", \"information\", \"new\", \"national\", \"proposal\", \"jstor\", \"qchem\", \"lrose\", \"ithaka\", \"aro\", \"housewives\", \"dni\", \"acsprf\", \"lidar\", \"efrc\", \"actinide\", \"deprince\", \"scidac\", \"jpass\", \"posterpdf\", \"bellmichael\", \"lrosenetusage\", \"bellthe\", \"contentnsfsi\", \"wenchau\", \"dixonmichael\", \"timeif\", \"searchsupport\", \"cfa\", \"aas\", \"nf\", \"gunrock\", \"requestinggo\", \"reddit\", \"londoncospar\", \"lensing\", \"filter\", \"record\", \"congressional\", \"wwwnsfgovpubs\", \"foundation\", \"nsf\", \"apply\", \"fellowships\", \"expired\", \"clickexpired\", \"proposal\", \"wtmc_ev\", \"research\", \"wtmc_id\", \"discipline\", \"districtnew\", \"ocean\", \"education\", \"new\", \"scientific\", \"may\", \"national\", \"solicitation\", \"science\", \"arctic\", \"supported\", \"source\", \"award\", \"stem\", \"division\", \"sciences\", \"program\", \"trucking\", \"proposals\", \"transport\", \"engineering\", \"transportation\", \"students\", \"services\", \"data\", \"co\", \"project\", \"funding\", \"systems\", \"development\", \"school\", \"us\", \"https\", \"cssi\", \"jlan\", \"jma\", \"statementdc\", \"helios\", \"retainour\", \"centerhr\", \"developmentour\", \"eurasian\", \"culturecareers\", \"spaa\", \"searchtalent\", \"greenlawn\", \"consultinghr\", \"preemployment\", \"sitemapabout\", \"hrdiversity\", \"managementhr\", \"serviceshr\", \"solutionsabout\", \"lowrisk\", \"stacy\", \"helioscontact\", \"approachhow\", \"modernized\", \"parallelism\", \"forumshr\", \"peralta\", \"faagov\", \"centercontact\", \"cultureopen\", \"analysiscost\", \"actcares\", \"studiescssi\", \"larta\", \"drm\", \"segregation\", \"create\", \"jovens\", \"iowa\", \"program\", \"cssi\", \"data\", \"covid\", \"center\", \"applications\", \"science\", \"us\", \"award\", \"construction\", \"national\", \"team\", \"research\", \"proposal\", \"community\", \"information\", \"students\", \"nsf\", \"also\", \"development\", \"school\", \"year\", \"opportunities\", \"engineering\", \"career\", \"de\", \"business\", \"university\", \"social\", \"project\", \"inc\", \"foundation\", \"https\", \"new\", \"international\", \"support\", \"projects\", \"systems\", \"services\", \"transport\", \"transportation\", \"trucking\", \"logistics\", \"recipientscsss\", \"rennie\", \"shrideep\", \"flaten\", \"pallickara\", \"whalen\", \"jwb\", \"columbiarichard\", \"voluminous\", \"malensek\", \"honoreesmaja\", \"seafarers\", \"leahey\", \"yp\", \"neilsen\", \"beaton\", \"acton\", \"ziadi\", \"walley\", \"bowser\", \"schoenau\", \"mermut\", \"webber\", \"thilina\", \"noura\", \"sacco\", \"larney\", \"sparrow\", \"lupwayi\", \"pettapiece\", \"dr\", \"debris\", \"mr\", \"orbital\", \"weather\", \"flux\", \"ja\", \"uvic\", \"meteoroid\", \"mariners\", \"space\", \"ieee\", \"professor\", \"union\", \"nrc\", \"siu\", \"victoria\", \"types\", \"lien\", \"international\", \"grants\", \"research\", \"university\", \"solar\", \"grant\", \"science\", \"data\", \"committee\", \"program\", \"year\", \"nasa\", \"award\", \"projects\", \"th\", \"technology\", \"time\", \"proposal\", \"include\", \"national\", \"project\", \"proposals\", \"engineering\", \"director\", \"support\", \"information\", \"nsf\", \"new\", \"development\", \"cssi\", \"us\", \"transport\", \"community\", \"school\", \"foundation\", \"logistics\", \"trucking\", \"may\", \"services\", \"transportation\", \"de\", \"jobfind\", \"aafs\", \"forensic\", \"hhrrc\", \"upconference\", \"affiliateget\", \"schoolcareers\", \"areboard\", \"sciencewhat\", \"newsways\", \"articlesaafs\", \"libraryglobal\", \"jfs\", \"sciencecareer\", \"sciencesacademy\", \"usmy\", \"connectasb\", \"committeenist\", \"uswho\", \"programsjoin\", \"moreaafs\", \"sciencesclyde\", \"accumulated\", \"forense\", \"usacademy\", \"usview\", \"argentino\", \"uponcandidates\", \"antropologia\", \"vieira\", \"clyde\", \"soldier\", \"closedfunding\", \"ckbx\", \"information\", \"program\", \"nsffull\", \"funding\", \"proposals\", \"de\", \"support\", \"development\", \"science\", \"transport\", \"awards\", \"management\", \"community\", \"research\", \"project\", \"engineering\", \"academic\", \"award\", \"logistics\", \"express\", \"freight\", \"proposal\", \"system\", \"nsf\", \"services\", \"may\", \"oil\", \"trucking\", \"national\", \"cssi\", \"school\", \"transportation\", \"foundation\", \"company\", \"data\", \"co\", \"new\", \"econ\", \"earnedhl\", \"syllabus\", \"fren\", \"ital\", \"latn\", \"csci\", \"ib\", \"hl\", \"jpns\", \"chns\", \"engl\", \"grek\", \"geog\", \"txx\", \"examsl\", \"grmn\", \"hist\", \"psyc\", \"tts\", \"sl\", \"arst\", \"russ\", \"satisfactory\", \"credit\", \"examhl\", \"hours\", \"arhi\", \"germ\", \"germanic\", \"phys\", \"biol\", \"placement\", \"chem\", \"zenodo\", \"issuu\", \"nsf\", \"science\", \"research\", \"program\", \"foundation\", \"features\", \"engineering\", \"proposal\", \"data\", \"also\", \"development\", \"project\", \"may\", \"national\", \"systems\", \"support\", \"education\", \"community\", \"information\", \"new\", \"resources\", \"school\", \"award\", \"services\", \"logistics\", \"trucking\", \"cssi\", \"transport\", \"https\", \"university\", \"express\", \"wwwneiuedunews\", \"wwwneiuedu\", \"wotdapr\", \"olweekly\", \"https\", \"wwwneiuedufall\", \"photosmonthly\", \"inn\", \"klima\", \"weekly\", \"ollaunches\", \"wwwneiuedunode\", \"wwwneiuedunewsm\", \"millionweekly\", \"thseasonweekly\", \"ux\", \"graduatesweekly\", \"scheduledaily\", \"studentsdaily\", \"designerui\", \"hotspots\", \"slidepdf\", \"neiuweekend\", \"adyall\", \"flamencopassion\", \"wwwneiueduabout\", \"kgrantweekly\", \"programsdaily\", \"maphome\", \"eventsdaily\", \"monthly\", \"daily\", \"frenchhttps\", \"englishhttps\", \"newsletterissue\", \"serious\", \"university\", \"research\", \"nij\", \"award\", \"cssi\", \"program\", \"science\", \"awards\", \"safety\", \"national\", \"engineering\", \"also\", \"year\", \"students\", \"de\", \"us\", \"nsf\", \"society\", \"proposals\", \"funding\", \"deadline\", \"data\", \"projects\", \"years\", \"services\", \"support\", \"education\", \"development\", \"proposal\", \"new\", \"international\", \"information\", \"foundation\", \"trucking\", \"may\", \"transport\", \"vertafore\", \"sircon\", \"agenciessircon\", \"mgas\", \"secaf\", \"vue\", \"cho\", \"casualty\", \"annuity\", \"sbc\", \"cormulayer\", \"configurable\", \"descending\", \"nathe\", \"iwf\", \"haberbosch\", \"mgasriskmatch\", \"record\", \"submissionspl\", \"outgrown\", \"qiang\", \"carrierscarrier\", \"providerssircon\", \"samoa\", \"loginsvertafore\", \"eurasian\", \"ikkyun\", \"ho\", \"multilayer\", \"modernizing\", \"filter\", \"banker\", \"apply\", \"asce\", \"ritossa\", \"uscss\", \"shock\", \"sipa\", \"sciencemedical\", \"earthquake\", \"csss\", \"solomon\", \"scent\", \"membership\", \"closedfunding\", \"nadeadline\", \"amount\", \"science\", \"insurance\", \"society\", \"tissieres\", \"award\", \"inc\", \"department\", \"development\", \"cell\", \"international\", \"student\", \"engineering\", \"national\", \"career\", \"research\", \"rico\", \"support\", \"administration\", \"trucking\", \"year\", \"new\", \"contact\", \"us\", \"health\", \"services\", \"deadline\", \"express\", \"years\", \"funding\", \"data\", \"transport\", \"business\", \"awards\", \"cssi\", \"nsf\", \"systems\", \"program\", \"transportation\", \"proposals\", \"may\", \"project\", \"company\", \"foundation\", \"logistics\", \"navigationpage\", \"availableyour\", \"homepagemain\", \"pmcskip\", \"contentan\", \"knowthe\", \"unblocked\", \"outaccess\", \"inshow\", \"policiesfoiahhs\", \"noticereason\", \"settingslog\", \"contentmain\", \"pythonrequests\", \"messagepmc\", \"centersearch\", \"homesupport\", \"blocked\", \"homepagemyncbi\", \"retrieve\", \"pike\", \"keysncbi\", \"bethesda\", \"offerors\", \"fulltext\", \"pmc\", \"helpdeskebsl\", \"ansi\", \"gjoka\", \"daas\", \"openweight\", \"diving\", \"ptt\", \"rico\", \"brasil\", \"de\", \"cancer\", \"jobs\", \"materials\", \"inc\", \"puerto\", \"emcor\", \"institute\", \"logistics\", \"national\", \"transport\", \"trucking\", \"software\", \"services\", \"first\", \"university\", \"community\", \"web\", \"company\", \"data\", \"express\", \"transportation\", \"health\", \"https\", \"systems\", \"research\", \"project\", \"science\", \"co\", \"award\", \"cssi\", \"international\", \"us\", \"program\", \"nsf\", \"new\", \"freight\", \"years\", \"development\", \"support\", \"staffcourse\", \"studiesstudent\", \"affairsresearch\", \"theoretic\", \"iwf\", \"reproducing\", \"maththing\", \"hilbert\", \"digest\", \"toppowered\", \"mcx\", \"tcca\", \"unspecifiedthe\", \"reservedschool\", \"newssign\", \"rosenfeld\", \"discordour\", \"tccajoin\", \"homed\", \"iwce\", \"googledeadline\", \"sciencedata\", \"kamalapurkar\", \"cansbridge\", \"foreverclear\", \"telco\", \"chapterdeadline\", \"districtiowa\", \"unspecifiedpage\", \"squarespace\", \"congressional\", \"awardk\", \"districttexas\", \"districtgeorgia\", \"intramural\", \"club\", \"districtohio\", \"savage\", \"agreementsu\", \"districtnorth\", \"transport\", \"joel\", \"lmu\", \"trucking\", \"oil\", \"transportation\", \"services\", \"freight\", \"logistics\", \"express\", \"co\", \"lines\", \"moving\", \"de\", \"central\", \"shipping\", \"research\", \"data\", \"inc\", \"enterprises\", \"usa\", \"service\", \"students\", \"information\", \"systems\", \"college\", \"science\", \"business\", \"company\", \"work\", \"national\", \"international\", \"https\", \"new\", \"program\", \"project\", \"support\", \"award\", \"cssi\", \"nsf\"], \"Freq\": [3236.0, 4206.0, 2414.0, 1995.0, 2734.0, 1644.0, 1589.0, 1349.0, 2900.0, 2531.0, 1141.0, 1649.0, 1653.0, 1050.0, 229.0, 282.0, 1490.0, 935.0, 702.0, 937.0, 186.0, 660.0, 1032.0, 1281.0, 1137.0, 1111.0, 756.0, 1245.0, 633.0, 954.0, 5.368567539822141, 1.909821588933102, 1.9097755794900646, 1.9095541854270073, 1.9084402503795184, 1.908223921576245, 1.9080398838040946, 1.9080192006599768, 1.9075859098959573, 1.9074240326353618, 1.9073083758702947, 1.9070859265447824, 1.9064318748751787, 1.9054671539388257, 1.905308864570577, 1.9047723691384593, 1.903105265512064, 4.3730569997672335, 19.097977822121177, 4.942987789613788, 4.590728096883218, 3.1535114968352693, 6.470050490342159, 1.789308083943193, 3.193189154090455, 2.3087116411298134, 1.7376577354524116, 3.2028775186897307, 3.819810331439075, 5.371990811226134, 50.5640604754032, 683.7042811954159, 477.0749101140839, 964.2232847098787, 752.5077984816376, 522.1168750256131, 105.66748520295538, 555.4148392713225, 174.2124243540458, 97.222717859538, 317.2673146661295, 244.028763971949, 310.6720222507891, 66.94356064723173, 70.18500273233913, 249.3840807921763, 106.95443939414476, 125.92870668814238, 29.585527291170678, 215.31796652338969, 102.94070052661704, 235.47817322112513, 38.31088976558023, 94.40219886247758, 83.29287524758772, 80.85070414167016, 98.59000707090097, 148.43815385895903, 282.3594892948432, 289.82422342158054, 138.89983745026322, 383.52280367062855, 258.7325782788881, 278.8353381769938, 191.3724168986251, 729.8553624039596, 298.9904255855076, 239.9938995942823, 151.01497983097332, 445.59630613861594, 428.21781854799576, 233.64700751874724, 365.16484341874445, 220.86859976088644, 214.45615647006724, 201.7628045544987, 210.5967526913169, 234.8592119828848, 225.6792323123454, 10.739523359508139, 4.670148247992785, 4.644806908841188, 5.954638713427372, 5.105600442639684, 2.4929407622802917, 1.6709130608407694, 1.6697068647807825, 3.423385573276499, 1.6697886692262038, 1.669361398315119, 1.6669646329417704, 1.663699062407051, 2.0235283960142083, 2.387710879770211, 1.6555611981275429, 1.6510422366604778, 1.6402813862527834, 1.639744623237827, 1.638534966220534, 1.6321304122865092, 1.9391286521232247, 2.270277242288199, 2.1813180542174164, 2.1428242382819893, 5.149016369129611, 5.461083128502632, 1.5869089148576436, 2.7967565994351324, 2.001458605414497, 5.084752894356562, 255.179743306217, 114.89583537161823, 152.07103748061039, 74.96028446576813, 536.3942354822589, 1132.538397627239, 280.19582798281846, 115.93493137873801, 131.34490880901183, 85.05547322312091, 587.2538261766693, 110.52502469178094, 1277.9998104339627, 78.89420738781887, 47.34377826359731, 19.080333980356862, 133.09330557227068, 319.090242385023, 412.24935290768764, 245.38498410148858, 359.4625937905845, 518.0156443663041, 142.19629618179871, 772.5470199014514, 51.235159517949185, 82.63300782959098, 132.12200237735638, 438.0390005566713, 146.17892924624306, 171.20267920913545, 245.34828201266288, 641.1475278103748, 615.6241381093682, 269.8758557118072, 420.9479895971282, 281.3840681767903, 353.7594865469184, 228.31837855433946, 342.11866865639746, 348.94429062699425, 242.0944149672681, 255.45295505156483, 215.28762007313617, 233.7493748468361, 249.3529980822712, 228.45493072973636, 228.8152126097307, 292.56674089999456, 228.38378183771871, 3.769393038302429, 2.435558047985699, 1.7215550832787012, 4.754687619621924, 2.1599936933301542, 2.0175613365382903, 2.0273978266642043, 3.4339853147288544, 1.9478774312211562, 5.84042562216006, 1.9662972047982878, 2.2917395897340413, 1.900494054808879, 2.907019431558513, 0.9365528583525895, 1.79919547904065, 1.808497987551465, 1.8090771104018442, 0.9125473310821188, 0.9152368382933768, 6.567800887531213, 1.793067398293757, 1.7638044976885574, 0.9028544204314465, 1.2648331349242563, 1.7285149260583, 0.853586745172805, 1.7021013604553799, 1.049945302125857, 1.0379300835559573, 2.37102732446864, 2.3854851643621635, 2.408216874253875, 5.289342939206511, 13.518103060731015, 11.133386435382956, 54.59402945872081, 20.895998693817607, 17.9502086312247, 424.2144211917422, 230.855018575255, 278.3084319301853, 66.01650087062511, 102.82286656159022, 70.12541846258028, 405.7082566472902, 186.0306307630689, 244.64704826156773, 50.26986631812799, 249.55185969753236, 81.04075831670954, 505.2713403235743, 236.94169785486335, 134.612444252319, 166.44161877248922, 139.65818738350598, 358.58474403812136, 118.25214786148942, 162.69951203033847, 149.2674711772311, 109.95832366706294, 89.16688067248582, 158.03500066660655, 91.89216705443013, 148.65073821754712, 99.80644273104872, 135.49061501538245, 79.45128509695556, 140.7517655461347, 112.28096540382845, 155.85580740698785, 268.3365373182274, 150.33596244607924, 137.89268509487593, 134.42289253844052, 107.37166260462246, 118.92170087140116, 137.96482205331475, 143.34003702530498, 135.68759568683853, 139.99320261858009, 125.29931528594716, 1.799188568197696, 1.2063766829140792, 1.2878270183004763, 1.0736899644899773, 2.072926340479892, 0.6891757152548964, 0.6537127883310437, 0.658628839959474, 1.2002622354866297, 1.1678577028230475, 0.6559359000853519, 34.76015691996999, 0.6649026280354684, 0.6502025143313278, 0.6464122846160784, 0.6466843391424277, 0.6564933728777815, 0.6464182836671255, 0.6464865655489629, 0.6609577398578572, 0.6475728815162234, 0.6425042686546594, 0.652014861793611, 1.140063855457764, 0.6463516112867885, 2.3752275944812244, 0.6414250247394463, 0.6424452535996428, 0.6553340928425004, 0.6372492462556791, 110.83601212074994, 27.713451107061466, 20.71408375719319, 25.865387538391094, 25.402870262119723, 6.545880840197631, 2.2295474192167357, 4.743220430945138, 11.139179230287448, 2.9917696772508893, 77.78236847749045, 45.37115823604684, 58.163009503760534, 33.57414355249409, 7.650257560295252, 8.489065752453705, 11.024734114141758, 22.13372260792034, 13.747178004132603, 169.34228830088352, 67.27702849627973, 481.7197458731838, 139.34425808948401, 13.45690743243775, 73.38374797543402, 307.16015369466487, 203.53308513806914, 35.61527394696867, 271.50399489794506, 91.88134254049307, 26.682674061758757, 168.23343424024827, 95.18436269026999, 35.92408285449129, 89.59902649281018, 66.11522203137065, 171.33199268378, 56.96994476389284, 170.44296414298557, 123.75905824531513, 113.54674820418985, 124.6799381379847, 76.90692451954205, 120.63079601263762, 115.56440836005709, 231.53682866702763, 128.5336770266222, 118.83685695551559, 124.18988180331284, 111.82824853085052, 157.27547044217116, 92.31805941016663, 103.25231886032725, 112.73986393779239, 112.07137260913863, 133.9018971293125, 99.65066263287494, 104.4757366524915, 102.02120979699285, 93.18321504434195, 2.029415971768868, 2.035858388607773, 15.4392994537307, 1.5005304616823585, 1.0926433012113386, 1.0887281934700717, 1.0781015062173334, 1.0556402474797415, 1.0553118485385853, 1.0546128290605763, 1.0431544708985727, 1.0402854504536727, 1.0482712399128875, 1.0450525521857155, 1.0100694394586918, 0.9986762254378098, 1.0081828588300783, 0.9936318475549228, 0.9367577039471143, 0.5868181081371854, 0.5834080841116042, 0.5849681169324548, 0.579689157124223, 0.5770531825578095, 0.5762350997553684, 0.5710003308336773, 0.5717975785389882, 0.5633784663224456, 0.5699631053461088, 0.5691206033372013, 2.1952236440218242, 2.6189643047322635, 5.154080616535771, 4.725351820888951, 134.49493451404146, 277.5195488908131, 4.26456927203147, 98.49246139089996, 113.59911138611672, 118.32716381369758, 122.48985521109165, 122.79656296500184, 251.90735926471942, 193.85638068213268, 93.95849218614093, 76.55745262207212, 87.97629452136886, 320.15592954367094, 111.35078494799673, 116.11457070934458, 40.83765245194718, 138.09033907234652, 128.026424728996, 112.62764666401891, 78.04295707952774, 143.39926991179235, 61.30590819319331, 215.4733940370187, 137.7215113778781, 102.02289258498536, 70.72751989519003, 174.55911001905503, 127.13566249094755, 104.88909111487747, 89.30854088817604, 119.28868692544147, 98.40802828227562, 81.95741574253238, 94.50243741471343, 81.13542807266242, 81.84066735887329, 7.036569190818967, 12.189196985650502, 6.930903065379287, 6.000037245100034, 6.0338998075390355, 7.395160099744956, 5.934946259279092, 12.39797755285224, 29.787798457102323, 5.874008187407414, 5.793076015947804, 3.98169047747129, 3.5126847225436513, 3.4830714936508373, 3.499323404606968, 3.4648962888039203, 2.978773063090311, 3.41739157249881, 3.4243364433281425, 3.362689521178404, 29.839293171486037, 2.468252797850244, 4.967555365760317, 7.075015563061063, 143.00416970930166, 2.000768256011515, 115.01546606274638, 1.9893911868832121, 1.9800823735224475, 1.541188347886422, 5.000592044479476, 9.639810532631218, 9.448756985391395, 7.828694082409102, 22.248507684027434, 12.091339295981783, 257.91424183802224, 216.97533391048535, 281.4188127092, 185.02568662386543, 116.9569373749221, 25.092884906609, 90.75895887459254, 111.57428566997159, 109.24907234159922, 60.37965212392059, 72.38726906479667, 70.15415750863814, 68.7153412824446, 83.43549550050179, 63.308013253617915, 67.07719937255807, 60.561245467949774, 55.79049424718225, 63.269605005906094, 65.96584980940409, 44.55805362764565, 59.34878610403274, 70.53464386727251, 70.41711391998076, 64.89012097016679, 77.49408358687278, 60.57795642484895, 69.37045193192039, 70.5297071839101, 53.49629123441396, 54.886871950254, 5.637627862010385, 3.7772166289196356, 3.3691240975932053, 1.9222129104776156, 2155.912904971533, 1.4478684947812182, 1.4325665812609572, 2.7894844002235657, 1.3839191377589428, 40.29766504114302, 0.9887449221645896, 0.9930428181897389, 0.994492890384147, 0.9907271842780039, 0.9852057270805776, 2.934917794391969, 0.9873179978534512, 0.9844245124447536, 0.9667493595498264, 0.879615864810658, 0.8771232394352932, 0.8857211982965827, 0.525770609322684, 0.5250798722579958, 0.5260603278068937, 0.5237509829319373, 0.5233673516884354, 0.5229575601658958, 0.5231283154417954, 0.5227002909975024, 10.43269814055135, 40.96114468054553, 0.9768414138629751, 0.9697489658480338, 1.7487226963150238, 0.9172222964835681, 92.33601088807762, 288.2411528988172, 17.14530524575328, 96.54923512716964, 83.52832543968756, 137.64075883330676, 138.3109355041429, 58.528178569134866, 39.51206943058948, 90.96433708626638, 70.86878486249181, 49.700023204463896, 47.75266852181261, 55.24083583743499, 63.48182389765553, 63.17001281997793, 117.3097619842324, 30.819366600171932, 55.5920342540239, 49.175862112915134, 45.89985359956577, 73.25276570057984, 44.96501227587685, 43.24368578644901, 68.17469764563656, 55.04920265059961, 49.08243514207716, 53.68752366085217, 62.54950241660198, 54.38424154666785, 51.46289158281477, 50.29132710964327, 52.72208569759333, 59.13254168560978, 50.029003035453115, 50.562249089845665, 3.2099918471352797, 1.017665247494565, 0.6662130530249923, 0.7834212880868149, 2.50473436584887, 2.5421879528208473, 4.849790965767055, 0.6886718700240052, 0.4035713089885287, 1.6852062866635291, 0.4423313783983972, 0.39863599196276533, 1.0831834319178189, 0.44114501845286247, 0.9434278153762352, 0.43127799240571163, 0.3958525849602637, 36.687195272118124, 0.39075574960527065, 0.2608011807374831, 0.6752117526856665, 0.25761514449998885, 0.2576118491893255, 0.537391614011513, 0.25224578454779967, 1.0891411611702742, 0.8146242720644605, 3.7858830326407182, 0.4159273288811043, 0.3765100975542018, 73.4428021557421, 1.5592101556100373, 92.99286411499932, 1.493352049067845, 12.046287245131927, 2.3568435172538624, 7.687974209636973, 2.1939578024724407, 3.0165287282282756, 2.1193023229137515, 6.645416810778809, 4.2608799837773175, 1.750131315167378, 14.301299601440606, 2.727038428535403, 6.418774868484444, 18.971937659576692, 174.01646716383402, 6.126088550408637, 30.71044346603147, 5.526494411781911, 90.4411910554212, 52.06730780950915, 38.580990009313304, 70.11222195072544, 16.45482139241719, 66.23740305341951, 34.056020653930446, 67.22656968458973, 89.51301605449089, 37.24918342166803, 178.12489539663133, 21.550772160950707, 63.726727699458486, 13.862547796343668, 114.53575447012396, 43.289091275766374, 67.68131293478845, 32.597578693069714, 60.38162157261084, 38.892108900144926, 78.71479428893278, 44.82842642657782, 59.96189078173006, 42.26402856095317, 47.13837743255844, 74.33758416214529, 83.3231075832654, 38.70676638884694, 45.86499165176842, 58.96855541419715, 94.14990705260377, 49.9112151951479, 80.24449270058972, 64.93981150801837, 50.14428881414955, 50.81090177837957, 50.791095662411195, 48.46136317110541, 52.968770877882086, 50.07574789176685, 0.9477841929624014, 0.9467052770104287, 0.9234652777040143, 0.8762283023811143, 0.8626107001656134, 0.8650641502697102, 1.526434364620555, 0.8593123446213501, 0.876423736116106, 0.8362691773552704, 0.858749979113716, 0.8290073664430304, 0.823847208461251, 0.8200361683756563, 0.825368646927641, 0.8257356609535388, 0.7928559913725626, 0.9182351222018317, 0.7613641809710964, 0.7560156630342955, 0.8888131327209601, 0.7213709208442334, 1.1398967882581295, 1.120225675453212, 0.8016120971768881, 8.486471736589166, 0.45884382226671866, 0.7530499396551446, 1.7359455797791328, 0.42963766532819475, 1.2666123699822411, 2.9195592330391578, 1.4408941045576356, 25.962999250914017, 7.748445518551746, 73.88786512955265, 19.976270408625076, 20.656432448479887, 27.570630574695763, 47.50364235120515, 22.014198122931433, 5.186830080423449, 26.753014790615506, 68.84292158579832, 75.51776405465466, 86.43122601009571, 96.68251372561372, 31.45450295689011, 68.34297971880392, 30.525143822165543, 45.62436734814948, 40.160369130801854, 15.400957420186158, 45.007996985079316, 65.76122243248966, 50.48535839532328, 63.95236148032287, 31.49269478846897, 97.08189868470744, 41.82016875933157, 109.02369215606039, 44.91979517417597, 81.70294565542406, 40.832447978735324, 54.19013977734828, 45.09936784940933, 41.10602099036951, 39.23568724519622, 54.04516347939076, 55.57189444925053, 39.07778994784375, 32.262795827982615, 31.612284441658876, 32.063208632602745, 31.5633352003169, 0.13212069329559886, 0.1318095768322273, 0.13155381670021243, 0.21830524320777947, 0.4770770162393442, 0.16048000264694073, 0.1599402889322333, 0.15716281865767628, 0.1389957204008561, 0.09036384776940731, 0.5711505163951593, 0.30368123734386704, 0.12248987994983809, 0.07989683202993633, 0.0799336749073885, 0.08462846808435406, 0.07877760146332831, 0.11048465435920105, 0.10738658217087661, 0.21280954991756806, 0.07720244357450613, 0.07627463612713936, 0.08148127556476686, 0.07635157659035578, 0.07592485751478738, 0.10664801051050904, 0.0755170462438883, 0.19914871362408065, 0.07452824587823338, 0.08000331199444094, 16.131709890238447, 0.5487905546148035, 1.1746742229980818, 0.36877651828404195, 0.7175362544520326, 2.5802237197339486, 0.6112886939981464, 0.4410358801820579, 0.4001226718759955, 0.42765251960270007, 38.11511367579504, 0.4198982585482783, 0.5409313436768446, 38.63344546068286, 13.448930069721737, 26.65771932632833, 25.8006296763979, 13.057630465148979, 20.982734955156257, 18.388604681796284, 15.718219295301031, 7.1071505885517485, 8.428476941435337, 15.06073279830001, 4.2527180195199525, 7.3768392316432205, 34.19473050431706, 17.691241435459283, 10.281357334353661, 5.1066784382936286, 3.5423297144504757, 9.968306343870326, 10.248061426452402, 11.692412093958298, 11.104441034685795, 5.047902465360964, 20.781443854761285, 7.998988534992164, 10.47862037829672, 8.073162653883612, 14.216877517971989, 10.937666037070496, 19.050269319892287, 10.618514072195083, 14.6054527161091, 9.457382548517378, 9.319501200281707, 9.965372626564747, 9.521122083076252, 9.34548738034266], \"Total\": [3236.0, 4206.0, 2414.0, 1995.0, 2734.0, 1644.0, 1589.0, 1349.0, 2900.0, 2531.0, 1141.0, 1649.0, 1653.0, 1050.0, 229.0, 282.0, 1490.0, 935.0, 702.0, 937.0, 186.0, 660.0, 1032.0, 1281.0, 1137.0, 1111.0, 756.0, 1245.0, 633.0, 954.0, 6.0097396023419, 2.550986925049293, 2.550940770496824, 2.550719713369781, 2.549605679212303, 2.5493893957261142, 2.5492057593596877, 2.549184628092273, 2.548751713995935, 2.548589726471248, 2.548473887148345, 2.548251710380667, 2.547597857179954, 2.5466330095148892, 2.546475370879044, 2.5459383224851617, 2.5442714279067937, 6.56002606932314, 29.22555219191604, 7.715108460163663, 7.409392455806905, 5.199228581583544, 10.690281400049555, 3.0156765152285074, 5.446010383991755, 3.960131512706838, 3.002454380366643, 5.553353102402479, 6.719227396668242, 9.493847017025887, 98.02335355610778, 1644.0398311399817, 1141.5193656441656, 2414.7799715150977, 1995.7298245192967, 1349.435888433375, 244.07851170031952, 1589.1457932611563, 456.1465453146082, 238.52769017648527, 948.530971189537, 702.8068542691146, 935.0288516437805, 159.17223189916635, 170.21398949596357, 766.5833090844059, 284.1786161925873, 344.6704389644851, 63.04269621207461, 660.4948678098414, 277.32597603336046, 756.9434771974709, 89.36108877707153, 261.67028692241684, 225.5244635931427, 219.75337319576775, 281.4791914554408, 465.7437012186368, 1050.7017347008828, 1097.8759857529585, 440.71861877288205, 1649.1029348528639, 996.9236415957973, 1111.1118985689664, 673.7410076089028, 4206.005472243377, 1245.003526127891, 954.0007082569311, 499.5514305582949, 2531.5433532827533, 2900.642475621854, 1052.4162226270662, 2734.274759015518, 1075.3300159092878, 1104.176285606845, 1032.0829592883413, 1221.2841207414783, 1653.65283289454, 1610.7500976334918, 12.002182822117128, 5.338274190252455, 5.3296814314492575, 7.015176028789284, 7.00889288115119, 3.48032390264581, 2.3350175324890716, 2.3335386667958984, 4.7847234315088585, 2.3338960956758084, 2.3334773127033674, 2.33145791315894, 2.3281213753767322, 2.837193841501993, 3.3478323622626167, 2.3251364604762252, 2.320765650294239, 2.311495554500994, 2.311865964309735, 2.3115135552674504, 2.305946221511355, 2.771271266441224, 3.356112219573244, 3.291876647092092, 3.271487164032611, 7.861864727045072, 8.394978042033017, 2.444041997242175, 4.3674272954815745, 3.169430977628216, 8.227218272217664, 478.81519173102953, 210.71082382990176, 282.90690445971137, 144.52215158736604, 1281.3759894742993, 2900.642475621854, 633.0984001588431, 251.5520695004923, 291.3504240333914, 181.68261218707056, 1610.7500976334918, 254.43463409530747, 4206.005472243377, 180.50545658740438, 102.34911188201478, 36.72118337943601, 334.4221547660108, 906.909963458766, 1221.2841207414783, 683.1409708023565, 1072.4853637951705, 1653.65283289454, 375.9591656645512, 2734.274759015518, 114.97335155126915, 202.30929717554505, 352.98200121545483, 1490.2362098071787, 401.81278901940414, 490.28894995309514, 763.1170252825201, 2531.5433532827533, 2414.7799715150977, 988.2695205351599, 1995.7298245192967, 1137.7972424899963, 1644.0398311399817, 832.5272152337517, 1589.1457932611563, 1649.1029348528639, 935.0288516437805, 1075.3300159092878, 810.0670004677941, 954.0007082569311, 1104.176285606845, 996.9236415957973, 1052.4162226270662, 3236.8378998498974, 1245.003526127891, 5.679072225974099, 3.830537315776682, 2.871033665573875, 7.940573910279251, 3.7732402847560307, 3.703083659737693, 3.7517293429568666, 6.441094696126277, 3.661710465625559, 11.015179464755809, 3.7299639443503647, 4.376084029801176, 3.6426538242076685, 5.614782767089455, 1.8361110797724316, 3.5543768036103667, 3.592124488093786, 3.5996625525969206, 1.8168043875130782, 1.8284279354935766, 13.140566645035019, 3.5996586681889977, 3.5422346021021642, 1.8184213491436816, 2.593425390824373, 3.5701641072437855, 1.8027541729809409, 3.606771411324864, 2.249769753927757, 2.2257983951947167, 5.133797831483919, 5.210254609427695, 5.2798887287003, 12.066702793866593, 34.82653820706453, 28.747048998120743, 187.30966308262288, 64.99930344810312, 58.04589910072929, 2531.5433532827533, 1245.003526127891, 1649.1029348528639, 290.89584881034233, 500.357571937321, 314.61853190362535, 2734.274759015518, 1052.4162226270662, 1490.2362098071787, 213.82595824134978, 1653.65283289454, 407.7593506728231, 4206.005472243377, 1610.7500976334918, 782.740472038273, 1032.0829592883413, 832.5272152337517, 2900.642475621854, 695.3809846773046, 1104.176285606845, 996.9236415957973, 662.2262972689742, 504.38379403684235, 1137.7972424899963, 531.5696288816957, 1050.7017347008828, 604.1807285020142, 937.1170237481317, 438.733492242282, 1075.3300159092878, 756.9434771974709, 1281.3759894742993, 3236.8378998498974, 1221.2841207414783, 1111.1118985689664, 1097.8759857529585, 713.5496383105065, 954.0007082569311, 1589.1457932611563, 1995.7298245192967, 1644.0398311399817, 2414.7799715150977, 1349.435888433375, 3.296652086024931, 2.5338633907676043, 2.835905082202543, 2.4134703189536313, 4.9470666619085915, 1.6697884908014302, 1.6125752016258739, 1.629301040972281, 2.975838671410333, 2.9152563075595626, 1.6395204817007385, 87.17580043381409, 1.6762052665986373, 1.63963604345793, 1.6334891968994552, 1.639791761494604, 1.670668999358107, 1.647013012146226, 1.648353866908674, 1.6868568261662737, 1.6584337419121058, 1.646320156568788, 1.6711146758924036, 2.9259277951103324, 1.659580423481689, 6.099794138998706, 1.6472643432110432, 1.6500619472575702, 1.6858770414730415, 1.6426952288199217, 350.1821429997328, 87.45592987238679, 65.77450192546861, 83.31358863520241, 82.95415984650288, 19.62997926330629, 6.270928799081194, 14.263894845060282, 36.45253468518476, 8.896641692264696, 333.7591694303057, 190.18318043234083, 253.7134103169442, 137.47639573173151, 26.608573707391226, 30.167502803412063, 40.93130644004478, 91.77959220494927, 55.13043977027502, 1111.1118985689664, 380.94350877162964, 4206.005472243377, 937.1170237481317, 55.983543769072384, 452.8745354828723, 2734.274759015518, 1649.1029348528639, 189.24496599567286, 2531.5433532827533, 662.2262972689742, 134.46099747437694, 1490.2362098071787, 713.5496383105065, 199.16075902437464, 672.4145185048819, 448.8146837478915, 1610.7500976334918, 370.3057189543602, 1653.65283289454, 1075.3300159092878, 988.2695205351599, 1137.7972424899963, 568.5810948075685, 1097.8759857529585, 1032.0829592883413, 2900.642475621854, 1221.2841207414783, 1104.176285606845, 1245.003526127891, 1052.4162226270662, 1995.7298245192967, 782.740472038273, 996.9236415957973, 1281.3759894742993, 1349.435888433375, 2414.7799715150977, 1072.4853637951705, 1589.1457932611563, 1644.0398311399817, 1050.7017347008828, 3.7107362318932684, 3.7618796348590875, 28.68354582121524, 2.9955288035203758, 2.2397184870178344, 2.259628978299817, 2.2471403861189154, 2.2614465079083748, 2.268426634890593, 2.278290869593996, 2.258656150730699, 2.2654277263548295, 2.285127078905923, 2.2827730009744482, 2.301181094269517, 2.278253828020905, 2.3054329556344895, 2.3198172031952335, 2.3367828690842725, 1.5193023793977782, 1.5242522870258208, 1.5338525869986563, 1.5266892008192632, 1.5351909516208984, 1.533616640391042, 1.5239786692473998, 1.5418453332415423, 1.5240938787065874, 1.548516256643267, 1.5469747970977967, 6.264003272141362, 8.351305830885336, 19.775800159641047, 18.79397917398506, 1032.0829592883413, 2531.5433532827533, 17.40950780519435, 810.0670004677941, 988.2695205351599, 1050.7017347008828, 1097.8759857529585, 1104.176285606845, 2734.274759015518, 1995.7298245192967, 802.6308719053546, 647.855064615179, 782.740472038273, 4206.005472243377, 1075.3300159092878, 1137.7972424899963, 289.67462989397825, 1490.2362098071787, 1349.435888433375, 1141.5193656441656, 702.8068542691146, 1610.7500976334918, 514.1205182385179, 2900.642475621854, 1589.1457932611563, 1072.4853637951705, 660.4948678098414, 2414.7799715150977, 1653.65283289454, 1245.003526127891, 996.9236415957973, 1644.0398311399817, 1281.3759894742993, 948.530971189537, 1649.1029348528639, 935.0288516437805, 1221.2841207414783, 9.0226876748845, 16.029134138234127, 9.137239695979986, 7.930801909990084, 7.977617328845567, 9.914621436842287, 8.036514007916244, 16.84412588830087, 40.6347411135339, 8.147987445255785, 8.164672366738762, 5.650005205678527, 5.0044902000253435, 5.017200084376673, 5.049476869076789, 5.080233815678254, 4.391777286507338, 5.138157809105565, 5.149455870499714, 5.117633328481047, 45.96205599605809, 3.84173722594284, 7.806516860310805, 11.168324391130843, 229.4111440113108, 3.2381481775645127, 186.1628982163066, 3.223759249555758, 3.289773370223133, 2.5935136343201437, 9.24358519337346, 19.640499615128185, 23.543720381992735, 18.52852759159295, 73.51792089659361, 32.83294953557533, 2900.642475621854, 2734.274759015518, 4206.005472243377, 2531.5433532827533, 1281.3759894742993, 115.31003912906203, 1137.7972424899963, 1610.7500976334918, 1649.1029348528639, 695.3809846773046, 1104.176285606845, 1075.3300159092878, 1072.4853637951705, 1653.65283289454, 954.0007082569311, 1097.8759857529585, 906.909963458766, 782.740472038273, 1032.0829592883413, 1221.2841207414783, 526.7030478542654, 996.9236415957973, 1490.2362098071787, 1589.1457932611563, 1349.435888433375, 2414.7799715150977, 1245.003526127891, 1995.7298245192967, 3236.8378998498974, 937.1170237481317, 1141.5193656441656, 6.73609482578525, 4.727752958559362, 4.868250402942853, 2.7915562213031184, 3236.8378998498974, 2.283553470968839, 2.2859481806924595, 4.653160783084695, 2.3218872206080974, 69.51222765411939, 1.7955607209852644, 1.8036637330932241, 1.806693181163983, 1.8036844289002503, 1.7993741469851916, 5.361745601347912, 1.8057589261779023, 1.8048489366319198, 1.7958878685463249, 1.8308000294736566, 1.8264548419866276, 1.9861292094537368, 1.309304507545881, 1.308776124095827, 1.3124270803552514, 1.310078320322257, 1.3092127062406043, 1.3090777371653803, 1.3096454195107503, 1.3090032162988074, 29.82053354664952, 129.7269649026459, 2.584571839584747, 2.5771638689529004, 5.147087699005983, 2.565923971889421, 937.1170237481317, 4206.005472243377, 121.67289173670775, 1490.2362098071787, 1245.003526127891, 2531.5433532827533, 2734.274759015518, 802.6308719053546, 466.69198399903405, 1653.65283289454, 1137.7972424899963, 695.3809846773046, 662.2262972689742, 832.5272152337517, 1050.7017347008828, 1052.4162226270662, 2900.642475621854, 370.5975664490957, 988.2695205351599, 810.0670004677941, 730.6791733760396, 1649.1029348528639, 713.5496383105065, 677.7423792933439, 1589.1457932611563, 1097.8759857529585, 906.909963458766, 1104.176285606845, 1610.7500976334918, 1221.2841207414783, 1111.1118985689664, 1032.0829592883413, 1281.3759894742993, 2414.7799715150977, 1072.4853637951705, 1995.7298245192967, 10.313664355656034, 4.230322461205136, 2.846549430267986, 3.6168947672420675, 12.125788479918196, 12.531582443077335, 24.973743807478375, 3.7115280939909563, 2.2269610212568587, 9.325486793699651, 2.4563661664513976, 2.2147185077298897, 6.075243279054709, 2.479183561891553, 5.313753287310956, 2.440762838759635, 2.2517056433636538, 210.71082382990176, 2.2493527287012807, 1.504280069936141, 3.916419994771496, 1.4986859011804934, 1.4988509959653515, 3.1598419272062137, 1.4875453375098242, 6.441094696126277, 4.839227218014723, 22.490767330540592, 2.483532865703231, 2.2543397632827897, 478.81519173102953, 9.477385087864988, 633.0984001588431, 9.156564442852023, 80.39290748748516, 14.716183127734325, 50.823926957497015, 13.837505628520233, 20.215939946487307, 14.035597874773654, 52.3158586904122, 31.99859860824816, 11.747918934456543, 129.70118630314246, 19.775800159641047, 53.62488877989604, 192.26117720544102, 2734.274759015518, 51.344135267515654, 370.5975664490957, 45.80566682475686, 1490.2362098071787, 756.9434771974709, 522.1777046817797, 1104.176285606845, 183.6769695397874, 1111.1118985689664, 468.4759326993412, 1137.7972424899963, 1653.65283289454, 531.5696288816957, 4206.005472243377, 261.3940820211682, 1097.8759857529585, 147.57486277799828, 2414.7799715150977, 662.2262972689742, 1221.2841207414783, 456.0476678233968, 1052.4162226270662, 584.7612618790561, 1589.1457932611563, 730.6791733760396, 1141.5193656441656, 677.7423792933439, 810.0670004677941, 1649.1029348528639, 1995.7298245192967, 604.1807285020142, 802.6308719053546, 1245.003526127891, 2900.642475621854, 954.0007082569311, 2531.5433532827533, 1644.0398311399817, 988.2695205351599, 1072.4853637951705, 1075.3300159092878, 948.530971189537, 1281.3759894742993, 1349.435888433375, 3.0121301509889493, 3.035197814535522, 3.0780833025588037, 2.9922199323335414, 3.054782756529819, 3.069631589340385, 5.4560888406603265, 3.0824691537699875, 3.1684781018311425, 3.0445972855945858, 3.154300779598532, 3.086435195520726, 3.1248297051335543, 3.113880609214934, 3.1447049576280635, 3.1767606381845668, 3.1923253392984097, 3.771018471626023, 3.2674513892034307, 3.313366071394159, 4.07489879989233, 3.325806688197186, 5.528747353386182, 5.518507693479014, 4.026498490045162, 43.22948340719991, 2.3575189795782032, 3.9284306864620406, 9.502264307076487, 2.372414744169898, 7.117518988438153, 18.151798710205423, 8.384257593649734, 261.3940820211682, 64.48948139339028, 1050.7017347008828, 210.95934669200471, 238.83529355000616, 364.91161795282574, 756.9434771974709, 281.4791914554408, 41.28526553078813, 372.3842688356099, 1349.435888433375, 1653.65283289454, 1995.7298245192967, 2414.7799715150977, 520.7533030612199, 1589.1457932611563, 518.3563712377246, 937.1170237481317, 782.740472038273, 199.29504094171347, 948.530971189537, 1649.1029348528639, 1141.5193656441656, 1644.0398311399817, 584.7612618790561, 3236.8378998498974, 954.0007082569311, 4206.005472243377, 1075.3300159092878, 2734.274759015518, 935.0288516437805, 1490.2362098071787, 1245.003526127891, 1111.1118985689664, 1052.4162226270662, 2531.5433532827533, 2900.642475621854, 1221.2841207414783, 702.8068542691146, 677.7423792933439, 1104.176285606845, 1097.8759857529585, 0.9370369548805708, 0.9367290156005981, 0.9364738883264414, 2.366653972875462, 5.313753287310956, 1.8178773015881782, 1.8542752169567553, 1.8334086804546907, 1.7731916783897699, 1.2710164348470059, 8.155382674036886, 4.3781182549776645, 1.7676425257123771, 1.2164108833749363, 1.2222272296656422, 1.3047860407701886, 1.2323840043630654, 1.7308591287582247, 1.7144775293675143, 3.4012796074996414, 1.2405966709954717, 1.2343772542341194, 1.318955166484863, 1.2420782109208643, 1.2417056871705054, 1.7627820684589701, 1.2551975633439443, 3.3259415939630412, 1.250271654542102, 1.3476373921328908, 282.90690445971137, 9.493326227719887, 21.49572501219361, 6.615255493387581, 14.462936371933477, 59.569423158566, 12.179157214729901, 8.490639925443205, 7.672461406102987, 8.67416759839567, 1995.7298245192967, 8.887376145544655, 12.176815748536567, 2414.7799715150977, 660.4948678098414, 1644.0398311399817, 1589.1457932611563, 702.8068542691146, 1349.435888433375, 1141.5193656441656, 935.0288516437805, 344.6704389644851, 440.71861877288205, 1050.7017347008828, 194.91273909504415, 456.1465453146082, 4206.005472243377, 1649.1029348528639, 756.9434771974709, 277.32597603336046, 162.68233142347754, 766.5833090844059, 832.5272152337517, 1032.0829592883413, 954.0007082569311, 284.7468888798701, 2734.274759015518, 604.1807285020142, 948.530971189537, 625.6200075802226, 1653.65283289454, 1111.1118985689664, 3236.8378998498974, 1221.2841207414783, 2531.5433532827533, 1075.3300159092878, 1097.8759857529585, 1490.2362098071787, 1245.003526127891, 2900.642475621854], \"Category\": [\"Default\", \"Default\", \"Default\", \"Default\", \"Default\", \"Default\", \"Default\", \"Default\", \"Default\", \"Default\", \"Default\", \"Default\", \"Default\", \"Default\", \"Default\", \"Default\", \"Default\", \"Default\", \"Default\", \"Default\", \"Default\", \"Default\", \"Default\", \"Default\", \"Default\", \"Default\", \"Default\", \"Default\", \"Default\", \"Default\", \"Topic1\", \"Topic1\", \"Topic1\", \"Topic1\", \"Topic1\", \"Topic1\", \"Topic1\", \"Topic1\", \"Topic1\", \"Topic1\", \"Topic1\", \"Topic1\", \"Topic1\", \"Topic1\", \"Topic1\", \"Topic1\", \"Topic1\", \"Topic1\", \"Topic1\", \"Topic1\", \"Topic1\", \"Topic1\", \"Topic1\", \"Topic1\", \"Topic1\", \"Topic1\", \"Topic1\", \"Topic1\", \"Topic1\", \"Topic1\", \"Topic1\", \"Topic1\", \"Topic1\", \"Topic1\", \"Topic1\", \"Topic1\", \"Topic1\", \"Topic1\", \"Topic1\", \"Topic1\", \"Topic1\", \"Topic1\", \"Topic1\", \"Topic1\", \"Topic1\", \"Topic1\", \"Topic1\", \"Topic1\", \"Topic1\", \"Topic1\", \"Topic1\", \"Topic1\", \"Topic1\", \"Topic1\", \"Topic1\", \"Topic1\", \"Topic1\", \"Topic1\", \"Topic1\", \"Topic1\", \"Topic1\", \"Topic1\", \"Topic1\", \"Topic1\", \"Topic1\", \"Topic1\", \"Topic1\", \"Topic1\", \"Topic1\", \"Topic1\", \"Topic1\", \"Topic1\", \"Topic1\", \"Topic1\", \"Topic1\", \"Topic1\", \"Topic1\", \"Topic1\", \"Topic1\", \"Topic2\", \"Topic2\", \"Topic2\", \"Topic2\", \"Topic2\", \"Topic2\", \"Topic2\", \"Topic2\", \"Topic2\", \"Topic2\", \"Topic2\", \"Topic2\", \"Topic2\", \"Topic2\", \"Topic2\", \"Topic2\", \"Topic2\", \"Topic2\", \"Topic2\", \"Topic2\", \"Topic2\", \"Topic2\", \"Topic2\", \"Topic2\", \"Topic2\", \"Topic2\", \"Topic2\", \"Topic2\", \"Topic2\", \"Topic2\", \"Topic2\", \"Topic2\", \"Topic2\", \"Topic2\", \"Topic2\", \"Topic2\", \"Topic2\", \"Topic2\", \"Topic2\", \"Topic2\", \"Topic2\", \"Topic2\", \"Topic2\", \"Topic2\", \"Topic2\", \"Topic2\", \"Topic2\", \"Topic2\", \"Topic2\", \"Topic2\", \"Topic2\", \"Topic2\", \"Topic2\", \"Topic2\", \"Topic2\", \"Topic2\", \"Topic2\", \"Topic2\", \"Topic2\", \"Topic2\", \"Topic2\", \"Topic2\", \"Topic2\", \"Topic2\", \"Topic2\", \"Topic2\", \"Topic2\", \"Topic2\", \"Topic2\", \"Topic2\", \"Topic2\", \"Topic2\", \"Topic2\", \"Topic2\", \"Topic2\", \"Topic2\", \"Topic2\", \"Topic2\", \"Topic2\", \"Topic2\", \"Topic3\", \"Topic3\", \"Topic3\", \"Topic3\", \"Topic3\", \"Topic3\", \"Topic3\", \"Topic3\", \"Topic3\", \"Topic3\", \"Topic3\", \"Topic3\", \"Topic3\", \"Topic3\", \"Topic3\", \"Topic3\", \"Topic3\", \"Topic3\", \"Topic3\", \"Topic3\", \"Topic3\", \"Topic3\", \"Topic3\", \"Topic3\", \"Topic3\", \"Topic3\", \"Topic3\", \"Topic3\", \"Topic3\", \"Topic3\", \"Topic3\", \"Topic3\", \"Topic3\", \"Topic3\", \"Topic3\", \"Topic3\", \"Topic3\", \"Topic3\", \"Topic3\", \"Topic3\", \"Topic3\", \"Topic3\", \"Topic3\", \"Topic3\", \"Topic3\", \"Topic3\", \"Topic3\", \"Topic3\", \"Topic3\", \"Topic3\", \"Topic3\", \"Topic3\", \"Topic3\", \"Topic3\", \"Topic3\", \"Topic3\", \"Topic3\", \"Topic3\", \"Topic3\", \"Topic3\", \"Topic3\", \"Topic3\", \"Topic3\", \"Topic3\", \"Topic3\", \"Topic3\", \"Topic3\", \"Topic3\", \"Topic3\", \"Topic3\", \"Topic3\", \"Topic3\", \"Topic3\", \"Topic3\", \"Topic3\", \"Topic3\", \"Topic3\", \"Topic3\", \"Topic3\", \"Topic3\", \"Topic3\", \"Topic3\", \"Topic4\", \"Topic4\", \"Topic4\", \"Topic4\", \"Topic4\", \"Topic4\", \"Topic4\", \"Topic4\", \"Topic4\", \"Topic4\", \"Topic4\", \"Topic4\", \"Topic4\", \"Topic4\", \"Topic4\", \"Topic4\", \"Topic4\", \"Topic4\", \"Topic4\", \"Topic4\", \"Topic4\", \"Topic4\", \"Topic4\", \"Topic4\", \"Topic4\", \"Topic4\", \"Topic4\", \"Topic4\", \"Topic4\", \"Topic4\", \"Topic4\", \"Topic4\", \"Topic4\", \"Topic4\", \"Topic4\", \"Topic4\", \"Topic4\", \"Topic4\", \"Topic4\", \"Topic4\", \"Topic4\", \"Topic4\", \"Topic4\", \"Topic4\", \"Topic4\", \"Topic4\", \"Topic4\", \"Topic4\", \"Topic4\", \"Topic4\", \"Topic4\", \"Topic4\", \"Topic4\", \"Topic4\", \"Topic4\", \"Topic4\", \"Topic4\", \"Topic4\", \"Topic4\", \"Topic4\", \"Topic4\", \"Topic4\", \"Topic4\", \"Topic4\", \"Topic4\", \"Topic4\", \"Topic4\", \"Topic4\", \"Topic4\", \"Topic4\", \"Topic4\", \"Topic4\", \"Topic4\", \"Topic4\", \"Topic4\", \"Topic4\", \"Topic4\", \"Topic4\", \"Topic4\", \"Topic4\", \"Topic4\", \"Topic4\", \"Topic4\", \"Topic4\", \"Topic4\", \"Topic4\", \"Topic4\", \"Topic4\", \"Topic4\", \"Topic4\", \"Topic5\", \"Topic5\", \"Topic5\", \"Topic5\", \"Topic5\", \"Topic5\", \"Topic5\", \"Topic5\", \"Topic5\", \"Topic5\", \"Topic5\", \"Topic5\", \"Topic5\", \"Topic5\", \"Topic5\", \"Topic5\", \"Topic5\", \"Topic5\", \"Topic5\", \"Topic5\", \"Topic5\", \"Topic5\", \"Topic5\", \"Topic5\", \"Topic5\", \"Topic5\", \"Topic5\", \"Topic5\", \"Topic5\", \"Topic5\", \"Topic5\", \"Topic5\", \"Topic5\", \"Topic5\", \"Topic5\", \"Topic5\", \"Topic5\", \"Topic5\", \"Topic5\", \"Topic5\", \"Topic5\", \"Topic5\", \"Topic5\", \"Topic5\", \"Topic5\", \"Topic5\", \"Topic5\", \"Topic5\", \"Topic5\", \"Topic5\", \"Topic5\", \"Topic5\", \"Topic5\", \"Topic5\", \"Topic5\", \"Topic5\", \"Topic5\", \"Topic5\", \"Topic5\", \"Topic5\", \"Topic5\", \"Topic5\", \"Topic5\", \"Topic5\", \"Topic5\", \"Topic5\", \"Topic5\", \"Topic5\", \"Topic5\", \"Topic5\", \"Topic5\", \"Topic6\", \"Topic6\", \"Topic6\", \"Topic6\", \"Topic6\", \"Topic6\", \"Topic6\", \"Topic6\", \"Topic6\", \"Topic6\", \"Topic6\", \"Topic6\", \"Topic6\", \"Topic6\", \"Topic6\", \"Topic6\", \"Topic6\", \"Topic6\", \"Topic6\", \"Topic6\", \"Topic6\", \"Topic6\", \"Topic6\", \"Topic6\", \"Topic6\", \"Topic6\", \"Topic6\", \"Topic6\", \"Topic6\", \"Topic6\", \"Topic6\", \"Topic6\", \"Topic6\", \"Topic6\", \"Topic6\", \"Topic6\", \"Topic6\", \"Topic6\", \"Topic6\", \"Topic6\", \"Topic6\", \"Topic6\", \"Topic6\", \"Topic6\", \"Topic6\", \"Topic6\", \"Topic6\", \"Topic6\", \"Topic6\", \"Topic6\", \"Topic6\", \"Topic6\", \"Topic6\", \"Topic6\", \"Topic6\", \"Topic6\", \"Topic6\", \"Topic6\", \"Topic6\", \"Topic6\", \"Topic6\", \"Topic6\", \"Topic6\", \"Topic6\", \"Topic6\", \"Topic6\", \"Topic6\", \"Topic7\", \"Topic7\", \"Topic7\", \"Topic7\", \"Topic7\", \"Topic7\", \"Topic7\", \"Topic7\", \"Topic7\", \"Topic7\", \"Topic7\", \"Topic7\", \"Topic7\", \"Topic7\", \"Topic7\", \"Topic7\", \"Topic7\", \"Topic7\", \"Topic7\", \"Topic7\", \"Topic7\", \"Topic7\", \"Topic7\", \"Topic7\", \"Topic7\", \"Topic7\", \"Topic7\", \"Topic7\", \"Topic7\", \"Topic7\", \"Topic7\", \"Topic7\", \"Topic7\", \"Topic7\", \"Topic7\", \"Topic7\", \"Topic7\", \"Topic7\", \"Topic7\", \"Topic7\", \"Topic7\", \"Topic7\", \"Topic7\", \"Topic7\", \"Topic7\", \"Topic7\", \"Topic7\", \"Topic7\", \"Topic7\", \"Topic7\", \"Topic7\", \"Topic7\", \"Topic7\", \"Topic7\", \"Topic7\", \"Topic7\", \"Topic7\", \"Topic7\", \"Topic7\", \"Topic7\", \"Topic7\", \"Topic7\", \"Topic7\", \"Topic7\", \"Topic7\", \"Topic7\", \"Topic7\", \"Topic7\", \"Topic7\", \"Topic7\", \"Topic7\", \"Topic7\", \"Topic8\", \"Topic8\", \"Topic8\", \"Topic8\", \"Topic8\", \"Topic8\", \"Topic8\", \"Topic8\", \"Topic8\", \"Topic8\", \"Topic8\", \"Topic8\", \"Topic8\", \"Topic8\", \"Topic8\", \"Topic8\", \"Topic8\", \"Topic8\", \"Topic8\", \"Topic8\", \"Topic8\", \"Topic8\", \"Topic8\", \"Topic8\", \"Topic8\", \"Topic8\", \"Topic8\", \"Topic8\", \"Topic8\", \"Topic8\", \"Topic8\", \"Topic8\", \"Topic8\", \"Topic8\", \"Topic8\", \"Topic8\", \"Topic8\", \"Topic8\", \"Topic8\", \"Topic8\", \"Topic8\", \"Topic8\", \"Topic8\", \"Topic8\", \"Topic8\", \"Topic8\", \"Topic8\", \"Topic8\", \"Topic8\", \"Topic8\", \"Topic8\", \"Topic8\", \"Topic8\", \"Topic8\", \"Topic8\", \"Topic8\", \"Topic8\", \"Topic8\", \"Topic8\", \"Topic8\", \"Topic8\", \"Topic8\", \"Topic8\", \"Topic8\", \"Topic8\", \"Topic8\", \"Topic8\", \"Topic8\", \"Topic8\", \"Topic8\", \"Topic8\", \"Topic8\", \"Topic8\", \"Topic8\", \"Topic8\", \"Topic8\", \"Topic8\", \"Topic8\", \"Topic8\", \"Topic8\", \"Topic8\", \"Topic8\", \"Topic8\", \"Topic8\", \"Topic8\", \"Topic8\", \"Topic8\", \"Topic8\", \"Topic8\", \"Topic8\", \"Topic8\", \"Topic9\", \"Topic9\", \"Topic9\", \"Topic9\", \"Topic9\", \"Topic9\", \"Topic9\", \"Topic9\", \"Topic9\", \"Topic9\", \"Topic9\", \"Topic9\", \"Topic9\", \"Topic9\", \"Topic9\", \"Topic9\", \"Topic9\", \"Topic9\", \"Topic9\", \"Topic9\", \"Topic9\", \"Topic9\", \"Topic9\", \"Topic9\", \"Topic9\", \"Topic9\", \"Topic9\", \"Topic9\", \"Topic9\", \"Topic9\", \"Topic9\", \"Topic9\", \"Topic9\", \"Topic9\", \"Topic9\", \"Topic9\", \"Topic9\", \"Topic9\", \"Topic9\", \"Topic9\", \"Topic9\", \"Topic9\", \"Topic9\", \"Topic9\", \"Topic9\", \"Topic9\", \"Topic9\", \"Topic9\", \"Topic9\", \"Topic9\", \"Topic9\", \"Topic9\", \"Topic9\", \"Topic9\", \"Topic9\", \"Topic9\", \"Topic9\", \"Topic9\", \"Topic9\", \"Topic9\", \"Topic9\", \"Topic9\", \"Topic9\", \"Topic9\", \"Topic9\", \"Topic9\", \"Topic9\", \"Topic9\", \"Topic9\", \"Topic9\", \"Topic9\", \"Topic9\", \"Topic9\", \"Topic9\", \"Topic9\", \"Topic10\", \"Topic10\", \"Topic10\", \"Topic10\", \"Topic10\", \"Topic10\", \"Topic10\", \"Topic10\", \"Topic10\", \"Topic10\", \"Topic10\", \"Topic10\", \"Topic10\", \"Topic10\", \"Topic10\", \"Topic10\", \"Topic10\", \"Topic10\", \"Topic10\", \"Topic10\", \"Topic10\", \"Topic10\", \"Topic10\", \"Topic10\", \"Topic10\", \"Topic10\", \"Topic10\", \"Topic10\", \"Topic10\", \"Topic10\", \"Topic10\", \"Topic10\", \"Topic10\", \"Topic10\", \"Topic10\", \"Topic10\", \"Topic10\", \"Topic10\", \"Topic10\", \"Topic10\", \"Topic10\", \"Topic10\", \"Topic10\", \"Topic10\", \"Topic10\", \"Topic10\", \"Topic10\", \"Topic10\", \"Topic10\", \"Topic10\", \"Topic10\", \"Topic10\", \"Topic10\", \"Topic10\", \"Topic10\", \"Topic10\", \"Topic10\", \"Topic10\", \"Topic10\", \"Topic10\", \"Topic10\", \"Topic10\", \"Topic10\", \"Topic10\", \"Topic10\", \"Topic10\", \"Topic10\", \"Topic10\", \"Topic10\", \"Topic10\", \"Topic10\", \"Topic10\", \"Topic10\", \"Topic10\", \"Topic10\", \"Topic10\", \"Topic10\", \"Topic10\", \"Topic10\", \"Topic10\"], \"logprob\": [30.0, 29.0, 28.0, 27.0, 26.0, 25.0, 24.0, 23.0, 22.0, 21.0, 20.0, 19.0, 18.0, 17.0, 16.0, 15.0, 14.0, 13.0, 12.0, 11.0, 10.0, 9.0, 8.0, 7.0, 6.0, 5.0, 4.0, 3.0, 2.0, 1.0, -9.981, -11.0146, -11.0146, -11.0147, -11.0153, -11.0154, -11.0155, -11.0155, -11.0157, -11.0158, -11.0159, -11.016, -11.0163, -11.0169, -11.0169, -11.0172, -11.0181, -10.1861, -8.712, -10.0636, -10.1375, -10.5131, -9.7944, -11.0798, -10.5006, -10.8249, -11.109, -10.4975, -10.3214, -9.9804, -7.7383, -5.1341, -5.4939, -4.7903, -5.0382, -5.4037, -7.0013, -5.3419, -6.5013, -7.0846, -5.9018, -6.1643, -5.9228, -7.4577, -7.4104, -6.1426, -6.9892, -6.8259, -8.2743, -6.2895, -7.0274, -6.2, -8.0158, -7.114, -7.2392, -7.269, -7.0706, -6.6614, -6.0184, -5.9923, -6.7278, -5.7122, -6.1058, -6.031, -6.4074, -5.0687, -5.9612, -6.181, -6.6442, -5.5622, -5.6019, -6.2078, -5.7612, -6.264, -6.2935, -6.3545, -6.3116, -6.2026, -6.2425, -9.2815, -10.1142, -10.1197, -9.8712, -10.0251, -10.742, -11.142, -11.1428, -10.4248, -11.1427, -11.143, -11.1444, -11.1464, -10.9506, -10.7851, -11.1513, -11.154, -11.1605, -11.1609, -11.1616, -11.1655, -10.9932, -10.8355, -10.8755, -10.8933, -10.0166, -9.9578, -11.1936, -10.627, -10.9615, -10.0292, -6.1134, -6.9114, -6.6311, -7.3385, -5.3705, -4.6232, -6.0199, -6.9024, -6.7776, -7.2121, -5.28, -6.9502, -4.5024, -7.2873, -7.798, -8.7068, -6.7644, -5.8899, -5.6338, -6.1526, -5.7708, -5.4054, -6.6982, -5.0057, -7.719, -7.241, -6.7717, -5.5731, -6.6706, -6.5126, -6.1527, -5.1922, -5.2328, -6.0575, -5.6129, -6.0157, -5.7868, -6.2247, -5.8203, -5.8005, -6.1661, -6.1124, -6.2834, -6.2012, -6.1365, -6.2241, -6.2225, -5.9767, -6.2244, -9.8224, -10.2591, -10.6061, -9.5902, -10.3792, -10.4474, -10.4425, -9.9156, -10.4825, -9.3845, -10.4731, -10.32, -10.5072, -10.0822, -11.2148, -10.562, -10.5568, -10.5565, -11.2408, -11.2379, -9.2671, -10.5654, -10.5818, -11.2515, -10.9143, -10.602, -11.3076, -10.6174, -11.1006, -11.1121, -10.286, -10.2799, -10.2704, -9.4836, -8.5453, -8.7393, -7.1494, -8.1097, -8.2617, -5.0991, -5.7075, -5.5206, -6.9594, -6.5163, -6.899, -5.1437, -5.9234, -5.6495, -7.2319, -5.6296, -6.7543, -4.9242, -5.6815, -6.2469, -6.0346, -6.2101, -5.2671, -6.3765, -6.0574, -6.1436, -6.4492, -6.6588, -6.0865, -6.6287, -6.1477, -6.5461, -6.2404, -6.7741, -6.2023, -6.4283, -6.1004, -5.557, -6.1364, -6.2228, -6.2483, -6.473, -6.3708, -6.2223, -6.1841, -6.2389, -6.2077, -6.3186, -10.3025, -10.7022, -10.6368, -10.8187, -10.1608, -11.2621, -11.3149, -11.3074, -10.7073, -10.7346, -11.3115, -7.3413, -11.2979, -11.3203, -11.3261, -11.3257, -11.3106, -11.3261, -11.326, -11.3039, -11.3243, -11.3322, -11.3175, -10.7587, -11.3262, -10.0247, -11.3339, -11.3323, -11.3124, -11.3404, -6.1817, -7.5679, -7.859, -7.6369, -7.6549, -9.011, -10.088, -9.3331, -8.4793, -9.7939, -6.5359, -7.0749, -6.8265, -7.376, -8.8551, -8.751, -8.4897, -7.7927, -8.269, -5.7579, -6.681, -4.7124, -5.9528, -8.2903, -6.5941, -5.1624, -5.574, -7.317, -5.2858, -6.3693, -7.6058, -5.7644, -6.334, -7.3084, -6.3944, -6.6984, -5.7462, -6.8473, -5.7514, -6.0715, -6.1576, -6.064, -6.5472, -6.0971, -6.14, -5.4451, -6.0336, -6.112, -6.068, -6.1728, -5.8318, -6.3646, -6.2526, -6.1647, -6.1707, -5.9927, -6.2881, -6.2408, -6.2646, -6.3552, -9.9683, -9.9651, -7.9391, -10.2702, -10.5874, -10.591, -10.6008, -10.6219, -10.6222, -10.6229, -10.6338, -10.6365, -10.6289, -10.632, -10.666, -10.6774, -10.6679, -10.6824, -10.7414, -11.2091, -11.2149, -11.2122, -11.2213, -11.2258, -11.2273, -11.2364, -11.235, -11.2498, -11.2382, -11.2397, -9.8897, -9.7132, -9.0362, -9.1231, -5.7745, -5.0501, -9.2257, -6.086, -5.9434, -5.9026, -5.868, -5.8655, -5.147, -5.4089, -6.1332, -6.338, -6.199, -4.9072, -5.9633, -5.9214, -6.9664, -5.7481, -5.8238, -5.9519, -6.3188, -5.7104, -6.5602, -5.3032, -5.7508, -6.0508, -6.4172, -5.5138, -5.8308, -6.0231, -6.1839, -5.8945, -6.0869, -6.2698, -6.1274, -6.2799, -6.2713, -8.3732, -7.8237, -8.3883, -8.5325, -8.5269, -8.3235, -8.5434, -7.8068, -6.9302, -8.5538, -8.5676, -8.9426, -9.0679, -9.0764, -9.0717, -9.0816, -9.2328, -9.0954, -9.0934, -9.1116, -6.9285, -9.4208, -8.7214, -8.3677, -5.3614, -9.6308, -5.5792, -9.6365, -9.6412, -9.8917, -8.7147, -8.0584, -8.0784, -8.2665, -7.222, -7.8318, -4.7717, -4.9445, -4.6845, -5.1038, -5.5625, -7.1017, -5.8161, -5.6096, -5.6307, -6.2236, -6.0423, -6.0736, -6.0943, -5.9002, -6.1763, -6.1185, -6.2206, -6.3027, -6.1769, -6.1352, -6.5275, -6.2409, -6.0682, -6.0699, -6.1516, -5.9741, -6.2204, -6.0848, -6.0683, -6.3447, -6.319, -8.5475, -8.9479, -9.0623, -9.6234, -2.6009, -9.9068, -9.9174, -9.2511, -9.952, -6.5806, -10.2882, -10.2839, -10.2824, -10.2862, -10.2918, -9.2002, -10.2897, -10.2926, -10.3107, -10.4052, -10.408, -10.3983, -10.9198, -10.9211, -10.9193, -10.9237, -10.9244, -10.9252, -10.9248, -10.9257, -7.932, -6.5643, -10.3003, -10.3076, -9.718, -10.3633, -5.7515, -4.6131, -7.4352, -5.7069, -5.8517, -5.3523, -5.3474, -6.2074, -6.6003, -5.7664, -6.0161, -6.3709, -6.4109, -6.2652, -6.1262, -6.1311, -5.5121, -6.8488, -6.2589, -6.3815, -6.4505, -5.983, -6.471, -6.5101, -6.0548, -6.2687, -6.3834, -6.2937, -6.141, -6.2808, -6.3361, -6.3591, -6.3119, -6.1971, -6.3643, -6.3537, -9.0166, -10.1654, -10.589, -10.427, -9.2647, -9.2499, -8.604, -10.5559, -11.0903, -9.661, -10.9986, -11.1026, -10.103, -11.0013, -10.2411, -11.0239, -11.1096, -6.5805, -11.1226, -11.5269, -10.5756, -11.5392, -11.5392, -10.8039, -11.5602, -10.0975, -10.3879, -8.8516, -11.0601, -11.1597, -5.8864, -9.7387, -5.6504, -9.7819, -7.6941, -9.3256, -8.1432, -9.3972, -9.0788, -9.4318, -8.289, -8.7334, -9.6232, -7.5225, -9.1797, -8.3237, -7.2399, -5.0237, -8.3703, -6.7583, -8.4733, -5.6782, -6.2304, -6.5301, -5.9328, -7.3823, -5.9897, -6.6549, -5.9748, -5.6885, -6.5653, -5.0004, -7.1125, -6.0283, -7.5537, -5.442, -6.415, -5.9681, -6.6987, -6.0822, -6.5221, -5.8171, -6.3801, -6.0892, -6.439, -6.3298, -5.8743, -5.7602, -6.5269, -6.3572, -6.1059, -5.638, -6.2727, -5.7978, -6.0094, -6.268, -6.2548, -6.2552, -6.3021, -6.2132, -6.2694, -10.0798, -10.0809, -10.1058, -10.1583, -10.1739, -10.1711, -9.6032, -10.1778, -10.158, -10.2049, -10.1784, -10.2137, -10.2199, -10.2245, -10.2181, -10.2176, -10.2582, -10.1114, -10.2988, -10.3058, -10.144, -10.3527, -9.8952, -9.9126, -10.2473, -7.8877, -10.8052, -10.3098, -9.4746, -10.8709, -9.7898, -8.9547, -9.6609, -6.7695, -7.9786, -5.7236, -7.0316, -6.9981, -6.7094, -6.1653, -6.9344, -8.38, -6.7395, -5.7943, -5.7018, -5.5668, -5.4547, -6.5776, -5.8016, -6.6076, -6.2057, -6.3332, -7.2917, -6.2193, -5.8401, -6.1044, -5.868, -6.5764, -5.4506, -6.2928, -5.3346, -6.2213, -5.623, -6.3167, -6.0336, -6.2173, -6.31, -6.3565, -6.0363, -6.0085, -6.3606, -6.5522, -6.5726, -6.5584, -6.5741, -10.6864, -10.6888, -10.6907, -10.1842, -9.4025, -10.492, -10.4953, -10.5128, -10.6357, -11.0663, -9.2225, -9.8542, -10.7621, -11.1894, -11.1889, -11.1319, -11.2035, -10.8653, -10.8937, -10.2097, -11.2237, -11.2358, -11.1698, -11.2348, -11.2404, -10.9006, -11.2458, -10.2761, -11.259, -11.1881, -5.8816, -9.2624, -8.5014, -9.6599, -8.9943, -7.7145, -9.1546, -9.481, -9.5784, -9.5118, -5.0218, -9.5301, -9.2768, -5.0083, -6.0635, -5.3793, -5.412, -6.093, -5.6187, -5.7506, -5.9076, -6.7013, -6.5308, -5.9503, -7.2148, -6.664, -5.1303, -5.7893, -6.332, -7.0318, -7.3976, -6.363, -6.3353, -6.2034, -6.255, -7.0434, -5.6283, -6.5831, -6.313, -6.5738, -6.0079, -6.2702, -5.7153, -6.2998, -5.981, -6.4156, -6.4303, -6.3633, -6.4089, -6.4275], \"loglift\": [30.0, 29.0, 28.0, 27.0, 26.0, 25.0, 24.0, 23.0, 22.0, 21.0, 20.0, 19.0, 18.0, 17.0, 16.0, 15.0, 14.0, 13.0, 12.0, 11.0, 10.0, 9.0, 8.0, 7.0, 6.0, 5.0, 4.0, 3.0, 2.0, 1.0, 1.372, 1.1953, 1.1953, 1.1953, 1.1951, 1.1951, 1.1951, 1.1951, 1.195, 1.195, 1.195, 1.1949, 1.1949, 1.1947, 1.1947, 1.1946, 1.1944, 1.0792, 1.0593, 1.0396, 1.0061, 0.9848, 0.9826, 0.9628, 0.9509, 0.9452, 0.9379, 0.9344, 0.92, 0.9153, 0.8228, 0.6074, 0.6123, 0.5667, 0.5094, 0.5352, 0.6476, 0.4335, 0.5222, 0.5873, 0.3896, 0.427, 0.3829, 0.6186, 0.5989, 0.3618, 0.5076, 0.4779, 0.7283, 0.3639, 0.4937, 0.3171, 0.6378, 0.4653, 0.4887, 0.4849, 0.4357, 0.3413, 0.1707, 0.1529, 0.3301, 0.0262, 0.1359, 0.1023, 0.2262, -0.2666, 0.0583, 0.1047, 0.2884, -0.2524, -0.4283, -0.0203, -0.5285, -0.098, -0.154, -0.1475, -0.2729, -0.467, -0.4806, 1.3798, 1.3572, 1.3534, 1.327, 1.1741, 1.1573, 1.1563, 1.1562, 1.1561, 1.1561, 1.156, 1.1555, 1.1549, 1.153, 1.153, 1.1513, 1.1505, 1.1479, 1.1474, 1.1468, 1.1453, 1.1339, 1.1001, 1.0794, 1.0678, 1.0677, 1.061, 1.0591, 1.0452, 1.0313, 1.0097, 0.8616, 0.8845, 0.8702, 0.8345, 0.6201, 0.5505, 0.6758, 0.7163, 0.6942, 0.732, 0.4819, 0.6571, 0.2997, 0.6633, 0.72, 0.8362, 0.5696, 0.4464, 0.4049, 0.4671, 0.3978, 0.3302, 0.5187, 0.227, 0.6827, 0.5956, 0.5083, 0.2666, 0.4798, 0.4388, 0.3562, 0.1176, 0.1242, 0.193, -0.0653, 0.0938, -0.0453, 0.1972, -0.0448, -0.0621, 0.1397, 0.0536, 0.1658, 0.0845, 0.003, 0.0176, -0.035, -0.9127, -0.2049, 1.5872, 1.5442, 1.4856, 1.4842, 1.4392, 1.3898, 1.3816, 1.3681, 1.3659, 1.3626, 1.3568, 1.3502, 1.3465, 1.3388, 1.3239, 1.3162, 1.3108, 1.309, 1.3085, 1.305, 1.3035, 1.3002, 1.2998, 1.2969, 1.279, 1.2717, 1.2494, 1.2461, 1.235, 1.2342, 1.2245, 1.2158, 1.2121, 1.1723, 1.0507, 1.0485, 0.7642, 0.8623, 0.8234, 0.2107, 0.312, 0.2178, 0.514, 0.4148, 0.496, 0.0891, 0.2641, 0.1902, 0.5493, 0.106, 0.3813, -0.1221, 0.0804, 0.2367, 0.1724, 0.2118, -0.0935, 0.2254, 0.0821, 0.0981, 0.2016, 0.2642, 0.023, 0.2419, 0.0415, 0.1964, 0.0632, 0.2883, -0.0363, 0.0888, -0.1097, -0.493, -0.0977, -0.0896, -0.1031, 0.1031, -0.0851, -0.4469, -0.6365, -0.4975, -0.8507, -0.3797, 1.651, 1.5144, 1.4672, 1.4466, 1.3867, 1.3716, 1.3536, 1.3508, 1.3486, 1.3418, 1.3405, 1.3371, 1.3319, 1.3316, 1.3295, 1.3261, 1.3225, 1.3213, 1.3206, 1.3196, 1.3162, 1.3156, 1.3154, 1.314, 1.3136, 1.3134, 1.3134, 1.3133, 1.3117, 1.3096, 1.1062, 1.1073, 1.1011, 1.0869, 1.0731, 1.1583, 1.2224, 1.1556, 1.071, 1.1668, 0.8001, 0.8235, 0.7836, 0.8469, 1.0101, 0.9886, 0.9448, 0.8343, 0.8677, 0.3754, 0.5227, 0.0897, 0.3507, 0.831, 0.4367, 0.0703, 0.1644, 0.5863, 0.024, 0.2815, 0.6393, 0.0752, 0.2421, 0.5439, 0.241, 0.3414, 0.0157, 0.3848, -0.0158, 0.0945, 0.0928, 0.0455, 0.256, 0.0482, 0.0671, -0.2714, 0.0051, 0.0275, -0.0485, 0.0147, -0.2842, 0.119, -0.0109, -0.174, -0.2317, -0.6357, -0.1195, -0.4654, -0.5232, -0.1661, 1.8668, 1.8563, 1.8509, 1.779, 1.7526, 1.7401, 1.7359, 1.7085, 1.7051, 1.7001, 1.6978, 1.6921, 1.6911, 1.689, 1.6469, 1.6456, 1.6432, 1.6225, 1.5562, 1.519, 1.51, 1.5064, 1.502, 1.4919, 1.4915, 1.4886, 1.4784, 1.4751, 1.4709, 1.4704, 1.4218, 1.3107, 1.1257, 1.0897, 0.4325, 0.2596, 1.0637, 0.3632, 0.3071, 0.2866, 0.2772, 0.274, 0.0858, 0.1387, 0.3253, 0.3347, 0.2846, -0.1051, 0.2026, 0.1881, 0.5112, 0.0916, 0.1151, 0.1543, 0.2725, 0.0515, 0.3438, -0.1295, 0.0246, 0.1178, 0.2362, -0.1568, -0.0952, -0.0037, 0.0578, -0.153, -0.0962, 0.0216, -0.389, 0.0259, -0.2326, 2.5734, 2.5482, 2.5457, 2.5431, 2.5428, 2.5289, 2.5189, 2.5156, 2.5115, 2.4948, 2.4789, 2.4721, 2.4681, 2.4571, 2.4553, 2.4394, 2.4338, 2.4142, 2.4141, 2.4021, 2.3901, 2.3796, 2.37, 2.3655, 2.3494, 2.3406, 2.3405, 2.3393, 2.3144, 2.3016, 2.2077, 2.1104, 1.9091, 1.9605, 1.6268, 1.8231, 0.402, 0.2882, 0.1176, 0.206, 0.4282, 1.297, 0.2934, 0.1523, 0.1077, 0.3783, 0.0972, 0.0924, 0.0743, -0.1646, 0.1094, 0.0268, 0.1157, 0.1809, 0.0301, -0.0965, 0.3522, 0.0008, -0.2285, -0.2945, -0.2127, -0.6171, -0.2009, -0.5372, -1.0043, -0.0411, -0.2128, 2.6914, 2.645, 2.5014, 2.4963, 2.4631, 2.4138, 2.4021, 2.3578, 2.352, 2.3242, 2.2728, 2.2726, 2.2724, 2.2703, 2.2671, 2.2668, 2.2657, 2.2633, 2.2501, 2.1364, 2.136, 2.0619, 1.9571, 1.9561, 1.9552, 1.9526, 1.9525, 1.9519, 1.9518, 1.9514, 1.8192, 1.7166, 1.8965, 1.892, 1.7899, 1.8407, 0.5521, 0.189, 0.9098, 0.1328, 0.1677, -0.0425, -0.1147, 0.2511, 0.4004, -0.0308, 0.0934, 0.231, 0.2399, 0.1567, 0.063, 0.0564, -0.3384, 0.3825, -0.0085, 0.0677, 0.1019, -0.2446, 0.1051, 0.1175, -0.2794, -0.1235, -0.0471, -0.1542, -0.3791, -0.2421, -0.2028, -0.1521, -0.3212, -0.8401, -0.1957, -0.8061, 1.7963, 1.5387, 1.5112, 1.4338, 1.3863, 1.3682, 1.3246, 1.279, 1.2554, 1.2526, 1.2491, 1.2486, 1.2391, 1.2372, 1.2349, 1.2301, 1.2251, 1.2154, 1.2131, 1.2112, 1.2056, 1.2026, 1.2025, 1.1919, 1.189, 1.1862, 1.1817, 1.1816, 1.1765, 1.1738, 1.0887, 1.1587, 1.0454, 1.15, 1.0653, 1.1318, 1.0748, 1.1218, 1.0611, 1.073, 0.9001, 0.9472, 1.0595, 0.7586, 0.9822, 0.8407, 0.6476, 0.209, 0.8375, 0.4729, 0.8486, 0.1615, 0.2867, 0.3582, 0.2067, 0.5509, 0.1436, 0.342, 0.1347, 0.0471, 0.3053, -0.1983, 0.4678, 0.1169, 0.5983, -0.085, 0.2358, 0.0706, 0.3251, 0.1053, 0.2531, -0.0417, 0.1723, 0.0171, 0.1886, 0.1194, -0.1359, -0.2126, 0.2156, 0.1013, -0.0864, -0.4643, 0.013, -0.488, -0.268, -0.0176, -0.0862, -0.0892, -0.0107, -0.2225, -0.3304, 1.964, 1.9552, 1.9163, 1.8921, 1.8557, 1.8537, 1.8464, 1.8429, 1.8351, 1.8281, 1.8192, 1.8057, 1.7871, 1.786, 1.7826, 1.7729, 1.7274, 1.7076, 1.6636, 1.6426, 1.5975, 1.5919, 1.5412, 1.5257, 1.5062, 1.4922, 1.4836, 1.4684, 1.4203, 1.4115, 1.394, 1.2929, 1.3591, 0.8109, 1.0012, 0.4656, 0.7631, 0.6725, 0.5373, 0.3517, 0.5719, 1.0458, 0.487, 0.1446, 0.0339, -0.0192, -0.0977, 0.3135, -0.0262, 0.2881, 0.0979, 0.1503, 0.5599, 0.0722, -0.1017, 0.0018, -0.1265, 0.1988, -0.3866, -0.0071, -0.5325, -0.0553, -0.3903, -0.0109, -0.194, -0.1978, -0.1767, -0.169, -0.7265, -0.8348, -0.3219, 0.0391, 0.055, -0.4189, -0.4289, 2.525, 2.5229, 2.5213, 2.1006, 2.0736, 2.0567, 2.0335, 2.0273, 1.9379, 1.8403, 1.8252, 1.8156, 1.8146, 1.7611, 1.7568, 1.7485, 1.7339, 1.7325, 1.7136, 1.7125, 1.7071, 1.7, 1.6998, 1.6948, 1.6895, 1.6789, 1.6733, 1.6685, 1.664, 1.6599, 1.6197, 1.6334, 1.5771, 1.597, 1.4805, 1.3447, 1.4921, 1.5264, 1.5304, 1.4742, 0.5258, 1.4316, 1.37, 0.3487, 0.5899, 0.3622, 0.3634, 0.4983, 0.3202, 0.3556, 0.3982, 0.6025, 0.5272, 0.2389, 0.659, 0.3595, -0.3282, -0.0509, 0.185, 0.4893, 0.657, 0.1415, 0.0866, 0.0036, 0.0307, 0.4514, -0.3956, 0.1594, -0.0216, 0.1338, -0.2723, -0.1369, -0.6513, -0.2611, -0.6712, -0.2496, -0.285, -0.5236, -0.3894, -1.2538]}, \"token.table\": {\"Topic\": [2, 3, 5, 2, 1, 2, 3, 4, 5, 6, 7, 8, 9, 10, 5, 2, 1, 2, 3, 2, 4, 1, 2, 3, 4, 5, 6, 7, 8, 9, 10, 7, 5, 8, 1, 2, 5, 6, 1, 2, 3, 4, 5, 6, 7, 8, 9, 10, 1, 2, 3, 4, 5, 6, 7, 8, 9, 10, 1, 2, 3, 4, 5, 6, 7, 8, 9, 10, 1, 2, 3, 1, 2, 9, 5, 1, 2, 3, 4, 5, 6, 7, 8, 9, 10, 1, 2, 3, 4, 5, 6, 7, 8, 9, 10, 3, 5, 1, 2, 3, 4, 5, 6, 7, 8, 9, 10, 5, 5, 6, 2, 2, 6, 5, 1, 2, 3, 4, 5, 8, 1, 5, 1, 9, 1, 2, 3, 4, 5, 6, 7, 8, 9, 10, 1, 2, 5, 6, 7, 10, 1, 2, 3, 4, 5, 6, 7, 8, 9, 10, 1, 2, 3, 4, 8, 4, 2, 2, 1, 2, 3, 9, 1, 2, 3, 4, 5, 6, 8, 1, 3, 9, 4, 1, 2, 3, 4, 5, 6, 7, 9, 1, 2, 3, 4, 5, 6, 7, 8, 9, 10, 1, 2, 3, 4, 5, 6, 7, 8, 9, 10, 1, 2, 3, 4, 5, 6, 7, 8, 9, 10, 1, 2, 3, 4, 5, 6, 7, 8, 9, 10, 1, 2, 3, 4, 5, 6, 7, 8, 9, 10, 1, 2, 3, 8, 1, 2, 3, 4, 5, 6, 7, 8, 9, 10, 1, 2, 3, 4, 5, 6, 7, 8, 9, 10, 3, 3, 5, 1, 3, 9, 1, 2, 3, 4, 5, 6, 7, 8, 9, 10, 2, 1, 5, 1, 2, 3, 4, 5, 6, 9, 2, 6, 1, 2, 3, 4, 5, 6, 7, 8, 9, 1, 2, 3, 4, 5, 6, 7, 8, 1, 2, 3, 4, 5, 6, 7, 8, 9, 10, 1, 1, 1, 2, 3, 4, 5, 7, 8, 1, 2, 3, 4, 5, 6, 7, 8, 9, 10, 1, 2, 3, 5, 1, 2, 3, 4, 5, 6, 7, 8, 9, 10, 1, 1, 2, 3, 4, 5, 6, 7, 8, 9, 10, 4, 1, 2, 3, 4, 5, 6, 7, 8, 9, 10, 5, 1, 2, 3, 4, 5, 6, 7, 8, 9, 10, 1, 2, 3, 4, 5, 6, 7, 8, 9, 10, 1, 2, 3, 4, 5, 6, 7, 8, 9, 10, 5, 1, 2, 3, 4, 5, 6, 7, 8, 9, 10, 3, 5, 1, 2, 3, 4, 5, 6, 7, 8, 9, 10, 1, 2, 3, 4, 5, 6, 7, 8, 9, 10, 1, 9, 1, 9, 2, 1, 2, 1, 2, 3, 4, 5, 6, 7, 8, 9, 10, 1, 2, 3, 4, 5, 6, 7, 8, 9, 10, 1, 2, 3, 4, 5, 6, 7, 8, 9, 10, 2, 6, 1, 2, 3, 4, 5, 6, 7, 8, 9, 10, 1, 2, 3, 4, 5, 6, 7, 8, 9, 3, 5, 3, 1, 1, 2, 3, 4, 5, 6, 7, 8, 9, 10, 1, 2, 3, 4, 5, 6, 7, 8, 9, 10, 1, 2, 3, 4, 5, 6, 7, 8, 9, 10, 1, 2, 3, 4, 5, 6, 7, 8, 9, 10, 1, 2, 3, 4, 5, 6, 7, 8, 9, 10, 1, 2, 3, 4, 5, 6, 7, 8, 9, 10, 2, 2, 8, 7, 1, 2, 3, 4, 5, 6, 7, 8, 9, 10, 3, 5, 1, 2, 3, 4, 5, 6, 7, 8, 9, 10, 1, 2, 3, 4, 5, 6, 7, 8, 9, 1, 2, 5, 6, 2, 1, 2, 3, 5, 6, 7, 8, 9, 10, 1, 2, 5, 6, 1, 2, 5, 6, 7, 8, 10, 1, 2, 5, 6, 7, 8, 9, 10, 1, 2, 3, 4, 5, 6, 7, 8, 9, 10, 1, 2, 3, 4, 5, 6, 7, 8, 9, 10, 2, 2, 1, 4, 1, 1, 2, 3, 4, 5, 6, 7, 8, 9, 10, 1, 2, 3, 4, 8, 2, 4, 6, 1, 2, 3, 4, 5, 6, 7, 8, 9, 2, 6, 1, 2, 3, 4, 5, 6, 7, 8, 9, 10, 2, 1, 2, 3, 4, 5, 6, 7, 8, 9, 10, 1, 2, 3, 4, 5, 6, 7, 8, 9, 10, 2, 6, 3, 7, 1, 2, 3, 4, 5, 6, 7, 8, 9, 10, 3, 4, 8, 7, 2, 6, 2, 6, 1, 2, 3, 4, 5, 6, 7, 8, 9, 10, 1, 2, 3, 4, 5, 6, 7, 8, 9, 10, 1, 3, 1, 2, 3, 4, 5, 6, 7, 8, 9, 10, 1, 2, 3, 4, 5, 6, 7, 8, 9, 10, 1, 2, 3, 4, 5, 6, 7, 8, 9, 10, 1, 2, 3, 4, 5, 6, 7, 8, 9, 10, 1, 2, 3, 4, 5, 6, 7, 8, 9, 10, 7, 4, 1, 2, 3, 4, 5, 6, 7, 8, 5, 1, 2, 3, 4, 5, 7, 8, 9, 3, 5, 1, 2, 3, 4, 5, 6, 7, 8, 9, 10, 1, 2, 3, 4, 5, 6, 7, 8, 9, 10, 2, 6, 3, 7, 1, 3, 9, 1, 2, 3, 4, 5, 6, 7, 8, 9, 10, 2, 6, 2, 6, 6, 1, 2, 3, 4, 6, 7, 9, 1, 2, 3, 4, 5, 6, 7, 8, 9, 10, 7, 1, 2, 3, 4, 5, 6, 7, 8, 9, 10, 1, 2, 3, 4, 5, 6, 7, 8, 9, 10, 1, 1, 2, 3, 5, 8, 3, 2, 6, 2, 6, 2, 4, 8, 2, 1, 2, 3, 4, 5, 6, 7, 8, 9, 10, 1, 3, 5, 9, 3, 5, 1, 5, 2, 2, 6, 1, 2, 4, 6, 1, 2, 3, 4, 5, 6, 7, 8, 9, 1, 9, 1, 3, 9, 1, 9, 4, 7, 1, 2, 3, 4, 5, 6, 7, 8, 9, 2, 3, 5, 1, 2, 3, 4, 5, 6, 7, 8, 9, 10, 2, 4, 6, 1, 2, 3, 4, 5, 6, 7, 8, 9, 10, 1, 2, 8, 1, 1, 2, 3, 4, 5, 6, 7, 8, 9, 10, 1, 1, 2, 3, 4, 5, 6, 7, 8, 9, 10, 1, 2, 3, 4, 5, 6, 7, 8, 9, 10, 1, 7, 1, 1, 9, 1, 2, 3, 4, 5, 6, 7, 8, 9, 10, 1, 2, 3, 4, 5, 6, 7, 8, 9, 1, 2, 3, 4, 5, 6, 7, 8, 9, 10, 1, 2, 3, 5, 6, 7, 8, 9, 10, 1, 1, 2, 3, 4, 5, 6, 7, 8, 9, 1, 1, 3, 4, 5, 6, 8, 9, 2, 6, 2, 2, 3, 1, 2, 3, 6, 7, 8, 1, 2, 3, 4, 5, 1, 3, 7, 3, 2, 5, 1, 2, 3, 4, 5, 6, 7, 8, 9, 10, 1, 2, 3, 4, 5, 1, 2, 3, 4, 5, 6, 7, 8, 9, 10, 2, 2, 6, 2, 4, 1, 3, 9, 7, 7, 1, 9, 4, 1, 2, 3, 4, 5, 7, 9, 2, 6, 4, 2, 3, 5, 2, 1, 2, 3, 4, 5, 6, 7, 8, 9, 1, 2, 3, 4, 5, 6, 7, 8, 9, 10, 1, 2, 3, 4, 5, 6, 7, 8, 9, 10, 1, 3, 4, 5, 6, 7, 8, 9, 10, 1, 2, 3, 4, 5, 6, 7, 8, 9, 10, 2, 3, 2, 2, 4, 1, 4, 1, 2, 3, 4, 5, 6, 7, 8, 9, 10, 3, 5, 7, 1, 2, 3, 4, 1, 2, 3, 4, 5, 6, 7, 8, 9, 10, 2, 1, 2, 3, 4, 5, 6, 7, 8, 9, 10, 1, 2, 3, 6, 7, 8, 10, 1, 2, 3, 4, 5, 6, 7, 8, 9, 10, 4, 1, 3, 9, 1, 2, 3, 4, 5, 6, 7, 8, 9, 1, 2, 8, 1, 3, 5, 7, 3, 1, 2, 3, 4, 5, 6, 7, 8, 9, 5, 1, 2, 3, 4, 5, 6, 7, 8, 9, 1, 2, 3, 4, 5, 6, 7, 8, 9, 10, 1, 2, 3, 4, 5, 6, 7, 8, 9, 10, 2, 1, 2, 3, 4, 5, 6, 7, 8, 9, 1, 2, 3, 4, 5, 6, 7, 8, 9, 10, 2, 1, 2, 3, 4, 5, 6, 7, 8, 9, 10, 1, 9, 4, 7, 1, 2, 3, 4, 5, 6, 7, 8, 9, 10, 3, 7, 9, 5, 1, 2, 3, 4, 1, 4, 7, 8, 1, 2, 3, 4, 5, 6, 7, 8, 9, 10, 1, 9, 4, 1, 2, 3, 4, 5, 6, 7, 8, 9, 1, 2, 3, 4, 5, 6, 7, 8, 9, 10, 1, 2, 3, 4, 5, 6, 7, 8, 1, 2, 3, 4, 5, 6, 7, 8, 9, 10, 1, 2, 9, 1, 2, 3, 4, 5, 6, 7, 8, 9, 10, 7, 7, 1, 2, 3, 5, 8, 9, 1, 2, 3, 4, 5, 6, 7, 8, 9, 10, 1, 2, 3, 4, 5, 6, 7, 8, 9, 1, 9, 1, 1, 1, 4, 1, 1, 3, 3, 4, 7, 2, 4, 6, 1, 3, 9, 1, 5, 9, 1, 2, 3, 4, 5, 6, 7, 8, 1, 2, 3, 4, 5, 6, 7, 8, 9, 10, 1, 9, 1, 3, 9, 2, 1, 3, 6, 1, 2, 3, 4, 5, 6, 7, 8, 9, 10, 1, 2, 3, 4, 5, 6, 7, 8, 9, 10, 7, 5, 1, 2, 3, 4, 5, 6, 7, 8, 9, 10, 1, 2, 3, 4, 5, 6, 7, 8, 9, 10, 1, 2, 3, 4, 5, 6, 7, 8, 9, 10, 1, 2, 3, 4, 5, 6, 7, 8, 9, 10, 2, 6, 1, 2, 3, 4, 5, 6, 7, 9, 1, 1, 2, 3, 4, 5, 6, 7, 8, 9, 10, 1, 3, 9, 2, 1, 2, 8, 1, 2, 3, 4, 5, 6, 7, 8, 9, 10, 2, 4, 1, 2, 3, 4, 5, 6, 7, 8, 9, 10, 2, 1, 4, 4, 2, 2, 1, 2, 3, 4, 5, 6, 7, 8, 9, 10, 1, 2, 3, 4, 5, 6, 7, 8, 9, 10, 3, 5, 1, 3, 9, 1, 2, 3, 4, 5, 6, 7, 8, 9, 10, 1, 2, 3, 4, 5, 6, 7, 8, 9, 2, 6, 1, 2, 3, 4, 5, 6, 7, 8, 9, 10, 1, 2, 3, 4, 1, 2, 3, 4, 5, 6, 7, 8, 9, 10, 1, 4, 2, 8, 2, 4, 6, 1, 2, 3, 9, 2, 5, 8, 1, 2, 3, 6, 8, 7, 4, 1, 2, 3, 4, 5, 6, 7, 8, 9, 10, 5, 2, 1, 2, 3, 4, 5, 6, 7, 8, 9, 10, 5, 1, 2, 3, 4, 5, 8, 9, 1, 2, 3, 4, 5, 6, 7, 8, 9, 10, 5, 5, 5, 1, 2, 3, 4, 5, 6, 7, 8, 9, 10, 1, 2, 3, 4, 5, 6, 7, 8, 9, 10, 2, 3, 5, 2, 3, 4, 8, 1, 2, 3, 4, 5, 7, 8, 9, 7, 1, 2, 3, 4, 5, 6, 7, 8, 9, 10, 1, 2, 3, 4, 5, 6, 7, 8, 9, 10, 3, 5, 1, 3, 9, 1, 2, 3, 4, 5, 6, 7, 8, 9, 10, 1, 2, 3, 4, 5, 6, 7, 8, 9, 1, 4, 1, 2, 3, 4, 5, 6, 7, 8, 9, 2, 3, 5, 8, 3, 1, 2, 3, 4, 5, 6, 7, 8, 9, 1, 2, 3, 4, 5, 6, 7, 9, 7, 1, 2, 3, 4, 5, 6, 7, 8, 9, 10, 1, 2, 3, 4, 5, 6, 7, 8, 9, 10, 1, 2, 3, 4, 5, 6, 7, 8, 9, 10, 1, 2, 3, 4, 5, 6, 7, 8, 9, 10, 1, 2, 3, 5, 8, 1, 2, 3, 4, 5, 6, 7, 8, 9, 10, 1, 2, 3, 4, 5, 6, 7, 8, 9, 10, 3, 1, 2, 3, 4, 5, 6, 7, 8, 9, 10, 1, 3, 5, 7, 9, 1, 2, 3, 4, 5, 6, 7, 8, 9, 10, 4, 2, 1, 2, 3, 5, 3, 1, 2, 3, 4, 5, 6, 7, 8, 9, 10, 1, 2, 3, 4, 5, 6, 7, 8, 9, 10, 1, 2, 3, 4, 5, 6, 7, 8, 9, 10, 1, 2, 3, 4, 5, 6, 7, 8, 9, 10, 7, 1, 2, 3, 1, 2, 3, 4, 5, 6, 7, 8, 9, 10, 1, 2, 3, 4, 5, 6, 7, 8, 9, 10, 1, 2, 3, 4, 5, 6, 7, 8, 9, 10, 2, 4, 6, 1, 2, 3, 4, 5, 6, 7, 8, 9, 10, 1, 2, 3, 4, 5, 6, 7, 8, 9, 10, 1, 2, 3, 4, 5, 6, 7, 8, 9, 10, 1, 2, 3, 7, 1, 2, 3, 4, 5, 6, 7, 8, 9, 10, 1, 2, 3, 4, 5, 6, 7, 8, 9, 10, 1, 2, 3, 4, 5, 6, 7, 8, 9, 10, 2, 1, 4, 7, 1, 2, 3, 4, 5, 6, 7, 8, 9, 10, 2, 1, 2, 3, 4, 5, 7, 8, 9, 1, 2, 3, 4, 5, 6, 7, 8, 9, 10, 1, 2, 3, 4, 5, 6, 7, 8, 9, 10, 1, 2, 3, 4, 5, 6, 7, 8, 9, 10, 1, 2, 3, 4, 5, 6, 7, 8, 9, 10, 1, 2, 3, 4, 5, 6, 7, 8, 9, 10, 1, 2, 6, 2, 6, 1, 2, 3, 4, 5, 6, 7, 8, 9, 10, 1, 3, 9, 1, 2, 3, 4, 5, 6, 7, 8, 9, 10, 1, 2, 3, 4, 5, 6, 7, 8, 9, 10, 4, 5, 5, 1, 2, 3, 4, 5, 6, 7, 8, 9, 10, 1, 2, 3, 4, 5, 6, 7, 8, 9, 10, 5, 1, 3, 6, 8, 5, 5, 5, 1, 2, 3, 4, 5, 7, 8, 9, 1, 5, 7, 1, 1, 2, 3, 4, 5, 8, 9, 1, 2, 3, 4, 5, 6, 7, 8, 9, 10, 5, 1, 4, 1, 2, 3, 4, 5, 8, 9, 4, 1, 2, 3, 4, 5, 6, 7, 8, 9, 1, 2, 3, 4, 5, 6, 7, 8, 9, 10, 4, 1, 2, 3, 4, 5, 6, 7, 8, 9, 10, 2, 4, 1, 1, 2, 3, 4, 5, 6, 7, 8, 9, 10, 5, 7, 1, 2, 3, 4, 5, 6, 7, 8, 9, 10, 1, 2, 3, 4, 5, 6, 7, 8, 9, 10, 7, 7, 7, 7, 7, 7, 1, 2, 3, 4, 5, 6, 7, 8, 9, 10, 1, 2, 3, 4, 5, 6, 7, 8, 9, 10, 1, 2, 3, 4, 5, 6, 7, 8, 9, 10, 4, 1, 2, 3, 4, 5, 6, 7, 9, 4], \"Freq\": [0.2658245603430791, 0.2658245603430791, 0.5316491206861582, 0.6113427623951586, 0.1553467074989278, 0.21403324144296718, 0.15189455844339605, 0.10701662072148359, 0.14153811127680085, 0.07939942827722975, 0.055234384888507654, 0.05178223583297593, 0.031069341499785557, 0.010356447166595185, 0.6550121658444775, 0.8570674351610943, 0.19192920019504423, 0.19192920019504423, 0.38385840039008845, 0.8570899700254514, 0.5985626119741332, 0.14907687925887028, 0.23039154067279954, 0.1761817663968467, 0.12197199212089387, 0.08809088319842336, 0.040657330706964624, 0.05420977427595283, 0.09486710498291745, 0.03388110892247052, 0.006776221784494104, 0.7640726183714986, 0.44255052913705195, 0.3513025241602271, 0.13033626981877802, 0.5213450792751121, 0.13033626981877802, 0.13033626981877802, 0.19989042418884048, 0.22289939387964228, 0.16969115146966315, 0.08628363634050669, 0.06615078786105512, 0.08628363634050669, 0.07190303028375557, 0.04170375756457823, 0.043141818170253345, 0.01006642423972578, 0.2834917243316631, 0.2686492256755551, 0.08163374260859409, 0.09053924180225889, 0.0875707420710373, 0.04304324610271324, 0.04155899623710244, 0.059369994624432064, 0.03413774690904844, 0.01038974905927561, 0.1664402583253006, 0.32767925857793556, 0.09882390338064724, 0.11442767759864417, 0.07801887108998466, 0.036408806508659505, 0.046811322653990795, 0.09882390338064724, 0.02600629036332822, 0.005201258072665644, 0.1947875691300744, 0.1947875691300744, 0.3895751382601488, 0.2545545740303245, 0.2545545740303245, 0.2545545740303245, 0.6457794651557027, 0.20024249563054441, 0.18752868638416065, 0.22249166181171603, 0.10171047397107018, 0.06039059392032292, 0.07310440316670669, 0.05403368929713103, 0.05403368929713103, 0.041319880050747264, 0.009535356934787829, 0.12320359675593866, 0.44226932168798494, 0.05686319850274092, 0.07581759800365456, 0.07265853142016895, 0.030011132543113266, 0.025272532667884855, 0.14689659613208073, 0.022113466084399246, 0.003159066583485607, 0.5646153416301354, 0.2823076708150677, 0.1565580176374471, 0.44358104997276676, 0.09567434411177322, 0.06088367352567387, 0.0695813411721987, 0.0695813411721987, 0.04348833823262419, 0.03479067058609935, 0.026093002939574516, 0.008697667646524838, 0.44219485028850225, 0.6485734842791407, 0.6203937221042809, 0.7133794287891535, 0.2602989067672581, 0.5205978135345162, 0.44274114042391516, 0.21842253308895557, 0.21842253308895557, 0.10921126654447778, 0.10921126654447778, 0.10921126654447778, 0.10921126654447778, 0.6097536744107357, 0.15243841860268392, 0.3294678176199961, 0.3294678176199961, 0.1207862208792324, 0.29391313747279885, 0.16440346730784408, 0.11273380615395023, 0.09260276934074484, 0.04764345379125278, 0.06509035236269746, 0.0603931104396162, 0.03623586626376972, 0.0067103456044018, 0.10533715749492163, 0.5266857874746081, 0.10533715749492163, 0.10533715749492163, 0.10533715749492163, 0.10533715749492163, 0.20183624337228692, 0.22924610358333822, 0.1270820791603288, 0.10091812168614346, 0.11711485726540105, 0.05980333136956649, 0.07350826147509215, 0.057311525895834554, 0.026163957474185342, 0.007475416421195811, 0.1055143365737473, 0.2110286731474946, 0.2110286731474946, 0.1055143365737473, 0.2110286731474946, 0.6098335309896546, 0.8601645684014468, 0.865240686319105, 0.3617455948272014, 0.1808727974136007, 0.1808727974136007, 0.1808727974136007, 0.05091520173090431, 0.20366080692361724, 0.05091520173090431, 0.05091520173090431, 0.05091520173090431, 0.5091520173090431, 0.05091520173090431, 0.2651803504873342, 0.2651803504873342, 0.2651803504873342, 0.5928185394801431, 0.6501160311782068, 0.034216633219905625, 0.034216633219905625, 0.034216633219905625, 0.034216633219905625, 0.034216633219905625, 0.034216633219905625, 0.06843326643981125, 0.1085448331844928, 0.12405123792513463, 0.2791152853315529, 0.1085448331844928, 0.1085448331844928, 0.015506404740641829, 0.1085448331844928, 0.015506404740641829, 0.12405123792513463, 0.015506404740641829, 0.22013280749578992, 0.1770993263311994, 0.16551338909457888, 0.11585937236620522, 0.10096316734769312, 0.05461941840121103, 0.04965401672837367, 0.06455022174688577, 0.039723213382698935, 0.01324107112756631, 0.1137659950902265, 0.3365577354752534, 0.0995452457039482, 0.1090257452948004, 0.08058424652224377, 0.04266224815883494, 0.037921998363408836, 0.06162324734053936, 0.0948049959085221, 0.018960999181704418, 0.17871600414767652, 0.25020240580674713, 0.17307234085880252, 0.08653617042940126, 0.09217983371827525, 0.05831785398503128, 0.05267419069615729, 0.06960518056277927, 0.03198075863695264, 0.007524884385165327, 0.36803102722255493, 0.16406202418354857, 0.075379848949198, 0.11085271904293822, 0.08868217523435058, 0.04434108761717529, 0.031038761332022703, 0.05320930514061035, 0.04434108761717529, 0.017736435046870117, 0.26943080442231365, 0.26943080442231365, 0.26943080442231365, 0.26943080442231365, 0.2722170347500708, 0.2014406057150524, 0.14699719876503822, 0.07622076973001982, 0.07622076973001982, 0.0326660441700085, 0.065332088340017, 0.08710945112002265, 0.03811038486500991, 0.0054443406950014156, 0.16188422948488276, 0.21984278078193953, 0.20585278564127066, 0.10392567818782597, 0.10392567818782597, 0.05396140982829425, 0.051962839093912985, 0.04396855615638791, 0.04396855615638791, 0.009992853671906343, 0.44448992980466184, 0.5400904175472151, 0.27004520877360755, 0.31478607106246226, 0.31478607106246226, 0.31478607106246226, 0.3026995581403747, 0.23600304532978367, 0.08721851675231135, 0.07182701379602112, 0.06669651281059104, 0.051305009854300795, 0.03591350689801056, 0.06156601182516096, 0.06156601182516096, 0.02052200394172032, 0.6075561797756661, 0.5770086759844442, 0.19233622532814804, 0.16191248792813986, 0.2158833172375198, 0.05397082930937995, 0.05397082930937995, 0.05397082930937995, 0.4317666344750396, 0.05397082930937995, 0.12247888893543353, 0.7348733336126012, 0.24025232445138253, 0.2002102703761521, 0.08008410815046085, 0.12012616222569127, 0.08008410815046085, 0.04004205407523043, 0.04004205407523043, 0.2002102703761521, 0.04004205407523043, 0.266042648750036, 0.15962558925002163, 0.05320852975000721, 0.05320852975000721, 0.266042648750036, 0.05320852975000721, 0.05320852975000721, 0.10641705950001441, 0.0770574565802963, 0.4678488435232275, 0.1265943929533439, 0.08806566466319576, 0.06604924849739682, 0.08256156062174604, 0.03852872829014815, 0.03302462424869841, 0.016512312124349206, 0.005504104041449735, 0.7840102904335167, 0.7860796525335455, 0.2528342701502479, 0.15170056209014873, 0.05056685403004958, 0.05056685403004958, 0.2528342701502479, 0.05056685403004958, 0.15170056209014873, 0.20144563038754917, 0.11750995105940369, 0.1510842227906619, 0.1846584945219201, 0.0839356793281455, 0.033574271731258196, 0.06714854346251639, 0.0839356793281455, 0.05036140759688729, 0.05036140759688729, 0.15964231762895426, 0.15964231762895426, 0.15964231762895426, 0.3192846352579085, 0.3326100573830017, 0.2588155430440077, 0.07165554290887817, 0.07272502862393605, 0.08662834291968854, 0.03529302859691014, 0.03743200002702591, 0.0449184000324311, 0.043848914317373214, 0.01711177144092613, 0.7847833992279715, 0.1580350892577609, 0.20720156147128654, 0.14398752576818216, 0.15101130751297154, 0.09833294442705125, 0.09833294442705125, 0.045654581341130936, 0.045654581341130936, 0.031607017851552184, 0.017559454361973436, 0.6137601185126922, 0.22193456919197704, 0.14795637946131804, 0.2007979435546459, 0.19022963073598032, 0.04755740768399508, 0.03698909486532951, 0.07926234613999181, 0.026420782046663933, 0.03698909486532951, 0.005284156409332786, 0.43106844738569733, 0.16352802055409918, 0.2159080896378341, 0.17247095917815147, 0.11753576477325879, 0.11242551413094319, 0.07154350899241839, 0.051102506423155995, 0.037049317156788095, 0.051102506423155995, 0.0076653759634733995, 0.33420100094618477, 0.19082139170744303, 0.11913158708807217, 0.07696111378255989, 0.08644947027630015, 0.04427899697078788, 0.036899164142323235, 0.05060456796661473, 0.04744178246870131, 0.010542618326378067, 0.06715990207551042, 0.5372792166040834, 0.021208390129108558, 0.014138926752739037, 0.11664614571009706, 0.07069463376369518, 0.045951511946401874, 0.03888204857003235, 0.03534731688184759, 0.05655570701095615, 0.4337580052180633, 0.18706802639392908, 0.1683612237545362, 0.23383503299241137, 0.10756411517650923, 0.060797108578026955, 0.07015050989772341, 0.07015050989772341, 0.04676700659848227, 0.0514437072583305, 0.009353401319696454, 0.5490502519643161, 0.27452512598215806, 0.23681734963245707, 0.1973477913603809, 0.1644564928003174, 0.08113186978148992, 0.09428838920551531, 0.06578259712012696, 0.05262607769610157, 0.07236085683213966, 0.02850579208538835, 0.0065782597120126966, 0.3685950246044277, 0.2229772371063822, 0.0819100054676506, 0.06370778203039491, 0.0819100054676506, 0.0409550027338253, 0.03185389101519746, 0.03640444687451138, 0.05460667031176707, 0.01820222343725569, 0.3273555207362709, 0.3273555207362709, 0.320017439144659, 0.320017439144659, 0.8651020564668203, 0.7850532588427777, 0.4071054281962592, 0.21657235831190774, 0.22344767127419052, 0.2268853277553319, 0.09969203795310039, 0.08937906850967621, 0.04125187777369671, 0.030938908330272536, 0.04125187777369671, 0.020625938886848355, 0.010312969443424178, 0.10143630439193647, 0.28295390172487545, 0.29363140745034244, 0.08008129294100248, 0.08008129294100248, 0.04271002290186799, 0.04271002290186799, 0.032032517176400994, 0.032032517176400994, 0.010677505725466998, 0.05230783383133453, 0.14820552918878116, 0.039230875373500895, 0.07410276459439058, 0.026153916915667264, 0.6233350198234031, 0.013076958457833632, 0.013076958457833632, 0.008717972305222421, 0.004358986152611211, 0.12443206084316726, 0.7465923650590035, 0.2401599623817336, 0.18313201144827845, 0.18554164317786107, 0.09959811148941461, 0.08433711053539139, 0.048995845168179765, 0.06746968842831312, 0.04738942401512469, 0.03614447594373917, 0.00803210576527537, 0.21026129122900059, 0.09557331419500026, 0.22937595406800063, 0.11468797703400031, 0.0382293256780001, 0.01911466283900005, 0.057343988517000156, 0.13380263987300037, 0.09557331419500026, 0.5461928294918654, 0.2730964147459327, 0.449276988499454, 0.4215114589291163, 0.1464614547504339, 0.10791896665821446, 0.17729544522420945, 0.069376478565995, 0.05395948332910723, 0.03854248809221945, 0.31604840235619946, 0.046250985710663335, 0.03854248809221945, 0.00770849761844389, 0.232853869752079, 0.2116302097486343, 0.1685764994559322, 0.12370361830579198, 0.057607077152207045, 0.06609654115358493, 0.04426649086432752, 0.04487288115014022, 0.04002175886363858, 0.010915025144628703, 0.2683920571238808, 0.1732175687820791, 0.14180998762928454, 0.08851227415787559, 0.11230589624332601, 0.03235932603621258, 0.05995992765533508, 0.03806979533672068, 0.07042912137293326, 0.014276173251270256, 0.16286217581674164, 0.25592627628345116, 0.1423333301255557, 0.11359294615789543, 0.0971698696049467, 0.06706089592454068, 0.0629551267863035, 0.06158653707355776, 0.03147756339315175, 0.005474358850982912, 0.2744239302585899, 0.12577763470185369, 0.1029089738469712, 0.3201612519683549, 0.02286866085488249, 0.02286866085488249, 0.06860598256464748, 0.02286866085488249, 0.02286866085488249, 0.011434330427441245, 0.19916591433825892, 0.2259767104991784, 0.13788409454187156, 0.13788409454187156, 0.08809261595730683, 0.04596136484729052, 0.047876421715927625, 0.0746872178768471, 0.03447102363546789, 0.00766022747454842, 0.8578323411766671, 0.49380738551539816, 0.16460246183846605, 0.5462092986132918, 0.19380963238346272, 0.22550746945552438, 0.14762135550703, 0.10777264604500965, 0.11139525599610241, 0.0652069791196697, 0.04890523433975228, 0.06339567414412332, 0.02898087960874209, 0.007245219902185522, 0.5330874957050423, 0.26654374785252116, 0.19874033982477712, 0.21632798051723529, 0.12487224891645289, 0.13542483333192779, 0.10552584415474892, 0.07914438311606169, 0.04748662986963702, 0.04045157359265375, 0.04221033766189957, 0.012311348484720708, 0.13678672674892198, 0.45921258265709525, 0.06839336337446099, 0.09770480482065856, 0.05862288289239514, 0.02931144144619757, 0.02931144144619757, 0.0879343243385927, 0.01954096096413171, 0.1511657412173379, 0.4534972236520137, 0.1511657412173379, 0.1511657412173379, 0.300666735042826, 0.054464475704233614, 0.5174125191902194, 0.027232237852116807, 0.10892895140846723, 0.08169671355635043, 0.08169671355635043, 0.027232237852116807, 0.027232237852116807, 0.027232237852116807, 0.11528483726610897, 0.5764241863305448, 0.11528483726610897, 0.11528483726610897, 0.08210748760107676, 0.49264492560646056, 0.16421497520215353, 0.08210748760107676, 0.08210748760107676, 0.08210748760107676, 0.08210748760107676, 0.09304175592428193, 0.5117296575835506, 0.09304175592428193, 0.046520877962140966, 0.046520877962140966, 0.046520877962140966, 0.046520877962140966, 0.046520877962140966, 0.16527287724457415, 0.11018191816304942, 0.11018191816304942, 0.05509095908152471, 0.11018191816304942, 0.05509095908152471, 0.05509095908152471, 0.11018191816304942, 0.16527287724457415, 0.05509095908152471, 0.16928792706411275, 0.348773922023654, 0.0999410653751991, 0.12237681474514175, 0.08770338390068493, 0.05710918021439949, 0.04487149873988531, 0.03467343084445683, 0.028554590107199743, 0.008158454316342784, 0.8673229155748338, 0.8565246179835099, 0.5050337327390816, 0.2525168663695408, 0.6632011059211547, 0.1799063751804388, 0.18847334542712638, 0.09709232946245905, 0.3169778991274398, 0.05425747822902123, 0.0314122242378544, 0.04283485123343781, 0.037123537735646105, 0.03997919448454196, 0.014278283744479271, 0.1148549412582329, 0.20099614720190756, 0.4019922944038151, 0.258423617831024, 0.028713735314558224, 0.18715920486585305, 0.06238640162195102, 0.7486368194634122, 0.21374223077393345, 0.21374223077393345, 0.07124741025797782, 0.07124741025797782, 0.07124741025797782, 0.14249482051595563, 0.07124741025797782, 0.14249482051595563, 0.07124741025797782, 0.11083172066163767, 0.7758220446314638, 0.13893330658697606, 0.35174384762893146, 0.11688040077951954, 0.10144336671429999, 0.07718517032609781, 0.06726136271274238, 0.05402961922826847, 0.051824328647522816, 0.0341820040015576, 0.0077185170326097815, 0.8569361779667725, 0.12110858282530103, 0.26643888221566225, 0.12110858282530103, 0.04844343313012041, 0.09688686626024082, 0.07266514969518062, 0.09688686626024082, 0.04844343313012041, 0.12110858282530103, 0.024221716565060204, 0.1696260043464615, 0.24696843119873407, 0.13886481184839852, 0.1098614017787963, 0.10195138085072296, 0.0799791004949637, 0.0624012762103563, 0.058885711353434816, 0.02460895399845037, 0.007031129713842963, 0.1769909873702332, 0.7079639494809328, 0.3880234439288097, 0.3880234439288097, 0.37140408364635047, 0.18389910937829004, 0.08654075735448943, 0.08293489246471904, 0.09375248713403023, 0.03966451378747433, 0.028846919118163145, 0.04687624356701511, 0.0504821084567855, 0.018029324448851965, 0.4657593377418007, 0.15525311258060023, 0.15525311258060023, 0.7639400633617153, 0.30881848055271005, 0.6176369611054201, 0.1968413337421344, 0.5905240012264031, 0.10983337369823945, 0.44963037357716773, 0.12356254541051938, 0.07551044441753962, 0.06864585856139965, 0.0789427373456096, 0.03775522220876981, 0.034322929280699827, 0.017161464640349913, 0.003432292928069983, 0.4178641329758136, 0.16469278196950304, 0.06132178052055964, 0.06482588226459163, 0.09899087426890343, 0.04818139898043972, 0.03066089026027982, 0.052561526160479696, 0.04380127180039975, 0.01576845784814391, 0.2772562732587129, 0.5545125465174258, 0.4112470438374865, 0.17037377530410155, 0.0822494087674973, 0.07637445099839035, 0.0939993243057112, 0.0469996621528556, 0.0234998310764278, 0.04112470438374865, 0.035249746614641704, 0.017624873307320852, 0.16477316410181805, 0.19078997948631565, 0.0867227179483253, 0.16477316410181805, 0.05203363076899518, 0.21680679487081322, 0.03468908717933012, 0.03468908717933012, 0.05203363076899518, 0.00867227179483253, 0.08348172226012596, 0.4611371324845053, 0.12323492333637641, 0.07155576193725081, 0.07553108204487587, 0.0795064021525009, 0.04770384129150054, 0.03975320107625045, 0.01590128043050018, 0.003975320107625045, 0.0939819804741667, 0.532564556020278, 0.022973373004796304, 0.07936256128929632, 0.06683163055940743, 0.01044244227490741, 0.022973373004796304, 0.1524596572136482, 0.014619419184870376, 0.002088488454981482, 0.2700844588168364, 0.16205067529010186, 0.1389005788200873, 0.09452956058589275, 0.09452956058589275, 0.057875241175036375, 0.059804415880870924, 0.05015854235169819, 0.059804415880870924, 0.011575048235007275, 0.7619470940277439, 0.4143411220543013, 0.10188497772580625, 0.15282746658870938, 0.2037699554516125, 0.3565974220403219, 0.050942488862903125, 0.050942488862903125, 0.050942488862903125, 0.050942488862903125, 0.6513847667901973, 0.06972638642607212, 0.13945277285214425, 0.10458957963910819, 0.06972638642607212, 0.5229478981955409, 0.03486319321303606, 0.03486319321303606, 0.03486319321303606, 0.5601983382058106, 0.2800991691029053, 0.0928689166782509, 0.4183003305843906, 0.12174412606560621, 0.08818645029111219, 0.07648028432326544, 0.09130809454920466, 0.04136178641972519, 0.04136178641972519, 0.023412331935693503, 0.0046824663871387, 0.34717931180928546, 0.1892411822567007, 0.08394909588831083, 0.061183239376226536, 0.11098355049641093, 0.045531713024168585, 0.04126311492815278, 0.05691464128021073, 0.045531713024168585, 0.018497258416068488, 0.12609065405357606, 0.7565439243214565, 0.3869112805007835, 0.3869112805007835, 0.24835474357492776, 0.24835474357492776, 0.24835474357492776, 0.1567771553793212, 0.2654101449334965, 0.1370257027331075, 0.10863298955417532, 0.12097764745805888, 0.06048882372902944, 0.06048882372902944, 0.058019892148252726, 0.02345485001737876, 0.007406794742330135, 0.19931435525442834, 0.597943065763285, 0.30397230674044085, 0.6079446134808817, 0.7711546118492931, 0.10523807459820751, 0.21047614919641502, 0.10523807459820751, 0.10523807459820751, 0.10523807459820751, 0.10523807459820751, 0.21047614919641502, 0.3022711792282199, 0.18016163000357477, 0.15213648755857426, 0.08007183555714434, 0.10008979444643043, 0.05404848900107243, 0.044039509556429386, 0.04003591777857217, 0.03603232600071495, 0.01201077533357165, 0.5537837778360679, 0.22964417703263262, 0.21860359159837145, 0.10819773725575961, 0.1611925473402133, 0.09274091764779395, 0.039746107563340266, 0.05520292717130592, 0.05078669299760145, 0.030913639215931318, 0.011040585434261185, 0.19687958522207413, 0.21000489090354574, 0.11287762886065583, 0.17587909613171956, 0.09450220090659558, 0.06300146727106372, 0.07087665067994668, 0.04200097818070915, 0.023625550226648896, 0.010500244545177288, 0.550861968390353, 0.5266568958856404, 0.10533137917712808, 0.10533137917712808, 0.10533137917712808, 0.10533137917712808, 0.45702961514906476, 0.19982055314943684, 0.7992822125977473, 0.22769824942449962, 0.6830947482734988, 0.5955941724880494, 0.11911883449760988, 0.11911883449760988, 0.4097079749494168, 0.16587966119421593, 0.24625434239141336, 0.1402281671951104, 0.10773627479624334, 0.1043160755963626, 0.059853485997912965, 0.049592888398270744, 0.06669388439767444, 0.05301308759815149, 0.006840398399761482, 0.784851822860636, 0.6296774082698717, 0.12593548165397436, 0.12593548165397436, 0.5556082352125369, 0.27780411760626844, 0.4241747399119203, 0.667661748953834, 0.5454321290504619, 0.1946222823728485, 0.5838668471185455, 0.02460948372246274, 0.17226638605723918, 0.04921896744492548, 0.7382845116738822, 0.17785075721130833, 0.26677613581696247, 0.08892537860565417, 0.13338806790848123, 0.04446268930282708, 0.04446268930282708, 0.04446268930282708, 0.17785075721130833, 0.04446268930282708, 0.32487749735970506, 0.32487749735970506, 0.30604892954315355, 0.30604892954315355, 0.30604892954315355, 0.3132512804035738, 0.3132512804035738, 0.6099344358069019, 0.5475087459114533, 0.059088035829883076, 0.16114918862695385, 0.03760147734628923, 0.06445967545078155, 0.016114918862695386, 0.6177385564033231, 0.016114918862695386, 0.010743279241796922, 0.016114918862695386, 0.5746591570053469, 0.5626865440851672, 0.2813432720425836, 0.046959410604728996, 0.09052044281043155, 0.0827968555399169, 0.028422801155493865, 0.0169918919951322, 0.021934987848261568, 0.6660821662091823, 0.010195135197079321, 0.02996751860959679, 0.0058699263255911245, 0.17810363208480043, 0.05936787736160014, 0.7124145283392017, 0.16300074449027577, 0.23661398393749705, 0.14196839036249823, 0.23661398393749705, 0.042064708255555035, 0.05258088531944379, 0.05783897385138817, 0.042064708255555035, 0.021032354127777517, 0.005258088531944379, 0.2066445642968273, 0.2066445642968273, 0.2066445642968273, 0.8319828030571541, 0.31045911231056605, 0.17834885175287837, 0.1479634918246102, 0.08455056675692012, 0.0686973354899976, 0.035669770350575676, 0.026422052111537534, 0.0686973354899976, 0.06341292506769008, 0.013211026055768767, 0.6661216946636076, 0.1863325259864652, 0.19173346876868158, 0.16742922624870785, 0.1539268692931669, 0.08641508451546212, 0.06481131338659658, 0.04860848503994744, 0.05130895643105563, 0.04050707086662287, 0.008101414173324573, 0.19572070072669967, 0.20734767304709767, 0.16083978376550567, 0.11239406576384733, 0.12983452424444433, 0.0610416046820895, 0.04844571800165833, 0.04553897492155883, 0.027129602080928666, 0.011626972320398, 0.21490768245860514, 0.6447230473758154, 0.784024475648832, 0.3156089352241617, 0.3156089352241617, 0.2014048558885525, 0.2175172443596367, 0.12084291353313151, 0.13426990392570168, 0.07250574811987891, 0.06713495196285084, 0.0644495538843368, 0.03759557309919647, 0.07250574811987891, 0.0080561942355421, 0.19476421110020697, 0.15581136888016556, 0.17528778999018627, 0.07790568444008278, 0.09738210555010349, 0.05842926333006209, 0.03895284222004139, 0.11685852666012418, 0.07790568444008278, 0.2510998220425254, 0.2006998577615884, 0.12419991197802333, 0.15209989220497058, 0.07019995024844797, 0.04859996555661782, 0.04589996747013905, 0.05939995790253289, 0.03689997384854316, 0.009899992983755483, 0.06914225260235415, 0.4839957682164791, 0.06914225260235415, 0.1382845052047083, 0.06914225260235415, 0.06914225260235415, 0.06914225260235415, 0.06914225260235415, 0.06914225260235415, 0.78535069345582, 0.15504971306210544, 0.15504971306210544, 0.3100994261242109, 0.06891098358315798, 0.08613872947894746, 0.03445549179157899, 0.06891098358315798, 0.05168323768736848, 0.03445549179157899, 0.7855649849552302, 0.2132004617012956, 0.030457208814470803, 0.24365767051576642, 0.030457208814470803, 0.3654865057736496, 0.030457208814470803, 0.060914417628941606, 0.12535071046641805, 0.7521042627985083, 0.8552885879665534, 0.29400699601263386, 0.29400699601263386, 0.18819089745622225, 0.18819089745622225, 0.18819089745622225, 0.18819089745622225, 0.18819089745622225, 0.18819089745622225, 0.15946601086373655, 0.15946601086373655, 0.15946601086373655, 0.3189320217274731, 0.43761242393520705, 0.17608509985598497, 0.7043403994239399, 0.17608509985598497, 0.522119962586627, 0.2694883003014705, 0.538976600602941, 0.288902025217446, 0.1842273783995308, 0.16329244903594775, 0.09630067507248201, 0.029308901109016263, 0.029308901109016263, 0.04186985872716609, 0.07536574570889897, 0.08792670332704879, 0.004186985872716609, 0.2250382978335651, 0.33755744675034766, 0.11251914891678255, 0.11251914891678255, 0.11251914891678255, 0.10769346175515487, 0.1384630222566277, 0.3230803852654646, 0.10769346175515487, 0.10769346175515487, 0.015384780250736411, 0.09230868150441847, 0.015384780250736411, 0.09230868150441847, 0.015384780250736411, 0.704921874122359, 0.1227296932793209, 0.7363781596759255, 0.9164999536359048, 0.6201261181442906, 0.3006789310842562, 0.3006789310842562, 0.3006789310842562, 0.763817823668618, 0.43068413966209007, 0.32577199279307784, 0.32577199279307784, 0.6070671074265356, 0.1657453601174783, 0.1657453601174783, 0.4143634002936957, 0.08287268005873916, 0.08287268005873916, 0.08287268005873916, 0.08287268005873916, 0.20172227580652652, 0.7060279653228427, 0.5965856449247438, 0.6077388291598393, 0.12154776583196789, 0.44141774569389725, 0.6269954873972627, 0.18138799620807225, 0.1451103969664578, 0.09069399810403612, 0.2539431946913011, 0.03627759924161445, 0.1451103969664578, 0.0725551984832289, 0.03627759924161445, 0.03627759924161445, 0.3592306986993531, 0.19490176206028734, 0.09171847626366463, 0.07261046037540116, 0.08789687308601193, 0.049680841309485003, 0.038216031776526924, 0.038216031776526924, 0.053502444487137694, 0.01528641271061077, 0.36556659857036095, 0.17407933265255282, 0.09864495516977993, 0.08123702190452466, 0.09574363295890405, 0.037717188741386444, 0.02611189989788292, 0.05222379979576584, 0.043519833163138205, 0.020309255476131164, 0.16424655191488496, 0.24636982787232742, 0.16424655191488496, 0.08212327595744248, 0.08212327595744248, 0.08212327595744248, 0.08212327595744248, 0.08212327595744248, 0.08212327595744248, 0.3868283069053505, 0.16303108720148873, 0.09263129954630042, 0.08299764439348517, 0.09485445073541163, 0.048168275764076215, 0.027418864665704923, 0.03705251981852017, 0.05113247734955783, 0.01556205832377847, 0.6310280975093714, 0.5469179181678024, 0.9381423757330257, 0.8617845579308834, 0.5931630690730839, 0.3430230122157342, 0.3430230122157342, 0.25314303917252656, 0.19603149984701754, 0.15281195657365934, 0.09724397236505594, 0.11885374400173504, 0.0493937637409808, 0.037045322805735595, 0.050937318857886445, 0.0339582125719243, 0.009261330701433899, 0.556773576926152, 0.278386788463076, 0.7635654545133095, 0.22480392817650807, 0.11240196408825404, 0.11240196408825404, 0.3372058922647621, 0.23841389454266979, 0.20004844024844706, 0.1534618171768909, 0.0849520773657789, 0.07673090858844545, 0.07125012940355649, 0.05206740225644513, 0.043846233479111686, 0.07673090858844545, 0.005480779184888961, 0.5392942702654487, 0.18555031771790798, 0.3347365028177335, 0.10349791591300393, 0.09324136568739094, 0.09510619300113876, 0.06433654232429975, 0.04662068284369547, 0.04755309650056938, 0.022377927764973826, 0.0074593092549912745, 0.12261840308040425, 0.12261840308040425, 0.12261840308040425, 0.12261840308040425, 0.12261840308040425, 0.12261840308040425, 0.12261840308040425, 0.16191062393922917, 0.285271099321499, 0.2004607724961885, 0.06939026740252678, 0.09252035653670238, 0.007710029711391865, 0.05397020797974306, 0.10794041595948611, 0.023130089134175594, 0.007710029711391865, 0.6074152685369355, 0.3179948559480326, 0.3179948559480326, 0.3179948559480326, 0.24689641139434482, 0.13716467299685822, 0.13716467299685822, 0.30176228059308813, 0.027432934599371645, 0.027432934599371645, 0.08229880379811494, 0.027432934599371645, 0.027432934599371645, 0.276480258440727, 0.276480258440727, 0.276480258440727, 0.6480790290657733, 0.12961580581315466, 0.12961580581315466, 0.5544207090647914, 0.5499275514285581, 0.13413576231768726, 0.13413576231768726, 0.13413576231768726, 0.10060182173826546, 0.033533940579421814, 0.033533940579421814, 0.33533940579421817, 0.033533940579421814, 0.033533940579421814, 0.6560593731837123, 0.4758679720657963, 0.1110358601486858, 0.09517359441315926, 0.04758679720657963, 0.04758679720657963, 0.031724531471053086, 0.04758679720657963, 0.1110358601486858, 0.04758679720657963, 0.3153939817360692, 0.23144018803653998, 0.06580162208882019, 0.08168477224819058, 0.10664400821291548, 0.0499184719294498, 0.029497278867402155, 0.05218749338078842, 0.0499184719294498, 0.018152171610709016, 0.19764497821254132, 0.1368311387625286, 0.12162767890002542, 0.31927265711256675, 0.030406919725006355, 0.030406919725006355, 0.06081383945001271, 0.045610379587509534, 0.06081383945001271, 0.015203459862503177, 0.40265221121478595, 0.29836891719574804, 0.11188834394840552, 0.09324028662367126, 0.14918445859787402, 0.05594417197420276, 0.07459222929893701, 0.07459222929893701, 0.11188834394840552, 0.037296114649468505, 0.2379872275311505, 0.14130491634662062, 0.14874201720696908, 0.20080172322940826, 0.05949680688278763, 0.03718550430174227, 0.08180810946383299, 0.044622605162090725, 0.03718550430174227, 0.007437100860348453, 0.4033585956971358, 0.14210963469802665, 0.31324591818543746, 0.1511804624447092, 0.10280271446240226, 0.07679967492191228, 0.050191913531643456, 0.05502968832987415, 0.054424966480095316, 0.045958860583191596, 0.008466105896903716, 0.3319909664831972, 0.3319909664831972, 0.6121864790401501, 0.7637642689204275, 0.17276897031289948, 0.3373498377673677, 0.12282154287646882, 0.10562652687376319, 0.06714244343913629, 0.05404147886564628, 0.044215755435528775, 0.055679099437332534, 0.03193360114788189, 0.00900691314427438, 0.19428462433098279, 0.38856924866196557, 0.19428462433098279, 0.4389255179599633, 0.1271962867231698, 0.635981433615849, 0.1271962867231698, 0.1271962867231698, 0.5612574426686454, 0.0935429071114409, 0.0935429071114409, 0.0935429071114409, 0.1972501816750969, 0.14793763625632267, 0.18081266653550548, 0.16437515139591408, 0.08218757569795704, 0.02465627270938711, 0.13971887868652696, 0.032875030279182815, 0.008218757569795704, 0.008218757569795704, 0.31702747133939346, 0.31702747133939346, 0.6025619402656406, 0.2630731010604889, 0.11274561474020953, 0.15032748632027937, 0.30065497264055874, 0.03758187158006984, 0.03758187158006984, 0.07516374316013968, 0.03758187158006984, 0.03758187158006984, 0.1475535174007418, 0.3906031196613095, 0.12376568398800539, 0.07998228046021519, 0.07412150990925113, 0.08894581189110137, 0.04033589143898783, 0.03240661363474236, 0.01930606769729332, 0.0031027608799221408, 0.22975951099585643, 0.11487975549792821, 0.057439877748964106, 0.11487975549792821, 0.22975951099585643, 0.057439877748964106, 0.11487975549792821, 0.057439877748964106, 0.13157023053925962, 0.3977009241300347, 0.119609300490236, 0.07176558029414161, 0.08372651034316521, 0.07475581280639751, 0.053824185220606204, 0.041863255171582604, 0.0149511625612795, 0.0059804650245118005, 0.36241681829370553, 0.18120840914685277, 0.18120840914685277, 0.32551350582469507, 0.15594367953462135, 0.10749515773745744, 0.10143909251281195, 0.10749515773745744, 0.04844852179716392, 0.04542048918484117, 0.04542048918484117, 0.0439064728786798, 0.01968221198009784, 0.5569290909033016, 0.7164462548658203, 0.14049839580680024, 0.14049839580680024, 0.14049839580680024, 0.14049839580680024, 0.14049839580680024, 0.14049839580680024, 0.17447031613702502, 0.24980977083255856, 0.17645293336585485, 0.08525254083968269, 0.07930468915319319, 0.06344375132255456, 0.07137422023787388, 0.06146113409372472, 0.027756641203617618, 0.00793046891531932, 0.2640625660278468, 0.1320312830139234, 0.12002843910356671, 0.31207394166927344, 0.024005687820713342, 0.024005687820713342, 0.0840199073724967, 0.024005687820713342, 0.024005687820713342, 0.32441524963095203, 0.32441524963095203, 0.7853993103061505, 0.7845580893801064, 0.40427997774915664, 0.40427997774915664, 0.7840924228235882, 0.7845015764766536, 0.38559042551909684, 0.5547068008426528, 0.6087556489211814, 0.4374552356200305, 0.21636626462141112, 0.10818313231070556, 0.5409156615535279, 0.24540486748442014, 0.24540486748442014, 0.24540486748442014, 0.6748191609261283, 0.13496383218522565, 0.13496383218522565, 0.08494834153440284, 0.16989668306880568, 0.08494834153440284, 0.12742251230160426, 0.04247417076720142, 0.38226753690481274, 0.04247417076720142, 0.04247417076720142, 0.25445596692390593, 0.06939708188833799, 0.16192652440612196, 0.06939708188833799, 0.046264721258891986, 0.06939708188833799, 0.046264721258891986, 0.06939708188833799, 0.18505888503556794, 0.023132360629445993, 0.33420003295684564, 0.33420003295684564, 0.3284506639782765, 0.3284506639782765, 0.3284506639782765, 0.5974014776081289, 0.1781012804024067, 0.5343038412072201, 0.1781012804024067, 0.1615996566708158, 0.1458338365078094, 0.15765820163006422, 0.2286043923635931, 0.06306328065202568, 0.04729746048901926, 0.09459492097803852, 0.055180370570522476, 0.039414550407516055, 0.00788291008150321, 0.17617711323080998, 0.25320522327567085, 0.16748676235395388, 0.1074443381138572, 0.10981443380754523, 0.07307795055538081, 0.05451220095482461, 0.03160127591584035, 0.02133086124319224, 0.005925239234220067, 0.7638965751303328, 0.658196823463398, 0.20551830296778678, 0.23713650342436937, 0.13112253718759248, 0.11531343695930119, 0.10322412502001961, 0.06509629505767002, 0.04463745946811659, 0.04742730068487388, 0.041847618251359305, 0.008369523650271861, 0.1919978550117118, 0.23684406932101673, 0.1499545290967384, 0.13313719873074906, 0.09109387281577566, 0.058860656280962736, 0.06306498887246008, 0.04204332591497338, 0.02382455135181825, 0.008408665182994676, 0.14030730175465356, 0.3644264873008037, 0.14713641821173845, 0.10616171946922902, 0.0887785139421038, 0.06953282210850087, 0.03911221243603174, 0.02172900690890652, 0.01862486306477702, 0.004345801381781304, 0.19124337650082965, 0.2732048235726138, 0.11535314773065916, 0.11535314773065916, 0.11535314773065916, 0.05261722528065155, 0.056664704148393974, 0.050593485846780334, 0.02428487320645456, 0.00607121830161364, 0.19419527521904134, 0.582585825657124, 0.23854228924392865, 0.11927114462196432, 0.11927114462196432, 0.11927114462196432, 0.11927114462196432, 0.11927114462196432, 0.11927114462196432, 0.11927114462196432, 0.784697853862116, 0.35171338772184896, 0.23802825229660485, 0.12079045638932186, 0.049737246748544295, 0.028421283856311024, 0.02131596289223327, 0.03907926530242766, 0.07105320964077756, 0.07815853060485532, 0.003552660482038878, 0.3211426915472261, 0.3211426915472261, 0.3211426915472261, 0.9366322938469264, 0.25533522996384994, 0.25533522996384994, 0.25533522996384994, 0.42524101395852876, 0.16785829498362975, 0.07833387099236055, 0.055952764994543255, 0.10071497699017785, 0.044762211995634606, 0.022381105997817303, 0.044762211995634606, 0.044762211995634606, 0.022381105997817303, 0.3033380453579467, 0.6066760907158933, 0.03796672546094772, 0.5457716785011234, 0.04271256614356618, 0.028475044095710788, 0.08542513228713236, 0.028475044095710788, 0.04745840682618465, 0.17559610525688318, 0.00949168136523693, 0.004745840682618465, 0.6869032492203639, 0.5402141633497332, 0.18007138778324439, 0.39465426733090836, 0.5500921317001735, 0.8183165437651128, 0.1735613528839839, 0.3038512451859334, 0.12006641535124912, 0.11459804395901402, 0.07608168893544498, 0.06680923309643763, 0.06847352004190049, 0.042320439470341274, 0.02591532529363595, 0.00808367944939103, 0.2411225841911967, 0.2069477297389011, 0.12910500570867223, 0.1044231663820143, 0.10632176940714184, 0.08543713613073899, 0.037972060502550656, 0.043667869577933255, 0.034174854452295594, 0.0075944121005101315, 0.5300484064267101, 0.26502420321335507, 0.301807883117253, 0.301807883117253, 0.301807883117253, 0.3290051531963741, 0.18363078317937157, 0.17215385923066084, 0.0497333371110798, 0.026779489213658355, 0.022953847897421446, 0.03060513052989526, 0.08416410895721196, 0.0994666742221596, 0.007651282632473815, 0.2363392567056708, 0.19902253196267014, 0.1617058072196695, 0.07463344948600131, 0.06219454123833442, 0.03731672474300066, 0.049755632990667535, 0.14926689897200263, 0.024877816495333768, 0.12809810289197102, 0.640490514459855, 0.4342864894642884, 0.1925609906115241, 0.06145563530155024, 0.0942319741290437, 0.08194084706873365, 0.03687338118093014, 0.020485211767183414, 0.03687338118093014, 0.03687338118093014, 0.012291127060310048, 0.16393995882689774, 0.16393995882689774, 0.16393995882689774, 0.3278799176537955, 0.2164168305067975, 0.19713216244183535, 0.17356201258465936, 0.11785074928587982, 0.08570963584427624, 0.049283040610458836, 0.08570963584427624, 0.0385693361299243, 0.027855631649389777, 0.006428222688320718, 0.5953065380676679, 0.14882663451691697, 0.31647152706912585, 0.31647152706912585, 0.17907789297276053, 0.08953894648638026, 0.6267726254046618, 0.4711070113824434, 0.11777675284561084, 0.11777675284561084, 0.11777675284561084, 0.5361650400253665, 0.1072330080050733, 0.2144660160101466, 0.2553643770217912, 0.08512145900726373, 0.2553643770217912, 0.08512145900726373, 0.17024291801452746, 0.5540629909260598, 0.6029785662989715, 0.25979923556172574, 0.22870357416244583, 0.14945979188686154, 0.1033178427137365, 0.08927464079148105, 0.059182065243790806, 0.04313269161835601, 0.037114176508817966, 0.01905863118020382, 0.009027772664307073, 0.4450100252646527, 0.8590617401450402, 0.13349060799267265, 0.28270750678996154, 0.14848544341102765, 0.11227840179109727, 0.09216337866891372, 0.07936290940934236, 0.05047042165202418, 0.06363661860472614, 0.02998967083671002, 0.00768028155574281, 0.43806370566549085, 0.09893183326098658, 0.49465916630493284, 0.04946591663049329, 0.09893183326098658, 0.04946591663049329, 0.14839774989147986, 0.04946591663049329, 0.14021440546472752, 0.32105167606409574, 0.1389039904603843, 0.09959154033008684, 0.09697071032140034, 0.05765826019110291, 0.055037430182416414, 0.055037430182416414, 0.0301395450998947, 0.0052416600173729915, 0.4345594540517631, 0.651953133225622, 0.440834181991621, 0.16102093813931817, 0.35863754403757225, 0.12588909709073964, 0.08636577591108884, 0.0775828156489442, 0.06733602867644214, 0.05562541499358264, 0.035131841048578506, 0.02634888078643388, 0.005855306841429752, 0.24089254007990088, 0.10323966003424323, 0.0917685866971051, 0.40148756679983477, 0.022942146674276274, 0.03441322001141441, 0.022942146674276274, 0.04588429334855255, 0.022942146674276274, 0.011471073337138137, 0.5959276296947889, 0.5361982125938038, 0.2680991062969019, 0.1649377278279468, 0.24740659174192017, 0.1649377278279468, 0.24740659174192017, 0.20871707563417147, 0.20871707563417147, 0.382647971995981, 0.03478617927236191, 0.03478617927236191, 0.03478617927236191, 0.03478617927236191, 0.03478617927236191, 0.38972316052827116, 0.3248179252655545, 0.17349712474023593, 0.11870855903279301, 0.10566366243578279, 0.07957386924176234, 0.052179586388040884, 0.04043917945073168, 0.05478856570744293, 0.036525710471628614, 0.013044896597010221, 0.3492442306763182, 0.2152099583627042, 0.08683910600600345, 0.06544396394655333, 0.08683910600600345, 0.0440488218871032, 0.04279028411890025, 0.04971224184401647, 0.04279028411890025, 0.016360990986638332, 0.5556076356538284, 0.2778038178269142, 0.32399837892312705, 0.32399837892312705, 0.32399837892312705, 0.3814563582411672, 0.1863436232787311, 0.09865250644168118, 0.0635760597068612, 0.09207567267890243, 0.037268724655746224, 0.02630733505111498, 0.046037836339451216, 0.05261467010222996, 0.015345945446483739, 0.2754608082863787, 0.13773040414318935, 0.09837886010227812, 0.11805463212273373, 0.03935154404091124, 0.07870308808182248, 0.07870308808182248, 0.15740617616364497, 0.03935154404091124, 0.35262111072608143, 0.35262111072608143, 0.07226735994519981, 0.14453471989039962, 0.21680207983559943, 0.14453471989039962, 0.07226735994519981, 0.07226735994519981, 0.07226735994519981, 0.14453471989039962, 0.07226735994519981, 0.2363885990183168, 0.2363885990183168, 0.2363885990183168, 0.2363885990183168, 0.5446293587662139, 0.29833427243378147, 0.09944475747792715, 0.13259300997056953, 0.26518601994113905, 0.03314825249264238, 0.03314825249264238, 0.03314825249264238, 0.06629650498528476, 0.03314825249264238, 0.021757077187447064, 0.17405661749957652, 0.021757077187447064, 0.06527123156234119, 0.021757077187447064, 0.6527123156234119, 0.021757077187447064, 0.021757077187447064, 0.5034919154504752, 0.19146019505074083, 0.21881165148656095, 0.1800637548691491, 0.11168511377959882, 0.07749579323482367, 0.07065792912586864, 0.05926148894427692, 0.04330647269004852, 0.041027184653730175, 0.00683786410895503, 0.18078909864941853, 0.3022146126676847, 0.10253710072653588, 0.09174372170268999, 0.07825199792288264, 0.02158675804769176, 0.08364868743480558, 0.08364868743480558, 0.05126855036326794, 0.00539668951192294, 0.16514537592839776, 0.2995660307538378, 0.12481917948076575, 0.11713799920502631, 0.07489150768845945, 0.061449442205915444, 0.034565311240827436, 0.05184796686124116, 0.059529147136980584, 0.011521770413609146, 0.14289913537805604, 0.14289913537805604, 0.19648631114482704, 0.23221109498934106, 0.07144956768902802, 0.053587175766771016, 0.07144956768902802, 0.03572478384451401, 0.03572478384451401, 0.017862391922257005, 0.35922525898946334, 0.11974175299648777, 0.11974175299648777, 0.35922525898946334, 0.11974175299648777, 0.15959180006675214, 0.37770059349131335, 0.1117142600467265, 0.09841494337449715, 0.0771360366989302, 0.05851699335780911, 0.039897950016688034, 0.0425578133511339, 0.026598633344458687, 0.007979590003337606, 0.09375410581970615, 0.1562568430328436, 0.12500547442627488, 0.1562568430328436, 0.1562568430328436, 0.03125136860656872, 0.06250273721313744, 0.12500547442627488, 0.06250273721313744, 0.03125136860656872, 0.5504169886824437, 0.1303182594058735, 0.3739567443820718, 0.1444832876021641, 0.09632219173477607, 0.04816109586738804, 0.0878231748170017, 0.04532809022812991, 0.039662078949613676, 0.028330056392581196, 0.005666011278516239, 0.09078381366364498, 0.5447028819818699, 0.09078381366364498, 0.18156762732728995, 0.09078381366364498, 0.2127282379123548, 0.17677416953280187, 0.12284306696347248, 0.23370144446709398, 0.0689119643941431, 0.03895024074451567, 0.0689119643941431, 0.04194641310947841, 0.02396937891970195, 0.005992344729925487, 0.6060378531012223, 0.7420393689264669, 0.22830065712071165, 0.07610021904023721, 0.5327015332816605, 0.07610021904023721, 0.6966132177346764, 0.1319022227474212, 0.3633532928513867, 0.139368386299162, 0.10452628972437152, 0.07963907788523544, 0.07217291433349461, 0.05724058723001297, 0.027375933023049682, 0.022398490655222467, 0.004977442367827215, 0.31777133992956247, 0.19109222468737203, 0.07944283498239062, 0.09232545687142693, 0.08803124957508149, 0.07514862768604517, 0.04938338390797255, 0.04938338390797255, 0.042942072963454384, 0.012882621889036315, 0.17076650990167824, 0.21132355600332683, 0.16436276578036532, 0.1366132079213426, 0.10032532456723597, 0.05122995297050348, 0.05976827846558739, 0.07257576670821325, 0.029884139232793695, 0.006403744121312935, 0.16696150883304453, 0.2738649209635551, 0.1681626707670952, 0.10089760246025713, 0.08768482118569965, 0.06246042057063537, 0.0660639063727874, 0.03723601995557108, 0.025224400615064282, 0.012011619340506801, 0.5568276380247763, 0.18939793078672712, 0.18939793078672712, 0.37879586157345424, 0.42092769071959535, 0.11936755408466136, 0.0753900341587335, 0.08167253700529462, 0.100520045544978, 0.050260022772489, 0.03769501707936675, 0.04397751992592787, 0.050260022772489, 0.018847508539683373, 0.26414640976148934, 0.18581333652187526, 0.12205385830358473, 0.11021281234875933, 0.11112366203759207, 0.061026929151792364, 0.0500967328857997, 0.058294380085294195, 0.029147190042647098, 0.008197647199494496, 0.103801457931902, 0.4102629051594222, 0.1087443845000878, 0.09391560479553038, 0.07414389852278715, 0.06920097195460133, 0.0543721922500439, 0.0494292656818581, 0.029657559409114857, 0.009885853136371619, 0.10944224221675605, 0.10944224221675605, 0.7660956955172923, 0.22562803055874864, 0.23535337670352227, 0.12837456911101217, 0.09530839221878175, 0.1186492229662385, 0.0525168691817777, 0.038901384579094596, 0.04668166149491351, 0.05057179995282297, 0.009725346144773649, 0.25157214027493496, 0.2452828367680616, 0.12473785288632193, 0.07756807658477162, 0.07861629383591719, 0.06603768682217043, 0.04821799355269587, 0.05241086255727812, 0.04402512454811362, 0.011530389762601186, 0.5202841787167383, 0.07141155394151309, 0.12241980675687959, 0.061209903378439796, 0.030604951689219898, 0.030604951689219898, 0.061209903378439796, 0.0204033011261466, 0.07141155394151309, 0.0102016505630733, 0.22840863169080883, 0.22840863169080883, 0.22840863169080883, 0.22840863169080883, 0.16431260224798447, 0.230528128527023, 0.19864657883711556, 0.09564464906972231, 0.06621552627903853, 0.04904853798447298, 0.07112038007748582, 0.06376309937981488, 0.04904853798447298, 0.009809707596894595, 0.2067177257104255, 0.24984588431188115, 0.1264101200387494, 0.13384600945279349, 0.07584607202324964, 0.06989736049201437, 0.04015380283583804, 0.046102514367073306, 0.04312815860145568, 0.008923067296852898, 0.21590598575062353, 0.21590598575062353, 0.1205056664654643, 0.18075849969819646, 0.09540031928515924, 0.045189624924549116, 0.055231763796671135, 0.030126416616366076, 0.025105347180305063, 0.015063208308183038, 0.4225374775785281, 0.34177193356280056, 0.34177193356280056, 0.55574878725221, 0.16933492319224291, 0.24509002040982528, 0.14928210334052994, 0.14705401224589518, 0.05793036846050416, 0.06015845955513893, 0.06907082393367803, 0.04678991298733028, 0.0445618218926955, 0.008912364378539102, 0.7216904473477743, 0.2401449594017211, 0.2183135994561101, 0.1964822395104991, 0.04366271989122202, 0.04366271989122202, 0.06549407983683303, 0.13098815967366606, 0.02183135994561101, 0.37652375619806067, 0.1759456804663835, 0.08445392662386408, 0.06334044496789806, 0.11260523549848543, 0.03870804970260437, 0.0351891360932767, 0.04574587692125971, 0.05278370413991505, 0.014075654437310679, 0.3773055805193331, 0.21095039760775464, 0.07165298541071, 0.07866796300336693, 0.09720754664110308, 0.034573818135237695, 0.02555456123039308, 0.04158879572789462, 0.043092005212035385, 0.019040653465783076, 0.41604831406408965, 0.21532325026123936, 0.08272305659753829, 0.062042292448153714, 0.072382674522846, 0.031021146224076857, 0.026155084071280487, 0.0395367549914705, 0.03892849722237096, 0.016422959765687747, 0.4066613814447717, 0.18027257115592973, 0.08384770751438592, 0.06707816601150873, 0.06707816601150873, 0.05030862450863155, 0.025154312254315775, 0.04192385375719296, 0.06288578063578944, 0.016769541502877183, 0.3992082141525965, 0.25509570530912806, 0.057976296661165466, 0.05549159823282981, 0.07247037082645684, 0.03188696316364101, 0.024432867878634017, 0.04762338654310021, 0.040169291258093216, 0.016150539784181808, 0.7845645929132778, 0.1954028231047197, 0.5862084693141592, 0.19804031703245192, 0.5941209510973559, 0.13074802046628503, 0.19612203069942752, 0.1743306939550467, 0.2397047041881892, 0.06537401023314252, 0.04358267348876167, 0.054478341860952094, 0.054478341860952094, 0.03268700511657126, 0.010895668372190418, 0.3665629461704199, 0.18328147308520995, 0.3665629461704199, 0.26913711116052974, 0.16002747150085553, 0.10910963965967421, 0.2473151832285949, 0.043643855863869686, 0.03636987988655807, 0.03636987988655807, 0.0509178318411813, 0.043643855863869686, 0.01454795195462323, 0.17393772161779594, 0.19314556817681636, 0.14405884919265308, 0.14832725953910206, 0.07683138623608164, 0.05655643709044899, 0.09817343796832655, 0.05015382157077552, 0.04908671898416327, 0.00853682069289796, 0.5657252444732797, 0.4464846835869499, 0.6561275614128466, 0.22234548933109724, 0.217594517336843, 0.17673615818625676, 0.1064217726712944, 0.06556341352070816, 0.04941010874024383, 0.0598622471276031, 0.057011663931050574, 0.03705758155518287, 0.007601555190806743, 0.2827596555661453, 0.24587796136186546, 0.08605728647665291, 0.07991033744260627, 0.07991033744260627, 0.043028643238326454, 0.04917559227237309, 0.061469490340466365, 0.04917559227237309, 0.024587796136186547, 0.6520534360823182, 0.2718096102284528, 0.33976201278556595, 0.0679524025571132, 0.1359048051142264, 0.4389326543428611, 0.6561771632235766, 0.42793877566890726, 0.14021415761436423, 0.07010707880718212, 0.14021415761436423, 0.3505353940359106, 0.07010707880718212, 0.07010707880718212, 0.07010707880718212, 0.07010707880718212, 0.18650642427880312, 0.18650642427880312, 0.5595192728364093, 0.7844350270736364, 0.09695874962729402, 0.19391749925458804, 0.09695874962729402, 0.09695874962729402, 0.09695874962729402, 0.290876248881882, 0.09695874962729402, 0.12215588591885977, 0.07329353155131586, 0.17101824028640367, 0.2687429490214915, 0.09772470873508782, 0.04886235436754391, 0.09772470873508782, 0.07329353155131586, 0.024431177183771954, 0.024431177183771954, 0.6464229422974769, 0.33603972204785953, 0.33603972204785953, 0.07979838177200178, 0.23939514531600536, 0.15959676354400357, 0.07979838177200178, 0.07979838177200178, 0.23939514531600536, 0.07979838177200178, 0.6066658501401777, 0.10849365500962778, 0.16876790779275433, 0.16876790779275433, 0.30137126391563274, 0.07232910333975186, 0.048219402226501236, 0.06027425278312654, 0.024109701113250618, 0.024109701113250618, 0.24586662953811636, 0.20070745268417664, 0.18063670741575896, 0.07526529475656624, 0.06021223580525299, 0.04515917685393974, 0.06021223580525299, 0.05017686317104416, 0.07526529475656624, 0.010035372634208832, 0.5984029788177062, 0.0863157490773414, 0.07192979089778449, 0.10070170725689828, 0.028771916359113796, 0.05754383271822759, 0.014385958179556898, 0.5754383271822759, 0.014385958179556898, 0.014385958179556898, 0.014385958179556898, 0.8652339483116692, 0.5988782444655855, 0.7847477289995908, 0.19980179419688937, 0.2349669099755419, 0.15664460665036126, 0.09430644686093179, 0.07992071767875575, 0.06713340285015483, 0.062338159789429484, 0.047952430607253446, 0.0431571875465281, 0.01278731482860092, 0.20541260560375055, 0.6162378168112517, 0.08253593334362534, 0.4362613619591625, 0.14149017144621487, 0.07467536826328007, 0.0668148031829348, 0.0786056508034527, 0.06288452064276216, 0.03144226032138108, 0.01572113016069054, 0.003930282540172635, 0.10525997584344392, 0.4376598995595826, 0.16065996312946704, 0.07201998347183004, 0.06647998474322774, 0.06647998474322774, 0.04431998982881849, 0.022159994914409245, 0.022159994914409245, 0.005539998728602311, 0.8460678963265621, 0.7633131428005137, 0.437913984810582, 0.8907238029121063, 0.5534974119710456, 0.5544270706630181, 0.0899516085057818, 0.5189515875333565, 0.1314677355084503, 0.06919354500444753, 0.04843548150311327, 0.055354836003558026, 0.03459677250222377, 0.027677418001779013, 0.013838709000889507, 0.006919354500444753, 0.16157618693378492, 0.1978175746572507, 0.16610636039921814, 0.1389253196066188, 0.08003306455598692, 0.058892255050631885, 0.07248277544693155, 0.06493248633787618, 0.046811792476143296, 0.012080462574488592, 0.20804365243769368, 0.24050436416556079, 0.11213700415081361, 0.11951443863441977, 0.07967629242294652, 0.056068502075406805, 0.06344593655901297, 0.06197044966229173, 0.04721558069507942, 0.010328408277048623, 0.6098914475501759, 0.3128488907126546, 0.09521487978211227, 0.13602125683158897, 0.013602125683158895, 0.05440850273263558, 0.2992467650294957, 0.02720425136631779, 0.05440850273263558, 0.6071597447168301], \"Term\": [\"aafs\", \"aafs\", \"aafs\", \"aas\", \"academic\", \"academic\", \"academic\", \"academic\", \"academic\", \"academic\", \"academic\", \"academic\", \"academic\", \"academic\", \"accumulated\", \"acsprf\", \"actcares\", \"actcares\", \"actcares\", \"actinide\", \"acton\", \"administration\", \"administration\", \"administration\", \"administration\", \"administration\", \"administration\", \"administration\", \"administration\", \"administration\", \"administration\", \"adyall\", \"affiliateget\", \"agenciessircon\", \"agreementsu\", \"agreementsu\", \"agreementsu\", \"agreementsu\", \"also\", \"also\", \"also\", \"also\", \"also\", \"also\", \"also\", \"also\", \"also\", \"also\", \"american\", \"american\", \"american\", \"american\", \"american\", \"american\", \"american\", \"american\", \"american\", \"american\", \"amount\", \"amount\", \"amount\", \"amount\", \"amount\", \"amount\", \"amount\", \"amount\", \"amount\", \"amount\", \"analysiscost\", \"analysiscost\", \"analysiscost\", \"ansi\", \"ansi\", \"ansi\", \"antropologia\", \"applications\", \"applications\", \"applications\", \"applications\", \"applications\", \"applications\", \"applications\", \"applications\", \"applications\", \"applications\", \"apply\", \"apply\", \"apply\", \"apply\", \"apply\", \"apply\", \"apply\", \"apply\", \"apply\", \"apply\", \"approachhow\", \"approachhow\", \"arctic\", \"arctic\", \"arctic\", \"arctic\", \"arctic\", \"arctic\", \"arctic\", \"arctic\", \"arctic\", \"arctic\", \"areboard\", \"argentino\", \"arhi\", \"aro\", \"arst\", \"arst\", \"articlesaafs\", \"asce\", \"asce\", \"asce\", \"asce\", \"asce\", \"asce\", \"atsec\", \"atsec\", \"availableyour\", \"availableyour\", \"award\", \"award\", \"award\", \"award\", \"award\", \"award\", \"award\", \"award\", \"award\", \"award\", \"awardk\", \"awardk\", \"awardk\", \"awardk\", \"awardk\", \"awardk\", \"awards\", \"awards\", \"awards\", \"awards\", \"awards\", \"awards\", \"awards\", \"awards\", \"awards\", \"awards\", \"banker\", \"banker\", \"banker\", \"banker\", \"banker\", \"beaton\", \"bellmichael\", \"bellthe\", \"bethesda\", \"bethesda\", \"bethesda\", \"bethesda\", \"biol\", \"biol\", \"biol\", \"biol\", \"biol\", \"biol\", \"biol\", \"blocked\", \"blocked\", \"blocked\", \"bowser\", \"bradford\", \"bradford\", \"bradford\", \"bradford\", \"bradford\", \"bradford\", \"bradford\", \"bradford\", \"brasil\", \"brasil\", \"brasil\", \"brasil\", \"brasil\", \"brasil\", \"brasil\", \"brasil\", \"brasil\", \"brasil\", \"business\", \"business\", \"business\", \"business\", \"business\", \"business\", \"business\", \"business\", \"business\", \"business\", \"cancer\", \"cancer\", \"cancer\", \"cancer\", \"cancer\", \"cancer\", \"cancer\", \"cancer\", \"cancer\", \"cancer\", \"career\", \"career\", \"career\", \"career\", \"career\", \"career\", \"career\", \"career\", \"career\", \"career\", \"cargo\", \"cargo\", \"cargo\", \"cargo\", \"cargo\", \"cargo\", \"cargo\", \"cargo\", \"cargo\", \"cargo\", \"casualty\", \"casualty\", \"casualty\", \"casualty\", \"cell\", \"cell\", \"cell\", \"cell\", \"cell\", \"cell\", \"cell\", \"cell\", \"cell\", \"cell\", \"center\", \"center\", \"center\", \"center\", \"center\", \"center\", \"center\", \"center\", \"center\", \"center\", \"centercontact\", \"centerhr\", \"centerhr\", \"centersearch\", \"centersearch\", \"centersearch\", \"central\", \"central\", \"central\", \"central\", \"central\", \"central\", \"central\", \"central\", \"central\", \"central\", \"cfa\", \"charismathics\", \"charismathics\", \"chem\", \"chem\", \"chem\", \"chem\", \"chem\", \"chem\", \"chem\", \"chns\", \"chns\", \"cho\", \"cho\", \"cho\", \"cho\", \"cho\", \"cho\", \"cho\", \"cho\", \"cho\", \"ckbx\", \"ckbx\", \"ckbx\", \"ckbx\", \"ckbx\", \"ckbx\", \"ckbx\", \"ckbx\", \"clickexpired\", \"clickexpired\", \"clickexpired\", \"clickexpired\", \"clickexpired\", \"clickexpired\", \"clickexpired\", \"clickexpired\", \"clickexpired\", \"clickexpired\", \"clipstop\", \"clipzoom\", \"closedfunding\", \"closedfunding\", \"closedfunding\", \"closedfunding\", \"closedfunding\", \"closedfunding\", \"closedfunding\", \"club\", \"club\", \"club\", \"club\", \"club\", \"club\", \"club\", \"club\", \"club\", \"club\", \"clyde\", \"clyde\", \"clyde\", \"clyde\", \"co\", \"co\", \"co\", \"co\", \"co\", \"co\", \"co\", \"co\", \"co\", \"co\", \"collectionsskip\", \"college\", \"college\", \"college\", \"college\", \"college\", \"college\", \"college\", \"college\", \"college\", \"college\", \"columbiarichard\", \"committee\", \"committee\", \"committee\", \"committee\", \"committee\", \"committee\", \"committee\", \"committee\", \"committee\", \"committee\", \"committeenist\", \"community\", \"community\", \"community\", \"community\", \"community\", \"community\", \"community\", \"community\", \"community\", \"community\", \"company\", \"company\", \"company\", \"company\", \"company\", \"company\", \"company\", \"company\", \"company\", \"company\", \"congressional\", \"congressional\", \"congressional\", \"congressional\", \"congressional\", \"congressional\", \"congressional\", \"congressional\", \"congressional\", \"congressional\", \"connectasb\", \"construction\", \"construction\", \"construction\", \"construction\", \"construction\", \"construction\", \"construction\", \"construction\", \"construction\", \"construction\", \"consultinghr\", \"consultinghr\", \"contact\", \"contact\", \"contact\", \"contact\", \"contact\", \"contact\", \"contact\", \"contact\", \"contact\", \"contact\", \"container\", \"container\", \"container\", \"container\", \"container\", \"container\", \"container\", \"container\", \"container\", \"container\", \"contentan\", \"contentan\", \"contentmain\", \"contentmain\", \"contentnsfsi\", \"contentsselect\", \"cormulayer\", \"covid\", \"covid\", \"covid\", \"covid\", \"covid\", \"covid\", \"covid\", \"covid\", \"covid\", \"covid\", \"create\", \"create\", \"create\", \"create\", \"create\", \"create\", \"create\", \"create\", \"create\", \"create\", \"credit\", \"credit\", \"credit\", \"credit\", \"credit\", \"credit\", \"credit\", \"credit\", \"credit\", \"credit\", \"csci\", \"csci\", \"cssi\", \"cssi\", \"cssi\", \"cssi\", \"cssi\", \"cssi\", \"cssi\", \"cssi\", \"cssi\", \"cssi\", \"csss\", \"csss\", \"csss\", \"csss\", \"csss\", \"csss\", \"csss\", \"csss\", \"csss\", \"culturecareers\", \"culturecareers\", \"cultureopen\", \"daas\", \"daily\", \"daily\", \"daily\", \"daily\", \"daily\", \"daily\", \"daily\", \"daily\", \"daily\", \"daily\", \"data\", \"data\", \"data\", \"data\", \"data\", \"data\", \"data\", \"data\", \"data\", \"data\", \"de\", \"de\", \"de\", \"de\", \"de\", \"de\", \"de\", \"de\", \"de\", \"de\", \"deadline\", \"deadline\", \"deadline\", \"deadline\", \"deadline\", \"deadline\", \"deadline\", \"deadline\", \"deadline\", \"deadline\", \"debris\", \"debris\", \"debris\", \"debris\", \"debris\", \"debris\", \"debris\", \"debris\", \"debris\", \"debris\", \"department\", \"department\", \"department\", \"department\", \"department\", \"department\", \"department\", \"department\", \"department\", \"department\", \"deprince\", \"descending\", \"descending\", \"designerui\", \"development\", \"development\", \"development\", \"development\", \"development\", \"development\", \"development\", \"development\", \"development\", \"development\", \"developmentour\", \"developmentour\", \"director\", \"director\", \"director\", \"director\", \"director\", \"director\", \"director\", \"director\", \"director\", \"director\", \"discipline\", \"discipline\", \"discipline\", \"discipline\", \"discipline\", \"discipline\", \"discipline\", \"discipline\", \"discipline\", \"districtgeorgia\", \"districtgeorgia\", \"districtgeorgia\", \"districtgeorgia\", \"districtiowa\", \"districtnew\", \"districtnew\", \"districtnew\", \"districtnew\", \"districtnew\", \"districtnew\", \"districtnew\", \"districtnew\", \"districtnew\", \"districtnorth\", \"districtnorth\", \"districtnorth\", \"districtnorth\", \"districtohio\", \"districtohio\", \"districtohio\", \"districtohio\", \"districtohio\", \"districtohio\", \"districtohio\", \"districttexas\", \"districttexas\", \"districttexas\", \"districttexas\", \"districttexas\", \"districttexas\", \"districttexas\", \"districttexas\", \"diving\", \"diving\", \"diving\", \"diving\", \"diving\", \"diving\", \"diving\", \"diving\", \"diving\", \"diving\", \"division\", \"division\", \"division\", \"division\", \"division\", \"division\", \"division\", \"division\", \"division\", \"division\", \"dixonmichael\", \"dni\", \"docketmotion\", \"docketmotion\", \"docketoriginal\", \"dr\", \"dr\", \"dr\", \"dr\", \"dr\", \"dr\", \"dr\", \"dr\", \"dr\", \"dr\", \"drm\", \"drm\", \"drm\", \"drm\", \"drm\", \"earnedhl\", \"earnedhl\", \"earnedhl\", \"earthquake\", \"earthquake\", \"earthquake\", \"earthquake\", \"earthquake\", \"earthquake\", \"earthquake\", \"earthquake\", \"earthquake\", \"econ\", \"econ\", \"education\", \"education\", \"education\", \"education\", \"education\", \"education\", \"education\", \"education\", \"education\", \"education\", \"efrc\", \"emcor\", \"emcor\", \"emcor\", \"emcor\", \"emcor\", \"emcor\", \"emcor\", \"emcor\", \"emcor\", \"emcor\", \"engineering\", \"engineering\", \"engineering\", \"engineering\", \"engineering\", \"engineering\", \"engineering\", \"engineering\", \"engineering\", \"engineering\", \"engl\", \"engl\", \"englishhttps\", \"englishhttps\", \"enterprises\", \"enterprises\", \"enterprises\", \"enterprises\", \"enterprises\", \"enterprises\", \"enterprises\", \"enterprises\", \"enterprises\", \"enterprises\", \"eurasian\", \"eurasian\", \"eurasian\", \"eventsdaily\", \"examhl\", \"examhl\", \"examsl\", \"examsl\", \"expired\", \"expired\", \"expired\", \"expired\", \"expired\", \"expired\", \"expired\", \"expired\", \"expired\", \"expired\", \"express\", \"express\", \"express\", \"express\", \"express\", \"express\", \"express\", \"express\", \"express\", \"express\", \"faagov\", \"faagov\", \"farms\", \"farms\", \"farms\", \"farms\", \"farms\", \"farms\", \"farms\", \"farms\", \"farms\", \"farms\", \"features\", \"features\", \"features\", \"features\", \"features\", \"features\", \"features\", \"features\", \"features\", \"features\", \"fellowships\", \"fellowships\", \"fellowships\", \"fellowships\", \"fellowships\", \"fellowships\", \"fellowships\", \"fellowships\", \"fellowships\", \"fellowships\", \"filter\", \"filter\", \"filter\", \"filter\", \"filter\", \"filter\", \"filter\", \"filter\", \"filter\", \"filter\", \"first\", \"first\", \"first\", \"first\", \"first\", \"first\", \"first\", \"first\", \"first\", \"first\", \"flamencopassion\", \"flaten\", \"flux\", \"flux\", \"flux\", \"flux\", \"flux\", \"flux\", \"flux\", \"flux\", \"forense\", \"forensic\", \"forensic\", \"forensic\", \"forensic\", \"forensic\", \"forensic\", \"forensic\", \"forensic\", \"forumshr\", \"forumshr\", \"foundation\", \"foundation\", \"foundation\", \"foundation\", \"foundation\", \"foundation\", \"foundation\", \"foundation\", \"foundation\", \"foundation\", \"freight\", \"freight\", \"freight\", \"freight\", \"freight\", \"freight\", \"freight\", \"freight\", \"freight\", \"freight\", \"fren\", \"fren\", \"frenchhttps\", \"frenchhttps\", \"fulltext\", \"fulltext\", \"fulltext\", \"funding\", \"funding\", \"funding\", \"funding\", \"funding\", \"funding\", \"funding\", \"funding\", \"funding\", \"funding\", \"geog\", \"geog\", \"germ\", \"germ\", \"germanic\", \"gjoka\", \"gjoka\", \"gjoka\", \"gjoka\", \"gjoka\", \"gjoka\", \"gjoka\", \"global\", \"global\", \"global\", \"global\", \"global\", \"global\", \"global\", \"global\", \"global\", \"global\", \"graduatesweekly\", \"grant\", \"grant\", \"grant\", \"grant\", \"grant\", \"grant\", \"grant\", \"grant\", \"grant\", \"grant\", \"grants\", \"grants\", \"grants\", \"grants\", \"grants\", \"grants\", \"grants\", \"grants\", \"grants\", \"grants\", \"grantsearch\", \"grc\", \"grc\", \"grc\", \"grc\", \"grc\", \"greenlawn\", \"grek\", \"grek\", \"grmn\", \"grmn\", \"gunrock\", \"gunrock\", \"gunrock\", \"haberbosch\", \"health\", \"health\", \"health\", \"health\", \"health\", \"health\", \"health\", \"health\", \"health\", \"health\", \"heightrotate\", \"helios\", \"helios\", \"helios\", \"helioscontact\", \"helioscontact\", \"helpdeskebsl\", \"hhrrc\", \"hilbert\", \"hist\", \"hist\", \"hl\", \"hl\", \"hl\", \"hl\", \"ho\", \"ho\", \"ho\", \"ho\", \"ho\", \"ho\", \"ho\", \"ho\", \"ho\", \"homepagemain\", \"homepagemain\", \"homepagemyncbi\", \"homepagemyncbi\", \"homepagemyncbi\", \"homesupport\", \"homesupport\", \"honoreesmaja\", \"hotspots\", \"hours\", \"hours\", \"hours\", \"hours\", \"hours\", \"hours\", \"hours\", \"hours\", \"hours\", \"housewives\", \"hrdiversity\", \"hrdiversity\", \"https\", \"https\", \"https\", \"https\", \"https\", \"https\", \"https\", \"https\", \"https\", \"https\", \"ib\", \"ib\", \"ib\", \"ieee\", \"ieee\", \"ieee\", \"ieee\", \"ieee\", \"ieee\", \"ieee\", \"ieee\", \"ieee\", \"ieee\", \"ikkyun\", \"ikkyun\", \"ikkyun\", \"illini\", \"inc\", \"inc\", \"inc\", \"inc\", \"inc\", \"inc\", \"inc\", \"inc\", \"inc\", \"inc\", \"incet\", \"include\", \"include\", \"include\", \"include\", \"include\", \"include\", \"include\", \"include\", \"include\", \"include\", \"information\", \"information\", \"information\", \"information\", \"information\", \"information\", \"information\", \"information\", \"information\", \"information\", \"inn\", \"inn\", \"inregisterlog\", \"inshow\", \"inshow\", \"institute\", \"institute\", \"institute\", \"institute\", \"institute\", \"institute\", \"institute\", \"institute\", \"institute\", \"institute\", \"insurance\", \"insurance\", \"insurance\", \"insurance\", \"insurance\", \"insurance\", \"insurance\", \"insurance\", \"insurance\", \"international\", \"international\", \"international\", \"international\", \"international\", \"international\", \"international\", \"international\", \"international\", \"international\", \"intramural\", \"intramural\", \"intramural\", \"intramural\", \"intramural\", \"intramural\", \"intramural\", \"intramural\", \"intramural\", \"inzoom\", \"iowa\", \"iowa\", \"iowa\", \"iowa\", \"iowa\", \"iowa\", \"iowa\", \"iowa\", \"iowa\", \"issuebrowse\", \"issuu\", \"issuu\", \"issuu\", \"issuu\", \"issuu\", \"issuu\", \"issuu\", \"ital\", \"ital\", \"ithaka\", \"iwce\", \"iwce\", \"iwf\", \"iwf\", \"iwf\", \"iwf\", \"iwf\", \"iwf\", \"ja\", \"ja\", \"ja\", \"ja\", \"jfs\", \"jlan\", \"jlan\", \"jlan\", \"jma\", \"jobfind\", \"jobfind\", \"jobs\", \"jobs\", \"jobs\", \"jobs\", \"jobs\", \"jobs\", \"jobs\", \"jobs\", \"jobs\", \"jobs\", \"joel\", \"joel\", \"joel\", \"joel\", \"joel\", \"jovens\", \"jovens\", \"jovens\", \"jovens\", \"jovens\", \"jovens\", \"jovens\", \"jovens\", \"jovens\", \"jovens\", \"jpass\", \"jpns\", \"jpns\", \"jstor\", \"jwb\", \"keysncbi\", \"keysncbi\", \"keysncbi\", \"kgrantweekly\", \"klima\", \"knowthe\", \"knowthe\", \"larney\", \"larta\", \"larta\", \"larta\", \"larta\", \"larta\", \"larta\", \"larta\", \"latn\", \"latn\", \"leahey\", \"lensing\", \"lensing\", \"libraryglobal\", \"lidar\", \"lien\", \"lien\", \"lien\", \"lien\", \"lien\", \"lien\", \"lien\", \"lien\", \"lien\", \"line\", \"line\", \"line\", \"line\", \"line\", \"line\", \"line\", \"line\", \"line\", \"line\", \"lines\", \"lines\", \"lines\", \"lines\", \"lines\", \"lines\", \"lines\", \"lines\", \"lines\", \"lines\", \"lmu\", \"lmu\", \"lmu\", \"lmu\", \"lmu\", \"lmu\", \"lmu\", \"lmu\", \"lmu\", \"logistics\", \"logistics\", \"logistics\", \"logistics\", \"logistics\", \"logistics\", \"logistics\", \"logistics\", \"logistics\", \"logistics\", \"londoncospar\", \"lowrisk\", \"lrose\", \"lrosenetusage\", \"lupwayi\", \"malensek\", \"malensek\", \"management\", \"management\", \"management\", \"management\", \"management\", \"management\", \"management\", \"management\", \"management\", \"management\", \"managementhr\", \"managementhr\", \"maphome\", \"mariners\", \"mariners\", \"mariners\", \"mariners\", \"materials\", \"materials\", \"materials\", \"materials\", \"materials\", \"materials\", \"materials\", \"materials\", \"materials\", \"materials\", \"maththing\", \"may\", \"may\", \"may\", \"may\", \"may\", \"may\", \"may\", \"may\", \"may\", \"may\", \"mcx\", \"mcx\", \"mcx\", \"mcx\", \"mcx\", \"mcx\", \"mcx\", \"membership\", \"membership\", \"membership\", \"membership\", \"membership\", \"membership\", \"membership\", \"membership\", \"membership\", \"membership\", \"mermut\", \"messagepmc\", \"messagepmc\", \"messagepmc\", \"meteoroid\", \"meteoroid\", \"meteoroid\", \"meteoroid\", \"meteoroid\", \"meteoroid\", \"meteoroid\", \"meteoroid\", \"meteoroid\", \"mgas\", \"mgas\", \"mgas\", \"middleware\", \"middleware\", \"middleware\", \"millionweekly\", \"modernized\", \"monthly\", \"monthly\", \"monthly\", \"monthly\", \"monthly\", \"monthly\", \"monthly\", \"monthly\", \"monthly\", \"moreaafs\", \"morgan\", \"morgan\", \"morgan\", \"morgan\", \"morgan\", \"morgan\", \"morgan\", \"morgan\", \"morgan\", \"moving\", \"moving\", \"moving\", \"moving\", \"moving\", \"moving\", \"moving\", \"moving\", \"moving\", \"moving\", \"mr\", \"mr\", \"mr\", \"mr\", \"mr\", \"mr\", \"mr\", \"mr\", \"mr\", \"mr\", \"multilayer\", \"nadeadline\", \"nadeadline\", \"nadeadline\", \"nadeadline\", \"nadeadline\", \"nadeadline\", \"nadeadline\", \"nadeadline\", \"nadeadline\", \"nasa\", \"nasa\", \"nasa\", \"nasa\", \"nasa\", \"nasa\", \"nasa\", \"nasa\", \"nasa\", \"nasa\", \"nathe\", \"national\", \"national\", \"national\", \"national\", \"national\", \"national\", \"national\", \"national\", \"national\", \"national\", \"navigationpage\", \"navigationpage\", \"neilsen\", \"neiuweekend\", \"new\", \"new\", \"new\", \"new\", \"new\", \"new\", \"new\", \"new\", \"new\", \"new\", \"newsletterissue\", \"newsletterissue\", \"newsletterissue\", \"newsways\", \"nf\", \"nf\", \"nf\", \"nf\", \"nhga\", \"nhga\", \"nhga\", \"nhga\", \"nij\", \"nij\", \"nij\", \"nij\", \"nij\", \"nij\", \"nij\", \"nij\", \"nij\", \"nij\", \"noticereason\", \"noticereason\", \"noura\", \"nrc\", \"nrc\", \"nrc\", \"nrc\", \"nrc\", \"nrc\", \"nrc\", \"nrc\", \"nrc\", \"nsf\", \"nsf\", \"nsf\", \"nsf\", \"nsf\", \"nsf\", \"nsf\", \"nsf\", \"nsf\", \"nsf\", \"nsffull\", \"nsffull\", \"nsffull\", \"nsffull\", \"nsffull\", \"nsffull\", \"nsffull\", \"nsffull\", \"ocean\", \"ocean\", \"ocean\", \"ocean\", \"ocean\", \"ocean\", \"ocean\", \"ocean\", \"ocean\", \"ocean\", \"offerors\", \"offerors\", \"offerors\", \"oil\", \"oil\", \"oil\", \"oil\", \"oil\", \"oil\", \"oil\", \"oil\", \"oil\", \"oil\", \"ollaunches\", \"olweekly\", \"openweight\", \"openweight\", \"openweight\", \"openweight\", \"openweight\", \"openweight\", \"opportunities\", \"opportunities\", \"opportunities\", \"opportunities\", \"opportunities\", \"opportunities\", \"opportunities\", \"opportunities\", \"opportunities\", \"opportunities\", \"orbital\", \"orbital\", \"orbital\", \"orbital\", \"orbital\", \"orbital\", \"orbital\", \"orbital\", \"orbital\", \"outaccess\", \"outaccess\", \"outfit\", \"pagestart\", \"pallickara\", \"pallickara\", \"paneprevious\", \"paneshow\", \"parallelism\", \"peralta\", \"pettapiece\", \"photosmonthly\", \"phys\", \"phys\", \"phys\", \"pike\", \"pike\", \"pike\", \"piv\", \"piv\", \"piv\", \"placement\", \"placement\", \"placement\", \"placement\", \"placement\", \"placement\", \"placement\", \"placement\", \"pmc\", \"pmc\", \"pmc\", \"pmc\", \"pmc\", \"pmc\", \"pmc\", \"pmc\", \"pmc\", \"pmc\", \"pmcskip\", \"pmcskip\", \"policiesfoiahhs\", \"policiesfoiahhs\", \"policiesfoiahhs\", \"posterpdf\", \"preemployment\", \"preemployment\", \"preemployment\", \"professor\", \"professor\", \"professor\", \"professor\", \"professor\", \"professor\", \"professor\", \"professor\", \"professor\", \"professor\", \"program\", \"program\", \"program\", \"program\", \"program\", \"program\", \"program\", \"program\", \"program\", \"program\", \"programsdaily\", \"programsjoin\", \"project\", \"project\", \"project\", \"project\", \"project\", \"project\", \"project\", \"project\", \"project\", \"project\", \"projects\", \"projects\", \"projects\", \"projects\", \"projects\", \"projects\", \"projects\", \"projects\", \"projects\", \"projects\", \"proposal\", \"proposal\", \"proposal\", \"proposal\", \"proposal\", \"proposal\", \"proposal\", \"proposal\", \"proposal\", \"proposal\", \"proposals\", \"proposals\", \"proposals\", \"proposals\", \"proposals\", \"proposals\", \"proposals\", \"proposals\", \"proposals\", \"proposals\", \"psyc\", \"psyc\", \"ptt\", \"ptt\", \"ptt\", \"ptt\", \"ptt\", \"ptt\", \"ptt\", \"ptt\", \"publicationnext\", \"puerto\", \"puerto\", \"puerto\", \"puerto\", \"puerto\", \"puerto\", \"puerto\", \"puerto\", \"puerto\", \"puerto\", \"pythonrequests\", \"pythonrequests\", \"pythonrequests\", \"qchem\", \"qiang\", \"qiang\", \"qiang\", \"railway\", \"railway\", \"railway\", \"railway\", \"railway\", \"railway\", \"railway\", \"railway\", \"railway\", \"railway\", \"recipientscsss\", \"recipientscsss\", \"record\", \"record\", \"record\", \"record\", \"record\", \"record\", \"record\", \"record\", \"record\", \"record\", \"reddit\", \"refund\", \"refund\", \"rennie\", \"reproducing\", \"requestinggo\", \"research\", \"research\", \"research\", \"research\", \"research\", \"research\", \"research\", \"research\", \"research\", \"research\", \"resources\", \"resources\", \"resources\", \"resources\", \"resources\", \"resources\", \"resources\", \"resources\", \"resources\", \"resources\", \"retainour\", \"retainour\", \"retrieve\", \"retrieve\", \"retrieve\", \"rico\", \"rico\", \"rico\", \"rico\", \"rico\", \"rico\", \"rico\", \"rico\", \"rico\", \"rico\", \"ritossa\", \"ritossa\", \"ritossa\", \"ritossa\", \"ritossa\", \"ritossa\", \"ritossa\", \"ritossa\", \"ritossa\", \"russ\", \"russ\", \"sa\", \"sa\", \"sa\", \"sa\", \"sa\", \"sa\", \"sa\", \"sa\", \"sa\", \"sa\", \"sacco\", \"sacco\", \"sacco\", \"sacco\", \"safety\", \"safety\", \"safety\", \"safety\", \"safety\", \"safety\", \"safety\", \"safety\", \"safety\", \"safety\", \"sally\", \"sally\", \"samoa\", \"samoa\", \"satisfactory\", \"satisfactory\", \"satisfactory\", \"savage\", \"savage\", \"savage\", \"savage\", \"sbc\", \"sbc\", \"sbc\", \"scent\", \"scent\", \"scent\", \"scent\", \"scent\", \"scheduledaily\", \"schoenau\", \"school\", \"school\", \"school\", \"school\", \"school\", \"school\", \"school\", \"school\", \"school\", \"school\", \"schoolcareers\", \"scidac\", \"science\", \"science\", \"science\", \"science\", \"science\", \"science\", \"science\", \"science\", \"science\", \"science\", \"sciencecareer\", \"sciencemedical\", \"sciencemedical\", \"sciencemedical\", \"sciencemedical\", \"sciencemedical\", \"sciencemedical\", \"sciencemedical\", \"sciences\", \"sciences\", \"sciences\", \"sciences\", \"sciences\", \"sciences\", \"sciences\", \"sciences\", \"sciences\", \"sciences\", \"sciencesacademy\", \"sciencesclyde\", \"sciencewhat\", \"scientific\", \"scientific\", \"scientific\", \"scientific\", \"scientific\", \"scientific\", \"scientific\", \"scientific\", \"scientific\", \"scientific\", \"seafarers\", \"seafarers\", \"seafarers\", \"seafarers\", \"seafarers\", \"seafarers\", \"seafarers\", \"seafarers\", \"seafarers\", \"seafarers\", \"searchsupport\", \"searchtalent\", \"searchtalent\", \"secaf\", \"secaf\", \"secaf\", \"secaf\", \"segregation\", \"segregation\", \"segregation\", \"segregation\", \"segregation\", \"segregation\", \"segregation\", \"segregation\", \"serious\", \"service\", \"service\", \"service\", \"service\", \"service\", \"service\", \"service\", \"service\", \"service\", \"service\", \"services\", \"services\", \"services\", \"services\", \"services\", \"services\", \"services\", \"services\", \"services\", \"services\", \"serviceshr\", \"serviceshr\", \"settingslog\", \"settingslog\", \"settingslog\", \"shipping\", \"shipping\", \"shipping\", \"shipping\", \"shipping\", \"shipping\", \"shipping\", \"shipping\", \"shipping\", \"shipping\", \"shock\", \"shock\", \"shock\", \"shock\", \"shock\", \"shock\", \"shock\", \"shock\", \"shock\", \"shrideep\", \"shrideep\", \"sipa\", \"sipa\", \"sipa\", \"sipa\", \"sipa\", \"sipa\", \"sipa\", \"sipa\", \"sipa\", \"sircon\", \"sircon\", \"sircon\", \"sircon\", \"sitemapabout\", \"siu\", \"siu\", \"siu\", \"siu\", \"siu\", \"siu\", \"siu\", \"siu\", \"siu\", \"sl\", \"sl\", \"sl\", \"sl\", \"sl\", \"sl\", \"sl\", \"sl\", \"slidepdf\", \"social\", \"social\", \"social\", \"social\", \"social\", \"social\", \"social\", \"social\", \"social\", \"social\", \"society\", \"society\", \"society\", \"society\", \"society\", \"society\", \"society\", \"society\", \"society\", \"society\", \"software\", \"software\", \"software\", \"software\", \"software\", \"software\", \"software\", \"software\", \"software\", \"software\", \"solar\", \"solar\", \"solar\", \"solar\", \"solar\", \"solar\", \"solar\", \"solar\", \"solar\", \"solar\", \"soldier\", \"soldier\", \"soldier\", \"soldier\", \"soldier\", \"solicitation\", \"solicitation\", \"solicitation\", \"solicitation\", \"solicitation\", \"solicitation\", \"solicitation\", \"solicitation\", \"solicitation\", \"solicitation\", \"solomon\", \"solomon\", \"solomon\", \"solomon\", \"solomon\", \"solomon\", \"solomon\", \"solomon\", \"solomon\", \"solomon\", \"solutionsabout\", \"source\", \"source\", \"source\", \"source\", \"source\", \"source\", \"source\", \"source\", \"source\", \"source\", \"spaa\", \"spaa\", \"spaa\", \"spaa\", \"spaa\", \"space\", \"space\", \"space\", \"space\", \"space\", \"space\", \"space\", \"space\", \"space\", \"space\", \"sparrow\", \"squarespace\", \"stacy\", \"stacy\", \"stacy\", \"stacy\", \"statementdc\", \"stem\", \"stem\", \"stem\", \"stem\", \"stem\", \"stem\", \"stem\", \"stem\", \"stem\", \"stem\", \"storage\", \"storage\", \"storage\", \"storage\", \"storage\", \"storage\", \"storage\", \"storage\", \"storage\", \"storage\", \"student\", \"student\", \"student\", \"student\", \"student\", \"student\", \"student\", \"student\", \"student\", \"student\", \"students\", \"students\", \"students\", \"students\", \"students\", \"students\", \"students\", \"students\", \"students\", \"students\", \"studentsdaily\", \"studiescssi\", \"studiescssi\", \"studiescssi\", \"supply\", \"supply\", \"supply\", \"supply\", \"supply\", \"supply\", \"supply\", \"supply\", \"supply\", \"supply\", \"support\", \"support\", \"support\", \"support\", \"support\", \"support\", \"support\", \"support\", \"support\", \"support\", \"supported\", \"supported\", \"supported\", \"supported\", \"supported\", \"supported\", \"supported\", \"supported\", \"supported\", \"supported\", \"syllabus\", \"syllabus\", \"syllabus\", \"system\", \"system\", \"system\", \"system\", \"system\", \"system\", \"system\", \"system\", \"system\", \"system\", \"systems\", \"systems\", \"systems\", \"systems\", \"systems\", \"systems\", \"systems\", \"systems\", \"systems\", \"systems\", \"tax\", \"tax\", \"tax\", \"tax\", \"tax\", \"tax\", \"tax\", \"tax\", \"tax\", \"tax\", \"tcca\", \"tcca\", \"tcca\", \"tcca\", \"team\", \"team\", \"team\", \"team\", \"team\", \"team\", \"team\", \"team\", \"team\", \"team\", \"technology\", \"technology\", \"technology\", \"technology\", \"technology\", \"technology\", \"technology\", \"technology\", \"technology\", \"technology\", \"th\", \"th\", \"th\", \"th\", \"th\", \"th\", \"th\", \"th\", \"th\", \"th\", \"theoretic\", \"thilina\", \"thilina\", \"thseasonweekly\", \"time\", \"time\", \"time\", \"time\", \"time\", \"time\", \"time\", \"time\", \"time\", \"time\", \"timeif\", \"tissieres\", \"tissieres\", \"tissieres\", \"tissieres\", \"tissieres\", \"tissieres\", \"tissieres\", \"tissieres\", \"transfer\", \"transfer\", \"transfer\", \"transfer\", \"transfer\", \"transfer\", \"transfer\", \"transfer\", \"transfer\", \"transfer\", \"transport\", \"transport\", \"transport\", \"transport\", \"transport\", \"transport\", \"transport\", \"transport\", \"transport\", \"transport\", \"transportation\", \"transportation\", \"transportation\", \"transportation\", \"transportation\", \"transportation\", \"transportation\", \"transportation\", \"transportation\", \"transportation\", \"truck\", \"truck\", \"truck\", \"truck\", \"truck\", \"truck\", \"truck\", \"truck\", \"truck\", \"truck\", \"trucking\", \"trucking\", \"trucking\", \"trucking\", \"trucking\", \"trucking\", \"trucking\", \"trucking\", \"trucking\", \"trucking\", \"trusteespowered\", \"tts\", \"tts\", \"txx\", \"txx\", \"types\", \"types\", \"types\", \"types\", \"types\", \"types\", \"types\", \"types\", \"types\", \"types\", \"unblocked\", \"unblocked\", \"unblocked\", \"union\", \"union\", \"union\", \"union\", \"union\", \"union\", \"union\", \"union\", \"union\", \"union\", \"university\", \"university\", \"university\", \"university\", \"university\", \"university\", \"university\", \"university\", \"university\", \"university\", \"unspecifiedthe\", \"upconference\", \"uponcandidates\", \"us\", \"us\", \"us\", \"us\", \"us\", \"us\", \"us\", \"us\", \"us\", \"us\", \"usa\", \"usa\", \"usa\", \"usa\", \"usa\", \"usa\", \"usa\", \"usa\", \"usa\", \"usa\", \"usacademy\", \"uscss\", \"uscss\", \"uscss\", \"uscss\", \"usmy\", \"usview\", \"uswho\", \"uvic\", \"uvic\", \"uvic\", \"uvic\", \"uvic\", \"uvic\", \"uvic\", \"uvic\", \"ux\", \"ux\", \"ux\", \"veridianalert\", \"vertafore\", \"vertafore\", \"vertafore\", \"vertafore\", \"vertafore\", \"vertafore\", \"vertafore\", \"victoria\", \"victoria\", \"victoria\", \"victoria\", \"victoria\", \"victoria\", \"victoria\", \"victoria\", \"victoria\", \"victoria\", \"vieira\", \"voluminous\", \"voluminous\", \"vue\", \"vue\", \"vue\", \"vue\", \"vue\", \"vue\", \"vue\", \"walley\", \"weather\", \"weather\", \"weather\", \"weather\", \"weather\", \"weather\", \"weather\", \"weather\", \"weather\", \"web\", \"web\", \"web\", \"web\", \"web\", \"web\", \"web\", \"web\", \"web\", \"web\", \"webber\", \"weekly\", \"weekly\", \"weekly\", \"weekly\", \"weekly\", \"weekly\", \"weekly\", \"weekly\", \"weekly\", \"weekly\", \"wenchau\", \"whalen\", \"widthfit\", \"work\", \"work\", \"work\", \"work\", \"work\", \"work\", \"work\", \"work\", \"work\", \"work\", \"wotdapr\", \"wotdapr\", \"wtmc_ev\", \"wtmc_ev\", \"wtmc_ev\", \"wtmc_ev\", \"wtmc_ev\", \"wtmc_ev\", \"wtmc_ev\", \"wtmc_ev\", \"wtmc_ev\", \"wtmc_ev\", \"wtmc_id\", \"wtmc_id\", \"wtmc_id\", \"wtmc_id\", \"wtmc_id\", \"wtmc_id\", \"wtmc_id\", \"wtmc_id\", \"wtmc_id\", \"wtmc_id\", \"wwwneiuedu\", \"wwwneiueduabout\", \"wwwneiuedufall\", \"wwwneiuedunews\", \"wwwneiuedunewsm\", \"wwwneiuedunode\", \"wwwnsfgovpubs\", \"wwwnsfgovpubs\", \"wwwnsfgovpubs\", \"wwwnsfgovpubs\", \"wwwnsfgovpubs\", \"wwwnsfgovpubs\", \"wwwnsfgovpubs\", \"wwwnsfgovpubs\", \"wwwnsfgovpubs\", \"wwwnsfgovpubs\", \"year\", \"year\", \"year\", \"year\", \"year\", \"year\", \"year\", \"year\", \"year\", \"year\", \"years\", \"years\", \"years\", \"years\", \"years\", \"years\", \"years\", \"years\", \"years\", \"years\", \"yp\", \"zenodo\", \"zenodo\", \"zenodo\", \"zenodo\", \"zenodo\", \"zenodo\", \"zenodo\", \"zenodo\", \"ziadi\"]}, \"R\": 30, \"lambda.step\": 0.01, \"plot.opts\": {\"xlab\": \"PC1\", \"ylab\": \"PC2\"}, \"topic.order\": [1, 8, 5, 4, 3, 7, 10, 6, 2, 9]};\n",
              "\n",
              "function LDAvis_load_lib(url, callback){\n",
              "  var s = document.createElement('script');\n",
              "  s.src = url;\n",
              "  s.async = true;\n",
              "  s.onreadystatechange = s.onload = callback;\n",
              "  s.onerror = function(){console.warn(\"failed to load library \" + url);};\n",
              "  document.getElementsByTagName(\"head\")[0].appendChild(s);\n",
              "}\n",
              "\n",
              "if(typeof(LDAvis) !== \"undefined\"){\n",
              "   // already loaded: just create the visualization\n",
              "   !function(LDAvis){\n",
              "       new LDAvis(\"#\" + \"ldavis_el4171402710926026883445719136\", ldavis_el4171402710926026883445719136_data);\n",
              "   }(LDAvis);\n",
              "}else if(typeof define === \"function\" && define.amd){\n",
              "   // require.js is available: use it to load d3/LDAvis\n",
              "   require.config({paths: {d3: \"https://d3js.org/d3.v5\"}});\n",
              "   require([\"d3\"], function(d3){\n",
              "      window.d3 = d3;\n",
              "      LDAvis_load_lib(\"https://cdn.jsdelivr.net/gh/bmabey/pyLDAvis@3.4.0/pyLDAvis/js/ldavis.v3.0.0.js\", function(){\n",
              "        new LDAvis(\"#\" + \"ldavis_el4171402710926026883445719136\", ldavis_el4171402710926026883445719136_data);\n",
              "      });\n",
              "    });\n",
              "}else{\n",
              "    // require.js not available: dynamically load d3 & LDAvis\n",
              "    LDAvis_load_lib(\"https://d3js.org/d3.v5.js\", function(){\n",
              "         LDAvis_load_lib(\"https://cdn.jsdelivr.net/gh/bmabey/pyLDAvis@3.4.0/pyLDAvis/js/ldavis.v3.0.0.js\", function(){\n",
              "                 new LDAvis(\"#\" + \"ldavis_el4171402710926026883445719136\", ldavis_el4171402710926026883445719136_data);\n",
              "            })\n",
              "         });\n",
              "}\n",
              "</script>"
            ]
          },
          "metadata": {},
          "execution_count": 54
        }
      ]
    },
    {
      "cell_type": "code",
      "source": [
        "# Filtering for words \n",
        "words = [re.findall(r'\"([^\"]*)\"',t[1]) for t in lda.print_topics()]\n",
        "# Create Topics\n",
        "topics = [' '.join(t[0:10]) for t in words]"
      ],
      "metadata": {
        "id": "c7Xm382PcTkU"
      },
      "execution_count": null,
      "outputs": []
    },
    {
      "cell_type": "code",
      "source": [
        "for id, t in enumerate(topics): \n",
        "    print(f\"------ Topic {id} ------\")\n",
        "    print(t, end=\"\\n\\n\")"
      ],
      "metadata": {
        "colab": {
          "base_uri": "https://localhost:8080/"
        },
        "id": "Q_dyn7DIcMvU",
        "outputId": "4eb5881c-a911-4768-f6e6-8dc18c765be7"
      },
      "execution_count": null,
      "outputs": [
        {
          "output_type": "stream",
          "name": "stdout",
          "text": [
            "------ Topic 0 ------\n",
            "research nsf science trucking transport program cssi transportation logistics services\n",
            "\n",
            "------ Topic 1 ------\n",
            "research congressional science program trucking transport transportation data award engineering\n",
            "\n",
            "------ Topic 2 ------\n",
            "research science nsf program national data trucking foundation transport award\n",
            "\n",
            "------ Topic 3 ------\n",
            "research nsf program science trucking national proposal transport data support\n",
            "\n",
            "------ Topic 4 ------\n",
            "trucking transport logistics transportation research de services program express science\n",
            "\n",
            "------ Topic 5 ------\n",
            "research program nsf science proposal national data engineering award trucking\n",
            "\n",
            "------ Topic 6 ------\n",
            "research science apply program nsf award national filter proposal foundation\n",
            "\n",
            "------ Topic 7 ------\n",
            "https research science nsf program trucking services data proposal transport\n",
            "\n",
            "------ Topic 8 ------\n",
            "trucking transport transportation services logistics science nsf de company express\n",
            "\n",
            "------ Topic 9 ------\n",
            "research science nsf program national award transport foundation cssi proposal\n",
            "\n"
          ]
        }
      ]
    },
    {
      "cell_type": "code",
      "source": [
        "#Output list of keywords for corresponding dataset.\n",
        "keywords_set = set()\n",
        "\n",
        "topn_title_words = {'Topic_' + str(i): [word for word, prob in lda.show_topic(i, topn=best_topic_num)] for i in range(0, lda.num_topics)}\n",
        "\n",
        "for x, y in topn_title_words.items():\n",
        "  for i in y:\n",
        "    keywords_set.add(i)\n",
        "\n",
        "#print(len(keywords_set))\n",
        "#print(list(keywords_set))\n",
        "keywords_set"
      ],
      "metadata": {
        "colab": {
          "base_uri": "https://localhost:8080/"
        },
        "id": "DbTHm5SycZgx",
        "outputId": "01e4af79-1711-4e19-f1e7-a54ad2f890ae"
      },
      "execution_count": null,
      "outputs": [
        {
          "output_type": "execute_result",
          "data": {
            "text/plain": [
              "{'apply',\n",
              " 'award',\n",
              " 'credit',\n",
              " 'cssi',\n",
              " 'data',\n",
              " 'de',\n",
              " 'engineering',\n",
              " 'express',\n",
              " 'foundation',\n",
              " 'hours',\n",
              " 'https',\n",
              " 'information',\n",
              " 'international',\n",
              " 'logistics',\n",
              " 'national',\n",
              " 'nsf',\n",
              " 'program',\n",
              " 'proposal',\n",
              " 'research',\n",
              " 'science',\n",
              " 'services',\n",
              " 'transport',\n",
              " 'transportation',\n",
              " 'trucking',\n",
              " 'university'}"
            ]
          },
          "metadata": {},
          "execution_count": 71
        }
      ]
    },
    {
      "cell_type": "code",
      "source": [
        "to_insert = []\n",
        "for keyword in keywords:\n",
        "  docs_to_model = db_clean.find({'keyword' : keyword}, {'Award' : 1, 'tokens' : 1})\n",
        "  df = pd.DataFrame(list(docs_to_model))\n",
        "  html_text = df['tokens'].to_list()\n",
        "\n",
        "  #Prepare data for LDA input\n",
        "\n",
        "  # Create Dictionary\n",
        "  html_dict = corpora.Dictionary(html_text)\n",
        "\n",
        "  # Term Document Frequency\n",
        "  html_corpus = [html_dict.doc2bow(text) for text in html_text]\n",
        "\n",
        "  num_topics = np.arange(3,11, dtype=int)\n",
        "  best_topic_num, coherence = find_best_num_topics(num_topics, html_corpus, html_dict, df)\n",
        "  lda = gensim.models.LdaMulticore(corpus=html_corpus, id2word=html_dict, num_topics=best_topic_num)\n",
        "\n",
        "  topics = get_topics(lda, best_topic_num)\n",
        "\n",
        "  to_insert.append({'keyword' : keyword, 'Award' : df['Award'][0], 'topics' : topics, 'coherence' : coherence})"
      ],
      "metadata": {
        "colab": {
          "base_uri": "https://localhost:8080/"
        },
        "id": "LgUlDyM_jKKH",
        "outputId": "d10788e8-aae0-4bd0-da9c-ccb0547774d8"
      },
      "execution_count": null,
      "outputs": [
        {
          "output_type": "stream",
          "name": "stderr",
          "text": [
            "WARNING:gensim.models.ldamulticore:too few updates, training might not converge; consider increasing the number of passes or iterations to improve accuracy\n",
            "WARNING:gensim.models.ldamulticore:too few updates, training might not converge; consider increasing the number of passes or iterations to improve accuracy\n",
            "WARNING:gensim.models.ldamulticore:too few updates, training might not converge; consider increasing the number of passes or iterations to improve accuracy\n",
            "WARNING:gensim.models.ldamulticore:too few updates, training might not converge; consider increasing the number of passes or iterations to improve accuracy\n",
            "WARNING:gensim.models.ldamulticore:too few updates, training might not converge; consider increasing the number of passes or iterations to improve accuracy\n"
          ]
        }
      ]
    },
    {
      "cell_type": "code",
      "source": [
        "to_insert"
      ],
      "metadata": {
        "colab": {
          "base_uri": "https://localhost:8080/"
        },
        "id": "4F_tu7UutndN",
        "outputId": "e564516c-b6d0-4952-8000-dfbf02a01abb"
      },
      "execution_count": null,
      "outputs": [
        {
          "output_type": "execute_result",
          "data": {
            "text/plain": [
              "[{'keyword': 'agriculture',\n",
              "  'Award': 'CSSI Award',\n",
              "  'topics': ['award',\n",
              "   'research',\n",
              "   'logistics',\n",
              "   'transport',\n",
              "   'engineering',\n",
              "   'science',\n",
              "   'proposal',\n",
              "   'cssi',\n",
              "   'transportation',\n",
              "   'project',\n",
              "   'trucking',\n",
              "   'nsf',\n",
              "   'apply',\n",
              "   'services',\n",
              "   'filter',\n",
              "   'national',\n",
              "   'proposals',\n",
              "   'congressional',\n",
              "   'de',\n",
              "   'foundation',\n",
              "   'express',\n",
              "   'data',\n",
              "   'program',\n",
              "   'school'],\n",
              "  'coherence': 0.3556962012564491},\n",
              " {'keyword': 'communication',\n",
              "  'Award': 'CSSI Award',\n",
              "  'topics': ['inc',\n",
              "   'puerto',\n",
              "   'work',\n",
              "   'award',\n",
              "   'research',\n",
              "   'science',\n",
              "   'cssi',\n",
              "   'rico',\n",
              "   'project',\n",
              "   'apply',\n",
              "   'nsf',\n",
              "   'filter',\n",
              "   'us',\n",
              "   'produce',\n",
              "   'new',\n",
              "   'national',\n",
              "   'de',\n",
              "   'data',\n",
              "   'program',\n",
              "   'school'],\n",
              "  'coherence': 0.3289025504368195},\n",
              " {'keyword': 'develop',\n",
              "  'Award': 'CSSI Award',\n",
              "  'topics': ['research'],\n",
              "  'coherence': 0.4030589612877047},\n",
              " {'keyword': 'dibbs',\n",
              "  'Award': 'CSSI Award',\n",
              "  'topics': ['nsf', 'research', 'program', 'science'],\n",
              "  'coherence': 0.4405833711995583},\n",
              " {'keyword': 'photochemical',\n",
              "  'Award': 'CSSI Award',\n",
              "  'topics': ['research', 'science'],\n",
              "  'coherence': 0.4261905450566414}]"
            ]
          },
          "metadata": {},
          "execution_count": 110
        }
      ]
    },
    {
      "cell_type": "code",
      "source": [
        "base_perplexity = lda.log_perplexity(html_corpus)\n",
        "print('\\nPerplexity: ', base_perplexity)\n",
        "\n",
        "# Compute Coherence Score\n",
        "coherence_model = CoherenceModel(model=lda, texts=df['tokens'], \n",
        "                                   dictionary=html_dict, coherence='c_v')\n",
        "coherence_lda_model_base = coherence_model.get_coherence()\n",
        "print('\\nCoherence Score: ', coherence_lda_model_base)"
      ],
      "metadata": {
        "colab": {
          "base_uri": "https://localhost:8080/"
        },
        "id": "MD-AGIlOcse5",
        "outputId": "b3776954-907c-412c-ba77-9503ed94e93c"
      },
      "execution_count": null,
      "outputs": [
        {
          "output_type": "stream",
          "name": "stdout",
          "text": [
            "\n",
            "Perplexity:  -10.018319702317331\n",
            "\n",
            "Coherence Score:  0.3461107557393711\n"
          ]
        }
      ]
    },
    {
      "cell_type": "code",
      "source": [
        "topic_collection = session.connection['keywords']\n",
        "db_topics = topic_collection['CSSIAward2023-04-16']"
      ],
      "metadata": {
        "id": "Ai892raXyBGC"
      },
      "execution_count": null,
      "outputs": []
    },
    {
      "cell_type": "code",
      "source": [
        "db_topics.insert_many(to_insert)"
      ],
      "metadata": {
        "colab": {
          "base_uri": "https://localhost:8080/"
        },
        "id": "FCVLkcnxyaP_",
        "outputId": "9ea5b2aa-28af-4bbe-8f10-667531cd531f"
      },
      "execution_count": null,
      "outputs": [
        {
          "output_type": "execute_result",
          "data": {
            "text/plain": [
              "<pymongo.results.InsertManyResult at 0x7f933525b670>"
            ]
          },
          "metadata": {},
          "execution_count": 112
        }
      ]
    },
    {
      "cell_type": "code",
      "source": [
        "session.stop()"
      ],
      "metadata": {
        "id": "lpp0FIWZRPGB"
      },
      "execution_count": 32,
      "outputs": []
    },
    {
      "cell_type": "code",
      "source": [],
      "metadata": {
        "id": "YIMQCBtc17aG"
      },
      "execution_count": null,
      "outputs": []
    }
  ]
}